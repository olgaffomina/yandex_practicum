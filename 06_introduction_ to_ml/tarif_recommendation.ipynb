{
 "cells": [
  {
   "cell_type": "markdown",
   "metadata": {},
   "source": [
    "# Рекомендация тарифов"
   ]
  },
  {
   "cell_type": "markdown",
   "metadata": {},
   "source": [
    "В вашем распоряжении данные о поведении клиентов, которые уже перешли на эти тарифы (из проекта курса «Статистический анализ данных»). Нужно построить модель для задачи классификации, которая выберет подходящий тариф. Предобработка данных не понадобится — вы её уже сделали.\n",
    "\n",
    "Постройте модель с максимально большим значением *accuracy*. Чтобы сдать проект успешно, нужно довести долю правильных ответов по крайней мере до 0.75. Проверьте *accuracy* на тестовой выборке самостоятельно."
   ]
  },
  {
   "cell_type": "markdown",
   "metadata": {},
   "source": [
    "**Описание данных**\n",
    "\n",
    "Каждый объект в наборе данных — это информация о поведении одного пользователя за месяц. \n",
    "\n",
    "Известно:\n",
    "- сalls — количество звонков,\n",
    "- minutes — суммарная длительность звонков в минутах,\n",
    "- messages — количество sms-сообщений,\n",
    "- mb_used — израсходованный интернет-трафик в Мб,\n",
    "- is_ultra — каким тарифом пользовался в течение месяца («Ультра» — 1, «Смарт» — 0)."
   ]
  },
  {
   "cell_type": "markdown",
   "metadata": {},
   "source": [
    "## Откройте и изучите файл"
   ]
  },
  {
   "cell_type": "code",
   "execution_count": null,
   "metadata": {},
   "outputs": [],
   "source": [
    "import pandas as pd\n",
    "import pandas_profiling\n",
    "from sklearn.model_selection import train_test_split\n",
    "from sklearn.tree import DecisionTreeClassifier\n",
    "from sklearn.ensemble import RandomForestClassifier\n",
    "from sklearn.linear_model import LogisticRegression\n",
    "from sklearn.metrics import accuracy_score"
   ]
  },
  {
   "cell_type": "code",
   "execution_count": 3,
   "metadata": {},
   "outputs": [
    {
     "name": "stdout",
     "output_type": "stream",
     "text": [
      "   calls  minutes  messages   mb_used  is_ultra\n",
      "0   40.0   311.90      83.0  19915.42         0\n",
      "1   85.0   516.75      56.0  22696.96         0\n",
      "2   77.0   467.66      86.0  21060.45         0\n",
      "3  106.0   745.53      81.0   8437.39         1\n",
      "4   66.0   418.74       1.0  14502.75         0\n"
     ]
    }
   ],
   "source": [
    "# открытие файла с данными\n",
    "df = pd.read_csv('/datasets/users_behavior.csv')\n",
    "print(df.head())"
   ]
  },
  {
   "cell_type": "code",
   "execution_count": 4,
   "metadata": {},
   "outputs": [
    {
     "name": "stdout",
     "output_type": "stream",
     "text": [
      "<class 'pandas.core.frame.DataFrame'>\n",
      "RangeIndex: 3214 entries, 0 to 3213\n",
      "Data columns (total 5 columns):\n",
      " #   Column    Non-Null Count  Dtype  \n",
      "---  ------    --------------  -----  \n",
      " 0   calls     3214 non-null   float64\n",
      " 1   minutes   3214 non-null   float64\n",
      " 2   messages  3214 non-null   float64\n",
      " 3   mb_used   3214 non-null   float64\n",
      " 4   is_ultra  3214 non-null   int64  \n",
      "dtypes: float64(4), int64(1)\n",
      "memory usage: 125.7 KB\n"
     ]
    }
   ],
   "source": [
    "#загрузка общей информации\n",
    "df.info()"
   ]
  },
  {
   "cell_type": "code",
   "execution_count": 5,
   "metadata": {},
   "outputs": [
    {
     "data": {
      "text/plain": [
       "calls       0\n",
       "minutes     0\n",
       "messages    0\n",
       "mb_used     0\n",
       "is_ultra    0\n",
       "dtype: int64"
      ]
     },
     "execution_count": 5,
     "metadata": {},
     "output_type": "execute_result"
    }
   ],
   "source": [
    "#проверка пропусков\n",
    "df.isna().sum()"
   ]
  },
  {
   "cell_type": "code",
   "execution_count": 6,
   "metadata": {},
   "outputs": [
    {
     "data": {
      "text/html": [
       "<div>\n",
       "<style scoped>\n",
       "    .dataframe tbody tr th:only-of-type {\n",
       "        vertical-align: middle;\n",
       "    }\n",
       "\n",
       "    .dataframe tbody tr th {\n",
       "        vertical-align: top;\n",
       "    }\n",
       "\n",
       "    .dataframe thead th {\n",
       "        text-align: right;\n",
       "    }\n",
       "</style>\n",
       "<table border=\"1\" class=\"dataframe\">\n",
       "  <thead>\n",
       "    <tr style=\"text-align: right;\">\n",
       "      <th></th>\n",
       "      <th>count</th>\n",
       "      <th>mean</th>\n",
       "      <th>std</th>\n",
       "      <th>min</th>\n",
       "      <th>25%</th>\n",
       "      <th>50%</th>\n",
       "      <th>75%</th>\n",
       "      <th>max</th>\n",
       "    </tr>\n",
       "  </thead>\n",
       "  <tbody>\n",
       "    <tr>\n",
       "      <th>calls</th>\n",
       "      <td>3214.0</td>\n",
       "      <td>63.038892</td>\n",
       "      <td>33.236368</td>\n",
       "      <td>0.0</td>\n",
       "      <td>40.0000</td>\n",
       "      <td>62.000</td>\n",
       "      <td>82.0000</td>\n",
       "      <td>244.00</td>\n",
       "    </tr>\n",
       "    <tr>\n",
       "      <th>minutes</th>\n",
       "      <td>3214.0</td>\n",
       "      <td>438.208787</td>\n",
       "      <td>234.569872</td>\n",
       "      <td>0.0</td>\n",
       "      <td>274.5750</td>\n",
       "      <td>430.600</td>\n",
       "      <td>571.9275</td>\n",
       "      <td>1632.06</td>\n",
       "    </tr>\n",
       "    <tr>\n",
       "      <th>messages</th>\n",
       "      <td>3214.0</td>\n",
       "      <td>38.281269</td>\n",
       "      <td>36.148326</td>\n",
       "      <td>0.0</td>\n",
       "      <td>9.0000</td>\n",
       "      <td>30.000</td>\n",
       "      <td>57.0000</td>\n",
       "      <td>224.00</td>\n",
       "    </tr>\n",
       "    <tr>\n",
       "      <th>mb_used</th>\n",
       "      <td>3214.0</td>\n",
       "      <td>17207.673836</td>\n",
       "      <td>7570.968246</td>\n",
       "      <td>0.0</td>\n",
       "      <td>12491.9025</td>\n",
       "      <td>16943.235</td>\n",
       "      <td>21424.7000</td>\n",
       "      <td>49745.73</td>\n",
       "    </tr>\n",
       "    <tr>\n",
       "      <th>is_ultra</th>\n",
       "      <td>3214.0</td>\n",
       "      <td>0.306472</td>\n",
       "      <td>0.461100</td>\n",
       "      <td>0.0</td>\n",
       "      <td>0.0000</td>\n",
       "      <td>0.000</td>\n",
       "      <td>1.0000</td>\n",
       "      <td>1.00</td>\n",
       "    </tr>\n",
       "  </tbody>\n",
       "</table>\n",
       "</div>"
      ],
      "text/plain": [
       "           count          mean          std  min         25%        50%  \\\n",
       "calls     3214.0     63.038892    33.236368  0.0     40.0000     62.000   \n",
       "minutes   3214.0    438.208787   234.569872  0.0    274.5750    430.600   \n",
       "messages  3214.0     38.281269    36.148326  0.0      9.0000     30.000   \n",
       "mb_used   3214.0  17207.673836  7570.968246  0.0  12491.9025  16943.235   \n",
       "is_ultra  3214.0      0.306472     0.461100  0.0      0.0000      0.000   \n",
       "\n",
       "                 75%       max  \n",
       "calls        82.0000    244.00  \n",
       "minutes     571.9275   1632.06  \n",
       "messages     57.0000    224.00  \n",
       "mb_used   21424.7000  49745.73  \n",
       "is_ultra      1.0000      1.00  "
      ]
     },
     "metadata": {},
     "output_type": "display_data"
    }
   ],
   "source": [
    "display(df.describe().T)"
   ]
  },
  {
   "cell_type": "markdown",
   "metadata": {},
   "source": [
    "Данные присутствуют в полном обьеме, пропусков нет.Тип данных - корректный"
   ]
  },
  {
   "cell_type": "markdown",
   "metadata": {},
   "source": [
    "## Разбейте данные на выборки"
   ]
  },
  {
   "cell_type": "markdown",
   "metadata": {},
   "source": [
    "Нужно построить модель для задачи классификации, которая выберет подходящий тариф. Перед делением на выборки выделим целевой признак(target) и остальные признаки(features)"
   ]
  },
  {
   "cell_type": "code",
   "execution_count": 7,
   "metadata": {},
   "outputs": [
    {
     "data": {
      "text/plain": [
       "['calls', 'minutes', 'messages', 'mb_used']"
      ]
     },
     "metadata": {},
     "output_type": "display_data"
    },
    {
     "data": {
      "text/plain": [
       "0    0\n",
       "1    0\n",
       "2    0\n",
       "3    1\n",
       "4    0\n",
       "Name: is_ultra, dtype: int64"
      ]
     },
     "metadata": {},
     "output_type": "display_data"
    }
   ],
   "source": [
    "features = df.drop(['is_ultra'],axis=1)\n",
    "target = df['is_ultra']\n",
    "#проверка\n",
    "display(features.columns.to_list())\n",
    "display(target.head())"
   ]
  },
  {
   "cell_type": "markdown",
   "metadata": {},
   "source": [
    "Разделение исходных данных на обучающую, валидационную и тестовую выборки в пропорции 60%, 20%и 20%\n",
    "Для начала разделим данные на обучающую и валидационную (60% и 40%), и потом валиадаионную еще на две равные части(валидационную и тестовую). Что в итоге и образуют данне с распределением 60%, 20%, 20% "
   ]
  },
  {
   "cell_type": "code",
   "execution_count": 8,
   "metadata": {},
   "outputs": [],
   "source": [
    "#разбивка на обучающую (60%) и валидационную (40%)\n",
    "features_train, features_val, target_train, target_val = train_test_split(features,\n",
    "                                                                          target, \n",
    "                                                                          test_size=0.4,\n",
    "                                                                          random_state=12345)"
   ]
  },
  {
   "cell_type": "code",
   "execution_count": 9,
   "metadata": {},
   "outputs": [],
   "source": [
    "#разбивка пополам валидационной на тестовую и валидационную ( по 20%)\n",
    "features_valid, features_test, target_valid, target_test = train_test_split(features_val,\n",
    "                                                                            target_val,\n",
    "                                                                            test_size=0.5,\n",
    "                                                                            random_state=12345)"
   ]
  },
  {
   "cell_type": "markdown",
   "metadata": {},
   "source": [
    "Получилось три выборки: featires_train (60%), features_valid (20%) ,features_test (20%)"
   ]
  },
  {
   "cell_type": "code",
   "execution_count": 17,
   "metadata": {},
   "outputs": [
    {
     "name": "stdout",
     "output_type": "stream",
     "text": [
      "размер обучающей выборки: (1928, 4)\n",
      "размер валидационной выборки: (643, 4)\n",
      "размер тестовой выборки: (643, 4)\n",
      "(1928,)\n",
      "(643,)\n",
      "(643,)\n"
     ]
    }
   ],
   "source": [
    "print('размер обучающей выборки:',features_train.shape)\n",
    "print('размер валидационной выборки:', features_valid.shape)\n",
    "print('размер тестовой выборки:', features_test.shape)\n",
    "print(target_train.shape)\n",
    "print(target_valid.shape)\n",
    "print(target_test.shape)"
   ]
  },
  {
   "cell_type": "markdown",
   "metadata": {},
   "source": [
    "## Исследуйте модели"
   ]
  },
  {
   "cell_type": "code",
   "execution_count": 91,
   "metadata": {},
   "outputs": [
    {
     "name": "stdout",
     "output_type": "stream",
     "text": [
      "Accuracy лучшей модели: 0.7853810264385692\n",
      "Глубина дерева лучшей модели: 5\n",
      "Лучшая модель: DecisionTreeClassifier(max_depth=5, random_state=12345)\n"
     ]
    }
   ],
   "source": [
    "#исследуем модель \"решающего дерева\" \n",
    "best_model = None\n",
    "best_result = 0\n",
    "for depth in range(1,6):\n",
    "    model = DecisionTreeClassifier(random_state=12345, max_depth = depth)\n",
    "    model.fit(features_train, target_train)\n",
    "    predictions_valid = model.predict(features_valid)\n",
    "    result = accuracy_score(target_valid, predictions_valid)\n",
    "    if result > best_result:\n",
    "        best_model = model\n",
    "        best_result = result\n",
    "print('Accuracy лучшей модели:',best_result)\n",
    "print(\"Глубина дерева лучшей модели:\", depth)\n",
    "print(\"Лучшая модель:\",model)\n",
    "    "
   ]
  },
  {
   "cell_type": "code",
   "execution_count": 25,
   "metadata": {},
   "outputs": [
    {
     "name": "stdout",
     "output_type": "stream",
     "text": [
      "Accuracy лучшей модели: 0.7931570762052877\n"
     ]
    }
   ],
   "source": [
    "# изучение модели при вводе дополнительно гиперпараметра max_features\n",
    "model = DecisionTreeClassifier(random_state=12345, max_depth = 5, max_features =3)\n",
    "model.fit(features_train, target_train)\n",
    "predictions_valid = model.predict(features_valid)\n",
    "result = accuracy_score(target_valid, predictions_valid)\n",
    "print('Accuracy лучшей модели:',result)"
   ]
  },
  {
   "cell_type": "markdown",
   "metadata": {},
   "source": [
    "при вводе дополнительного гиперпараметра max_features( колиество признаков, необходимых одного ветвления) Accuracy показывает более интересыый вариант: \n",
    "- при значении max_features =2, Accuracy= 0.78849; \n",
    "- при значении max_features =3, Accuracy= 0.793157\n",
    "- при значении max_features =4, Accuracy= 0.77916 уже ниже, оставим на значении 3"
   ]
  },
  {
   "cell_type": "code",
   "execution_count": 27,
   "metadata": {},
   "outputs": [
    {
     "name": "stdout",
     "output_type": "stream",
     "text": [
      "Accuracy лучшей модели: 0.7931570762052877\n"
     ]
    }
   ],
   "source": [
    "#вввод дополнительного гиперпараметра criterion = 'gini'\n",
    "model = DecisionTreeClassifier(random_state=12345, max_depth = 5, max_features =3, criterion = 'gini')\n",
    "model.fit(features_train, target_train)\n",
    "predictions_valid = model.predict(features_valid)\n",
    "result = accuracy_score(target_valid, predictions_valid)\n",
    "print('Accuracy лучшей модели:',result)"
   ]
  },
  {
   "cell_type": "markdown",
   "metadata": {},
   "source": [
    "Гиперпараметр criterion = 'gini' (показывает меру сходства двух наборов данных) в данном случае общее значение Accuracy не меняет"
   ]
  },
  {
   "cell_type": "code",
   "execution_count": 92,
   "metadata": {},
   "outputs": [
    {
     "name": "stdout",
     "output_type": "stream",
     "text": [
      "max_depth= 1 :0.7542768273716952\n",
      "max_depth= 2 :0.7822706065318819\n",
      "max_depth= 3 :0.7853810264385692\n",
      "max_depth= 4 :0.7791601866251944\n",
      "max_depth= 5 :0.7791601866251944\n"
     ]
    }
   ],
   "source": [
    "#проверка всез результатов \n",
    "for depth in range(1,6):\n",
    "    model = DecisionTreeClassifier(random_state=12345, max_depth = depth)\n",
    "    model.fit(features_train, target_train)\n",
    "    predictions_valid = model.predict(features_valid)\n",
    "    result = accuracy_score(target_valid, predictions_valid)\n",
    "    print('max_depth=',depth, \":\", end ='' )\n",
    "    print(result)\n",
    "   \n",
    "    "
   ]
  },
  {
   "cell_type": "code",
   "execution_count": 98,
   "metadata": {},
   "outputs": [
    {
     "name": "stdout",
     "output_type": "stream",
     "text": [
      "Accurancy лучшей модели: 0.807153965785381\n",
      "Количество деревьев лучшей модели: 41\n",
      "Глубина дерева лучшей модели: 10\n",
      "Лучшая модель: RandomForestClassifier(max_depth=8, n_estimators=41, random_state=12345)\n"
     ]
    }
   ],
   "source": [
    "#исследование модели \"случайный лес\"\n",
    "best_model = None\n",
    "best_result = 0\n",
    "best_est = 0\n",
    "best_depth = 0\n",
    "for est in range(1,51,10):\n",
    "    for depth in range (1,11):\n",
    "        model = RandomForestClassifier(random_state=12345, n_estimators = est, max_depth = depth)\n",
    "        model.fit(features_train, target_train)\n",
    "        predictions_valid = model.predict(features_valid)\n",
    "        result = accuracy_score(target_valid, predictions_valid)\n",
    "        if result > best_result:\n",
    "            best_model = model\n",
    "            best_result = result\n",
    "            best_est = est\n",
    "            best_depth = depth\n",
    "print('Accurancy лучшей модели:',best_result)\n",
    "print('Количество деревьев лучшей модели:', est )\n",
    "print ('Глубина дерева лучшей модели:', depth )\n",
    "print('Лучшая модель:', best_model)\n",
    "    "
   ]
  },
  {
   "cell_type": "code",
   "execution_count": 97,
   "metadata": {},
   "outputs": [
    {
     "name": "stdout",
     "output_type": "stream",
     "text": [
      "max_est= 1 : max_depth= 1 :0.7542768273716952\n",
      "max_est= 1 : max_depth= 2 :0.7853810264385692\n",
      "max_est= 1 : max_depth= 3 :0.7853810264385692\n",
      "max_est= 1 : max_depth= 4 :0.7744945567651633\n",
      "max_est= 1 : max_depth= 5 :0.776049766718507\n",
      "max_est= 1 : max_depth= 6 :0.7853810264385692\n",
      "max_est= 1 : max_depth= 7 :0.7776049766718507\n",
      "max_est= 1 : max_depth= 8 :0.7776049766718507\n",
      "max_est= 1 : max_depth= 9 :0.7791601866251944\n",
      "max_est= 1 : max_depth= 10 :0.7729393468118196\n",
      "max_est= 11 : max_depth= 1 :0.7542768273716952\n",
      "max_est= 11 : max_depth= 2 :0.7853810264385692\n",
      "max_est= 11 : max_depth= 3 :0.7838258164852255\n",
      "max_est= 11 : max_depth= 4 :0.7884914463452566\n",
      "max_est= 11 : max_depth= 5 :0.7853810264385692\n",
      "max_est= 11 : max_depth= 6 :0.8009331259720062\n",
      "max_est= 11 : max_depth= 7 :0.7962674961119751\n",
      "max_est= 11 : max_depth= 8 :0.7993779160186625\n",
      "max_est= 11 : max_depth= 9 :0.7853810264385692\n",
      "max_est= 11 : max_depth= 10 :0.7916018662519441\n",
      "max_est= 21 : max_depth= 1 :0.7636080870917574\n",
      "max_est= 21 : max_depth= 2 :0.7853810264385692\n",
      "max_est= 21 : max_depth= 3 :0.7869362363919129\n",
      "max_est= 21 : max_depth= 4 :0.7853810264385692\n",
      "max_est= 21 : max_depth= 5 :0.7884914463452566\n",
      "max_est= 21 : max_depth= 6 :0.7993779160186625\n",
      "max_est= 21 : max_depth= 7 :0.8009331259720062\n",
      "max_est= 21 : max_depth= 8 :0.7962674961119751\n",
      "max_est= 21 : max_depth= 9 :0.7931570762052877\n",
      "max_est= 21 : max_depth= 10 :0.7947122861586314\n",
      "max_est= 31 : max_depth= 1 :0.7884914463452566\n",
      "max_est= 31 : max_depth= 2 :0.7838258164852255\n",
      "max_est= 31 : max_depth= 3 :0.7869362363919129\n",
      "max_est= 31 : max_depth= 4 :0.7884914463452566\n",
      "max_est= 31 : max_depth= 5 :0.7931570762052877\n",
      "max_est= 31 : max_depth= 6 :0.80248833592535\n",
      "max_est= 31 : max_depth= 7 :0.80248833592535\n",
      "max_est= 31 : max_depth= 8 :0.7978227060653188\n",
      "max_est= 31 : max_depth= 9 :0.7900466562986003\n",
      "max_est= 31 : max_depth= 10 :0.7947122861586314\n",
      "max_est= 41 : max_depth= 1 :0.776049766718507\n",
      "max_est= 41 : max_depth= 2 :0.7822706065318819\n",
      "max_est= 41 : max_depth= 3 :0.7869362363919129\n",
      "max_est= 41 : max_depth= 4 :0.7900466562986003\n",
      "max_est= 41 : max_depth= 5 :0.7931570762052877\n",
      "max_est= 41 : max_depth= 6 :0.8009331259720062\n",
      "max_est= 41 : max_depth= 7 :0.80248833592535\n",
      "max_est= 41 : max_depth= 8 :0.807153965785381\n",
      "max_est= 41 : max_depth= 9 :0.7931570762052877\n",
      "max_est= 41 : max_depth= 10 :0.7947122861586314\n"
     ]
    }
   ],
   "source": [
    "#проверка всех значений\n",
    "\n",
    "for est in range(1,51,10):\n",
    "    for depth in range (1,11):\n",
    "        model = RandomForestClassifier(random_state=12345, n_estimators = est, max_depth = depth)\n",
    "        model.fit(features_train, target_train)\n",
    "        predictions_valid = model.predict(features_valid)\n",
    "        result = accuracy_score(target_valid, predictions_valid)\n",
    "        print('max_est=',est, \":\", 'max_depth=',depth, \":\", end ='' )\n",
    "        print(result)"
   ]
  },
  {
   "cell_type": "code",
   "execution_count": 96,
   "metadata": {},
   "outputs": [
    {
     "name": "stdout",
     "output_type": "stream",
     "text": [
      "Accurancy модели логической регресии: 0.7107309486780715\n"
     ]
    }
   ],
   "source": [
    "#изучение модели логистической регрессии\n",
    "\n",
    "model = LogisticRegression(random_state =12345, solver ='lbfgs', max_iter=1000)\n",
    "model.fit(features_train, target_train)\n",
    "predictions_valid = model.predict(features_valid)\n",
    "result = accuracy_score(target_valid, predictions_valid)\n",
    "print('Accurancy модели логической регресии:', result)"
   ]
  },
  {
   "cell_type": "code",
   "execution_count": 33,
   "metadata": {},
   "outputs": [
    {
     "name": "stdout",
     "output_type": "stream",
     "text": [
      "max_iter = 100 : 0.7107309486780715\n",
      "max_iter = 200 : 0.7107309486780715\n",
      "max_iter = 300 : 0.7107309486780715\n",
      "max_iter = 400 : 0.7107309486780715\n",
      "max_iter = 500 : 0.7107309486780715\n",
      "max_iter = 600 : 0.7107309486780715\n",
      "max_iter = 700 : 0.7107309486780715\n",
      "max_iter = 800 : 0.7107309486780715\n",
      "max_iter = 900 : 0.7107309486780715\n",
      "max_iter = 1000 : 0.7107309486780715\n"
     ]
    }
   ],
   "source": [
    "#проверка всез значений\n",
    "for iter in range (100,1001,100):\n",
    "    model = LogisticRegression(random_state =12345, solver ='lbfgs', max_iter=1000)\n",
    "    model.fit(features_train, target_train)\n",
    "    predictions_valid = model.predict(features_valid)\n",
    "    result = accuracy_score(target_valid, predictions_valid)\n",
    "    print(f\"max_iter = {iter} : {result}\")\n",
    "   "
   ]
  },
  {
   "cell_type": "markdown",
   "metadata": {},
   "source": [
    "**Вывод:**\n",
    "При сравнении всех моделей получились следующие значения:\n",
    "\n",
    " 1. Лучшая модель 'дерева решений' имеет долю правильных ответов(accurancy): 0.7853810264385692, при значении глубины дерева (depth =5)\n",
    " 2. Лучшая модель 'случайного леса' имеет долю правильных ответов (accurancy): 0.80715396578538, при значении глубины дерева (dept=10, количества деревьев (n_estimators = 41) \n",
    " 3. Accurancy модели логической регресии: 0.7107309486780715\n",
    "\n",
    "Наилучшая модель в данном случае - модель случайного леса, в этой модели самый высокий уровень доли правильных ответов(accurany)"
   ]
  },
  {
   "cell_type": "markdown",
   "metadata": {},
   "source": [
    "## Проверьте модель на тестовой выборке"
   ]
  },
  {
   "cell_type": "code",
   "execution_count": 37,
   "metadata": {},
   "outputs": [
    {
     "name": "stdout",
     "output_type": "stream",
     "text": [
      "Accurancy лучшей модели дерева решений на тестовой выборке: 0.7838258164852255\n"
     ]
    }
   ],
   "source": [
    "#проверка моделей на тестовой выборке:\n",
    "#1. Лучшая модель  дерева решений (depth =5)\n",
    "model = DecisionTreeClassifier(random_state=12345, max_depth = 5)\n",
    "model.fit(features_train, target_train)\n",
    "predictions_test = model.predict(features_test)\n",
    "result1 = accuracy_score(target_test, predictions_test)\n",
    "print(\"Accurancy лучшей модели дерева решений на тестовой выборке:\", result1 )\n",
    "\n"
   ]
  },
  {
   "cell_type": "code",
   "execution_count": 103,
   "metadata": {},
   "outputs": [
    {
     "name": "stdout",
     "output_type": "stream",
     "text": [
      "Accurancy лучшей модели случайного леса на тестовой выборке: 0.7978227060653188\n"
     ]
    }
   ],
   "source": [
    "# 2.Лучшая модель \"случайного леса\" (ept=10, n_estimators = 41)\n",
    "model = RandomForestClassifier(random_state=12345, n_estimators = 41, max_depth = 10)\n",
    "model.fit(features_train, target_train)\n",
    "predictions_test = model.predict(features_test)\n",
    "result2 = accuracy_score(target_test, predictions_test)\n",
    "print(\"Accurancy лучшей модели случайного леса на тестовой выборке:\", result2)\n"
   ]
  },
  {
   "cell_type": "code",
   "execution_count": 109,
   "metadata": {},
   "outputs": [
    {
     "name": "stdout",
     "output_type": "stream",
     "text": [
      "Accurancy модели логистической регрессии на тестовой выборке: 0.6842923794712286\n"
     ]
    }
   ],
   "source": [
    "#3. Модель логистической регрессии\n",
    "model = LogisticRegression(random_state =12345, solver ='lbfgs', max_iter=1000)\n",
    "model.fit(features_train, target_train)\n",
    "predictions_test = model.predict(features_test)\n",
    "result3 = accuracy_score(target_test, predictions_test)\n",
    "print(\"Accurancy модели логистической регрессии на тестовой выборке:\", result3)"
   ]
  },
  {
   "cell_type": "markdown",
   "metadata": {},
   "source": [
    "**Вывод:** \n",
    "Наилучший результат показала модель случайного леса. И На валидационной выборке и на тестовой лоля правильных ответов выше всего.\n",
    "Доля правильныз ответов на валидационной выборке составило - 0.807, на тестовой выборке - 0.797."
   ]
  },
  {
   "cell_type": "markdown",
   "metadata": {},
   "source": [
    "## Проверьте модели на адекватность"
   ]
  },
  {
   "cell_type": "code",
   "execution_count": 39,
   "metadata": {},
   "outputs": [
    {
     "data": {
      "text/plain": [
       "0    0.692427\n",
       "1    0.307573\n",
       "Name: is_ultra, dtype: float64"
      ]
     },
     "execution_count": 39,
     "metadata": {},
     "output_type": "execute_result"
    }
   ],
   "source": [
    "#проверка балансов классов выборки (целевой признак обучайющей выборки)\n",
    "target_train.value_counts(normalize = 1)"
   ]
  },
  {
   "cell_type": "code",
   "execution_count": 40,
   "metadata": {},
   "outputs": [
    {
     "data": {
      "text/plain": [
       "0    0.706065\n",
       "1    0.293935\n",
       "Name: is_ultra, dtype: float64"
      ]
     },
     "execution_count": 40,
     "metadata": {},
     "output_type": "execute_result"
    }
   ],
   "source": [
    "#проверка балансов классов выборки (целевой признак валидационной выборки)\n",
    "target_valid.value_counts(normalize = 1)"
   ]
  },
  {
   "cell_type": "markdown",
   "metadata": {},
   "source": [
    "У обучающией и валидационной выборок наблюдается заметный дисбаланс класов. Ответы 0 ≈70% , 1 ≈ 30%\n",
    "Можно ожидать, что результаты предсказаний моделей будут сильно склоняться к одному варианту ответов."
   ]
  },
  {
   "cell_type": "code",
   "execution_count": 42,
   "metadata": {},
   "outputs": [
    {
     "name": "stdout",
     "output_type": "stream",
     "text": [
      "accuracy_score константной модели: 0.6842923794712286\n"
     ]
    }
   ],
   "source": [
    "#созданиие константной модели. За константу примем пример 0, так как это значение встречается 70% случаев\n",
    "target_predict_constant = pd.Series([0] * len(target_test))\n",
    "# расчет accuracy  констатной модели\n",
    "print(f'accuracy_score константной модели: {accuracy_score(target_test, target_predict_constant)}')"
   ]
  },
  {
   "cell_type": "markdown",
   "metadata": {},
   "source": [
    "Accuracy дерево решений 0.783; случайный лес 0.797; логистическая регрессия 0.684.\n",
    "Accuracy константной модели: 0.796\n",
    "Случайный лес показал результат выше констентной модели, в связи с чем, только ее можем признать адекватной"
   ]
  }
 ],
 "metadata": {
  "ExecuteTimeLog": [
   {
    "duration": 499,
    "start_time": "2023-03-03T17:56:56.915Z"
   },
   {
    "duration": 10,
    "start_time": "2023-03-03T17:58:30.056Z"
   },
   {
    "duration": 10,
    "start_time": "2023-03-03T17:58:47.650Z"
   },
   {
    "duration": 6,
    "start_time": "2023-03-03T17:59:26.936Z"
   },
   {
    "duration": 59,
    "start_time": "2023-03-03T18:05:20.521Z"
   },
   {
    "duration": 23,
    "start_time": "2023-03-03T18:05:50.633Z"
   },
   {
    "duration": 11,
    "start_time": "2023-03-03T18:13:49.882Z"
   },
   {
    "duration": 10,
    "start_time": "2023-03-03T18:14:28.987Z"
   },
   {
    "duration": 25,
    "start_time": "2023-03-03T18:15:14.937Z"
   },
   {
    "duration": 25,
    "start_time": "2023-03-03T18:15:35.961Z"
   },
   {
    "duration": 25,
    "start_time": "2023-03-03T18:15:45.590Z"
   },
   {
    "duration": 3,
    "start_time": "2023-03-03T18:17:05.590Z"
   },
   {
    "duration": 662,
    "start_time": "2023-03-03T18:19:00.825Z"
   },
   {
    "duration": 781,
    "start_time": "2023-03-03T18:35:09.270Z"
   },
   {
    "duration": 12,
    "start_time": "2023-03-03T18:35:44.992Z"
   },
   {
    "duration": 4,
    "start_time": "2023-03-03T18:38:27.334Z"
   },
   {
    "duration": 6,
    "start_time": "2023-03-03T18:38:50.571Z"
   },
   {
    "duration": 6,
    "start_time": "2023-03-03T18:39:32.418Z"
   },
   {
    "duration": 5,
    "start_time": "2023-03-03T18:40:12.454Z"
   },
   {
    "duration": 5,
    "start_time": "2023-03-03T18:41:55.964Z"
   },
   {
    "duration": 38,
    "start_time": "2023-03-03T19:12:51.567Z"
   },
   {
    "duration": 34,
    "start_time": "2023-03-03T19:13:01.375Z"
   },
   {
    "duration": 20,
    "start_time": "2023-03-03T19:13:06.065Z"
   },
   {
    "duration": 3,
    "start_time": "2023-03-03T19:13:27.418Z"
   },
   {
    "duration": 28,
    "start_time": "2023-03-03T19:13:45.458Z"
   },
   {
    "duration": 30,
    "start_time": "2023-03-03T19:14:33.882Z"
   },
   {
    "duration": 29,
    "start_time": "2023-03-03T19:15:13.484Z"
   },
   {
    "duration": 28,
    "start_time": "2023-03-03T19:15:26.164Z"
   },
   {
    "duration": 12,
    "start_time": "2023-03-03T19:19:04.467Z"
   },
   {
    "duration": 212,
    "start_time": "2023-03-03T19:27:42.858Z"
   },
   {
    "duration": 52,
    "start_time": "2023-03-03T19:29:36.315Z"
   },
   {
    "duration": 226,
    "start_time": "2023-03-03T19:30:04.254Z"
   },
   {
    "duration": 125,
    "start_time": "2023-03-03T19:32:44.489Z"
   },
   {
    "duration": 136,
    "start_time": "2023-03-03T19:32:51.143Z"
   },
   {
    "duration": 104,
    "start_time": "2023-03-03T19:32:57.768Z"
   },
   {
    "duration": 96,
    "start_time": "2023-03-03T19:33:06.760Z"
   },
   {
    "duration": 130,
    "start_time": "2023-03-03T19:33:11.645Z"
   },
   {
    "duration": 10,
    "start_time": "2023-03-03T19:34:10.227Z"
   },
   {
    "duration": 15,
    "start_time": "2023-03-03T19:34:34.960Z"
   },
   {
    "duration": 234,
    "start_time": "2023-03-03T19:34:37.903Z"
   },
   {
    "duration": 40,
    "start_time": "2023-03-03T19:34:46.788Z"
   },
   {
    "duration": 3,
    "start_time": "2023-03-03T19:34:56.464Z"
   },
   {
    "duration": 33,
    "start_time": "2023-03-03T19:34:59.160Z"
   },
   {
    "duration": 11,
    "start_time": "2023-03-03T19:35:02.359Z"
   },
   {
    "duration": 6,
    "start_time": "2023-03-03T19:35:05.487Z"
   },
   {
    "duration": 22,
    "start_time": "2023-03-03T19:35:08.516Z"
   },
   {
    "duration": 11,
    "start_time": "2023-03-03T19:35:15.883Z"
   },
   {
    "duration": 4,
    "start_time": "2023-03-03T19:35:20.983Z"
   },
   {
    "duration": 5,
    "start_time": "2023-03-03T19:35:22.913Z"
   },
   {
    "duration": 29,
    "start_time": "2023-03-03T19:35:27.013Z"
   },
   {
    "duration": 40,
    "start_time": "2023-03-03T19:35:32.363Z"
   },
   {
    "duration": 11,
    "start_time": "2023-03-03T19:35:38.814Z"
   },
   {
    "duration": 22,
    "start_time": "2023-03-03T19:35:44.559Z"
   },
   {
    "duration": 31,
    "start_time": "2023-03-03T19:40:09.126Z"
   },
   {
    "duration": 210,
    "start_time": "2023-03-03T19:41:48.963Z"
   },
   {
    "duration": 3,
    "start_time": "2023-03-03T19:42:06.698Z"
   },
   {
    "duration": 34,
    "start_time": "2023-03-03T19:42:08.858Z"
   },
   {
    "duration": 11,
    "start_time": "2023-03-03T19:42:12.800Z"
   },
   {
    "duration": 6,
    "start_time": "2023-03-03T19:42:16.583Z"
   },
   {
    "duration": 23,
    "start_time": "2023-03-03T19:42:19.686Z"
   },
   {
    "duration": 12,
    "start_time": "2023-03-03T19:42:24.207Z"
   },
   {
    "duration": 6,
    "start_time": "2023-03-03T19:42:28.137Z"
   },
   {
    "duration": 5,
    "start_time": "2023-03-03T19:42:30.046Z"
   },
   {
    "duration": 30,
    "start_time": "2023-03-03T19:42:33.004Z"
   },
   {
    "duration": 207,
    "start_time": "2023-03-03T19:42:48.945Z"
   },
   {
    "duration": 28,
    "start_time": "2023-03-03T19:43:15.700Z"
   },
   {
    "duration": 48,
    "start_time": "2023-03-03T19:49:18.496Z"
   },
   {
    "duration": 3,
    "start_time": "2023-03-03T19:49:30.713Z"
   },
   {
    "duration": 30,
    "start_time": "2023-03-03T20:05:49.955Z"
   },
   {
    "duration": 240,
    "start_time": "2023-03-03T20:06:10.306Z"
   },
   {
    "duration": 225,
    "start_time": "2023-03-03T20:06:25.865Z"
   },
   {
    "duration": 32,
    "start_time": "2023-03-03T20:07:09.621Z"
   },
   {
    "duration": 23,
    "start_time": "2023-03-03T20:08:09.869Z"
   },
   {
    "duration": 23,
    "start_time": "2023-03-03T20:08:53.160Z"
   },
   {
    "duration": 179,
    "start_time": "2023-03-03T20:11:09.364Z"
   },
   {
    "duration": 26,
    "start_time": "2023-03-03T20:12:16.584Z"
   },
   {
    "duration": 3,
    "start_time": "2023-03-03T20:17:41.577Z"
   },
   {
    "duration": 33,
    "start_time": "2023-03-03T20:17:44.456Z"
   },
   {
    "duration": 10,
    "start_time": "2023-03-03T20:17:48.281Z"
   },
   {
    "duration": 6,
    "start_time": "2023-03-03T20:17:50.957Z"
   },
   {
    "duration": 23,
    "start_time": "2023-03-03T20:17:53.628Z"
   },
   {
    "duration": 12,
    "start_time": "2023-03-03T20:17:57.290Z"
   },
   {
    "duration": 4,
    "start_time": "2023-03-03T20:18:00.476Z"
   },
   {
    "duration": 4,
    "start_time": "2023-03-03T20:18:02.657Z"
   },
   {
    "duration": 51,
    "start_time": "2023-03-03T20:18:39.451Z"
   },
   {
    "duration": 6,
    "start_time": "2023-03-03T20:18:50.514Z"
   },
   {
    "duration": 11,
    "start_time": "2023-03-03T20:19:12.243Z"
   },
   {
    "duration": 6,
    "start_time": "2023-03-03T20:19:24.937Z"
   },
   {
    "duration": 4,
    "start_time": "2023-03-03T20:19:32.297Z"
   },
   {
    "duration": 5,
    "start_time": "2023-03-03T20:19:33.756Z"
   },
   {
    "duration": 32,
    "start_time": "2023-03-03T20:19:36.847Z"
   },
   {
    "duration": 32,
    "start_time": "2023-03-03T20:19:39.552Z"
   },
   {
    "duration": 247,
    "start_time": "2023-03-03T20:19:43.157Z"
   },
   {
    "duration": 231,
    "start_time": "2023-03-03T20:19:47.399Z"
   },
   {
    "duration": 172,
    "start_time": "2023-03-03T20:19:52.068Z"
   },
   {
    "duration": 27,
    "start_time": "2023-03-03T20:19:56.498Z"
   },
   {
    "duration": 2476,
    "start_time": "2023-03-03T20:23:04.081Z"
   },
   {
    "duration": 2482,
    "start_time": "2023-03-03T20:25:54.267Z"
   },
   {
    "duration": 15,
    "start_time": "2023-03-03T20:52:06.464Z"
   },
   {
    "duration": 10,
    "start_time": "2023-03-03T20:52:26.393Z"
   },
   {
    "duration": 130,
    "start_time": "2023-03-03T20:52:30.668Z"
   },
   {
    "duration": 139,
    "start_time": "2023-03-03T20:52:41.786Z"
   },
   {
    "duration": 46,
    "start_time": "2023-03-03T20:52:57.267Z"
   },
   {
    "duration": 143,
    "start_time": "2023-03-03T20:53:06.761Z"
   },
   {
    "duration": 134,
    "start_time": "2023-03-03T20:54:13.159Z"
   },
   {
    "duration": 11,
    "start_time": "2023-03-03T20:54:22.162Z"
   },
   {
    "duration": 10,
    "start_time": "2023-03-03T20:54:33.458Z"
   },
   {
    "duration": 25,
    "start_time": "2023-03-03T20:56:39.371Z"
   },
   {
    "duration": 51,
    "start_time": "2023-03-06T11:46:24.307Z"
   },
   {
    "duration": 1307,
    "start_time": "2023-03-06T11:46:32.665Z"
   },
   {
    "duration": 124,
    "start_time": "2023-03-06T11:46:34.991Z"
   },
   {
    "duration": 11,
    "start_time": "2023-03-06T11:46:38.095Z"
   },
   {
    "duration": 14,
    "start_time": "2023-03-06T11:46:40.499Z"
   },
   {
    "duration": 32,
    "start_time": "2023-03-06T11:46:42.925Z"
   },
   {
    "duration": 8,
    "start_time": "2023-03-06T11:46:49.888Z"
   },
   {
    "duration": 7,
    "start_time": "2023-03-06T11:46:52.886Z"
   },
   {
    "duration": 6,
    "start_time": "2023-03-06T11:46:55.957Z"
   },
   {
    "duration": 81,
    "start_time": "2023-03-06T11:46:58.601Z"
   },
   {
    "duration": 5,
    "start_time": "2023-03-06T11:49:33.397Z"
   },
   {
    "duration": 5,
    "start_time": "2023-03-06T11:49:49.446Z"
   },
   {
    "duration": 4,
    "start_time": "2023-03-06T11:49:56.755Z"
   },
   {
    "duration": 4,
    "start_time": "2023-03-06T11:50:12.855Z"
   },
   {
    "duration": 82,
    "start_time": "2023-03-06T11:51:58.692Z"
   },
   {
    "duration": 6,
    "start_time": "2023-03-06T11:52:12.598Z"
   },
   {
    "duration": 6,
    "start_time": "2023-03-06T11:52:53.846Z"
   },
   {
    "duration": 15,
    "start_time": "2023-03-06T11:57:14.430Z"
   },
   {
    "duration": 12,
    "start_time": "2023-03-06T11:57:22.096Z"
   },
   {
    "duration": 11,
    "start_time": "2023-03-06T11:57:27.400Z"
   },
   {
    "duration": 14,
    "start_time": "2023-03-06T11:57:33.295Z"
   },
   {
    "duration": 10,
    "start_time": "2023-03-06T11:59:34.434Z"
   },
   {
    "duration": 12,
    "start_time": "2023-03-06T11:59:57.006Z"
   },
   {
    "duration": 15,
    "start_time": "2023-03-06T12:00:39.289Z"
   },
   {
    "duration": 15,
    "start_time": "2023-03-06T12:01:38.999Z"
   },
   {
    "duration": 15,
    "start_time": "2023-03-06T12:02:38.462Z"
   },
   {
    "duration": 12,
    "start_time": "2023-03-06T12:03:06.818Z"
   },
   {
    "duration": 47,
    "start_time": "2023-03-06T12:16:34.289Z"
   },
   {
    "duration": 301,
    "start_time": "2023-03-06T12:16:48.428Z"
   },
   {
    "duration": 300,
    "start_time": "2023-03-06T12:17:06.357Z"
   },
   {
    "duration": 259,
    "start_time": "2023-03-06T12:17:18.645Z"
   },
   {
    "duration": 287,
    "start_time": "2023-03-06T12:17:53.296Z"
   },
   {
    "duration": 286,
    "start_time": "2023-03-06T12:17:58.136Z"
   },
   {
    "duration": 14,
    "start_time": "2023-03-06T12:19:40.293Z"
   },
   {
    "duration": 13,
    "start_time": "2023-03-06T12:19:51.791Z"
   },
   {
    "duration": 14,
    "start_time": "2023-03-06T12:20:04.436Z"
   },
   {
    "duration": 14,
    "start_time": "2023-03-06T12:20:16.109Z"
   },
   {
    "duration": 5,
    "start_time": "2023-03-06T12:24:45.815Z"
   },
   {
    "duration": 51,
    "start_time": "2023-03-06T12:47:17.659Z"
   },
   {
    "duration": 7,
    "start_time": "2023-03-06T12:47:39.402Z"
   },
   {
    "duration": 6,
    "start_time": "2023-03-06T12:53:22.214Z"
   },
   {
    "duration": 6,
    "start_time": "2023-03-06T12:55:38.237Z"
   }
  ],
  "kernelspec": {
   "display_name": "Python 3 (ipykernel)",
   "language": "python",
   "name": "python3"
  },
  "language_info": {
   "codemirror_mode": {
    "name": "ipython",
    "version": 3
   },
   "file_extension": ".py",
   "mimetype": "text/x-python",
   "name": "python",
   "nbconvert_exporter": "python",
   "pygments_lexer": "ipython3",
   "version": "3.9.15"
  },
  "toc": {
   "base_numbering": 1,
   "nav_menu": {},
   "number_sections": true,
   "sideBar": true,
   "skip_h1_title": true,
   "title_cell": "Table of Contents",
   "title_sidebar": "Contents",
   "toc_cell": false,
   "toc_position": {},
   "toc_section_display": true,
   "toc_window_display": false
  }
 },
 "nbformat": 4,
 "nbformat_minor": 2
}
