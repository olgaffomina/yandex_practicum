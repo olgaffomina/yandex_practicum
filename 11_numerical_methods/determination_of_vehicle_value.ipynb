{
 "cells": [
  {
   "cell_type": "markdown",
   "metadata": {},
   "source": [
    "# Определение стоимости автомобилей"
   ]
  },
  {
   "cell_type": "markdown",
   "metadata": {},
   "source": [
    "Сервис по продаже автомобилей с пробегом «Не бит, не крашен» разрабатывает приложение для привлечения новых клиентов. В нём можно быстро узнать рыночную стоимость своего автомобиля. В вашем распоряжении исторические данные: технические характеристики, комплектации и цены автомобилей. Вам нужно построить модель для определения стоимости. \n",
    "\n",
    "Заказчику важны:\n",
    "\n",
    "- качество предсказания;\n",
    "- скорость предсказания;\n",
    "- время обучения."
   ]
  },
  {
   "cell_type": "markdown",
   "metadata": {},
   "source": [
    "Признаки:\n",
    " - DateCrawled — дата скачивания анкеты из базы\n",
    " - VehicleType — тип автомобильного кузова\n",
    " - RegistrationYear — год регистрации автомобиля\n",
    " - Gearbox — тип коробки передач\n",
    " - Power — мощность (л. с.)\n",
    " - Model — модель автомобиля\n",
    " - Kilometer — пробег (км)\n",
    " - RegistrationMonth — месяц регистрации автомобиля\n",
    " - FuelType — тип топлива\n",
    " - Brand — марка автомобиля\n",
    " - Repaired — была машина в ремонте или нет\n",
    " - DateCreated — дата создания анкеты\n",
    " - NumberOfPictures — количество фотографий автомобиля\n",
    " - PostalCode — почтовый индекс владельца анкеты (пользователя)\n",
    " - LastSeen — дата последней активности пользователя\n",
    " \n",
    " \n",
    "Целевой признак\n",
    " - Price — цена (евро)"
   ]
  },
  {
   "cell_type": "markdown",
   "metadata": {},
   "source": [
    "## Подготовка данных"
   ]
  },
  {
   "cell_type": "markdown",
   "metadata": {},
   "source": [
    "### Общий анализ данных"
   ]
  },
  {
   "cell_type": "code",
   "execution_count": 853,
   "metadata": {},
   "outputs": [],
   "source": [
    "import pandas as pd\n",
    "import numpy as np\n",
    "import matplotlib.pyplot as plt #графики\n",
    "import seaborn as sns\n",
    "import time\n",
    "from sklearn.model_selection import train_test_split, GridSearchCV  #деление выборок/подбор гиперпараметров\n",
    "from sklearn.preprocessing import StandardScaler, OneHotEncoder #масштабирование/кодирование\n",
    "from sklearn.linear_model import LinearRegression, Ridge \n",
    "from lightgbm import LGBMRegressor\n",
    "from catboost import CatBoostRegressor\n",
    "from sklearn.metrics import mean_squared_error #mse\n",
    "#import warnings\n",
    "#warnings.filterwarnings('ignore') #игнорирование ошибок при построении графиков\n",
    "from sklearn.dummy import DummyRegressor\n",
    "from sklearn.metrics import  make_scorer\n"
   ]
  },
  {
   "cell_type": "code",
   "execution_count": 854,
   "metadata": {},
   "outputs": [
    {
     "data": {
      "text/html": [
       "<div>\n",
       "<style scoped>\n",
       "    .dataframe tbody tr th:only-of-type {\n",
       "        vertical-align: middle;\n",
       "    }\n",
       "\n",
       "    .dataframe tbody tr th {\n",
       "        vertical-align: top;\n",
       "    }\n",
       "\n",
       "    .dataframe thead th {\n",
       "        text-align: right;\n",
       "    }\n",
       "</style>\n",
       "<table border=\"1\" class=\"dataframe\">\n",
       "  <thead>\n",
       "    <tr style=\"text-align: right;\">\n",
       "      <th></th>\n",
       "      <th>DateCrawled</th>\n",
       "      <th>Price</th>\n",
       "      <th>VehicleType</th>\n",
       "      <th>RegistrationYear</th>\n",
       "      <th>Gearbox</th>\n",
       "      <th>Power</th>\n",
       "      <th>Model</th>\n",
       "      <th>Kilometer</th>\n",
       "      <th>RegistrationMonth</th>\n",
       "      <th>FuelType</th>\n",
       "      <th>Brand</th>\n",
       "      <th>Repaired</th>\n",
       "      <th>DateCreated</th>\n",
       "      <th>NumberOfPictures</th>\n",
       "      <th>PostalCode</th>\n",
       "      <th>LastSeen</th>\n",
       "    </tr>\n",
       "  </thead>\n",
       "  <tbody>\n",
       "    <tr>\n",
       "      <th>0</th>\n",
       "      <td>2016-03-24 11:52:17</td>\n",
       "      <td>480</td>\n",
       "      <td>NaN</td>\n",
       "      <td>1993</td>\n",
       "      <td>manual</td>\n",
       "      <td>0</td>\n",
       "      <td>golf</td>\n",
       "      <td>150000</td>\n",
       "      <td>0</td>\n",
       "      <td>petrol</td>\n",
       "      <td>volkswagen</td>\n",
       "      <td>NaN</td>\n",
       "      <td>2016-03-24 00:00:00</td>\n",
       "      <td>0</td>\n",
       "      <td>70435</td>\n",
       "      <td>2016-04-07 03:16:57</td>\n",
       "    </tr>\n",
       "    <tr>\n",
       "      <th>1</th>\n",
       "      <td>2016-03-24 10:58:45</td>\n",
       "      <td>18300</td>\n",
       "      <td>coupe</td>\n",
       "      <td>2011</td>\n",
       "      <td>manual</td>\n",
       "      <td>190</td>\n",
       "      <td>NaN</td>\n",
       "      <td>125000</td>\n",
       "      <td>5</td>\n",
       "      <td>gasoline</td>\n",
       "      <td>audi</td>\n",
       "      <td>yes</td>\n",
       "      <td>2016-03-24 00:00:00</td>\n",
       "      <td>0</td>\n",
       "      <td>66954</td>\n",
       "      <td>2016-04-07 01:46:50</td>\n",
       "    </tr>\n",
       "    <tr>\n",
       "      <th>2</th>\n",
       "      <td>2016-03-14 12:52:21</td>\n",
       "      <td>9800</td>\n",
       "      <td>suv</td>\n",
       "      <td>2004</td>\n",
       "      <td>auto</td>\n",
       "      <td>163</td>\n",
       "      <td>grand</td>\n",
       "      <td>125000</td>\n",
       "      <td>8</td>\n",
       "      <td>gasoline</td>\n",
       "      <td>jeep</td>\n",
       "      <td>NaN</td>\n",
       "      <td>2016-03-14 00:00:00</td>\n",
       "      <td>0</td>\n",
       "      <td>90480</td>\n",
       "      <td>2016-04-05 12:47:46</td>\n",
       "    </tr>\n",
       "    <tr>\n",
       "      <th>3</th>\n",
       "      <td>2016-03-17 16:54:04</td>\n",
       "      <td>1500</td>\n",
       "      <td>small</td>\n",
       "      <td>2001</td>\n",
       "      <td>manual</td>\n",
       "      <td>75</td>\n",
       "      <td>golf</td>\n",
       "      <td>150000</td>\n",
       "      <td>6</td>\n",
       "      <td>petrol</td>\n",
       "      <td>volkswagen</td>\n",
       "      <td>no</td>\n",
       "      <td>2016-03-17 00:00:00</td>\n",
       "      <td>0</td>\n",
       "      <td>91074</td>\n",
       "      <td>2016-03-17 17:40:17</td>\n",
       "    </tr>\n",
       "    <tr>\n",
       "      <th>4</th>\n",
       "      <td>2016-03-31 17:25:20</td>\n",
       "      <td>3600</td>\n",
       "      <td>small</td>\n",
       "      <td>2008</td>\n",
       "      <td>manual</td>\n",
       "      <td>69</td>\n",
       "      <td>fabia</td>\n",
       "      <td>90000</td>\n",
       "      <td>7</td>\n",
       "      <td>gasoline</td>\n",
       "      <td>skoda</td>\n",
       "      <td>no</td>\n",
       "      <td>2016-03-31 00:00:00</td>\n",
       "      <td>0</td>\n",
       "      <td>60437</td>\n",
       "      <td>2016-04-06 10:17:21</td>\n",
       "    </tr>\n",
       "  </tbody>\n",
       "</table>\n",
       "</div>"
      ],
      "text/plain": [
       "           DateCrawled  Price VehicleType  RegistrationYear Gearbox  Power  \\\n",
       "0  2016-03-24 11:52:17    480         NaN              1993  manual      0   \n",
       "1  2016-03-24 10:58:45  18300       coupe              2011  manual    190   \n",
       "2  2016-03-14 12:52:21   9800         suv              2004    auto    163   \n",
       "3  2016-03-17 16:54:04   1500       small              2001  manual     75   \n",
       "4  2016-03-31 17:25:20   3600       small              2008  manual     69   \n",
       "\n",
       "   Model  Kilometer  RegistrationMonth  FuelType       Brand Repaired  \\\n",
       "0   golf     150000                  0    petrol  volkswagen      NaN   \n",
       "1    NaN     125000                  5  gasoline        audi      yes   \n",
       "2  grand     125000                  8  gasoline        jeep      NaN   \n",
       "3   golf     150000                  6    petrol  volkswagen       no   \n",
       "4  fabia      90000                  7  gasoline       skoda       no   \n",
       "\n",
       "           DateCreated  NumberOfPictures  PostalCode             LastSeen  \n",
       "0  2016-03-24 00:00:00                 0       70435  2016-04-07 03:16:57  \n",
       "1  2016-03-24 00:00:00                 0       66954  2016-04-07 01:46:50  \n",
       "2  2016-03-14 00:00:00                 0       90480  2016-04-05 12:47:46  \n",
       "3  2016-03-17 00:00:00                 0       91074  2016-03-17 17:40:17  \n",
       "4  2016-03-31 00:00:00                 0       60437  2016-04-06 10:17:21  "
      ]
     },
     "execution_count": 854,
     "metadata": {},
     "output_type": "execute_result"
    }
   ],
   "source": [
    "# чтение файла\n",
    "try:\n",
    "    df = pd.read_csv('/datasets/autos.csv')\n",
    "except:\n",
    "    df = pd.read_csv('autos.csv')\n",
    "    \n",
    "df.head(5)"
   ]
  },
  {
   "cell_type": "code",
   "execution_count": 855,
   "metadata": {},
   "outputs": [
    {
     "name": "stdout",
     "output_type": "stream",
     "text": [
      "<class 'pandas.core.frame.DataFrame'>\n",
      "RangeIndex: 354369 entries, 0 to 354368\n",
      "Data columns (total 16 columns):\n",
      " #   Column             Non-Null Count   Dtype \n",
      "---  ------             --------------   ----- \n",
      " 0   DateCrawled        354369 non-null  object\n",
      " 1   Price              354369 non-null  int64 \n",
      " 2   VehicleType        316879 non-null  object\n",
      " 3   RegistrationYear   354369 non-null  int64 \n",
      " 4   Gearbox            334536 non-null  object\n",
      " 5   Power              354369 non-null  int64 \n",
      " 6   Model              334664 non-null  object\n",
      " 7   Kilometer          354369 non-null  int64 \n",
      " 8   RegistrationMonth  354369 non-null  int64 \n",
      " 9   FuelType           321474 non-null  object\n",
      " 10  Brand              354369 non-null  object\n",
      " 11  Repaired           283215 non-null  object\n",
      " 12  DateCreated        354369 non-null  object\n",
      " 13  NumberOfPictures   354369 non-null  int64 \n",
      " 14  PostalCode         354369 non-null  int64 \n",
      " 15  LastSeen           354369 non-null  object\n",
      "dtypes: int64(7), object(9)\n",
      "memory usage: 43.3+ MB\n"
     ]
    }
   ],
   "source": [
    "#просмотр общей информации\n",
    "df.info()"
   ]
  },
  {
   "cell_type": "markdown",
   "metadata": {},
   "source": [
    "Данные содержат 354369 строк, 9 столбцов с категориальными данными, 7 с количественными"
   ]
  },
  {
   "cell_type": "code",
   "execution_count": 856,
   "metadata": {},
   "outputs": [
    {
     "name": "stdout",
     "output_type": "stream",
     "text": [
      "Index(['datecrawled', 'price', 'vehicletype', 'registrationyear', 'gearbox',\n",
      "       'power', 'model', 'kilometer', 'registrationmonth', 'fueltype', 'brand',\n",
      "       'repaired', 'datecreated', 'numberofpictures', 'postalcode',\n",
      "       'lastseen'],\n",
      "      dtype='object')\n"
     ]
    }
   ],
   "source": [
    "#замена названий, приведение к нижнему регистру\n",
    "df.columns = df.columns.str.lower()\n",
    "print(df.columns)"
   ]
  },
  {
   "cell_type": "code",
   "execution_count": 857,
   "metadata": {},
   "outputs": [
    {
     "name": "stdout",
     "output_type": "stream",
     "text": [
      "\u001b[1m\n",
      "Проверка пропусков\u001b[0m\n",
      "datecrawled              0\n",
      "price                    0\n",
      "vehicletype          37490\n",
      "registrationyear         0\n",
      "gearbox              19833\n",
      "power                    0\n",
      "model                19705\n",
      "kilometer                0\n",
      "registrationmonth        0\n",
      "fueltype             32895\n",
      "brand                    0\n",
      "repaired             71154\n",
      "datecreated              0\n",
      "numberofpictures         0\n",
      "postalcode               0\n",
      "lastseen                 0\n",
      "dtype: int64\n",
      "\u001b[1m\n",
      "Доля пропусков в столбцах\u001b[0m\n"
     ]
    },
    {
     "data": {
      "text/html": [
       "<style  type=\"text/css\" >\n",
       "#T_5e9e8_row0_col0,#T_5e9e8_row1_col0,#T_5e9e8_row3_col0,#T_5e9e8_row5_col0,#T_5e9e8_row7_col0,#T_5e9e8_row8_col0,#T_5e9e8_row10_col0,#T_5e9e8_row12_col0,#T_5e9e8_row13_col0,#T_5e9e8_row14_col0,#T_5e9e8_row15_col0{\n",
       "            background-color:  #3b4cc0;\n",
       "            color:  #f1f1f1;\n",
       "        }#T_5e9e8_row2_col0{\n",
       "            background-color:  #e9d5cb;\n",
       "            color:  #000000;\n",
       "        }#T_5e9e8_row4_col0,#T_5e9e8_row6_col0{\n",
       "            background-color:  #9ebeff;\n",
       "            color:  #000000;\n",
       "        }#T_5e9e8_row9_col0{\n",
       "            background-color:  #cfdaea;\n",
       "            color:  #000000;\n",
       "        }#T_5e9e8_row11_col0{\n",
       "            background-color:  #b40426;\n",
       "            color:  #f1f1f1;\n",
       "        }</style><table id=\"T_5e9e8_\" ><thead>    <tr>        <th class=\"blank level0\" ></th>        <th class=\"col_heading level0 col0\" >0</th>    </tr></thead><tbody>\n",
       "                <tr>\n",
       "                        <th id=\"T_5e9e8_level0_row0\" class=\"row_heading level0 row0\" >datecrawled</th>\n",
       "                        <td id=\"T_5e9e8_row0_col0\" class=\"data row0 col0\" >0.000000</td>\n",
       "            </tr>\n",
       "            <tr>\n",
       "                        <th id=\"T_5e9e8_level0_row1\" class=\"row_heading level0 row1\" >price</th>\n",
       "                        <td id=\"T_5e9e8_row1_col0\" class=\"data row1 col0\" >0.000000</td>\n",
       "            </tr>\n",
       "            <tr>\n",
       "                        <th id=\"T_5e9e8_level0_row2\" class=\"row_heading level0 row2\" >vehicletype</th>\n",
       "                        <td id=\"T_5e9e8_row2_col0\" class=\"data row2 col0\" >11.000000</td>\n",
       "            </tr>\n",
       "            <tr>\n",
       "                        <th id=\"T_5e9e8_level0_row3\" class=\"row_heading level0 row3\" >registrationyear</th>\n",
       "                        <td id=\"T_5e9e8_row3_col0\" class=\"data row3 col0\" >0.000000</td>\n",
       "            </tr>\n",
       "            <tr>\n",
       "                        <th id=\"T_5e9e8_level0_row4\" class=\"row_heading level0 row4\" >gearbox</th>\n",
       "                        <td id=\"T_5e9e8_row4_col0\" class=\"data row4 col0\" >6.000000</td>\n",
       "            </tr>\n",
       "            <tr>\n",
       "                        <th id=\"T_5e9e8_level0_row5\" class=\"row_heading level0 row5\" >power</th>\n",
       "                        <td id=\"T_5e9e8_row5_col0\" class=\"data row5 col0\" >0.000000</td>\n",
       "            </tr>\n",
       "            <tr>\n",
       "                        <th id=\"T_5e9e8_level0_row6\" class=\"row_heading level0 row6\" >model</th>\n",
       "                        <td id=\"T_5e9e8_row6_col0\" class=\"data row6 col0\" >6.000000</td>\n",
       "            </tr>\n",
       "            <tr>\n",
       "                        <th id=\"T_5e9e8_level0_row7\" class=\"row_heading level0 row7\" >kilometer</th>\n",
       "                        <td id=\"T_5e9e8_row7_col0\" class=\"data row7 col0\" >0.000000</td>\n",
       "            </tr>\n",
       "            <tr>\n",
       "                        <th id=\"T_5e9e8_level0_row8\" class=\"row_heading level0 row8\" >registrationmonth</th>\n",
       "                        <td id=\"T_5e9e8_row8_col0\" class=\"data row8 col0\" >0.000000</td>\n",
       "            </tr>\n",
       "            <tr>\n",
       "                        <th id=\"T_5e9e8_level0_row9\" class=\"row_heading level0 row9\" >fueltype</th>\n",
       "                        <td id=\"T_5e9e8_row9_col0\" class=\"data row9 col0\" >9.000000</td>\n",
       "            </tr>\n",
       "            <tr>\n",
       "                        <th id=\"T_5e9e8_level0_row10\" class=\"row_heading level0 row10\" >brand</th>\n",
       "                        <td id=\"T_5e9e8_row10_col0\" class=\"data row10 col0\" >0.000000</td>\n",
       "            </tr>\n",
       "            <tr>\n",
       "                        <th id=\"T_5e9e8_level0_row11\" class=\"row_heading level0 row11\" >repaired</th>\n",
       "                        <td id=\"T_5e9e8_row11_col0\" class=\"data row11 col0\" >20.000000</td>\n",
       "            </tr>\n",
       "            <tr>\n",
       "                        <th id=\"T_5e9e8_level0_row12\" class=\"row_heading level0 row12\" >datecreated</th>\n",
       "                        <td id=\"T_5e9e8_row12_col0\" class=\"data row12 col0\" >0.000000</td>\n",
       "            </tr>\n",
       "            <tr>\n",
       "                        <th id=\"T_5e9e8_level0_row13\" class=\"row_heading level0 row13\" >numberofpictures</th>\n",
       "                        <td id=\"T_5e9e8_row13_col0\" class=\"data row13 col0\" >0.000000</td>\n",
       "            </tr>\n",
       "            <tr>\n",
       "                        <th id=\"T_5e9e8_level0_row14\" class=\"row_heading level0 row14\" >postalcode</th>\n",
       "                        <td id=\"T_5e9e8_row14_col0\" class=\"data row14 col0\" >0.000000</td>\n",
       "            </tr>\n",
       "            <tr>\n",
       "                        <th id=\"T_5e9e8_level0_row15\" class=\"row_heading level0 row15\" >lastseen</th>\n",
       "                        <td id=\"T_5e9e8_row15_col0\" class=\"data row15 col0\" >0.000000</td>\n",
       "            </tr>\n",
       "    </tbody></table>"
      ],
      "text/plain": [
       "<pandas.io.formats.style.Styler at 0x16674b400>"
      ]
     },
     "execution_count": 857,
     "metadata": {},
     "output_type": "execute_result"
    }
   ],
   "source": [
    "#проверка пропусков\n",
    "print ('\\033[1m' + '\\nПроверка пропусков'+ '\\033[0m')\n",
    "print(df.isnull().sum())\n",
    "#доля пропусков в столбцах\n",
    "print ('\\033[1m' + '\\nДоля пропусков в столбцах'+ '\\033[0m')\n",
    "pd.DataFrame(round(df.isna().mean()*100)).style.background_gradient('coolwarm')"
   ]
  },
  {
   "cell_type": "markdown",
   "metadata": {},
   "source": [
    "Большое количество пропусков: \n",
    " - vehicletype ( тип кузова) - 11%\n",
    " - gearbox(коробка передач) - 6%\n",
    " - model( модель) - 6%\n",
    " - fueltype(тип топлива)- 9%\n",
    " - repaired (был ли ремонт) - 20%"
   ]
  },
  {
   "cell_type": "code",
   "execution_count": 858,
   "metadata": {},
   "outputs": [
    {
     "name": "stdout",
     "output_type": "stream",
     "text": [
      "4\n"
     ]
    }
   ],
   "source": [
    "#проверка на дубликаты\n",
    "print(df.duplicated().sum())"
   ]
  },
  {
   "cell_type": "code",
   "execution_count": 859,
   "metadata": {},
   "outputs": [
    {
     "data": {
      "text/html": [
       "<div>\n",
       "<style scoped>\n",
       "    .dataframe tbody tr th:only-of-type {\n",
       "        vertical-align: middle;\n",
       "    }\n",
       "\n",
       "    .dataframe tbody tr th {\n",
       "        vertical-align: top;\n",
       "    }\n",
       "\n",
       "    .dataframe thead th {\n",
       "        text-align: right;\n",
       "    }\n",
       "</style>\n",
       "<table border=\"1\" class=\"dataframe\">\n",
       "  <thead>\n",
       "    <tr style=\"text-align: right;\">\n",
       "      <th></th>\n",
       "      <th>datecrawled</th>\n",
       "      <th>price</th>\n",
       "      <th>vehicletype</th>\n",
       "      <th>registrationyear</th>\n",
       "      <th>gearbox</th>\n",
       "      <th>power</th>\n",
       "      <th>model</th>\n",
       "      <th>kilometer</th>\n",
       "      <th>registrationmonth</th>\n",
       "      <th>fueltype</th>\n",
       "      <th>brand</th>\n",
       "      <th>repaired</th>\n",
       "      <th>datecreated</th>\n",
       "      <th>numberofpictures</th>\n",
       "      <th>postalcode</th>\n",
       "      <th>lastseen</th>\n",
       "    </tr>\n",
       "  </thead>\n",
       "  <tbody>\n",
       "    <tr>\n",
       "      <th>171088</th>\n",
       "      <td>2016-03-08 18:42:48</td>\n",
       "      <td>1799</td>\n",
       "      <td>coupe</td>\n",
       "      <td>1999</td>\n",
       "      <td>auto</td>\n",
       "      <td>193</td>\n",
       "      <td>clk</td>\n",
       "      <td>20000</td>\n",
       "      <td>7</td>\n",
       "      <td>petrol</td>\n",
       "      <td>mercedes_benz</td>\n",
       "      <td>no</td>\n",
       "      <td>2016-03-08 00:00:00</td>\n",
       "      <td>0</td>\n",
       "      <td>89518</td>\n",
       "      <td>2016-03-09 09:46:57</td>\n",
       "    </tr>\n",
       "    <tr>\n",
       "      <th>231258</th>\n",
       "      <td>2016-03-28 00:56:10</td>\n",
       "      <td>1000</td>\n",
       "      <td>small</td>\n",
       "      <td>2002</td>\n",
       "      <td>manual</td>\n",
       "      <td>83</td>\n",
       "      <td>other</td>\n",
       "      <td>150000</td>\n",
       "      <td>1</td>\n",
       "      <td>petrol</td>\n",
       "      <td>suzuki</td>\n",
       "      <td>no</td>\n",
       "      <td>2016-03-28 00:00:00</td>\n",
       "      <td>0</td>\n",
       "      <td>66589</td>\n",
       "      <td>2016-03-28 08:46:21</td>\n",
       "    </tr>\n",
       "    <tr>\n",
       "      <th>258109</th>\n",
       "      <td>2016-04-03 09:01:15</td>\n",
       "      <td>4699</td>\n",
       "      <td>coupe</td>\n",
       "      <td>2003</td>\n",
       "      <td>auto</td>\n",
       "      <td>218</td>\n",
       "      <td>clk</td>\n",
       "      <td>125000</td>\n",
       "      <td>6</td>\n",
       "      <td>petrol</td>\n",
       "      <td>mercedes_benz</td>\n",
       "      <td>yes</td>\n",
       "      <td>2016-04-03 00:00:00</td>\n",
       "      <td>0</td>\n",
       "      <td>75196</td>\n",
       "      <td>2016-04-07 09:44:54</td>\n",
       "    </tr>\n",
       "    <tr>\n",
       "      <th>325651</th>\n",
       "      <td>2016-03-18 18:46:15</td>\n",
       "      <td>1999</td>\n",
       "      <td>wagon</td>\n",
       "      <td>2001</td>\n",
       "      <td>manual</td>\n",
       "      <td>131</td>\n",
       "      <td>passat</td>\n",
       "      <td>150000</td>\n",
       "      <td>7</td>\n",
       "      <td>gasoline</td>\n",
       "      <td>volkswagen</td>\n",
       "      <td>no</td>\n",
       "      <td>2016-03-18 00:00:00</td>\n",
       "      <td>0</td>\n",
       "      <td>36391</td>\n",
       "      <td>2016-03-18 18:46:15</td>\n",
       "    </tr>\n",
       "  </tbody>\n",
       "</table>\n",
       "</div>"
      ],
      "text/plain": [
       "                datecrawled  price vehicletype  registrationyear gearbox  \\\n",
       "171088  2016-03-08 18:42:48   1799       coupe              1999    auto   \n",
       "231258  2016-03-28 00:56:10   1000       small              2002  manual   \n",
       "258109  2016-04-03 09:01:15   4699       coupe              2003    auto   \n",
       "325651  2016-03-18 18:46:15   1999       wagon              2001  manual   \n",
       "\n",
       "        power   model  kilometer  registrationmonth  fueltype          brand  \\\n",
       "171088    193     clk      20000                  7    petrol  mercedes_benz   \n",
       "231258     83   other     150000                  1    petrol         suzuki   \n",
       "258109    218     clk     125000                  6    petrol  mercedes_benz   \n",
       "325651    131  passat     150000                  7  gasoline     volkswagen   \n",
       "\n",
       "       repaired          datecreated  numberofpictures  postalcode  \\\n",
       "171088       no  2016-03-08 00:00:00                 0       89518   \n",
       "231258       no  2016-03-28 00:00:00                 0       66589   \n",
       "258109      yes  2016-04-03 00:00:00                 0       75196   \n",
       "325651       no  2016-03-18 00:00:00                 0       36391   \n",
       "\n",
       "                   lastseen  \n",
       "171088  2016-03-09 09:46:57  \n",
       "231258  2016-03-28 08:46:21  \n",
       "258109  2016-04-07 09:44:54  \n",
       "325651  2016-03-18 18:46:15  "
      ]
     },
     "execution_count": 859,
     "metadata": {},
     "output_type": "execute_result"
    }
   ],
   "source": [
    "#просмотр дубликатов\n",
    "df[df.duplicated()]"
   ]
  },
  {
   "cell_type": "markdown",
   "metadata": {},
   "source": [
    "Так как нет опознавательных признаков в виде id - предположим, что это разные предложения, со схожими характеристиками"
   ]
  },
  {
   "cell_type": "code",
   "execution_count": 860,
   "metadata": {},
   "outputs": [
    {
     "data": {
      "text/html": [
       "<div>\n",
       "<style scoped>\n",
       "    .dataframe tbody tr th:only-of-type {\n",
       "        vertical-align: middle;\n",
       "    }\n",
       "\n",
       "    .dataframe tbody tr th {\n",
       "        vertical-align: top;\n",
       "    }\n",
       "\n",
       "    .dataframe thead th {\n",
       "        text-align: right;\n",
       "    }\n",
       "</style>\n",
       "<table border=\"1\" class=\"dataframe\">\n",
       "  <thead>\n",
       "    <tr style=\"text-align: right;\">\n",
       "      <th></th>\n",
       "      <th>count</th>\n",
       "      <th>mean</th>\n",
       "      <th>std</th>\n",
       "      <th>min</th>\n",
       "      <th>25%</th>\n",
       "      <th>50%</th>\n",
       "      <th>75%</th>\n",
       "      <th>max</th>\n",
       "    </tr>\n",
       "  </thead>\n",
       "  <tbody>\n",
       "    <tr>\n",
       "      <th>price</th>\n",
       "      <td>354369.0</td>\n",
       "      <td>4416.66</td>\n",
       "      <td>4514.16</td>\n",
       "      <td>0.0</td>\n",
       "      <td>1050.0</td>\n",
       "      <td>2700.0</td>\n",
       "      <td>6400.0</td>\n",
       "      <td>20000.0</td>\n",
       "    </tr>\n",
       "    <tr>\n",
       "      <th>registrationyear</th>\n",
       "      <td>354369.0</td>\n",
       "      <td>2004.23</td>\n",
       "      <td>90.23</td>\n",
       "      <td>1000.0</td>\n",
       "      <td>1999.0</td>\n",
       "      <td>2003.0</td>\n",
       "      <td>2008.0</td>\n",
       "      <td>9999.0</td>\n",
       "    </tr>\n",
       "    <tr>\n",
       "      <th>power</th>\n",
       "      <td>354369.0</td>\n",
       "      <td>110.09</td>\n",
       "      <td>189.85</td>\n",
       "      <td>0.0</td>\n",
       "      <td>69.0</td>\n",
       "      <td>105.0</td>\n",
       "      <td>143.0</td>\n",
       "      <td>20000.0</td>\n",
       "    </tr>\n",
       "    <tr>\n",
       "      <th>kilometer</th>\n",
       "      <td>354369.0</td>\n",
       "      <td>128211.17</td>\n",
       "      <td>37905.34</td>\n",
       "      <td>5000.0</td>\n",
       "      <td>125000.0</td>\n",
       "      <td>150000.0</td>\n",
       "      <td>150000.0</td>\n",
       "      <td>150000.0</td>\n",
       "    </tr>\n",
       "    <tr>\n",
       "      <th>registrationmonth</th>\n",
       "      <td>354369.0</td>\n",
       "      <td>5.71</td>\n",
       "      <td>3.73</td>\n",
       "      <td>0.0</td>\n",
       "      <td>3.0</td>\n",
       "      <td>6.0</td>\n",
       "      <td>9.0</td>\n",
       "      <td>12.0</td>\n",
       "    </tr>\n",
       "    <tr>\n",
       "      <th>numberofpictures</th>\n",
       "      <td>354369.0</td>\n",
       "      <td>0.00</td>\n",
       "      <td>0.00</td>\n",
       "      <td>0.0</td>\n",
       "      <td>0.0</td>\n",
       "      <td>0.0</td>\n",
       "      <td>0.0</td>\n",
       "      <td>0.0</td>\n",
       "    </tr>\n",
       "    <tr>\n",
       "      <th>postalcode</th>\n",
       "      <td>354369.0</td>\n",
       "      <td>50508.69</td>\n",
       "      <td>25783.10</td>\n",
       "      <td>1067.0</td>\n",
       "      <td>30165.0</td>\n",
       "      <td>49413.0</td>\n",
       "      <td>71083.0</td>\n",
       "      <td>99998.0</td>\n",
       "    </tr>\n",
       "  </tbody>\n",
       "</table>\n",
       "</div>"
      ],
      "text/plain": [
       "                      count       mean       std     min       25%       50%  \\\n",
       "price              354369.0    4416.66   4514.16     0.0    1050.0    2700.0   \n",
       "registrationyear   354369.0    2004.23     90.23  1000.0    1999.0    2003.0   \n",
       "power              354369.0     110.09    189.85     0.0      69.0     105.0   \n",
       "kilometer          354369.0  128211.17  37905.34  5000.0  125000.0  150000.0   \n",
       "registrationmonth  354369.0       5.71      3.73     0.0       3.0       6.0   \n",
       "numberofpictures   354369.0       0.00      0.00     0.0       0.0       0.0   \n",
       "postalcode         354369.0   50508.69  25783.10  1067.0   30165.0   49413.0   \n",
       "\n",
       "                        75%       max  \n",
       "price                6400.0   20000.0  \n",
       "registrationyear     2008.0    9999.0  \n",
       "power                 143.0   20000.0  \n",
       "kilometer          150000.0  150000.0  \n",
       "registrationmonth       9.0      12.0  \n",
       "numberofpictures        0.0       0.0  \n",
       "postalcode          71083.0   99998.0  "
      ]
     },
     "metadata": {},
     "output_type": "display_data"
    }
   ],
   "source": [
    "#описание количественных данных\n",
    "display(df.describe().round(2).T)"
   ]
  },
  {
   "cell_type": "markdown",
   "metadata": {},
   "source": [
    "Вопросы для для дальнейшей проверки/изучения данных:\n",
    " - в первую очередь бросается в глаза цена (price) со значением 0.\n",
    " - год регистрации(registrationyear) от 1000 до 9999\n",
    " - мощность (power) от 0 до 20000 (такие существуют?)\n",
    " - количество фотографиий(numberofpictures) - все значения равное 0\n",
    " "
   ]
  },
  {
   "cell_type": "code",
   "execution_count": 861,
   "metadata": {},
   "outputs": [
    {
     "data": {
      "text/html": [
       "<div>\n",
       "<style scoped>\n",
       "    .dataframe tbody tr th:only-of-type {\n",
       "        vertical-align: middle;\n",
       "    }\n",
       "\n",
       "    .dataframe tbody tr th {\n",
       "        vertical-align: top;\n",
       "    }\n",
       "\n",
       "    .dataframe thead th {\n",
       "        text-align: right;\n",
       "    }\n",
       "</style>\n",
       "<table border=\"1\" class=\"dataframe\">\n",
       "  <thead>\n",
       "    <tr style=\"text-align: right;\">\n",
       "      <th></th>\n",
       "      <th>count</th>\n",
       "      <th>unique</th>\n",
       "      <th>top</th>\n",
       "      <th>freq</th>\n",
       "    </tr>\n",
       "  </thead>\n",
       "  <tbody>\n",
       "    <tr>\n",
       "      <th>datecrawled</th>\n",
       "      <td>354369</td>\n",
       "      <td>271174</td>\n",
       "      <td>2016-03-24 14:49:47</td>\n",
       "      <td>7</td>\n",
       "    </tr>\n",
       "    <tr>\n",
       "      <th>vehicletype</th>\n",
       "      <td>316879</td>\n",
       "      <td>8</td>\n",
       "      <td>sedan</td>\n",
       "      <td>91457</td>\n",
       "    </tr>\n",
       "    <tr>\n",
       "      <th>gearbox</th>\n",
       "      <td>334536</td>\n",
       "      <td>2</td>\n",
       "      <td>manual</td>\n",
       "      <td>268251</td>\n",
       "    </tr>\n",
       "    <tr>\n",
       "      <th>model</th>\n",
       "      <td>334664</td>\n",
       "      <td>250</td>\n",
       "      <td>golf</td>\n",
       "      <td>29232</td>\n",
       "    </tr>\n",
       "    <tr>\n",
       "      <th>fueltype</th>\n",
       "      <td>321474</td>\n",
       "      <td>7</td>\n",
       "      <td>petrol</td>\n",
       "      <td>216352</td>\n",
       "    </tr>\n",
       "    <tr>\n",
       "      <th>brand</th>\n",
       "      <td>354369</td>\n",
       "      <td>40</td>\n",
       "      <td>volkswagen</td>\n",
       "      <td>77013</td>\n",
       "    </tr>\n",
       "    <tr>\n",
       "      <th>repaired</th>\n",
       "      <td>283215</td>\n",
       "      <td>2</td>\n",
       "      <td>no</td>\n",
       "      <td>247161</td>\n",
       "    </tr>\n",
       "    <tr>\n",
       "      <th>datecreated</th>\n",
       "      <td>354369</td>\n",
       "      <td>109</td>\n",
       "      <td>2016-04-03 00:00:00</td>\n",
       "      <td>13719</td>\n",
       "    </tr>\n",
       "    <tr>\n",
       "      <th>lastseen</th>\n",
       "      <td>354369</td>\n",
       "      <td>179150</td>\n",
       "      <td>2016-04-06 13:45:54</td>\n",
       "      <td>17</td>\n",
       "    </tr>\n",
       "  </tbody>\n",
       "</table>\n",
       "</div>"
      ],
      "text/plain": [
       "              count  unique                  top    freq\n",
       "datecrawled  354369  271174  2016-03-24 14:49:47       7\n",
       "vehicletype  316879       8                sedan   91457\n",
       "gearbox      334536       2               manual  268251\n",
       "model        334664     250                 golf   29232\n",
       "fueltype     321474       7               petrol  216352\n",
       "brand        354369      40           volkswagen   77013\n",
       "repaired     283215       2                   no  247161\n",
       "datecreated  354369     109  2016-04-03 00:00:00   13719\n",
       "lastseen     354369  179150  2016-04-06 13:45:54      17"
      ]
     },
     "metadata": {},
     "output_type": "display_data"
    }
   ],
   "source": [
    "#описание категориальных данных\n",
    "display(df.describe(include='object').T)"
   ]
  },
  {
   "cell_type": "markdown",
   "metadata": {},
   "source": [
    "Общие замечания/пометки:\n",
    "- 8 видов кузова (vehicletype), самый частый вариант - седан. Количество пропусков - 11%\n",
    "- 2 вида коробки передач(gearbox), больше предложений с ручным вариантов(manual). Количество пропусков - 6%\n",
    "- 250 моделей(model).Количество пропусков 6%\n",
    "- 7 типов топлива (fueltype). Количество пропусков - 9%\n",
    "- 40 брендов (brand). Проупусков данных нет.\n",
    "- Налачие каких то ремонтов(repaired). Количество пропусков - 20%"
   ]
  },
  {
   "cell_type": "code",
   "execution_count": 862,
   "metadata": {},
   "outputs": [
    {
     "name": "stdout",
     "output_type": "stream",
     "text": [
      "          Column_Name  Num_Unique\n",
      "13   numberofpictures           1\n",
      "4             gearbox           2\n",
      "11           repaired           2\n",
      "9            fueltype           7\n",
      "2         vehicletype           8\n",
      "7           kilometer          13\n",
      "8   registrationmonth          13\n",
      "10              brand          40\n",
      "12        datecreated         109\n",
      "3    registrationyear         151\n",
      "6               model         250\n",
      "5               power         712\n",
      "1               price        3731\n",
      "14         postalcode        8143\n",
      "15           lastseen      179150\n",
      "0         datecrawled      271174\n"
     ]
    }
   ],
   "source": [
    "# для отображения количества уникальных значений в каждом столбце\n",
    "# from_records: создает объект DataFrame из структурированного массива\n",
    "\n",
    "unique_counts = pd.DataFrame.from_records([(col, df[col].nunique()) for col in df.columns],\n",
    "                                          columns=['Column_Name', 'Num_Unique']).sort_values(by=['Num_Unique'])\n",
    "print(unique_counts)"
   ]
  },
  {
   "cell_type": "code",
   "execution_count": 863,
   "metadata": {},
   "outputs": [
    {
     "data": {
      "image/png": "[encoded data removed]",
      "text/plain": [
       "<Figure size 1500x1500 with 9 Axes>"
      ]
     },
     "metadata": {},
     "output_type": "display_data"
    }
   ],
   "source": [
    "# графическое представление данных из таблиц\n",
    "df.hist(figsize=(15, 15))\n",
    "plt.show()"
   ]
  },
  {
   "cell_type": "markdown",
   "metadata": {},
   "source": [
    "Графики лишь подверждают необходимость детального изучения данных в столбце:\n",
    "- Price - данные со значением 0 \n",
    "- год регистрации  - проверить и удалить выбросы "
   ]
  },
  {
   "cell_type": "markdown",
   "metadata": {},
   "source": [
    "#### Анализ данных в столце Price"
   ]
  },
  {
   "cell_type": "code",
   "execution_count": 864,
   "metadata": {},
   "outputs": [
    {
     "name": "stdout",
     "output_type": "stream",
     "text": [
      "\u001b[1m\n",
      "Количество строк со значением 0 в столбце price\u001b[0m\n",
      "10772\n"
     ]
    },
    {
     "data": {
      "text/html": [
       "<div>\n",
       "<style scoped>\n",
       "    .dataframe tbody tr th:only-of-type {\n",
       "        vertical-align: middle;\n",
       "    }\n",
       "\n",
       "    .dataframe tbody tr th {\n",
       "        vertical-align: top;\n",
       "    }\n",
       "\n",
       "    .dataframe thead th {\n",
       "        text-align: right;\n",
       "    }\n",
       "</style>\n",
       "<table border=\"1\" class=\"dataframe\">\n",
       "  <thead>\n",
       "    <tr style=\"text-align: right;\">\n",
       "      <th></th>\n",
       "      <th>datecrawled</th>\n",
       "      <th>price</th>\n",
       "      <th>vehicletype</th>\n",
       "      <th>registrationyear</th>\n",
       "      <th>gearbox</th>\n",
       "      <th>power</th>\n",
       "      <th>model</th>\n",
       "      <th>kilometer</th>\n",
       "      <th>registrationmonth</th>\n",
       "      <th>fueltype</th>\n",
       "      <th>brand</th>\n",
       "      <th>repaired</th>\n",
       "      <th>datecreated</th>\n",
       "      <th>numberofpictures</th>\n",
       "      <th>postalcode</th>\n",
       "      <th>lastseen</th>\n",
       "    </tr>\n",
       "  </thead>\n",
       "  <tbody>\n",
       "    <tr>\n",
       "      <th>7</th>\n",
       "      <td>2016-03-21 18:54:38</td>\n",
       "      <td>0</td>\n",
       "      <td>sedan</td>\n",
       "      <td>1980</td>\n",
       "      <td>manual</td>\n",
       "      <td>50</td>\n",
       "      <td>other</td>\n",
       "      <td>40000</td>\n",
       "      <td>7</td>\n",
       "      <td>petrol</td>\n",
       "      <td>volkswagen</td>\n",
       "      <td>no</td>\n",
       "      <td>2016-03-21 00:00:00</td>\n",
       "      <td>0</td>\n",
       "      <td>19348</td>\n",
       "      <td>2016-03-25 16:47:58</td>\n",
       "    </tr>\n",
       "    <tr>\n",
       "      <th>40</th>\n",
       "      <td>2016-03-26 22:06:17</td>\n",
       "      <td>0</td>\n",
       "      <td>NaN</td>\n",
       "      <td>1990</td>\n",
       "      <td>NaN</td>\n",
       "      <td>0</td>\n",
       "      <td>corsa</td>\n",
       "      <td>150000</td>\n",
       "      <td>1</td>\n",
       "      <td>petrol</td>\n",
       "      <td>opel</td>\n",
       "      <td>NaN</td>\n",
       "      <td>2016-03-26 00:00:00</td>\n",
       "      <td>0</td>\n",
       "      <td>56412</td>\n",
       "      <td>2016-03-27 17:43:34</td>\n",
       "    </tr>\n",
       "    <tr>\n",
       "      <th>111</th>\n",
       "      <td>2016-03-19 18:40:12</td>\n",
       "      <td>0</td>\n",
       "      <td>NaN</td>\n",
       "      <td>2017</td>\n",
       "      <td>manual</td>\n",
       "      <td>0</td>\n",
       "      <td>golf</td>\n",
       "      <td>5000</td>\n",
       "      <td>12</td>\n",
       "      <td>petrol</td>\n",
       "      <td>volkswagen</td>\n",
       "      <td>NaN</td>\n",
       "      <td>2016-03-19 00:00:00</td>\n",
       "      <td>0</td>\n",
       "      <td>21698</td>\n",
       "      <td>2016-04-01 08:47:05</td>\n",
       "    </tr>\n",
       "    <tr>\n",
       "      <th>115</th>\n",
       "      <td>2016-03-20 18:53:27</td>\n",
       "      <td>0</td>\n",
       "      <td>small</td>\n",
       "      <td>1999</td>\n",
       "      <td>NaN</td>\n",
       "      <td>0</td>\n",
       "      <td>NaN</td>\n",
       "      <td>5000</td>\n",
       "      <td>0</td>\n",
       "      <td>petrol</td>\n",
       "      <td>volkswagen</td>\n",
       "      <td>NaN</td>\n",
       "      <td>2016-03-20 00:00:00</td>\n",
       "      <td>0</td>\n",
       "      <td>37520</td>\n",
       "      <td>2016-04-07 02:45:22</td>\n",
       "    </tr>\n",
       "    <tr>\n",
       "      <th>152</th>\n",
       "      <td>2016-03-11 18:55:53</td>\n",
       "      <td>0</td>\n",
       "      <td>bus</td>\n",
       "      <td>2004</td>\n",
       "      <td>manual</td>\n",
       "      <td>101</td>\n",
       "      <td>meriva</td>\n",
       "      <td>150000</td>\n",
       "      <td>10</td>\n",
       "      <td>lpg</td>\n",
       "      <td>opel</td>\n",
       "      <td>yes</td>\n",
       "      <td>2016-03-11 00:00:00</td>\n",
       "      <td>0</td>\n",
       "      <td>27432</td>\n",
       "      <td>2016-03-12 23:47:10</td>\n",
       "    </tr>\n",
       "    <tr>\n",
       "      <th>...</th>\n",
       "      <td>...</td>\n",
       "      <td>...</td>\n",
       "      <td>...</td>\n",
       "      <td>...</td>\n",
       "      <td>...</td>\n",
       "      <td>...</td>\n",
       "      <td>...</td>\n",
       "      <td>...</td>\n",
       "      <td>...</td>\n",
       "      <td>...</td>\n",
       "      <td>...</td>\n",
       "      <td>...</td>\n",
       "      <td>...</td>\n",
       "      <td>...</td>\n",
       "      <td>...</td>\n",
       "      <td>...</td>\n",
       "    </tr>\n",
       "    <tr>\n",
       "      <th>354205</th>\n",
       "      <td>2016-03-09 15:56:30</td>\n",
       "      <td>0</td>\n",
       "      <td>NaN</td>\n",
       "      <td>2000</td>\n",
       "      <td>manual</td>\n",
       "      <td>65</td>\n",
       "      <td>corsa</td>\n",
       "      <td>150000</td>\n",
       "      <td>0</td>\n",
       "      <td>NaN</td>\n",
       "      <td>opel</td>\n",
       "      <td>yes</td>\n",
       "      <td>2016-03-09 00:00:00</td>\n",
       "      <td>0</td>\n",
       "      <td>23758</td>\n",
       "      <td>2016-03-30 11:16:08</td>\n",
       "    </tr>\n",
       "    <tr>\n",
       "      <th>354238</th>\n",
       "      <td>2016-03-20 14:55:07</td>\n",
       "      <td>0</td>\n",
       "      <td>small</td>\n",
       "      <td>2002</td>\n",
       "      <td>manual</td>\n",
       "      <td>60</td>\n",
       "      <td>fiesta</td>\n",
       "      <td>150000</td>\n",
       "      <td>3</td>\n",
       "      <td>petrol</td>\n",
       "      <td>ford</td>\n",
       "      <td>NaN</td>\n",
       "      <td>2016-03-20 00:00:00</td>\n",
       "      <td>0</td>\n",
       "      <td>33659</td>\n",
       "      <td>2016-04-06 18:45:23</td>\n",
       "    </tr>\n",
       "    <tr>\n",
       "      <th>354248</th>\n",
       "      <td>2016-03-24 13:48:05</td>\n",
       "      <td>0</td>\n",
       "      <td>small</td>\n",
       "      <td>1999</td>\n",
       "      <td>manual</td>\n",
       "      <td>53</td>\n",
       "      <td>swift</td>\n",
       "      <td>150000</td>\n",
       "      <td>3</td>\n",
       "      <td>petrol</td>\n",
       "      <td>suzuki</td>\n",
       "      <td>NaN</td>\n",
       "      <td>2016-03-24 00:00:00</td>\n",
       "      <td>0</td>\n",
       "      <td>42329</td>\n",
       "      <td>2016-04-07 05:17:24</td>\n",
       "    </tr>\n",
       "    <tr>\n",
       "      <th>354277</th>\n",
       "      <td>2016-03-10 22:55:50</td>\n",
       "      <td>0</td>\n",
       "      <td>small</td>\n",
       "      <td>1999</td>\n",
       "      <td>manual</td>\n",
       "      <td>37</td>\n",
       "      <td>arosa</td>\n",
       "      <td>150000</td>\n",
       "      <td>7</td>\n",
       "      <td>petrol</td>\n",
       "      <td>seat</td>\n",
       "      <td>yes</td>\n",
       "      <td>2016-03-10 00:00:00</td>\n",
       "      <td>0</td>\n",
       "      <td>22559</td>\n",
       "      <td>2016-03-12 23:46:32</td>\n",
       "    </tr>\n",
       "    <tr>\n",
       "      <th>354364</th>\n",
       "      <td>2016-03-21 09:50:58</td>\n",
       "      <td>0</td>\n",
       "      <td>NaN</td>\n",
       "      <td>2005</td>\n",
       "      <td>manual</td>\n",
       "      <td>0</td>\n",
       "      <td>colt</td>\n",
       "      <td>150000</td>\n",
       "      <td>7</td>\n",
       "      <td>petrol</td>\n",
       "      <td>mitsubishi</td>\n",
       "      <td>yes</td>\n",
       "      <td>2016-03-21 00:00:00</td>\n",
       "      <td>0</td>\n",
       "      <td>2694</td>\n",
       "      <td>2016-03-21 10:42:49</td>\n",
       "    </tr>\n",
       "  </tbody>\n",
       "</table>\n",
       "<p>10772 rows × 16 columns</p>\n",
       "</div>"
      ],
      "text/plain": [
       "                datecrawled  price vehicletype  registrationyear gearbox  \\\n",
       "7       2016-03-21 18:54:38      0       sedan              1980  manual   \n",
       "40      2016-03-26 22:06:17      0         NaN              1990     NaN   \n",
       "111     2016-03-19 18:40:12      0         NaN              2017  manual   \n",
       "115     2016-03-20 18:53:27      0       small              1999     NaN   \n",
       "152     2016-03-11 18:55:53      0         bus              2004  manual   \n",
       "...                     ...    ...         ...               ...     ...   \n",
       "354205  2016-03-09 15:56:30      0         NaN              2000  manual   \n",
       "354238  2016-03-20 14:55:07      0       small              2002  manual   \n",
       "354248  2016-03-24 13:48:05      0       small              1999  manual   \n",
       "354277  2016-03-10 22:55:50      0       small              1999  manual   \n",
       "354364  2016-03-21 09:50:58      0         NaN              2005  manual   \n",
       "\n",
       "        power   model  kilometer  registrationmonth fueltype       brand  \\\n",
       "7          50   other      40000                  7   petrol  volkswagen   \n",
       "40          0   corsa     150000                  1   petrol        opel   \n",
       "111         0    golf       5000                 12   petrol  volkswagen   \n",
       "115         0     NaN       5000                  0   petrol  volkswagen   \n",
       "152       101  meriva     150000                 10      lpg        opel   \n",
       "...       ...     ...        ...                ...      ...         ...   \n",
       "354205     65   corsa     150000                  0      NaN        opel   \n",
       "354238     60  fiesta     150000                  3   petrol        ford   \n",
       "354248     53   swift     150000                  3   petrol      suzuki   \n",
       "354277     37   arosa     150000                  7   petrol        seat   \n",
       "354364      0    colt     150000                  7   petrol  mitsubishi   \n",
       "\n",
       "       repaired          datecreated  numberofpictures  postalcode  \\\n",
       "7            no  2016-03-21 00:00:00                 0       19348   \n",
       "40          NaN  2016-03-26 00:00:00                 0       56412   \n",
       "111         NaN  2016-03-19 00:00:00                 0       21698   \n",
       "115         NaN  2016-03-20 00:00:00                 0       37520   \n",
       "152         yes  2016-03-11 00:00:00                 0       27432   \n",
       "...         ...                  ...               ...         ...   \n",
       "354205      yes  2016-03-09 00:00:00                 0       23758   \n",
       "354238      NaN  2016-03-20 00:00:00                 0       33659   \n",
       "354248      NaN  2016-03-24 00:00:00                 0       42329   \n",
       "354277      yes  2016-03-10 00:00:00                 0       22559   \n",
       "354364      yes  2016-03-21 00:00:00                 0        2694   \n",
       "\n",
       "                   lastseen  \n",
       "7       2016-03-25 16:47:58  \n",
       "40      2016-03-27 17:43:34  \n",
       "111     2016-04-01 08:47:05  \n",
       "115     2016-04-07 02:45:22  \n",
       "152     2016-03-12 23:47:10  \n",
       "...                     ...  \n",
       "354205  2016-03-30 11:16:08  \n",
       "354238  2016-04-06 18:45:23  \n",
       "354248  2016-04-07 05:17:24  \n",
       "354277  2016-03-12 23:46:32  \n",
       "354364  2016-03-21 10:42:49  \n",
       "\n",
       "[10772 rows x 16 columns]"
      ]
     },
     "metadata": {},
     "output_type": "display_data"
    }
   ],
   "source": [
    "#просмотр строк со значением 0 в столбце Price\n",
    "print ('\\033[1m' + '\\nКоличество строк со значением 0 в столбце price'+ '\\033[0m')\n",
    "print(len(df.loc[df['price']== 0] ))\n",
    "display(df.loc[df['price']== 0])"
   ]
  },
  {
   "cell_type": "markdown",
   "metadata": {},
   "source": [
    "10772  строк со значением 0 в столбце price (3% от общих данных).\n",
    "\n",
    "Так как это целевой признак, и важный для анализа, удалим эти строки"
   ]
  },
  {
   "cell_type": "code",
   "execution_count": 865,
   "metadata": {},
   "outputs": [
    {
     "name": "stdout",
     "output_type": "stream",
     "text": [
      "0\n",
      "<class 'pandas.core.frame.DataFrame'>\n",
      "Int64Index: 343597 entries, 0 to 354368\n",
      "Data columns (total 16 columns):\n",
      " #   Column             Non-Null Count   Dtype \n",
      "---  ------             --------------   ----- \n",
      " 0   datecrawled        343597 non-null  object\n",
      " 1   price              343597 non-null  int64 \n",
      " 2   vehicletype        309847 non-null  object\n",
      " 3   registrationyear   343597 non-null  int64 \n",
      " 4   gearbox            326242 non-null  object\n",
      " 5   power              343597 non-null  int64 \n",
      " 6   model              326076 non-null  object\n",
      " 7   kilometer          343597 non-null  int64 \n",
      " 8   registrationmonth  343597 non-null  int64 \n",
      " 9   fueltype           314138 non-null  object\n",
      " 10  brand              343597 non-null  object\n",
      " 11  repaired           277731 non-null  object\n",
      " 12  datecreated        343597 non-null  object\n",
      " 13  numberofpictures   343597 non-null  int64 \n",
      " 14  postalcode         343597 non-null  int64 \n",
      " 15  lastseen           343597 non-null  object\n",
      "dtypes: int64(7), object(9)\n",
      "memory usage: 44.6+ MB\n"
     ]
    }
   ],
   "source": [
    "#удаление строк со значением 0 в целевом признаке\n",
    "df = df.loc[df['price']!= 0]\n",
    "#проверка\n",
    "print(len(df.loc[df['price']== 0] ))\n",
    "df.info()       "
   ]
  },
  {
   "cell_type": "code",
   "execution_count": 866,
   "metadata": {},
   "outputs": [
    {
     "data": {
      "image/png": "[encoded data removed]",
      "text/plain": [
       "<Figure size 1000x500 with 1 Axes>"
      ]
     },
     "metadata": {},
     "output_type": "display_data"
    }
   ],
   "source": [
    "# графическое представление данных из таблиц\n",
    "df['price'].hist(figsize=(10, 5), bins =50)\n",
    "plt.show()"
   ]
  },
  {
   "cell_type": "code",
   "execution_count": 867,
   "metadata": {},
   "outputs": [
    {
     "data": {
      "image/png": "[encoded data removed]",
      "text/plain": [
       "<Figure size 640x480 with 1 Axes>"
      ]
     },
     "metadata": {},
     "output_type": "display_data"
    }
   ],
   "source": [
    "sns.boxplot(df['price'])\n",
    "plt.title('Диаграмма размаха Price')\n",
    "plt.show()"
   ]
  },
  {
   "cell_type": "markdown",
   "metadata": {},
   "source": [
    "Картина лучше, но еще наблюдаются данные со значением близко к 0.Проверим их"
   ]
  },
  {
   "cell_type": "code",
   "execution_count": 868,
   "metadata": {},
   "outputs": [
    {
     "name": "stdout",
     "output_type": "stream",
     "text": [
      "1340\n"
     ]
    },
    {
     "data": {
      "text/html": [
       "<div>\n",
       "<style scoped>\n",
       "    .dataframe tbody tr th:only-of-type {\n",
       "        vertical-align: middle;\n",
       "    }\n",
       "\n",
       "    .dataframe tbody tr th {\n",
       "        vertical-align: top;\n",
       "    }\n",
       "\n",
       "    .dataframe thead th {\n",
       "        text-align: right;\n",
       "    }\n",
       "</style>\n",
       "<table border=\"1\" class=\"dataframe\">\n",
       "  <thead>\n",
       "    <tr style=\"text-align: right;\">\n",
       "      <th></th>\n",
       "      <th>datecrawled</th>\n",
       "      <th>price</th>\n",
       "      <th>vehicletype</th>\n",
       "      <th>registrationyear</th>\n",
       "      <th>gearbox</th>\n",
       "      <th>power</th>\n",
       "      <th>model</th>\n",
       "      <th>kilometer</th>\n",
       "      <th>registrationmonth</th>\n",
       "      <th>fueltype</th>\n",
       "      <th>brand</th>\n",
       "      <th>repaired</th>\n",
       "      <th>datecreated</th>\n",
       "      <th>numberofpictures</th>\n",
       "      <th>postalcode</th>\n",
       "      <th>lastseen</th>\n",
       "    </tr>\n",
       "  </thead>\n",
       "  <tbody>\n",
       "    <tr>\n",
       "      <th>59</th>\n",
       "      <td>2016-03-29 15:48:15</td>\n",
       "      <td>1</td>\n",
       "      <td>suv</td>\n",
       "      <td>1994</td>\n",
       "      <td>manual</td>\n",
       "      <td>286</td>\n",
       "      <td>NaN</td>\n",
       "      <td>150000</td>\n",
       "      <td>11</td>\n",
       "      <td>NaN</td>\n",
       "      <td>sonstige_autos</td>\n",
       "      <td>NaN</td>\n",
       "      <td>2016-03-29 00:00:00</td>\n",
       "      <td>0</td>\n",
       "      <td>53721</td>\n",
       "      <td>2016-04-06 01:44:38</td>\n",
       "    </tr>\n",
       "    <tr>\n",
       "      <th>89</th>\n",
       "      <td>2016-03-28 09:37:01</td>\n",
       "      <td>1</td>\n",
       "      <td>sedan</td>\n",
       "      <td>1995</td>\n",
       "      <td>manual</td>\n",
       "      <td>113</td>\n",
       "      <td>e_klasse</td>\n",
       "      <td>150000</td>\n",
       "      <td>4</td>\n",
       "      <td>gasoline</td>\n",
       "      <td>mercedes_benz</td>\n",
       "      <td>no</td>\n",
       "      <td>2016-03-28 00:00:00</td>\n",
       "      <td>0</td>\n",
       "      <td>40589</td>\n",
       "      <td>2016-04-06 12:15:54</td>\n",
       "    </tr>\n",
       "    <tr>\n",
       "      <th>268</th>\n",
       "      <td>2016-03-12 07:26:49</td>\n",
       "      <td>1</td>\n",
       "      <td>sedan</td>\n",
       "      <td>1990</td>\n",
       "      <td>manual</td>\n",
       "      <td>90</td>\n",
       "      <td>80</td>\n",
       "      <td>70000</td>\n",
       "      <td>6</td>\n",
       "      <td>petrol</td>\n",
       "      <td>audi</td>\n",
       "      <td>no</td>\n",
       "      <td>2016-03-11 00:00:00</td>\n",
       "      <td>0</td>\n",
       "      <td>55122</td>\n",
       "      <td>2016-03-26 23:15:49</td>\n",
       "    </tr>\n",
       "    <tr>\n",
       "      <th>408</th>\n",
       "      <td>2016-03-29 18:51:58</td>\n",
       "      <td>1</td>\n",
       "      <td>NaN</td>\n",
       "      <td>2000</td>\n",
       "      <td>NaN</td>\n",
       "      <td>75</td>\n",
       "      <td>golf</td>\n",
       "      <td>90000</td>\n",
       "      <td>3</td>\n",
       "      <td>petrol</td>\n",
       "      <td>volkswagen</td>\n",
       "      <td>NaN</td>\n",
       "      <td>2016-03-29 00:00:00</td>\n",
       "      <td>0</td>\n",
       "      <td>78588</td>\n",
       "      <td>2016-04-06 04:45:50</td>\n",
       "    </tr>\n",
       "    <tr>\n",
       "      <th>901</th>\n",
       "      <td>2016-03-06 00:25:25</td>\n",
       "      <td>1</td>\n",
       "      <td>NaN</td>\n",
       "      <td>1990</td>\n",
       "      <td>manual</td>\n",
       "      <td>0</td>\n",
       "      <td>other</td>\n",
       "      <td>150000</td>\n",
       "      <td>0</td>\n",
       "      <td>NaN</td>\n",
       "      <td>porsche</td>\n",
       "      <td>NaN</td>\n",
       "      <td>2016-03-05 00:00:00</td>\n",
       "      <td>0</td>\n",
       "      <td>65843</td>\n",
       "      <td>2016-04-06 20:19:08</td>\n",
       "    </tr>\n",
       "    <tr>\n",
       "      <th>...</th>\n",
       "      <td>...</td>\n",
       "      <td>...</td>\n",
       "      <td>...</td>\n",
       "      <td>...</td>\n",
       "      <td>...</td>\n",
       "      <td>...</td>\n",
       "      <td>...</td>\n",
       "      <td>...</td>\n",
       "      <td>...</td>\n",
       "      <td>...</td>\n",
       "      <td>...</td>\n",
       "      <td>...</td>\n",
       "      <td>...</td>\n",
       "      <td>...</td>\n",
       "      <td>...</td>\n",
       "      <td>...</td>\n",
       "    </tr>\n",
       "    <tr>\n",
       "      <th>353252</th>\n",
       "      <td>2016-03-09 13:48:39</td>\n",
       "      <td>1</td>\n",
       "      <td>coupe</td>\n",
       "      <td>1990</td>\n",
       "      <td>manual</td>\n",
       "      <td>45</td>\n",
       "      <td>polo</td>\n",
       "      <td>150000</td>\n",
       "      <td>0</td>\n",
       "      <td>petrol</td>\n",
       "      <td>volkswagen</td>\n",
       "      <td>no</td>\n",
       "      <td>2016-03-09 00:00:00</td>\n",
       "      <td>0</td>\n",
       "      <td>26160</td>\n",
       "      <td>2016-03-25 07:18:43</td>\n",
       "    </tr>\n",
       "    <tr>\n",
       "      <th>353584</th>\n",
       "      <td>2016-03-31 17:56:10</td>\n",
       "      <td>1</td>\n",
       "      <td>NaN</td>\n",
       "      <td>2000</td>\n",
       "      <td>NaN</td>\n",
       "      <td>0</td>\n",
       "      <td>NaN</td>\n",
       "      <td>10000</td>\n",
       "      <td>0</td>\n",
       "      <td>NaN</td>\n",
       "      <td>sonstige_autos</td>\n",
       "      <td>NaN</td>\n",
       "      <td>2016-03-31 00:00:00</td>\n",
       "      <td>0</td>\n",
       "      <td>52525</td>\n",
       "      <td>2016-03-31 18:42:13</td>\n",
       "    </tr>\n",
       "    <tr>\n",
       "      <th>353682</th>\n",
       "      <td>2016-03-07 13:53:17</td>\n",
       "      <td>1</td>\n",
       "      <td>bus</td>\n",
       "      <td>1999</td>\n",
       "      <td>manual</td>\n",
       "      <td>0</td>\n",
       "      <td>espace</td>\n",
       "      <td>150000</td>\n",
       "      <td>0</td>\n",
       "      <td>petrol</td>\n",
       "      <td>renault</td>\n",
       "      <td>NaN</td>\n",
       "      <td>2016-03-07 00:00:00</td>\n",
       "      <td>0</td>\n",
       "      <td>57439</td>\n",
       "      <td>2016-03-08 16:51:26</td>\n",
       "    </tr>\n",
       "    <tr>\n",
       "      <th>353727</th>\n",
       "      <td>2016-03-20 17:56:59</td>\n",
       "      <td>1</td>\n",
       "      <td>NaN</td>\n",
       "      <td>2000</td>\n",
       "      <td>NaN</td>\n",
       "      <td>0</td>\n",
       "      <td>NaN</td>\n",
       "      <td>150000</td>\n",
       "      <td>0</td>\n",
       "      <td>NaN</td>\n",
       "      <td>bmw</td>\n",
       "      <td>NaN</td>\n",
       "      <td>2016-03-20 00:00:00</td>\n",
       "      <td>0</td>\n",
       "      <td>42329</td>\n",
       "      <td>2016-04-07 00:46:36</td>\n",
       "    </tr>\n",
       "    <tr>\n",
       "      <th>354117</th>\n",
       "      <td>2016-03-28 14:38:14</td>\n",
       "      <td>1</td>\n",
       "      <td>wagon</td>\n",
       "      <td>1993</td>\n",
       "      <td>auto</td>\n",
       "      <td>217</td>\n",
       "      <td>5er</td>\n",
       "      <td>150000</td>\n",
       "      <td>12</td>\n",
       "      <td>petrol</td>\n",
       "      <td>bmw</td>\n",
       "      <td>NaN</td>\n",
       "      <td>2016-03-28 00:00:00</td>\n",
       "      <td>0</td>\n",
       "      <td>22941</td>\n",
       "      <td>2016-04-06 18:19:15</td>\n",
       "    </tr>\n",
       "  </tbody>\n",
       "</table>\n",
       "<p>1340 rows × 16 columns</p>\n",
       "</div>"
      ],
      "text/plain": [
       "                datecrawled  price vehicletype  registrationyear gearbox  \\\n",
       "59      2016-03-29 15:48:15      1         suv              1994  manual   \n",
       "89      2016-03-28 09:37:01      1       sedan              1995  manual   \n",
       "268     2016-03-12 07:26:49      1       sedan              1990  manual   \n",
       "408     2016-03-29 18:51:58      1         NaN              2000     NaN   \n",
       "901     2016-03-06 00:25:25      1         NaN              1990  manual   \n",
       "...                     ...    ...         ...               ...     ...   \n",
       "353252  2016-03-09 13:48:39      1       coupe              1990  manual   \n",
       "353584  2016-03-31 17:56:10      1         NaN              2000     NaN   \n",
       "353682  2016-03-07 13:53:17      1         bus              1999  manual   \n",
       "353727  2016-03-20 17:56:59      1         NaN              2000     NaN   \n",
       "354117  2016-03-28 14:38:14      1       wagon              1993    auto   \n",
       "\n",
       "        power     model  kilometer  registrationmonth  fueltype  \\\n",
       "59        286       NaN     150000                 11       NaN   \n",
       "89        113  e_klasse     150000                  4  gasoline   \n",
       "268        90        80      70000                  6    petrol   \n",
       "408        75      golf      90000                  3    petrol   \n",
       "901         0     other     150000                  0       NaN   \n",
       "...       ...       ...        ...                ...       ...   \n",
       "353252     45      polo     150000                  0    petrol   \n",
       "353584      0       NaN      10000                  0       NaN   \n",
       "353682      0    espace     150000                  0    petrol   \n",
       "353727      0       NaN     150000                  0       NaN   \n",
       "354117    217       5er     150000                 12    petrol   \n",
       "\n",
       "                 brand repaired          datecreated  numberofpictures  \\\n",
       "59      sonstige_autos      NaN  2016-03-29 00:00:00                 0   \n",
       "89       mercedes_benz       no  2016-03-28 00:00:00                 0   \n",
       "268               audi       no  2016-03-11 00:00:00                 0   \n",
       "408         volkswagen      NaN  2016-03-29 00:00:00                 0   \n",
       "901            porsche      NaN  2016-03-05 00:00:00                 0   \n",
       "...                ...      ...                  ...               ...   \n",
       "353252      volkswagen       no  2016-03-09 00:00:00                 0   \n",
       "353584  sonstige_autos      NaN  2016-03-31 00:00:00                 0   \n",
       "353682         renault      NaN  2016-03-07 00:00:00                 0   \n",
       "353727             bmw      NaN  2016-03-20 00:00:00                 0   \n",
       "354117             bmw      NaN  2016-03-28 00:00:00                 0   \n",
       "\n",
       "        postalcode             lastseen  \n",
       "59           53721  2016-04-06 01:44:38  \n",
       "89           40589  2016-04-06 12:15:54  \n",
       "268          55122  2016-03-26 23:15:49  \n",
       "408          78588  2016-04-06 04:45:50  \n",
       "901          65843  2016-04-06 20:19:08  \n",
       "...            ...                  ...  \n",
       "353252       26160  2016-03-25 07:18:43  \n",
       "353584       52525  2016-03-31 18:42:13  \n",
       "353682       57439  2016-03-08 16:51:26  \n",
       "353727       42329  2016-04-07 00:46:36  \n",
       "354117       22941  2016-04-06 18:19:15  \n",
       "\n",
       "[1340 rows x 16 columns]"
      ]
     },
     "metadata": {},
     "output_type": "display_data"
    }
   ],
   "source": [
    "#просмотр строк с ценой менее 10 евро\n",
    "print(len(df.loc[df['price']<=  10] ))\n",
    "display(df.loc[df['price']<= 10])"
   ]
  },
  {
   "cell_type": "markdown",
   "metadata": {},
   "source": [
    "1256 строк со странными данными, даже можно обнаружить Porshe за 1 евро. Чтоб общая картина не страдала, удалим и эти странные данные."
   ]
  },
  {
   "cell_type": "code",
   "execution_count": 869,
   "metadata": {},
   "outputs": [
    {
     "name": "stdout",
     "output_type": "stream",
     "text": [
      "0\n"
     ]
    }
   ],
   "source": [
    "#удаление строк с ценой ниже 10 евро(целевой признак)\n",
    "df = df.loc[df['price'] > 10]\n",
    "#проверка\n",
    "print(len(df.loc[df['price']< 10] ))\n",
    " "
   ]
  },
  {
   "cell_type": "code",
   "execution_count": 870,
   "metadata": {},
   "outputs": [
    {
     "data": {
      "text/plain": [
       "342257"
      ]
     },
     "execution_count": 870,
     "metadata": {},
     "output_type": "execute_result"
    }
   ],
   "source": [
    "df.shape[0]"
   ]
  },
  {
   "cell_type": "markdown",
   "metadata": {},
   "source": [
    "#### Анализ данных в дате регистрации и даты создания анкеты"
   ]
  },
  {
   "cell_type": "markdown",
   "metadata": {},
   "source": [
    "Для начала изучим дату создания анкеты - какой период охватывают данные"
   ]
  },
  {
   "cell_type": "code",
   "execution_count": 871,
   "metadata": {},
   "outputs": [
    {
     "name": "stdout",
     "output_type": "stream",
     "text": [
      "Период размещения обьявлений(min-max)\n",
      "2014-03-10 00:00:00\n",
      "2016-04-07 00:00:00\n",
      "Период регистрации авто(min-max)\n",
      "1000\n",
      "9999\n"
     ]
    }
   ],
   "source": [
    "# Min и max даты подачи обьявления/регитрации авто\n",
    "print('Период размещения обьявлений(min-max)')\n",
    "print(df['datecreated'].min())\n",
    "print(df['datecreated'].max())\n",
    "print('Период регистрации авто(min-max)')\n",
    "print(df['registrationyear'].min())\n",
    "print(df['registrationyear'].max())"
   ]
  },
  {
   "cell_type": "markdown",
   "metadata": {},
   "source": [
    "Последнее объявление от 2016 года, значит все автомобили с регистрацией от 2017 года и выше можно смело удалить.\n",
    "И посмотрим обьявления авто с годом выпуска ранее 1930 года"
   ]
  },
  {
   "cell_type": "code",
   "execution_count": 872,
   "metadata": {},
   "outputs": [
    {
     "name": "stdout",
     "output_type": "stream",
     "text": [
      "Количество строк с регистрацией машины после 2017года\n",
      "13710\n",
      "Количество строк с регистрацией машины до 1930года\n",
      "108\n"
     ]
    },
    {
     "data": {
      "text/html": [
       "<div>\n",
       "<style scoped>\n",
       "    .dataframe tbody tr th:only-of-type {\n",
       "        vertical-align: middle;\n",
       "    }\n",
       "\n",
       "    .dataframe tbody tr th {\n",
       "        vertical-align: top;\n",
       "    }\n",
       "\n",
       "    .dataframe thead th {\n",
       "        text-align: right;\n",
       "    }\n",
       "</style>\n",
       "<table border=\"1\" class=\"dataframe\">\n",
       "  <thead>\n",
       "    <tr style=\"text-align: right;\">\n",
       "      <th></th>\n",
       "      <th>datecrawled</th>\n",
       "      <th>price</th>\n",
       "      <th>vehicletype</th>\n",
       "      <th>registrationyear</th>\n",
       "      <th>gearbox</th>\n",
       "      <th>power</th>\n",
       "      <th>model</th>\n",
       "      <th>kilometer</th>\n",
       "      <th>registrationmonth</th>\n",
       "      <th>fueltype</th>\n",
       "      <th>brand</th>\n",
       "      <th>repaired</th>\n",
       "      <th>datecreated</th>\n",
       "      <th>numberofpictures</th>\n",
       "      <th>postalcode</th>\n",
       "      <th>lastseen</th>\n",
       "    </tr>\n",
       "  </thead>\n",
       "  <tbody>\n",
       "    <tr>\n",
       "      <th>15</th>\n",
       "      <td>2016-03-11 21:39:15</td>\n",
       "      <td>450</td>\n",
       "      <td>small</td>\n",
       "      <td>1910</td>\n",
       "      <td>NaN</td>\n",
       "      <td>0</td>\n",
       "      <td>ka</td>\n",
       "      <td>5000</td>\n",
       "      <td>0</td>\n",
       "      <td>petrol</td>\n",
       "      <td>ford</td>\n",
       "      <td>NaN</td>\n",
       "      <td>2016-03-11 00:00:00</td>\n",
       "      <td>0</td>\n",
       "      <td>24148</td>\n",
       "      <td>2016-03-19 08:46:47</td>\n",
       "    </tr>\n",
       "    <tr>\n",
       "      <th>2273</th>\n",
       "      <td>2016-03-15 21:44:32</td>\n",
       "      <td>1800</td>\n",
       "      <td>convertible</td>\n",
       "      <td>1925</td>\n",
       "      <td>NaN</td>\n",
       "      <td>0</td>\n",
       "      <td>NaN</td>\n",
       "      <td>5000</td>\n",
       "      <td>1</td>\n",
       "      <td>NaN</td>\n",
       "      <td>sonstige_autos</td>\n",
       "      <td>no</td>\n",
       "      <td>2016-03-15 00:00:00</td>\n",
       "      <td>0</td>\n",
       "      <td>79288</td>\n",
       "      <td>2016-04-07 05:15:34</td>\n",
       "    </tr>\n",
       "    <tr>\n",
       "      <th>6977</th>\n",
       "      <td>2016-03-24 08:37:22</td>\n",
       "      <td>135</td>\n",
       "      <td>NaN</td>\n",
       "      <td>1910</td>\n",
       "      <td>NaN</td>\n",
       "      <td>0</td>\n",
       "      <td>NaN</td>\n",
       "      <td>5000</td>\n",
       "      <td>0</td>\n",
       "      <td>NaN</td>\n",
       "      <td>opel</td>\n",
       "      <td>NaN</td>\n",
       "      <td>2016-03-24 00:00:00</td>\n",
       "      <td>0</td>\n",
       "      <td>19374</td>\n",
       "      <td>2016-04-06 20:46:08</td>\n",
       "    </tr>\n",
       "    <tr>\n",
       "      <th>10183</th>\n",
       "      <td>2016-03-27 13:59:08</td>\n",
       "      <td>1250</td>\n",
       "      <td>NaN</td>\n",
       "      <td>1910</td>\n",
       "      <td>NaN</td>\n",
       "      <td>0</td>\n",
       "      <td>other</td>\n",
       "      <td>5000</td>\n",
       "      <td>0</td>\n",
       "      <td>NaN</td>\n",
       "      <td>audi</td>\n",
       "      <td>NaN</td>\n",
       "      <td>2016-03-27 00:00:00</td>\n",
       "      <td>0</td>\n",
       "      <td>18445</td>\n",
       "      <td>2016-04-07 10:45:31</td>\n",
       "    </tr>\n",
       "    <tr>\n",
       "      <th>16062</th>\n",
       "      <td>2016-03-29 23:42:16</td>\n",
       "      <td>190</td>\n",
       "      <td>NaN</td>\n",
       "      <td>1000</td>\n",
       "      <td>NaN</td>\n",
       "      <td>0</td>\n",
       "      <td>mondeo</td>\n",
       "      <td>5000</td>\n",
       "      <td>0</td>\n",
       "      <td>NaN</td>\n",
       "      <td>ford</td>\n",
       "      <td>NaN</td>\n",
       "      <td>2016-03-29 00:00:00</td>\n",
       "      <td>0</td>\n",
       "      <td>47166</td>\n",
       "      <td>2016-04-06 10:44:58</td>\n",
       "    </tr>\n",
       "    <tr>\n",
       "      <th>...</th>\n",
       "      <td>...</td>\n",
       "      <td>...</td>\n",
       "      <td>...</td>\n",
       "      <td>...</td>\n",
       "      <td>...</td>\n",
       "      <td>...</td>\n",
       "      <td>...</td>\n",
       "      <td>...</td>\n",
       "      <td>...</td>\n",
       "      <td>...</td>\n",
       "      <td>...</td>\n",
       "      <td>...</td>\n",
       "      <td>...</td>\n",
       "      <td>...</td>\n",
       "      <td>...</td>\n",
       "      <td>...</td>\n",
       "    </tr>\n",
       "    <tr>\n",
       "      <th>334901</th>\n",
       "      <td>2016-03-29 03:36:18</td>\n",
       "      <td>1300</td>\n",
       "      <td>NaN</td>\n",
       "      <td>1910</td>\n",
       "      <td>NaN</td>\n",
       "      <td>0</td>\n",
       "      <td>NaN</td>\n",
       "      <td>5000</td>\n",
       "      <td>9</td>\n",
       "      <td>NaN</td>\n",
       "      <td>audi</td>\n",
       "      <td>NaN</td>\n",
       "      <td>2016-03-29 00:00:00</td>\n",
       "      <td>0</td>\n",
       "      <td>82256</td>\n",
       "      <td>2016-04-05 17:25:59</td>\n",
       "    </tr>\n",
       "    <tr>\n",
       "      <th>336104</th>\n",
       "      <td>2016-03-11 11:51:33</td>\n",
       "      <td>20000</td>\n",
       "      <td>coupe</td>\n",
       "      <td>1929</td>\n",
       "      <td>manual</td>\n",
       "      <td>12</td>\n",
       "      <td>other</td>\n",
       "      <td>10000</td>\n",
       "      <td>4</td>\n",
       "      <td>petrol</td>\n",
       "      <td>bmw</td>\n",
       "      <td>NaN</td>\n",
       "      <td>2016-03-11 00:00:00</td>\n",
       "      <td>0</td>\n",
       "      <td>74523</td>\n",
       "      <td>2016-04-07 05:45:00</td>\n",
       "    </tr>\n",
       "    <tr>\n",
       "      <th>340759</th>\n",
       "      <td>2016-04-04 23:55:47</td>\n",
       "      <td>700</td>\n",
       "      <td>NaN</td>\n",
       "      <td>1600</td>\n",
       "      <td>manual</td>\n",
       "      <td>1600</td>\n",
       "      <td>a3</td>\n",
       "      <td>150000</td>\n",
       "      <td>4</td>\n",
       "      <td>petrol</td>\n",
       "      <td>audi</td>\n",
       "      <td>no</td>\n",
       "      <td>2016-04-04 00:00:00</td>\n",
       "      <td>0</td>\n",
       "      <td>86343</td>\n",
       "      <td>2016-04-05 06:44:07</td>\n",
       "    </tr>\n",
       "    <tr>\n",
       "      <th>351682</th>\n",
       "      <td>2016-03-12 00:57:39</td>\n",
       "      <td>11500</td>\n",
       "      <td>NaN</td>\n",
       "      <td>1800</td>\n",
       "      <td>NaN</td>\n",
       "      <td>16</td>\n",
       "      <td>other</td>\n",
       "      <td>5000</td>\n",
       "      <td>6</td>\n",
       "      <td>petrol</td>\n",
       "      <td>fiat</td>\n",
       "      <td>NaN</td>\n",
       "      <td>2016-03-11 00:00:00</td>\n",
       "      <td>0</td>\n",
       "      <td>16515</td>\n",
       "      <td>2016-04-05 19:47:27</td>\n",
       "    </tr>\n",
       "    <tr>\n",
       "      <th>353961</th>\n",
       "      <td>2016-03-17 13:54:22</td>\n",
       "      <td>200</td>\n",
       "      <td>NaN</td>\n",
       "      <td>1910</td>\n",
       "      <td>NaN</td>\n",
       "      <td>0</td>\n",
       "      <td>NaN</td>\n",
       "      <td>5000</td>\n",
       "      <td>0</td>\n",
       "      <td>petrol</td>\n",
       "      <td>sonstige_autos</td>\n",
       "      <td>NaN</td>\n",
       "      <td>2016-03-17 00:00:00</td>\n",
       "      <td>0</td>\n",
       "      <td>42289</td>\n",
       "      <td>2016-03-31 22:46:47</td>\n",
       "    </tr>\n",
       "  </tbody>\n",
       "</table>\n",
       "<p>108 rows × 16 columns</p>\n",
       "</div>"
      ],
      "text/plain": [
       "                datecrawled  price  vehicletype  registrationyear gearbox  \\\n",
       "15      2016-03-11 21:39:15    450        small              1910     NaN   \n",
       "2273    2016-03-15 21:44:32   1800  convertible              1925     NaN   \n",
       "6977    2016-03-24 08:37:22    135          NaN              1910     NaN   \n",
       "10183   2016-03-27 13:59:08   1250          NaN              1910     NaN   \n",
       "16062   2016-03-29 23:42:16    190          NaN              1000     NaN   \n",
       "...                     ...    ...          ...               ...     ...   \n",
       "334901  2016-03-29 03:36:18   1300          NaN              1910     NaN   \n",
       "336104  2016-03-11 11:51:33  20000        coupe              1929  manual   \n",
       "340759  2016-04-04 23:55:47    700          NaN              1600  manual   \n",
       "351682  2016-03-12 00:57:39  11500          NaN              1800     NaN   \n",
       "353961  2016-03-17 13:54:22    200          NaN              1910     NaN   \n",
       "\n",
       "        power   model  kilometer  registrationmonth fueltype           brand  \\\n",
       "15          0      ka       5000                  0   petrol            ford   \n",
       "2273        0     NaN       5000                  1      NaN  sonstige_autos   \n",
       "6977        0     NaN       5000                  0      NaN            opel   \n",
       "10183       0   other       5000                  0      NaN            audi   \n",
       "16062       0  mondeo       5000                  0      NaN            ford   \n",
       "...       ...     ...        ...                ...      ...             ...   \n",
       "334901      0     NaN       5000                  9      NaN            audi   \n",
       "336104     12   other      10000                  4   petrol             bmw   \n",
       "340759   1600      a3     150000                  4   petrol            audi   \n",
       "351682     16   other       5000                  6   petrol            fiat   \n",
       "353961      0     NaN       5000                  0   petrol  sonstige_autos   \n",
       "\n",
       "       repaired          datecreated  numberofpictures  postalcode  \\\n",
       "15          NaN  2016-03-11 00:00:00                 0       24148   \n",
       "2273         no  2016-03-15 00:00:00                 0       79288   \n",
       "6977        NaN  2016-03-24 00:00:00                 0       19374   \n",
       "10183       NaN  2016-03-27 00:00:00                 0       18445   \n",
       "16062       NaN  2016-03-29 00:00:00                 0       47166   \n",
       "...         ...                  ...               ...         ...   \n",
       "334901      NaN  2016-03-29 00:00:00                 0       82256   \n",
       "336104      NaN  2016-03-11 00:00:00                 0       74523   \n",
       "340759       no  2016-04-04 00:00:00                 0       86343   \n",
       "351682      NaN  2016-03-11 00:00:00                 0       16515   \n",
       "353961      NaN  2016-03-17 00:00:00                 0       42289   \n",
       "\n",
       "                   lastseen  \n",
       "15      2016-03-19 08:46:47  \n",
       "2273    2016-04-07 05:15:34  \n",
       "6977    2016-04-06 20:46:08  \n",
       "10183   2016-04-07 10:45:31  \n",
       "16062   2016-04-06 10:44:58  \n",
       "...                     ...  \n",
       "334901  2016-04-05 17:25:59  \n",
       "336104  2016-04-07 05:45:00  \n",
       "340759  2016-04-05 06:44:07  \n",
       "351682  2016-04-05 19:47:27  \n",
       "353961  2016-03-31 22:46:47  \n",
       "\n",
       "[108 rows x 16 columns]"
      ]
     },
     "metadata": {},
     "output_type": "display_data"
    }
   ],
   "source": [
    "#просмотр строк с с данной регистрации авто после 2017 года \n",
    "print('Количество строк с регистрацией машины после 2017года')\n",
    "print(len(df.loc[df['registrationyear']>= 2017] ))\n",
    "\n",
    "#просмотр строк с с данной регистрации авто до 1930 года\n",
    "print('Количество строк с регистрацией машины до 1930года')\n",
    "print(len(df.loc[df['registrationyear']<=  1930] ))\n",
    "display(df.loc[df['registrationyear']<= 1930])"
   ]
  },
  {
   "cell_type": "markdown",
   "metadata": {},
   "source": [
    "108 строк, данные не вызывающие доверия (присутствуют такие модели, как a3  и mondeo, и цены для раритетных машин очень гуманные). Удалим эти данные,т.е. машины с регистрацией ранее 1930 года и позднее 2017 года"
   ]
  },
  {
   "cell_type": "code",
   "execution_count": 873,
   "metadata": {},
   "outputs": [
    {
     "name": "stdout",
     "output_type": "stream",
     "text": [
      "Количество строк с регистрацией машины после 2017года\n",
      "0\n",
      "Количество строк с регистрацией машины до 1930года\n",
      "0\n"
     ]
    }
   ],
   "source": [
    "#удаление строк с датой регистрации авто до 1930 года и после 2017 \n",
    "df = df.loc[(df['registrationyear']> 1930) & (df['registrationyear']< 2017)]\n",
    "#проверка\n",
    "print('Количество строк с регистрацией машины после 2017года')\n",
    "print(len(df.loc[df['registrationyear']> 2017] ))\n",
    "print('Количество строк с регистрацией машины до 1930года')\n",
    "print(len(df.loc[df['registrationyear']<=  1930] ))"
   ]
  },
  {
   "cell_type": "code",
   "execution_count": 815,
   "metadata": {},
   "outputs": [
    {
     "data": {
      "text/plain": [
       "328439"
      ]
     },
     "execution_count": 815,
     "metadata": {},
     "output_type": "execute_result"
    }
   ],
   "source": [
    "df.shape[0]"
   ]
  },
  {
   "cell_type": "code",
   "execution_count": 874,
   "metadata": {},
   "outputs": [
    {
     "data": {
      "image/png": "[encoded data removed]",
      "text/plain": [
       "<Figure size 1000x500 with 1 Axes>"
      ]
     },
     "metadata": {},
     "output_type": "display_data"
    }
   ],
   "source": [
    "# итоговое представление данных с датой регистрации авто\n",
    "df['registrationyear'].hist(figsize=(10, 5), bins =50)\n",
    "plt.show()"
   ]
  },
  {
   "cell_type": "markdown",
   "metadata": {},
   "source": [
    "#### Анализ мощности "
   ]
  },
  {
   "cell_type": "markdown",
   "metadata": {},
   "source": [
    "На сегодняшний день самой мощной машиной является машина с мощностью в 2000 лошадиных сил, минимум колеблется в районе  100-150 л.с. Так данные охватывают машины и более раних годов просмотрим количество машин с мощностью до 20л.с и более 2000"
   ]
  },
  {
   "cell_type": "code",
   "execution_count": 875,
   "metadata": {},
   "outputs": [
    {
     "name": "stdout",
     "output_type": "stream",
     "text": [
      "Количество машин с мощностью менее 20л.с\n",
      "32635\n",
      "Количество машин с мощностью более 2000л.с\n",
      "101\n"
     ]
    }
   ],
   "source": [
    "print('Количество машин с мощностью менее 20л.с')\n",
    "print(len(df.loc[df['power']< 20] ))\n",
    "print('Количество машин с мощностью более 2000л.с')\n",
    "print(len(df.loc[df['power']>  2000] ))"
   ]
  },
  {
   "cell_type": "code",
   "execution_count": 876,
   "metadata": {},
   "outputs": [
    {
     "name": "stdout",
     "output_type": "stream",
     "text": [
      "0\n",
      "0\n"
     ]
    },
    {
     "data": {
      "text/plain": [
       "295703"
      ]
     },
     "execution_count": 876,
     "metadata": {},
     "output_type": "execute_result"
    }
   ],
   "source": [
    "#удаление строк с мощностью менее 20 и более 2000 л.с \n",
    "df = df.loc[(df['power']>= 20) & (df['power']<= 2000)]\n",
    "#проверка\n",
    "print(len(df.loc[df['power']< 20] ))\n",
    "print(len(df.loc[df['power']>  2000] ))\n",
    "df.shape[0]"
   ]
  },
  {
   "cell_type": "code",
   "execution_count": 877,
   "metadata": {},
   "outputs": [
    {
     "data": {
      "image/png": "[encoded data removed]",
      "text/plain": [
       "<Figure size 1000x500 with 1 Axes>"
      ]
     },
     "metadata": {},
     "output_type": "display_data"
    }
   ],
   "source": [
    "# графическое представление мощности\n",
    "df['power'].hist(figsize=(10, 5), bins =50)\n",
    "plt.show()"
   ]
  },
  {
   "cell_type": "markdown",
   "metadata": {},
   "source": [
    "#### Тип топлива"
   ]
  },
  {
   "cell_type": "code",
   "execution_count": 878,
   "metadata": {},
   "outputs": [
    {
     "name": "stdout",
     "output_type": "stream",
     "text": [
      "Распределение по типам топлива\n"
     ]
    },
    {
     "data": {
      "text/plain": [
       "petrol      187130\n",
       "gasoline     87668\n",
       "lpg           4679\n",
       "cng            482\n",
       "hybrid         201\n",
       "other           83\n",
       "electric        42\n",
       "Name: fueltype, dtype: int64"
      ]
     },
     "metadata": {},
     "output_type": "display_data"
    },
    {
     "name": "stdout",
     "output_type": "stream",
     "text": [
      "Количество пустых строк: 15418\n"
     ]
    }
   ],
   "source": [
    "# просмотр данных по топливу\n",
    "print ('Распределение по типам топлива')\n",
    "display(df['fueltype']. value_counts())\n",
    "print('Количество пустых строк:',df['fueltype']. isnull().sum() )\n"
   ]
  },
  {
   "cell_type": "markdown",
   "metadata": {},
   "source": [
    "Большинство автомобилей на бензине, это наиболее популярный вид топлива в настоящее время. Заменим пропуски на 'petrol' в таблице"
   ]
  },
  {
   "cell_type": "code",
   "execution_count": 879,
   "metadata": {},
   "outputs": [
    {
     "name": "stdout",
     "output_type": "stream",
     "text": [
      "Количество пустых строк: 0\n"
     ]
    }
   ],
   "source": [
    "#замена пустых значений в столбце fueltype на petrol\n",
    "df['fueltype'].fillna('petrol', inplace=True)\n",
    "#проверка\n",
    "print('Количество пустых строк:',df['fueltype']. isnull().sum())"
   ]
  },
  {
   "cell_type": "markdown",
   "metadata": {},
   "source": [
    "#### Тип кузова, коробка передач, модель авто, наличие ремонта"
   ]
  },
  {
   "cell_type": "code",
   "execution_count": 822,
   "metadata": {},
   "outputs": [
    {
     "data": {
      "text/plain": [
       "vehicletype    10899\n",
       "gearbox         5317\n",
       "model          10945\n",
       "repaired       42677\n",
       "dtype: int64"
      ]
     },
     "metadata": {},
     "output_type": "display_data"
    },
    {
     "data": {
      "text/html": [
       "<div>\n",
       "<style scoped>\n",
       "    .dataframe tbody tr th:only-of-type {\n",
       "        vertical-align: middle;\n",
       "    }\n",
       "\n",
       "    .dataframe tbody tr th {\n",
       "        vertical-align: top;\n",
       "    }\n",
       "\n",
       "    .dataframe thead th {\n",
       "        text-align: right;\n",
       "    }\n",
       "</style>\n",
       "<table border=\"1\" class=\"dataframe\">\n",
       "  <thead>\n",
       "    <tr style=\"text-align: right;\">\n",
       "      <th></th>\n",
       "      <th>0</th>\n",
       "    </tr>\n",
       "  </thead>\n",
       "  <tbody>\n",
       "    <tr>\n",
       "      <th>vehicletype</th>\n",
       "      <td>4.0</td>\n",
       "    </tr>\n",
       "    <tr>\n",
       "      <th>gearbox</th>\n",
       "      <td>2.0</td>\n",
       "    </tr>\n",
       "    <tr>\n",
       "      <th>model</th>\n",
       "      <td>4.0</td>\n",
       "    </tr>\n",
       "    <tr>\n",
       "      <th>repaired</th>\n",
       "      <td>14.0</td>\n",
       "    </tr>\n",
       "  </tbody>\n",
       "</table>\n",
       "</div>"
      ],
      "text/plain": [
       "                0\n",
       "vehicletype   4.0\n",
       "gearbox       2.0\n",
       "model         4.0\n",
       "repaired     14.0"
      ]
     },
     "execution_count": 822,
     "metadata": {},
     "output_type": "execute_result"
    }
   ],
   "source": [
    "#Пустые строки\n",
    "display(df.isnull().sum()[df.isna().sum()>0])\n",
    "pd.DataFrame(round(df.isna().mean()*100)[df.isna().sum()>0])\n"
   ]
  },
  {
   "cell_type": "markdown",
   "metadata": {},
   "source": [
    "Остались незаполнеными данные:\n",
    "- тип кузова(vehicletype) - 4%,\n",
    "- коробка передач(gearbox)- 2%, \n",
    "- модель авто(model)- 4%, \n",
    "- наличие ремонта(repaired)- 14%.\n",
    "\n",
    "Так как не можем определить ни модель, ни коробку передач, ни наличие ремонта  - заменим пропуски на 'unknown'."
   ]
  },
  {
   "cell_type": "code",
   "execution_count": 880,
   "metadata": {},
   "outputs": [
    {
     "name": "stdout",
     "output_type": "stream",
     "text": [
      "<class 'pandas.core.frame.DataFrame'>\n",
      "Int64Index: 295703 entries, 1 to 354368\n",
      "Data columns (total 16 columns):\n",
      " #   Column             Non-Null Count   Dtype \n",
      "---  ------             --------------   ----- \n",
      " 0   datecrawled        295703 non-null  object\n",
      " 1   price              295703 non-null  int64 \n",
      " 2   vehicletype        295703 non-null  object\n",
      " 3   registrationyear   295703 non-null  int64 \n",
      " 4   gearbox            295703 non-null  object\n",
      " 5   power              295703 non-null  int64 \n",
      " 6   model              295703 non-null  object\n",
      " 7   kilometer          295703 non-null  int64 \n",
      " 8   registrationmonth  295703 non-null  int64 \n",
      " 9   fueltype           295703 non-null  object\n",
      " 10  brand              295703 non-null  object\n",
      " 11  repaired           295703 non-null  object\n",
      " 12  datecreated        295703 non-null  object\n",
      " 13  numberofpictures   295703 non-null  int64 \n",
      " 14  postalcode         295703 non-null  int64 \n",
      " 15  lastseen           295703 non-null  object\n",
      "dtypes: int64(7), object(9)\n",
      "memory usage: 38.4+ MB\n"
     ]
    }
   ],
   "source": [
    "#замена пропусков на unknown\n",
    "df['vehicletype'].fillna('unknown', inplace=True)\n",
    "df['gearbox'].fillna('unknown', inplace=True)\n",
    "df['model'].fillna('unknown', inplace=True)\n",
    "df['repaired'].fillna('unknown', inplace=True)\n",
    "#проверка \n",
    "df.info()"
   ]
  },
  {
   "cell_type": "markdown",
   "metadata": {},
   "source": [
    "#### Прочие данные и проверка на мультиколлинеарность"
   ]
  },
  {
   "cell_type": "markdown",
   "metadata": {},
   "source": [
    "Для построения моделей не важны следующие параметры: \n",
    " - дата скачивания анкеты из базы(datecrawled)\n",
    " - месяц регистрации автомобиля(registrationmonth)\n",
    " - дата создания анкеты(datecreated)\n",
    " - количество фотографий автомобиля(numberofpictures)\n",
    " - почтовый код владельца анкеты(postalcode)\n",
    " - дата последней активности пользователя(lastseen)\n",
    "\n",
    "Удалим эти столбцы, чтобы избежать лишнего шума в моделях."
   ]
  },
  {
   "cell_type": "code",
   "execution_count": 881,
   "metadata": {},
   "outputs": [],
   "source": [
    "#удаление столбцов\n",
    "df = df.drop(['datecrawled', 'registrationmonth', 'datecreated', 'numberofpictures', 'postalcode',\n",
    "                                                                              'lastseen'], axis=1)"
   ]
  },
  {
   "cell_type": "code",
   "execution_count": 882,
   "metadata": {},
   "outputs": [
    {
     "name": "stdout",
     "output_type": "stream",
     "text": [
      "<class 'pandas.core.frame.DataFrame'>\n",
      "Int64Index: 295703 entries, 1 to 354368\n",
      "Data columns (total 10 columns):\n",
      " #   Column            Non-Null Count   Dtype \n",
      "---  ------            --------------   ----- \n",
      " 0   price             295703 non-null  int64 \n",
      " 1   vehicletype       295703 non-null  object\n",
      " 2   registrationyear  295703 non-null  int64 \n",
      " 3   gearbox           295703 non-null  object\n",
      " 4   power             295703 non-null  int64 \n",
      " 5   model             295703 non-null  object\n",
      " 6   kilometer         295703 non-null  int64 \n",
      " 7   fueltype          295703 non-null  object\n",
      " 8   brand             295703 non-null  object\n",
      " 9   repaired          295703 non-null  object\n",
      "dtypes: int64(4), object(6)\n",
      "memory usage: 24.8+ MB\n"
     ]
    }
   ],
   "source": [
    "#проверка\n",
    "df.info()"
   ]
  },
  {
   "cell_type": "code",
   "execution_count": 883,
   "metadata": {},
   "outputs": [
    {
     "data": {
      "image/png": "[encoded data removed]",
      "text/plain": [
       "<Figure size 640x480 with 2 Axes>"
      ]
     },
     "metadata": {},
     "output_type": "display_data"
    }
   ],
   "source": [
    "#Корреляция числовых признаков\n",
    "sns.heatmap(df.corr(), cmap='RdYlGn', annot=True)\n",
    "plt.title('Корреляция числовых признаков')\n",
    "plt.show()"
   ]
  },
  {
   "cell_type": "markdown",
   "metadata": {},
   "source": [
    "Мультиколлинеарности не наблюдается.  Больше всего на цену автомобиля влияет год регистрации и мощность."
   ]
  },
  {
   "cell_type": "markdown",
   "metadata": {},
   "source": [
    "### Выводы:\n",
    "При анализе данных обнаружены и исправлены ряд недочетов в отчете (для устранения шума и более корректного дальнейшего построения моделей)\n",
    " - Удалены данные с ценой ниже 10 евро (целевой признак)\n",
    " - удалены данные с регистрацией авто до 1930(выбросы) и после 2017 года(т.к. последнее обьявление датируется 2016 годом)\n",
    " - удалены машины с мощность менее 20 л.с (выбросы) и более 2000(на сегодняшний день это максимум в автопроме)\n",
    " - заменены пустые значения в столбце fueltype(тип топлива) на petrol(наиболее популярное топливо для авто)\n",
    " - заменены пропуски в данных: тип кузова(vehicletype) - 4% пропусков,коробка передач(gearbox)- 2%, модель авто(model)- 4%,наличие ремонта(repaired)- 14% на `unknown`\n",
    " - удалены столбцы дата скачивания анкеты из базы(datecrawled), месяц регистрации автомобиля(registrationmonth), дата создания анкеты(datecreated),количество фотографий автомобиля(numberofpictures), почтовый код владельца анкеты(postalcode), дата последней активности пользователя(lastseen), так как эти данне для построения модели неважны\n",
    " - Мультиколлинеарности не наблюдается.  Больше всего на цену автомобиля влияет год регистрации и мощность.\n",
    " \n",
    " "
   ]
  },
  {
   "cell_type": "markdown",
   "metadata": {},
   "source": [
    "<div class='alert alert-warning'>⚠️Хорошо, еще можно отфильтровать дубли \n",
    "</div>"
   ]
  },
  {
   "cell_type": "markdown",
   "metadata": {},
   "source": [
    "## Обучение моделей"
   ]
  },
  {
   "cell_type": "markdown",
   "metadata": {},
   "source": [
    "### План действий"
   ]
  },
  {
   "cell_type": "markdown",
   "metadata": {},
   "source": [
    "Для прогнозирования цены автомобиля будем использовать следующие модели:\n",
    "\n",
    " - LinearRegression,\n",
    " - Ridge,\n",
    " - LightGBM,\n",
    " - CatBoost"
   ]
  },
  {
   "cell_type": "markdown",
   "metadata": {},
   "source": [
    "План действий для моделей LinearRegression, Ridge:\n",
    "\n",
    "1. Разделить данные на признаки и целевой признак(features, target)\n",
    "2. Разделить на выборки: обучающую (20%) ,тестовую(20%)\n",
    "3. Провести прямое кодирование( изменение категориальных признаков в числовые)\n",
    "4. Масштабировать признаки\n",
    "5. Исследование моделей:\n",
    "    - LinearRegression\n",
    "    - Ridge\n",
    "6. Рассчитать время обучения и время предсказания, а также RMSE моделей\n",
    "    "
   ]
  },
  {
   "cell_type": "markdown",
   "metadata": {},
   "source": [
    "Модели градиентного бустинга не нуждаются в кодировании категориальных признаков\n",
    "\n",
    "План действий для моделей LightGBM, CatBoost:\n",
    "1. Разделить данные на признаки и целевой признак(features, target)\n",
    "2. Разделить на выборки: обучающую (20%) ,тестовую(20%)\n",
    "3. Масштабировать признаки\n",
    "4. Исследование моделей:\n",
    "    - LightGBM\n",
    "    - CatBoost\n",
    "5. Рассчитать время обучения и время предсказания, а также RMSE моделей"
   ]
  },
  {
   "cell_type": "markdown",
   "metadata": {},
   "source": [
    "### Подготовка данных для моделей LinearRegression, Ridge"
   ]
  },
  {
   "cell_type": "code",
   "execution_count": 884,
   "metadata": {},
   "outputs": [
    {
     "name": "stdout",
     "output_type": "stream",
     "text": [
      "(236562, 9)\n",
      "(236562,)\n",
      "(59141, 9)\n",
      "(59141,)\n"
     ]
    }
   ],
   "source": [
    "# деление на признаки и целевой признак(features, target)\n",
    "features = df.drop(['price'], axis=1)\n",
    "target = df['price']\n",
    "\n",
    "# деление на выборки: train(80%) и test(20%)\n",
    "features_train, features_test, target_train, target_test = train_test_split(features, target,\n",
    "                                                                              test_size=0.2, \n",
    "                                                                              random_state=12345)\n",
    "\n",
    "#проверка\n",
    "print(features_train.shape)\n",
    "print(target_train.shape)\n",
    "print(features_test.shape)\n",
    "print(target_test.shape)"
   ]
  },
  {
   "cell_type": "code",
   "execution_count": 885,
   "metadata": {},
   "outputs": [],
   "source": [
    "#категориальные признаки для OHE \n",
    "ohe_features = ['vehicletype', 'gearbox','model', 'fueltype', 'brand', 'repaired']"
   ]
  },
  {
   "cell_type": "code",
   "execution_count": 886,
   "metadata": {},
   "outputs": [
    {
     "data": {
      "text/html": [
       "<style>#sk-container-id-16 {color: black;background-color: white;}#sk-container-id-16 pre{padding: 0;}#sk-container-id-16 div.sk-toggleable {background-color: white;}#sk-container-id-16 label.sk-toggleable__label {cursor: pointer;display: block;width: 100%;margin-bottom: 0;padding: 0.3em;box-sizing: border-box;text-align: center;}#sk-container-id-16 label.sk-toggleable__label-arrow:before {content: \"▸\";float: left;margin-right: 0.25em;color: #696969;}#sk-container-id-16 label.sk-toggleable__label-arrow:hover:before {color: black;}#sk-container-id-16 div.sk-estimator:hover label.sk-toggleable__label-arrow:before {color: black;}#sk-container-id-16 div.sk-toggleable__content {max-height: 0;max-width: 0;overflow: hidden;text-align: left;background-color: #f0f8ff;}#sk-container-id-16 div.sk-toggleable__content pre {margin: 0.2em;color: black;border-radius: 0.25em;background-color: #f0f8ff;}#sk-container-id-16 input.sk-toggleable__control:checked~div.sk-toggleable__content {max-height: 200px;max-width: 100%;overflow: auto;}#sk-container-id-16 input.sk-toggleable__control:checked~label.sk-toggleable__label-arrow:before {content: \"▾\";}#sk-container-id-16 div.sk-estimator input.sk-toggleable__control:checked~label.sk-toggleable__label {background-color: #d4ebff;}#sk-container-id-16 div.sk-label input.sk-toggleable__control:checked~label.sk-toggleable__label {background-color: #d4ebff;}#sk-container-id-16 input.sk-hidden--visually {border: 0;clip: rect(1px 1px 1px 1px);clip: rect(1px, 1px, 1px, 1px);height: 1px;margin: -1px;overflow: hidden;padding: 0;position: absolute;width: 1px;}#sk-container-id-16 div.sk-estimator {font-family: monospace;background-color: #f0f8ff;border: 1px dotted black;border-radius: 0.25em;box-sizing: border-box;margin-bottom: 0.5em;}#sk-container-id-16 div.sk-estimator:hover {background-color: #d4ebff;}#sk-container-id-16 div.sk-parallel-item::after {content: \"\";width: 100%;border-bottom: 1px solid gray;flex-grow: 1;}#sk-container-id-16 div.sk-label:hover label.sk-toggleable__label {background-color: #d4ebff;}#sk-container-id-16 div.sk-serial::before {content: \"\";position: absolute;border-left: 1px solid gray;box-sizing: border-box;top: 0;bottom: 0;left: 50%;z-index: 0;}#sk-container-id-16 div.sk-serial {display: flex;flex-direction: column;align-items: center;background-color: white;padding-right: 0.2em;padding-left: 0.2em;position: relative;}#sk-container-id-16 div.sk-item {position: relative;z-index: 1;}#sk-container-id-16 div.sk-parallel {display: flex;align-items: stretch;justify-content: center;background-color: white;position: relative;}#sk-container-id-16 div.sk-item::before, #sk-container-id-16 div.sk-parallel-item::before {content: \"\";position: absolute;border-left: 1px solid gray;box-sizing: border-box;top: 0;bottom: 0;left: 50%;z-index: -1;}#sk-container-id-16 div.sk-parallel-item {display: flex;flex-direction: column;z-index: 1;position: relative;background-color: white;}#sk-container-id-16 div.sk-parallel-item:first-child::after {align-self: flex-end;width: 50%;}#sk-container-id-16 div.sk-parallel-item:last-child::after {align-self: flex-start;width: 50%;}#sk-container-id-16 div.sk-parallel-item:only-child::after {width: 0;}#sk-container-id-16 div.sk-dashed-wrapped {border: 1px dashed gray;margin: 0 0.4em 0.5em 0.4em;box-sizing: border-box;padding-bottom: 0.4em;background-color: white;}#sk-container-id-16 div.sk-label label {font-family: monospace;font-weight: bold;display: inline-block;line-height: 1.2em;}#sk-container-id-16 div.sk-label-container {text-align: center;}#sk-container-id-16 div.sk-container {/* jupyter's `normalize.less` sets `[hidden] { display: none; }` but bootstrap.min.css set `[hidden] { display: none !important; }` so we also need the `!important` here to be able to override the default hidden behavior on the sphinx rendered scikit-learn.org. See: https://github.com/scikit-learn/scikit-learn/issues/21755 */display: inline-block !important;position: relative;}#sk-container-id-16 div.sk-text-repr-fallback {display: none;}</style><div id=\"sk-container-id-16\" class=\"sk-top-container\"><div class=\"sk-text-repr-fallback\"><pre>OneHotEncoder(drop=&#x27;first&#x27;, handle_unknown=&#x27;ignore&#x27;, sparse=False)</pre><b>In a Jupyter environment, please rerun this cell to show the HTML representation or trust the notebook. <br />On GitHub, the HTML representation is unable to render, please try loading this page with nbviewer.org.</b></div><div class=\"sk-container\" hidden><div class=\"sk-item\"><div class=\"sk-estimator sk-toggleable\"><input class=\"sk-toggleable__control sk-hidden--visually\" id=\"sk-estimator-id-16\" type=\"checkbox\" checked><label for=\"sk-estimator-id-16\" class=\"sk-toggleable__label sk-toggleable__label-arrow\">OneHotEncoder</label><div class=\"sk-toggleable__content\"><pre>OneHotEncoder(drop=&#x27;first&#x27;, handle_unknown=&#x27;ignore&#x27;, sparse=False)</pre></div></div></div></div></div>"
      ],
      "text/plain": [
       "OneHotEncoder(drop='first', handle_unknown='ignore', sparse=False)"
      ]
     },
     "execution_count": 886,
     "metadata": {},
     "output_type": "execute_result"
    }
   ],
   "source": [
    "# изменение категориальных признаков в числовые, с использованием техники OHE\n",
    "encoder_ohe = OneHotEncoder(drop='first', handle_unknown='ignore',sparse=False)\n",
    "#обучение на тестовой выборке на заданных категориальных признаках тренировочной выборки\n",
    "encoder_ohe.fit(features_train[ohe_features]) "
   ]
  },
  {
   "cell_type": "code",
   "execution_count": 887,
   "metadata": {
    "scrolled": true
   },
   "outputs": [
    {
     "data": {
      "text/html": [
       "<div>\n",
       "<style scoped>\n",
       "    .dataframe tbody tr th:only-of-type {\n",
       "        vertical-align: middle;\n",
       "    }\n",
       "\n",
       "    .dataframe tbody tr th {\n",
       "        vertical-align: top;\n",
       "    }\n",
       "\n",
       "    .dataframe thead th {\n",
       "        text-align: right;\n",
       "    }\n",
       "</style>\n",
       "<table border=\"1\" class=\"dataframe\">\n",
       "  <thead>\n",
       "    <tr style=\"text-align: right;\">\n",
       "      <th></th>\n",
       "      <th>registrationyear</th>\n",
       "      <th>power</th>\n",
       "      <th>kilometer</th>\n",
       "      <th>vehicletype_convertible</th>\n",
       "      <th>vehicletype_coupe</th>\n",
       "      <th>vehicletype_other</th>\n",
       "      <th>vehicletype_sedan</th>\n",
       "      <th>vehicletype_small</th>\n",
       "      <th>vehicletype_suv</th>\n",
       "      <th>vehicletype_unknown</th>\n",
       "      <th>...</th>\n",
       "      <th>brand_smart</th>\n",
       "      <th>brand_sonstige_autos</th>\n",
       "      <th>brand_subaru</th>\n",
       "      <th>brand_suzuki</th>\n",
       "      <th>brand_toyota</th>\n",
       "      <th>brand_trabant</th>\n",
       "      <th>brand_volkswagen</th>\n",
       "      <th>brand_volvo</th>\n",
       "      <th>repaired_unknown</th>\n",
       "      <th>repaired_yes</th>\n",
       "    </tr>\n",
       "  </thead>\n",
       "  <tbody>\n",
       "    <tr>\n",
       "      <th>212727</th>\n",
       "      <td>2002</td>\n",
       "      <td>125</td>\n",
       "      <td>150000</td>\n",
       "      <td>0.0</td>\n",
       "      <td>0.0</td>\n",
       "      <td>0.0</td>\n",
       "      <td>1.0</td>\n",
       "      <td>0.0</td>\n",
       "      <td>0.0</td>\n",
       "      <td>0.0</td>\n",
       "      <td>...</td>\n",
       "      <td>0.0</td>\n",
       "      <td>0.0</td>\n",
       "      <td>0.0</td>\n",
       "      <td>0.0</td>\n",
       "      <td>0.0</td>\n",
       "      <td>0.0</td>\n",
       "      <td>0.0</td>\n",
       "      <td>0.0</td>\n",
       "      <td>0.0</td>\n",
       "      <td>0.0</td>\n",
       "    </tr>\n",
       "    <tr>\n",
       "      <th>29172</th>\n",
       "      <td>2011</td>\n",
       "      <td>120</td>\n",
       "      <td>90000</td>\n",
       "      <td>0.0</td>\n",
       "      <td>0.0</td>\n",
       "      <td>0.0</td>\n",
       "      <td>1.0</td>\n",
       "      <td>0.0</td>\n",
       "      <td>0.0</td>\n",
       "      <td>0.0</td>\n",
       "      <td>...</td>\n",
       "      <td>0.0</td>\n",
       "      <td>0.0</td>\n",
       "      <td>0.0</td>\n",
       "      <td>0.0</td>\n",
       "      <td>0.0</td>\n",
       "      <td>0.0</td>\n",
       "      <td>0.0</td>\n",
       "      <td>0.0</td>\n",
       "      <td>0.0</td>\n",
       "      <td>0.0</td>\n",
       "    </tr>\n",
       "    <tr>\n",
       "      <th>171812</th>\n",
       "      <td>2013</td>\n",
       "      <td>200</td>\n",
       "      <td>50000</td>\n",
       "      <td>0.0</td>\n",
       "      <td>1.0</td>\n",
       "      <td>0.0</td>\n",
       "      <td>0.0</td>\n",
       "      <td>0.0</td>\n",
       "      <td>0.0</td>\n",
       "      <td>0.0</td>\n",
       "      <td>...</td>\n",
       "      <td>0.0</td>\n",
       "      <td>0.0</td>\n",
       "      <td>0.0</td>\n",
       "      <td>0.0</td>\n",
       "      <td>1.0</td>\n",
       "      <td>0.0</td>\n",
       "      <td>0.0</td>\n",
       "      <td>0.0</td>\n",
       "      <td>0.0</td>\n",
       "      <td>0.0</td>\n",
       "    </tr>\n",
       "    <tr>\n",
       "      <th>281296</th>\n",
       "      <td>2005</td>\n",
       "      <td>163</td>\n",
       "      <td>150000</td>\n",
       "      <td>0.0</td>\n",
       "      <td>0.0</td>\n",
       "      <td>0.0</td>\n",
       "      <td>1.0</td>\n",
       "      <td>0.0</td>\n",
       "      <td>0.0</td>\n",
       "      <td>0.0</td>\n",
       "      <td>...</td>\n",
       "      <td>0.0</td>\n",
       "      <td>0.0</td>\n",
       "      <td>0.0</td>\n",
       "      <td>0.0</td>\n",
       "      <td>0.0</td>\n",
       "      <td>0.0</td>\n",
       "      <td>0.0</td>\n",
       "      <td>0.0</td>\n",
       "      <td>0.0</td>\n",
       "      <td>1.0</td>\n",
       "    </tr>\n",
       "    <tr>\n",
       "      <th>298552</th>\n",
       "      <td>2001</td>\n",
       "      <td>131</td>\n",
       "      <td>150000</td>\n",
       "      <td>0.0</td>\n",
       "      <td>0.0</td>\n",
       "      <td>0.0</td>\n",
       "      <td>0.0</td>\n",
       "      <td>0.0</td>\n",
       "      <td>0.0</td>\n",
       "      <td>0.0</td>\n",
       "      <td>...</td>\n",
       "      <td>0.0</td>\n",
       "      <td>0.0</td>\n",
       "      <td>0.0</td>\n",
       "      <td>0.0</td>\n",
       "      <td>0.0</td>\n",
       "      <td>0.0</td>\n",
       "      <td>1.0</td>\n",
       "      <td>0.0</td>\n",
       "      <td>1.0</td>\n",
       "      <td>0.0</td>\n",
       "    </tr>\n",
       "  </tbody>\n",
       "</table>\n",
       "<p>5 rows × 309 columns</p>\n",
       "</div>"
      ],
      "text/plain": [
       "        registrationyear  power  kilometer  vehicletype_convertible  \\\n",
       "212727              2002    125     150000                      0.0   \n",
       "29172               2011    120      90000                      0.0   \n",
       "171812              2013    200      50000                      0.0   \n",
       "281296              2005    163     150000                      0.0   \n",
       "298552              2001    131     150000                      0.0   \n",
       "\n",
       "        vehicletype_coupe  vehicletype_other  vehicletype_sedan  \\\n",
       "212727                0.0                0.0                1.0   \n",
       "29172                 0.0                0.0                1.0   \n",
       "171812                1.0                0.0                0.0   \n",
       "281296                0.0                0.0                1.0   \n",
       "298552                0.0                0.0                0.0   \n",
       "\n",
       "        vehicletype_small  vehicletype_suv  vehicletype_unknown  ...  \\\n",
       "212727                0.0              0.0                  0.0  ...   \n",
       "29172                 0.0              0.0                  0.0  ...   \n",
       "171812                0.0              0.0                  0.0  ...   \n",
       "281296                0.0              0.0                  0.0  ...   \n",
       "298552                0.0              0.0                  0.0  ...   \n",
       "\n",
       "        brand_smart  brand_sonstige_autos  brand_subaru  brand_suzuki  \\\n",
       "212727          0.0                   0.0           0.0           0.0   \n",
       "29172           0.0                   0.0           0.0           0.0   \n",
       "171812          0.0                   0.0           0.0           0.0   \n",
       "281296          0.0                   0.0           0.0           0.0   \n",
       "298552          0.0                   0.0           0.0           0.0   \n",
       "\n",
       "        brand_toyota  brand_trabant  brand_volkswagen  brand_volvo  \\\n",
       "212727           0.0            0.0               0.0          0.0   \n",
       "29172            0.0            0.0               0.0          0.0   \n",
       "171812           1.0            0.0               0.0          0.0   \n",
       "281296           0.0            0.0               0.0          0.0   \n",
       "298552           0.0            0.0               1.0          0.0   \n",
       "\n",
       "        repaired_unknown  repaired_yes  \n",
       "212727               0.0           0.0  \n",
       "29172                0.0           0.0  \n",
       "171812               0.0           0.0  \n",
       "281296               0.0           1.0  \n",
       "298552               1.0           0.0  \n",
       "\n",
       "[5 rows x 309 columns]"
      ]
     },
     "execution_count": 887,
     "metadata": {},
     "output_type": "execute_result"
    }
   ],
   "source": [
    "# добавляем закодированные признаки в features_train\n",
    "# encoder_ohe.get_feature_names_out() позволяет получить названия колонок\n",
    "features_train[encoder_ohe.get_feature_names_out()] = encoder_ohe.transform(features_train[ohe_features])\n",
    "\n",
    "# удаляем незакодированные категориальные признаки (изначальные колонки)\n",
    "features_train_linear = features_train.drop(ohe_features, axis=1)\n",
    "#проверка результата\n",
    "features_train_linear.head()"
   ]
  },
  {
   "cell_type": "code",
   "execution_count": 888,
   "metadata": {},
   "outputs": [
    {
     "data": {
      "text/html": [
       "<div>\n",
       "<style scoped>\n",
       "    .dataframe tbody tr th:only-of-type {\n",
       "        vertical-align: middle;\n",
       "    }\n",
       "\n",
       "    .dataframe tbody tr th {\n",
       "        vertical-align: top;\n",
       "    }\n",
       "\n",
       "    .dataframe thead th {\n",
       "        text-align: right;\n",
       "    }\n",
       "</style>\n",
       "<table border=\"1\" class=\"dataframe\">\n",
       "  <thead>\n",
       "    <tr style=\"text-align: right;\">\n",
       "      <th></th>\n",
       "      <th>registrationyear</th>\n",
       "      <th>power</th>\n",
       "      <th>kilometer</th>\n",
       "      <th>vehicletype_convertible</th>\n",
       "      <th>vehicletype_coupe</th>\n",
       "      <th>vehicletype_other</th>\n",
       "      <th>vehicletype_sedan</th>\n",
       "      <th>vehicletype_small</th>\n",
       "      <th>vehicletype_suv</th>\n",
       "      <th>vehicletype_unknown</th>\n",
       "      <th>...</th>\n",
       "      <th>brand_smart</th>\n",
       "      <th>brand_sonstige_autos</th>\n",
       "      <th>brand_subaru</th>\n",
       "      <th>brand_suzuki</th>\n",
       "      <th>brand_toyota</th>\n",
       "      <th>brand_trabant</th>\n",
       "      <th>brand_volkswagen</th>\n",
       "      <th>brand_volvo</th>\n",
       "      <th>repaired_unknown</th>\n",
       "      <th>repaired_yes</th>\n",
       "    </tr>\n",
       "  </thead>\n",
       "  <tbody>\n",
       "    <tr>\n",
       "      <th>141784</th>\n",
       "      <td>2004</td>\n",
       "      <td>80</td>\n",
       "      <td>90000</td>\n",
       "      <td>0.0</td>\n",
       "      <td>0.0</td>\n",
       "      <td>0.0</td>\n",
       "      <td>0.0</td>\n",
       "      <td>0.0</td>\n",
       "      <td>0.0</td>\n",
       "      <td>0.0</td>\n",
       "      <td>...</td>\n",
       "      <td>0.0</td>\n",
       "      <td>0.0</td>\n",
       "      <td>0.0</td>\n",
       "      <td>0.0</td>\n",
       "      <td>0.0</td>\n",
       "      <td>0.0</td>\n",
       "      <td>0.0</td>\n",
       "      <td>0.0</td>\n",
       "      <td>0.0</td>\n",
       "      <td>0.0</td>\n",
       "    </tr>\n",
       "    <tr>\n",
       "      <th>70255</th>\n",
       "      <td>2002</td>\n",
       "      <td>101</td>\n",
       "      <td>150000</td>\n",
       "      <td>0.0</td>\n",
       "      <td>0.0</td>\n",
       "      <td>0.0</td>\n",
       "      <td>0.0</td>\n",
       "      <td>0.0</td>\n",
       "      <td>0.0</td>\n",
       "      <td>0.0</td>\n",
       "      <td>...</td>\n",
       "      <td>0.0</td>\n",
       "      <td>0.0</td>\n",
       "      <td>0.0</td>\n",
       "      <td>0.0</td>\n",
       "      <td>0.0</td>\n",
       "      <td>0.0</td>\n",
       "      <td>0.0</td>\n",
       "      <td>0.0</td>\n",
       "      <td>0.0</td>\n",
       "      <td>0.0</td>\n",
       "    </tr>\n",
       "    <tr>\n",
       "      <th>43951</th>\n",
       "      <td>2011</td>\n",
       "      <td>170</td>\n",
       "      <td>150000</td>\n",
       "      <td>0.0</td>\n",
       "      <td>0.0</td>\n",
       "      <td>0.0</td>\n",
       "      <td>0.0</td>\n",
       "      <td>0.0</td>\n",
       "      <td>1.0</td>\n",
       "      <td>0.0</td>\n",
       "      <td>...</td>\n",
       "      <td>0.0</td>\n",
       "      <td>0.0</td>\n",
       "      <td>0.0</td>\n",
       "      <td>0.0</td>\n",
       "      <td>0.0</td>\n",
       "      <td>0.0</td>\n",
       "      <td>1.0</td>\n",
       "      <td>0.0</td>\n",
       "      <td>1.0</td>\n",
       "      <td>0.0</td>\n",
       "    </tr>\n",
       "    <tr>\n",
       "      <th>313495</th>\n",
       "      <td>2006</td>\n",
       "      <td>224</td>\n",
       "      <td>150000</td>\n",
       "      <td>0.0</td>\n",
       "      <td>0.0</td>\n",
       "      <td>0.0</td>\n",
       "      <td>0.0</td>\n",
       "      <td>0.0</td>\n",
       "      <td>0.0</td>\n",
       "      <td>0.0</td>\n",
       "      <td>...</td>\n",
       "      <td>0.0</td>\n",
       "      <td>0.0</td>\n",
       "      <td>0.0</td>\n",
       "      <td>0.0</td>\n",
       "      <td>0.0</td>\n",
       "      <td>0.0</td>\n",
       "      <td>0.0</td>\n",
       "      <td>0.0</td>\n",
       "      <td>0.0</td>\n",
       "      <td>0.0</td>\n",
       "    </tr>\n",
       "    <tr>\n",
       "      <th>149203</th>\n",
       "      <td>2000</td>\n",
       "      <td>61</td>\n",
       "      <td>100000</td>\n",
       "      <td>0.0</td>\n",
       "      <td>0.0</td>\n",
       "      <td>0.0</td>\n",
       "      <td>0.0</td>\n",
       "      <td>1.0</td>\n",
       "      <td>0.0</td>\n",
       "      <td>0.0</td>\n",
       "      <td>...</td>\n",
       "      <td>0.0</td>\n",
       "      <td>0.0</td>\n",
       "      <td>0.0</td>\n",
       "      <td>0.0</td>\n",
       "      <td>0.0</td>\n",
       "      <td>0.0</td>\n",
       "      <td>1.0</td>\n",
       "      <td>0.0</td>\n",
       "      <td>0.0</td>\n",
       "      <td>1.0</td>\n",
       "    </tr>\n",
       "  </tbody>\n",
       "</table>\n",
       "<p>5 rows × 309 columns</p>\n",
       "</div>"
      ],
      "text/plain": [
       "        registrationyear  power  kilometer  vehicletype_convertible  \\\n",
       "141784              2004     80      90000                      0.0   \n",
       "70255               2002    101     150000                      0.0   \n",
       "43951               2011    170     150000                      0.0   \n",
       "313495              2006    224     150000                      0.0   \n",
       "149203              2000     61     100000                      0.0   \n",
       "\n",
       "        vehicletype_coupe  vehicletype_other  vehicletype_sedan  \\\n",
       "141784                0.0                0.0                0.0   \n",
       "70255                 0.0                0.0                0.0   \n",
       "43951                 0.0                0.0                0.0   \n",
       "313495                0.0                0.0                0.0   \n",
       "149203                0.0                0.0                0.0   \n",
       "\n",
       "        vehicletype_small  vehicletype_suv  vehicletype_unknown  ...  \\\n",
       "141784                0.0              0.0                  0.0  ...   \n",
       "70255                 0.0              0.0                  0.0  ...   \n",
       "43951                 0.0              1.0                  0.0  ...   \n",
       "313495                0.0              0.0                  0.0  ...   \n",
       "149203                1.0              0.0                  0.0  ...   \n",
       "\n",
       "        brand_smart  brand_sonstige_autos  brand_subaru  brand_suzuki  \\\n",
       "141784          0.0                   0.0           0.0           0.0   \n",
       "70255           0.0                   0.0           0.0           0.0   \n",
       "43951           0.0                   0.0           0.0           0.0   \n",
       "313495          0.0                   0.0           0.0           0.0   \n",
       "149203          0.0                   0.0           0.0           0.0   \n",
       "\n",
       "        brand_toyota  brand_trabant  brand_volkswagen  brand_volvo  \\\n",
       "141784           0.0            0.0               0.0          0.0   \n",
       "70255            0.0            0.0               0.0          0.0   \n",
       "43951            0.0            0.0               1.0          0.0   \n",
       "313495           0.0            0.0               0.0          0.0   \n",
       "149203           0.0            0.0               1.0          0.0   \n",
       "\n",
       "        repaired_unknown  repaired_yes  \n",
       "141784               0.0           0.0  \n",
       "70255                0.0           0.0  \n",
       "43951                1.0           0.0  \n",
       "313495               0.0           0.0  \n",
       "149203               0.0           1.0  \n",
       "\n",
       "[5 rows x 309 columns]"
      ]
     },
     "execution_count": 888,
     "metadata": {},
     "output_type": "execute_result"
    }
   ],
   "source": [
    "#применение на тестовой выборке\n",
    "features_test[encoder_ohe.get_feature_names_out()] = encoder_ohe.transform(features_test[ohe_features])\n",
    "features_test_linear = features_test.drop(ohe_features, axis=1)\n",
    "#проверка результата\n",
    "features_test_linear.head()"
   ]
  },
  {
   "cell_type": "code",
   "execution_count": 889,
   "metadata": {},
   "outputs": [
    {
     "data": {
      "text/html": [
       "<div>\n",
       "<style scoped>\n",
       "    .dataframe tbody tr th:only-of-type {\n",
       "        vertical-align: middle;\n",
       "    }\n",
       "\n",
       "    .dataframe tbody tr th {\n",
       "        vertical-align: top;\n",
       "    }\n",
       "\n",
       "    .dataframe thead th {\n",
       "        text-align: right;\n",
       "    }\n",
       "</style>\n",
       "<table border=\"1\" class=\"dataframe\">\n",
       "  <thead>\n",
       "    <tr style=\"text-align: right;\">\n",
       "      <th></th>\n",
       "      <th>registrationyear</th>\n",
       "      <th>power</th>\n",
       "      <th>kilometer</th>\n",
       "      <th>vehicletype_convertible</th>\n",
       "      <th>vehicletype_coupe</th>\n",
       "      <th>vehicletype_other</th>\n",
       "      <th>vehicletype_sedan</th>\n",
       "      <th>vehicletype_small</th>\n",
       "      <th>vehicletype_suv</th>\n",
       "      <th>vehicletype_unknown</th>\n",
       "      <th>...</th>\n",
       "      <th>brand_smart</th>\n",
       "      <th>brand_sonstige_autos</th>\n",
       "      <th>brand_subaru</th>\n",
       "      <th>brand_suzuki</th>\n",
       "      <th>brand_toyota</th>\n",
       "      <th>brand_trabant</th>\n",
       "      <th>brand_volkswagen</th>\n",
       "      <th>brand_volvo</th>\n",
       "      <th>repaired_unknown</th>\n",
       "      <th>repaired_yes</th>\n",
       "    </tr>\n",
       "  </thead>\n",
       "  <tbody>\n",
       "    <tr>\n",
       "      <th>212727</th>\n",
       "      <td>-0.126931</td>\n",
       "      <td>0.055199</td>\n",
       "      <td>0.590755</td>\n",
       "      <td>0.0</td>\n",
       "      <td>0.0</td>\n",
       "      <td>0.0</td>\n",
       "      <td>1.0</td>\n",
       "      <td>0.0</td>\n",
       "      <td>0.0</td>\n",
       "      <td>0.0</td>\n",
       "      <td>...</td>\n",
       "      <td>0.0</td>\n",
       "      <td>0.0</td>\n",
       "      <td>0.0</td>\n",
       "      <td>0.0</td>\n",
       "      <td>0.0</td>\n",
       "      <td>0.0</td>\n",
       "      <td>0.0</td>\n",
       "      <td>0.0</td>\n",
       "      <td>0.0</td>\n",
       "      <td>0.0</td>\n",
       "    </tr>\n",
       "    <tr>\n",
       "      <th>29172</th>\n",
       "      <td>1.257070</td>\n",
       "      <td>-0.024628</td>\n",
       "      <td>-1.045149</td>\n",
       "      <td>0.0</td>\n",
       "      <td>0.0</td>\n",
       "      <td>0.0</td>\n",
       "      <td>1.0</td>\n",
       "      <td>0.0</td>\n",
       "      <td>0.0</td>\n",
       "      <td>0.0</td>\n",
       "      <td>...</td>\n",
       "      <td>0.0</td>\n",
       "      <td>0.0</td>\n",
       "      <td>0.0</td>\n",
       "      <td>0.0</td>\n",
       "      <td>0.0</td>\n",
       "      <td>0.0</td>\n",
       "      <td>0.0</td>\n",
       "      <td>0.0</td>\n",
       "      <td>0.0</td>\n",
       "      <td>0.0</td>\n",
       "    </tr>\n",
       "    <tr>\n",
       "      <th>171812</th>\n",
       "      <td>1.564626</td>\n",
       "      <td>1.252610</td>\n",
       "      <td>-2.135752</td>\n",
       "      <td>0.0</td>\n",
       "      <td>1.0</td>\n",
       "      <td>0.0</td>\n",
       "      <td>0.0</td>\n",
       "      <td>0.0</td>\n",
       "      <td>0.0</td>\n",
       "      <td>0.0</td>\n",
       "      <td>...</td>\n",
       "      <td>0.0</td>\n",
       "      <td>0.0</td>\n",
       "      <td>0.0</td>\n",
       "      <td>0.0</td>\n",
       "      <td>1.0</td>\n",
       "      <td>0.0</td>\n",
       "      <td>0.0</td>\n",
       "      <td>0.0</td>\n",
       "      <td>0.0</td>\n",
       "      <td>0.0</td>\n",
       "    </tr>\n",
       "  </tbody>\n",
       "</table>\n",
       "<p>3 rows × 309 columns</p>\n",
       "</div>"
      ],
      "text/plain": [
       "        registrationyear     power  kilometer  vehicletype_convertible  \\\n",
       "212727         -0.126931  0.055199   0.590755                      0.0   \n",
       "29172           1.257070 -0.024628  -1.045149                      0.0   \n",
       "171812          1.564626  1.252610  -2.135752                      0.0   \n",
       "\n",
       "        vehicletype_coupe  vehicletype_other  vehicletype_sedan  \\\n",
       "212727                0.0                0.0                1.0   \n",
       "29172                 0.0                0.0                1.0   \n",
       "171812                1.0                0.0                0.0   \n",
       "\n",
       "        vehicletype_small  vehicletype_suv  vehicletype_unknown  ...  \\\n",
       "212727                0.0              0.0                  0.0  ...   \n",
       "29172                 0.0              0.0                  0.0  ...   \n",
       "171812                0.0              0.0                  0.0  ...   \n",
       "\n",
       "        brand_smart  brand_sonstige_autos  brand_subaru  brand_suzuki  \\\n",
       "212727          0.0                   0.0           0.0           0.0   \n",
       "29172           0.0                   0.0           0.0           0.0   \n",
       "171812          0.0                   0.0           0.0           0.0   \n",
       "\n",
       "        brand_toyota  brand_trabant  brand_volkswagen  brand_volvo  \\\n",
       "212727           0.0            0.0               0.0          0.0   \n",
       "29172            0.0            0.0               0.0          0.0   \n",
       "171812           1.0            0.0               0.0          0.0   \n",
       "\n",
       "        repaired_unknown  repaired_yes  \n",
       "212727               0.0           0.0  \n",
       "29172                0.0           0.0  \n",
       "171812               0.0           0.0  \n",
       "\n",
       "[3 rows x 309 columns]"
      ]
     },
     "metadata": {},
     "output_type": "display_data"
    },
    {
     "name": "stdout",
     "output_type": "stream",
     "text": [
      "(236562, 309)\n",
      "(59141, 309)\n"
     ]
    }
   ],
   "source": [
    "#масштабирование данных\n",
    "#числовые признаки numeric\n",
    "numeric = ['registrationyear', 'power', 'kilometer']\n",
    "\n",
    "scaler = StandardScaler()\n",
    "scaler.fit(features_train_linear[numeric])\n",
    "features_train_linear[numeric] = scaler.transform(features_train_linear[numeric])\n",
    "features_test_linear[numeric] = scaler.transform(features_test_linear[numeric])\n",
    "pd.options.mode.chained_assignment=None\n",
    "#проверка\n",
    "display(features_train_linear.head(3))\n",
    "print(features_train_linear.shape)\n",
    "print(features_test_linear.shape)"
   ]
  },
  {
   "cell_type": "markdown",
   "metadata": {},
   "source": [
    "### Подготовка данных для  моделей LightGBM, CatBoost:"
   ]
  },
  {
   "cell_type": "markdown",
   "metadata": {},
   "source": [
    "Модели градиентного бустинга не нуждаются в кодировании категориальных признаков,т.е. проделываем все те же действия, только минуя шаг с OHE "
   ]
  },
  {
   "cell_type": "markdown",
   "metadata": {},
   "source": [
    "Для начала изменим тип данных object на  category(модели не работают с типом данных object, таксже стоит отметить одно из основных преимуществ категориальных типов данных - более эффективное использование памяти)"
   ]
  },
  {
   "cell_type": "code",
   "execution_count": 890,
   "metadata": {},
   "outputs": [
    {
     "name": "stdout",
     "output_type": "stream",
     "text": [
      "<class 'pandas.core.frame.DataFrame'>\n",
      "Int64Index: 295703 entries, 1 to 354368\n",
      "Data columns (total 10 columns):\n",
      " #   Column            Non-Null Count   Dtype   \n",
      "---  ------            --------------   -----   \n",
      " 0   price             295703 non-null  int64   \n",
      " 1   vehicletype       295703 non-null  category\n",
      " 2   registrationyear  295703 non-null  int64   \n",
      " 3   gearbox           295703 non-null  category\n",
      " 4   power             295703 non-null  int64   \n",
      " 5   model             295703 non-null  category\n",
      " 6   kilometer         295703 non-null  int64   \n",
      " 7   fueltype          295703 non-null  category\n",
      " 8   brand             295703 non-null  category\n",
      " 9   repaired          295703 non-null  category\n",
      "dtypes: category(6), int64(4)\n",
      "memory usage: 13.3 MB\n"
     ]
    }
   ],
   "source": [
    "categorical = ['vehicletype', 'gearbox','model', 'fueltype', 'brand', 'repaired']\n",
    "\n",
    "for col in categorical:\n",
    "    df[col] = df[col].astype('category')\n",
    "#проверка\n",
    "df.info()"
   ]
  },
  {
   "cell_type": "markdown",
   "metadata": {},
   "source": [
    "Далее снова разделим датасет на обучающую и тестовую выборки "
   ]
  },
  {
   "cell_type": "code",
   "execution_count": 891,
   "metadata": {},
   "outputs": [
    {
     "name": "stdout",
     "output_type": "stream",
     "text": [
      "(236562, 9)\n",
      "(236562,)\n",
      "(59141, 9)\n",
      "(59141,)\n"
     ]
    }
   ],
   "source": [
    "target_boost = df['price']\n",
    "features_boost = df.drop('price', axis=1)\n",
    "#деление на выборки: train_boost(80%) и test_boost(20%)\n",
    "features_train_boost, features_test_boost, target_train_boost, target_test_boost = train_test_split(features_boost,\n",
    "                                                                                                    target_boost,\n",
    "                                                                              test_size=0.2, \n",
    "                                                                              random_state=12345)\n",
    "\n",
    "#проверка\n",
    "print(features_train_boost.shape)\n",
    "print(target_train_boost.shape)\n",
    "print(features_test_boost.shape)\n",
    "print(target_test_boost.shape)"
   ]
  },
  {
   "cell_type": "code",
   "execution_count": 892,
   "metadata": {},
   "outputs": [
    {
     "data": {
      "text/html": [
       "<div>\n",
       "<style scoped>\n",
       "    .dataframe tbody tr th:only-of-type {\n",
       "        vertical-align: middle;\n",
       "    }\n",
       "\n",
       "    .dataframe tbody tr th {\n",
       "        vertical-align: top;\n",
       "    }\n",
       "\n",
       "    .dataframe thead th {\n",
       "        text-align: right;\n",
       "    }\n",
       "</style>\n",
       "<table border=\"1\" class=\"dataframe\">\n",
       "  <thead>\n",
       "    <tr style=\"text-align: right;\">\n",
       "      <th></th>\n",
       "      <th>vehicletype</th>\n",
       "      <th>registrationyear</th>\n",
       "      <th>gearbox</th>\n",
       "      <th>power</th>\n",
       "      <th>model</th>\n",
       "      <th>kilometer</th>\n",
       "      <th>fueltype</th>\n",
       "      <th>brand</th>\n",
       "      <th>repaired</th>\n",
       "    </tr>\n",
       "  </thead>\n",
       "  <tbody>\n",
       "    <tr>\n",
       "      <th>212727</th>\n",
       "      <td>sedan</td>\n",
       "      <td>-0.126931</td>\n",
       "      <td>manual</td>\n",
       "      <td>0.055199</td>\n",
       "      <td>vectra</td>\n",
       "      <td>0.590755</td>\n",
       "      <td>petrol</td>\n",
       "      <td>opel</td>\n",
       "      <td>no</td>\n",
       "    </tr>\n",
       "    <tr>\n",
       "      <th>29172</th>\n",
       "      <td>sedan</td>\n",
       "      <td>1.257070</td>\n",
       "      <td>manual</td>\n",
       "      <td>-0.024628</td>\n",
       "      <td>other</td>\n",
       "      <td>-1.045149</td>\n",
       "      <td>petrol</td>\n",
       "      <td>alfa_romeo</td>\n",
       "      <td>no</td>\n",
       "    </tr>\n",
       "    <tr>\n",
       "      <th>171812</th>\n",
       "      <td>coupe</td>\n",
       "      <td>1.564626</td>\n",
       "      <td>manual</td>\n",
       "      <td>1.252610</td>\n",
       "      <td>other</td>\n",
       "      <td>-2.135752</td>\n",
       "      <td>petrol</td>\n",
       "      <td>toyota</td>\n",
       "      <td>no</td>\n",
       "    </tr>\n",
       "  </tbody>\n",
       "</table>\n",
       "</div>"
      ],
      "text/plain": [
       "       vehicletype  registrationyear gearbox     power   model  kilometer  \\\n",
       "212727       sedan         -0.126931  manual  0.055199  vectra   0.590755   \n",
       "29172        sedan          1.257070  manual -0.024628   other  -1.045149   \n",
       "171812       coupe          1.564626  manual  1.252610   other  -2.135752   \n",
       "\n",
       "       fueltype       brand repaired  \n",
       "212727   petrol        opel       no  \n",
       "29172    petrol  alfa_romeo       no  \n",
       "171812   petrol      toyota       no  "
      ]
     },
     "metadata": {},
     "output_type": "display_data"
    },
    {
     "name": "stdout",
     "output_type": "stream",
     "text": [
      "(236562, 9)\n",
      "(59141, 9)\n"
     ]
    }
   ],
   "source": [
    "#масштабирование данных \n",
    "#числовые признаки numeric\n",
    "numeric = ['registrationyear', 'power', 'kilometer']\n",
    "\n",
    "scaler = StandardScaler()\n",
    "scaler.fit(features_train_boost[numeric])\n",
    "features_train_boost[numeric] = scaler.transform(features_train_boost[numeric])\n",
    "features_test_boost[numeric] = scaler.transform(features_test_boost[numeric])\n",
    "pd.options.mode.chained_assignment=None\n",
    "#проверка\n",
    "display(features_train_boost.head(3))\n",
    "print(features_train_boost.shape)\n",
    "print(features_test_boost.shape)"
   ]
  },
  {
   "cell_type": "markdown",
   "metadata": {},
   "source": [
    "### Функция для запуска моделей"
   ]
  },
  {
   "cell_type": "code",
   "execution_count": 836,
   "metadata": {},
   "outputs": [
    {
     "name": "stdout",
     "output_type": "stream",
     "text": [
      "1684776624.1389282\n",
      "time.struct_time(tm_year=2023, tm_mon=5, tm_mday=22, tm_hour=20, tm_min=30, tm_sec=24, tm_wday=0, tm_yday=142, tm_isdst=0)\n",
      "Mon May 22 20:30:24 2023\n"
     ]
    }
   ],
   "source": [
    "#проверка кода, для определения времени\n",
    "print(time.time())\n",
    "print (time.localtime(time.time()))\n",
    "print (time.asctime( time.localtime(time.time()) ))\n"
   ]
  },
  {
   "cell_type": "code",
   "execution_count": 893,
   "metadata": {},
   "outputs": [],
   "source": [
    "#функция обучения\n",
    "# на вход: модель, обучающие  выборки, на выход: время обучения, скорость предсказания\n",
    "def model_final(model, X_train, y_train):\n",
    "    \n",
    "    start_train = time.time() \n",
    "    model.fit(X_train, y_train) \n",
    "    train_time = time.time() - start_train  #продолжительность/время обучения\n",
    "    \n",
    "    start_pred = time.time()\n",
    "    y_pred = model.predict(X_train)\n",
    "    pred_time = time.time() - start_pred #время предсказания\n",
    "    \n",
    "    #rmse = mean_squared_error(y_train,y_pred) ** 0.5\n",
    "    \n",
    "    return train_time, pred_time"
   ]
  },
  {
   "cell_type": "markdown",
   "metadata": {},
   "source": [
    "### Обучение модели"
   ]
  },
  {
   "cell_type": "markdown",
   "metadata": {},
   "source": [
    "**Обучение модели LinearRegression**, с предварительным подбором гиперпараметров с помощью GridSearchCV"
   ]
  },
  {
   "cell_type": "code",
   "execution_count": 894,
   "metadata": {},
   "outputs": [
    {
     "name": "stdout",
     "output_type": "stream",
     "text": [
      "Время обучения при использовании модели LinearRegression: 6.96 sec\n",
      "Скорость предсказаний модели LinearRegression: 0.06 sec\n",
      "Лучший результат RMSE: 2666.1 euro\n",
      "Лучшая модель: LinearRegression()\n"
     ]
    }
   ],
   "source": [
    "#параметры для проведения GridSearchCV (подбор лучших параметров)\n",
    "model = LinearRegression()\n",
    "parameters_LR = {}\n",
    "scorer = make_scorer(mean_squared_error, greater_is_better=False)\n",
    "\n",
    "#подбор параметров модели \n",
    "grid_LR = GridSearchCV(estimator= model, param_grid=parameters_LR, cv=5, scoring = scorer)\n",
    "grid_LR.fit(features_train_linear, target_train)\n",
    "#запуск обучения(с использованием функции)\n",
    "train_time_LR, pred_time_LR = model_final(grid_LR.best_estimator_, features_train_linear,target_train)\n",
    "\n",
    "best_score_LR = grid_LR.best_score_\n",
    "best_model_LR = grid_LR.best_estimator_\n",
    "print('Время обучения при использовании модели LinearRegression:',round(train_time_LR, 2),'sec')\n",
    "print('Скорость предсказаний модели LinearRegression:', round(pred_time_LR,2), 'sec')\n",
    "print(f'Лучший результат RMSE: {round((best_score_LR*(-1))**0.5,2)} euro')\n",
    "print(f'Лучшая модель: {best_model_LR}')\n"
   ]
  },
  {
   "cell_type": "markdown",
   "metadata": {},
   "source": [
    "**Обучение модели Ridge**"
   ]
  },
  {
   "cell_type": "code",
   "execution_count": 895,
   "metadata": {},
   "outputs": [
    {
     "name": "stdout",
     "output_type": "stream",
     "text": [
      "Ridge()\n",
      "Время обучения при использовании модели Ridge: 0.74 sec\n",
      "Скорость предсказаний модели Ridge: 0.07 sec\n",
      "Лучший результат RMSE: 2665.98 euro\n",
      "Лучшая модель: Ridge(alpha=1, max_iter=1)\n"
     ]
    }
   ],
   "source": [
    "model = Ridge()\n",
    "parameters_Rid = {'max_iter': range(1,6),\n",
    "                 'alpha': range(1,3),\n",
    "                 'fit_intercept': [True, False]}\n",
    "\n",
    "scorer = make_scorer(mean_squared_error, greater_is_better=False)\n",
    "\n",
    "grid_Rid = GridSearchCV(estimator= model, param_grid=parameters_Rid, cv=5, scoring = scorer)\n",
    "grid_Rid.fit(features_train_linear, target_train)\n",
    "#запуск обучения(с использованием функции)\n",
    "train_time_Rid, pred_time_Rid = model_final(grid_Rid.best_estimator_, features_train_linear,\n",
    "                                                   target_train)\n",
    "best_model_Rid = grid_Rid.best_estimator_\n",
    "best_score_Rid = grid_Rid.best_score_\n",
    "\n",
    "print('Ridge()')\n",
    "print('Время обучения при использовании модели Ridge:',round(train_time_Rid, 2),'sec')\n",
    "print('Скорость предсказаний модели Ridge:', round(pred_time_Rid,2), 'sec')\n",
    "print(f'Лучший результат RMSE: {round((best_score_Rid*(-1))**0.5,2)} euro')\n",
    "print(f'Лучшая модель: {best_model_Rid}') \n"
   ]
  },
  {
   "cell_type": "markdown",
   "metadata": {},
   "source": [
    "**Обучение модели LightGBM**"
   ]
  },
  {
   "cell_type": "code",
   "execution_count": 896,
   "metadata": {},
   "outputs": [
    {
     "name": "stdout",
     "output_type": "stream",
     "text": [
      "LightGBM()\n",
      "Время обучения при использовании модели LightGBM: 4.36 sec\n",
      "Скорость предсказаний модели LightGBM: 0.81 sec\n",
      "Лучший результат RMSE: 1535.24 euro\n",
      "Лучшая модель: LGBMRegressor(categorical_feature=['vehicletype', 'gearbox', 'model',\n",
      "                                   'fueltype', 'brand', 'repaired'],\n",
      "              n_estimators=200, num_leaves=60)\n"
     ]
    }
   ],
   "source": [
    "categorical = ['vehicletype', 'gearbox','model', 'fueltype', 'brand', 'repaired']\n",
    "model  = LGBMRegressor(categorical_feature=categorical)\n",
    "\n",
    "parameters_lgbm = {'num_leaves': [30,40,50,60],\n",
    "                 'n_estimators': [100, 200],\n",
    "                  'learning_rate': [0.05, 0.1]}\n",
    "\n",
    "scorer = make_scorer(mean_squared_error, greater_is_better=False)\n",
    "\n",
    "grid_lgbm = GridSearchCV(estimator= model, param_grid=parameters_lgbm, cv=5, scoring = scorer)\n",
    "grid_lgbm.fit(features_train_boost, target_train_boost)\n",
    "\n",
    "#запуск обучения(с использованием функции)\n",
    "train_time_lgbm, pred_time_lgbm = model_final(grid_lgbm.best_estimator_, features_train_boost, target_train_boost)\n",
    "\n",
    "best_score_lgbm = grid_lgbm.best_score_\n",
    "best_model_lgbm = grid_lgbm.best_estimator_\n",
    "\n",
    "print('LightGBM()')\n",
    "print('Время обучения при использовании модели LightGBM:',round(train_time_lgbm, 2),'sec')\n",
    "print('Скорость предсказаний модели LightGBM:', round(pred_time_lgbm,2), 'sec')\n",
    "print(f'Лучший результат RMSE: {round((best_score_lgbm*(-1))**0.5,2)} euro')\n",
    "print(f'Лучшая модель: {best_model_lgbm}') "
   ]
  },
  {
   "cell_type": "markdown",
   "metadata": {},
   "source": [
    "**Обучение модели CatBoost**"
   ]
  },
  {
   "cell_type": "code",
   "execution_count": 897,
   "metadata": {},
   "outputs": [
    {
     "name": "stdout",
     "output_type": "stream",
     "text": [
      "CatBoost\n",
      "Время обучения при использовании модели CatBoost: 1.83 sec\n",
      "Скорость предсказаний модели CatBoost: 0.12 sec\n",
      "Лучший результат RMSE: 1805.04 euro\n",
      "Лучшая модель: <catboost.core.CatBoostRegressor object at 0x11a5d9e20>\n"
     ]
    }
   ],
   "source": [
    "model = CatBoostRegressor(loss_function='RMSE', cat_features=categorical, silent=True)\n",
    "\n",
    "parameters_catboost = {'iterations': [40,50,60,70],\n",
    "                'depth':[2,4,6],\n",
    "                  'learning_rate': [0.05, 0.1]}\n",
    "\n",
    "scorer = make_scorer(mean_squared_error, greater_is_better=False)\n",
    "grid_catboost = GridSearchCV(estimator= model, param_grid=parameters_catboost, cv=5, scoring = scorer )\n",
    "grid_catboost.fit(features_train_boost, target_train_boost)\n",
    "\n",
    "#запуск обучения(с использованием функции)\n",
    "train_time_catboost, pred_time_catboost = model_final(grid_catboost.best_estimator_, features_train_boost,\n",
    "                                                                     target_train_boost)\n",
    "\n",
    "\n",
    "best_score_catboost = grid_catboost.best_score_\n",
    "best_model_catboost = grid_catboost.best_estimator_\n",
    "\n",
    "print('CatBoost')\n",
    "print('Время обучения при использовании модели CatBoost:',round(train_time_catboost, 2),'sec')\n",
    "print('Скорость предсказаний модели CatBoost:', round(pred_time_catboost,2), 'sec')\n",
    "print(f'Лучший результат RMSE: {round((best_score_catboost*(-1))**0.5,2)} euro')\n",
    "print(f'Лучшая модель: {best_model_catboost}')"
   ]
  },
  {
   "cell_type": "markdown",
   "metadata": {},
   "source": [
    "**Обучение модели DummyRegressor**"
   ]
  },
  {
   "cell_type": "code",
   "execution_count": null,
   "metadata": {},
   "outputs": [],
   "source": [
    "Обучим также констатную модель для сравнения результатов "
   ]
  },
  {
   "cell_type": "code",
   "execution_count": 898,
   "metadata": {},
   "outputs": [
    {
     "name": "stdout",
     "output_type": "stream",
     "text": [
      "Dummy\n",
      "Время обучения: 0.0 sec\n",
      "Скорость предсказаний модели Dummy: 0.0 sec\n",
      "Результат RMSE: 4607.88 euro\n"
     ]
    }
   ],
   "source": [
    "#построение констaнтной модели \n",
    "\n",
    "\n",
    "dummy = DummyRegressor(strategy=\"mean\")\n",
    "train_time_dummy, pred_time_dummy = model_final(dummy, features_train_linear,target_train)\n",
    "rmse_dummy = mean_squared_error(target_train,dummy_predict)**0.5\n",
    "\n",
    "print('Dummy')\n",
    "print(f'Время обучения: {round(train_time_dummy,2)} sec')\n",
    "print('Скорость предсказаний модели Dummy:', round(pred_time_dummy,2), 'sec')\n",
    "print(f'Результат RMSE: {round(rmse_dummy,2)} euro')\n"
   ]
  },
  {
   "cell_type": "markdown",
   "metadata": {},
   "source": [
    "## Анализ моделей"
   ]
  },
  {
   "cell_type": "markdown",
   "metadata": {},
   "source": [
    "Для удобства сравнения внесем все данные в таблицу"
   ]
  },
  {
   "cell_type": "code",
   "execution_count": 899,
   "metadata": {},
   "outputs": [
    {
     "name": "stdout",
     "output_type": "stream",
     "text": [
      "\u001b[1m\n",
      "Сравнение результатов моделей \u001b[0m\n"
     ]
    },
    {
     "data": {
      "text/html": [
       "<div>\n",
       "<style scoped>\n",
       "    .dataframe tbody tr th:only-of-type {\n",
       "        vertical-align: middle;\n",
       "    }\n",
       "\n",
       "    .dataframe tbody tr th {\n",
       "        vertical-align: top;\n",
       "    }\n",
       "\n",
       "    .dataframe thead th {\n",
       "        text-align: right;\n",
       "    }\n",
       "</style>\n",
       "<table border=\"1\" class=\"dataframe\">\n",
       "  <thead>\n",
       "    <tr style=\"text-align: right;\">\n",
       "      <th></th>\n",
       "      <th>Время обучения,сек</th>\n",
       "      <th>Скорость предсказания,сек</th>\n",
       "      <th>RMSE на train, евро</th>\n",
       "    </tr>\n",
       "  </thead>\n",
       "  <tbody>\n",
       "    <tr>\n",
       "      <th>LinearRegression</th>\n",
       "      <td>6.96</td>\n",
       "      <td>0.06</td>\n",
       "      <td>2666.10</td>\n",
       "    </tr>\n",
       "    <tr>\n",
       "      <th>Ridge</th>\n",
       "      <td>0.74</td>\n",
       "      <td>0.07</td>\n",
       "      <td>2665.98</td>\n",
       "    </tr>\n",
       "    <tr>\n",
       "      <th>LightGBM</th>\n",
       "      <td>4.36</td>\n",
       "      <td>0.81</td>\n",
       "      <td>1535.24</td>\n",
       "    </tr>\n",
       "    <tr>\n",
       "      <th>CatBoost</th>\n",
       "      <td>1.83</td>\n",
       "      <td>0.12</td>\n",
       "      <td>1805.04</td>\n",
       "    </tr>\n",
       "    <tr>\n",
       "      <th>DummyRegressor</th>\n",
       "      <td>0.00</td>\n",
       "      <td>0.00</td>\n",
       "      <td>4607.88</td>\n",
       "    </tr>\n",
       "  </tbody>\n",
       "</table>\n",
       "</div>"
      ],
      "text/plain": [
       "                  Время обучения,сек   Скорость предсказания,сек   \\\n",
       "LinearRegression                 6.96                        0.06   \n",
       "Ridge                            0.74                        0.07   \n",
       "LightGBM                         4.36                        0.81   \n",
       "CatBoost                         1.83                        0.12   \n",
       "DummyRegressor                   0.00                        0.00   \n",
       "\n",
       "                  RMSE на train, евро  \n",
       "LinearRegression              2666.10  \n",
       "Ridge                         2665.98  \n",
       "LightGBM                      1535.24  \n",
       "CatBoost                      1805.04  \n",
       "DummyRegressor                4607.88  "
      ]
     },
     "metadata": {},
     "output_type": "display_data"
    }
   ],
   "source": [
    "#оформление итогов в виде таблицы\n",
    "\n",
    "print('\\033[1m' + '\\nСравнение результатов моделей ' + '\\033[0m')\n",
    "\n",
    "df_total = {'Время обучения,сек ':[round(train_time_LR, 2), \n",
    "                                   round(train_time_Rid, 2) ,\n",
    "                                   round(train_time_lgbm, 2), \n",
    "                                   round(train_time_catboost, 2), \n",
    "                                   round(train_time_dummy, 2)],\n",
    "            'Скорость предсказания,сек ':[round(pred_time_LR,2), \n",
    "                                   round(pred_time_Rid,2) ,\n",
    "                                   round(pred_time_lgbm,2), \n",
    "                                   round(pred_time_catboost,2), \n",
    "                                   round(train_time_dummy, 2)],\n",
    "        \n",
    "           'RMSE на train, евро': [round((best_score_LR*(-1))**0.5,2),\n",
    "                          round((best_score_Rid*(-1))**0.5,2), \n",
    "                          round((best_score_lgbm*(-1))**0.5,2), \n",
    "                          round((best_score_catboost*(-1))**0.5,2),\n",
    "                          round(rmse_dummy,2)]\n",
    "           }\n",
    "\n",
    "\n",
    "#pd.set_option('display.float_format', '{:.2f}'.format)\n",
    "table__total = pd.DataFrame(df_total)\n",
    "\n",
    "table__total.index = ['LinearRegression', 'Ridge','LightGBM','CatBoost', 'DummyRegressor']\n",
    "\n",
    "display(table__total)"
   ]
  },
  {
   "cell_type": "markdown",
   "metadata": {},
   "source": [
    "Использовали 4 модели для предсказания значения RMSE ( две линейные и две градиентного спуска) \n",
    "В данном случае наглядно видно, что в сравнении с DummyRegressor все модели сработали хорошо, и любая из наших моделей более предсказуема.\n",
    "Лучшие результаты показала модель LightGBM.\n",
    "Проведем финальное тестирование на тестовой выборке\n"
   ]
  },
  {
   "cell_type": "markdown",
   "metadata": {},
   "source": [
    "### Проверка модели на тестовой выборке"
   ]
  },
  {
   "cell_type": "code",
   "execution_count": 901,
   "metadata": {},
   "outputs": [
    {
     "name": "stdout",
     "output_type": "stream",
     "text": [
      "RMSE на тестовой выборке: 1531.79 евро\n"
     ]
    }
   ],
   "source": [
    "# финальное тестирование на лучшей модели LightGBM\n",
    "predict_test = best_model_lgbm.predict(features_test_boost)\n",
    "rmse_test = mean_squared_error(target_test_boost,predict_test)**0.5\n",
    "print(f'RMSE на тестовой выборке: {round(rmse_test,2)} евро')"
   ]
  },
  {
   "cell_type": "markdown",
   "metadata": {},
   "source": [
    "## Общий вывод"
   ]
  },
  {
   "cell_type": "markdown",
   "metadata": {},
   "source": [
    " - В работе были рассмотрены  данных от сервиса по продаже автомобилей(данные о технических характеристиках, комплектации и ценах других автомобилей), необходимо было создать модель для расчета рыночной стоимости автомобиля.\n",
    "\n",
    " - В ходе исследования были подготовлены данные(заполнены пустые значения в столбцах, удалены аномалии и выбросы). Мультиколлинеарности не обнаружено. Наибольшее влияние на цену оказывает мощность и год регистрации.\n",
    " \n",
    " - На скорректированных данных обучили 4 модели (две линейные и две градиентного спуска).Критерии важные для заказчика:  качество предсказания, время обучения и время предсказания модели.  Но невозможно достичь минимума сразу по всем параметрам, поэтому нужно выбрать, что важнее.\n",
    " - Наиболее интересные  результаты показала модель LightGBM, на обучающей выборке  значение RMSE составляет 1535 евро, но по продолжительности обучения (3.43 сек) модель уступает линейным моделям. \n",
    " - При проверке на тестовой выборке модель LightGBM показала значение RMSE 1531 евро .\n",
    " "
   ]
  }
 ],
 "metadata": {
  "ExecuteTimeLog": [
   {
    "duration": 1994,
    "start_time": "2023-05-16T17:43:15.785Z"
   },
   {
    "duration": 1137,
    "start_time": "2023-05-16T17:44:18.036Z"
   },
   {
    "duration": 153,
    "start_time": "2023-05-16T18:36:17.702Z"
   },
   {
    "duration": 174,
    "start_time": "2023-05-16T18:36:31.614Z"
   },
   {
    "duration": 409,
    "start_time": "2023-05-16T18:36:40.962Z"
   },
   {
    "duration": 433,
    "start_time": "2023-05-16T18:36:56.146Z"
   },
   {
    "duration": 97,
    "start_time": "2023-05-16T18:37:03.041Z"
   },
   {
    "duration": 880,
    "start_time": "2023-05-16T18:37:11.919Z"
   },
   {
    "duration": 152,
    "start_time": "2023-05-16T19:24:46.492Z"
   },
   {
    "duration": 9,
    "start_time": "2023-05-16T19:25:38.451Z"
   },
   {
    "duration": 11,
    "start_time": "2023-05-16T19:26:11.035Z"
   },
   {
    "duration": 70,
    "start_time": "2023-05-16T20:08:49.696Z"
   },
   {
    "duration": 131,
    "start_time": "2023-05-16T20:09:33.695Z"
   },
   {
    "duration": 10,
    "start_time": "2023-05-16T20:09:40.295Z"
   },
   {
    "duration": 9,
    "start_time": "2023-05-16T20:09:52.842Z"
   },
   {
    "duration": 3,
    "start_time": "2023-05-16T20:45:27.088Z"
   },
   {
    "duration": 858,
    "start_time": "2023-05-16T20:45:29.644Z"
   },
   {
    "duration": 135,
    "start_time": "2023-05-16T20:45:33.496Z"
   },
   {
    "duration": 118,
    "start_time": "2023-05-16T20:45:36.898Z"
   },
   {
    "duration": 274,
    "start_time": "2023-05-16T20:45:40.288Z"
   },
   {
    "duration": 472,
    "start_time": "2023-05-16T20:45:45.429Z"
   },
   {
    "duration": 5,
    "start_time": "2023-05-16T20:47:20.695Z"
   },
   {
    "duration": 269,
    "start_time": "2023-05-16T20:47:40.616Z"
   },
   {
    "duration": 456,
    "start_time": "2023-05-16T20:49:21.319Z"
   },
   {
    "duration": 105,
    "start_time": "2023-05-16T20:49:32.313Z"
   },
   {
    "duration": 895,
    "start_time": "2023-05-16T20:49:36.604Z"
   },
   {
    "duration": 56,
    "start_time": "2023-05-16T20:50:04.239Z"
   },
   {
    "duration": 151,
    "start_time": "2023-05-16T20:50:28.750Z"
   },
   {
    "duration": 213,
    "start_time": "2023-05-16T20:51:23.627Z"
   },
   {
    "duration": 148,
    "start_time": "2023-05-16T20:51:34.309Z"
   },
   {
    "duration": 206,
    "start_time": "2023-05-16T20:58:14.586Z"
   },
   {
    "duration": 270,
    "start_time": "2023-05-16T20:59:11.916Z"
   },
   {
    "duration": 168,
    "start_time": "2023-05-16T20:59:26.087Z"
   },
   {
    "duration": 181,
    "start_time": "2023-05-16T20:59:49.947Z"
   },
   {
    "duration": 212,
    "start_time": "2023-05-16T21:00:02.418Z"
   },
   {
    "duration": 209,
    "start_time": "2023-05-16T21:01:36.326Z"
   },
   {
    "duration": 227,
    "start_time": "2023-05-16T21:01:44.706Z"
   },
   {
    "duration": 186,
    "start_time": "2023-05-16T21:02:08.097Z"
   },
   {
    "duration": 308,
    "start_time": "2023-05-16T21:02:18.017Z"
   },
   {
    "duration": 23,
    "start_time": "2023-05-16T21:06:49.106Z"
   },
   {
    "duration": 42,
    "start_time": "2023-05-16T21:07:03.897Z"
   },
   {
    "duration": 46,
    "start_time": "2023-05-16T21:07:21.945Z"
   },
   {
    "duration": 50,
    "start_time": "2023-05-16T21:08:08.534Z"
   },
   {
    "duration": 26,
    "start_time": "2023-05-16T21:08:31.924Z"
   },
   {
    "duration": 30,
    "start_time": "2023-05-16T21:08:50.487Z"
   },
   {
    "duration": 34,
    "start_time": "2023-05-16T21:10:07.992Z"
   },
   {
    "duration": 29,
    "start_time": "2023-05-16T21:10:21.235Z"
   },
   {
    "duration": 262,
    "start_time": "2023-05-16T21:10:38.189Z"
   },
   {
    "duration": 35,
    "start_time": "2023-05-16T21:11:43.488Z"
   },
   {
    "duration": 278,
    "start_time": "2023-05-16T21:12:13.384Z"
   },
   {
    "duration": 295,
    "start_time": "2023-05-16T21:12:27.594Z"
   },
   {
    "duration": 31,
    "start_time": "2023-05-16T21:13:31.229Z"
   },
   {
    "duration": 13,
    "start_time": "2023-05-16T21:15:33.513Z"
   },
   {
    "duration": 20,
    "start_time": "2023-05-16T21:15:55.001Z"
   },
   {
    "duration": 286,
    "start_time": "2023-05-16T21:17:15.080Z"
   },
   {
    "duration": 10,
    "start_time": "2023-05-16T21:18:03.090Z"
   },
   {
    "duration": 34,
    "start_time": "2023-05-16T21:19:00.911Z"
   },
   {
    "duration": 28,
    "start_time": "2023-05-16T21:19:07.979Z"
   },
   {
    "duration": 5,
    "start_time": "2023-05-16T21:23:50.705Z"
   },
   {
    "duration": 237,
    "start_time": "2023-05-16T21:24:48.505Z"
   },
   {
    "duration": 13,
    "start_time": "2023-05-16T21:25:32.995Z"
   },
   {
    "duration": 50,
    "start_time": "2023-05-16T21:26:33.219Z"
   },
   {
    "duration": 40,
    "start_time": "2023-05-16T21:26:46.906Z"
   },
   {
    "duration": 34,
    "start_time": "2023-05-16T21:26:53.831Z"
   },
   {
    "duration": 28,
    "start_time": "2023-05-16T21:27:30.399Z"
   },
   {
    "duration": 13,
    "start_time": "2023-05-16T21:27:48.529Z"
   },
   {
    "duration": 9,
    "start_time": "2023-05-16T21:28:01.475Z"
   },
   {
    "duration": 20,
    "start_time": "2023-05-16T21:28:11.784Z"
   },
   {
    "duration": 20,
    "start_time": "2023-05-16T21:29:01.824Z"
   },
   {
    "duration": 627,
    "start_time": "2023-05-16T21:29:17.811Z"
   },
   {
    "duration": 13,
    "start_time": "2023-05-16T21:30:06.984Z"
   },
   {
    "duration": 11,
    "start_time": "2023-05-16T21:30:22.496Z"
   },
   {
    "duration": 14,
    "start_time": "2023-05-16T21:30:38.299Z"
   },
   {
    "duration": 12,
    "start_time": "2023-05-16T21:33:03.557Z"
   },
   {
    "duration": 15,
    "start_time": "2023-05-16T21:33:33.479Z"
   },
   {
    "duration": 16,
    "start_time": "2023-05-16T21:33:39.502Z"
   },
   {
    "duration": 8,
    "start_time": "2023-05-16T21:34:10.691Z"
   },
   {
    "duration": 9,
    "start_time": "2023-05-16T21:34:19.587Z"
   },
   {
    "duration": 37,
    "start_time": "2023-05-16T21:36:33.780Z"
   },
   {
    "duration": 97,
    "start_time": "2023-05-16T21:37:25.329Z"
   },
   {
    "duration": 36,
    "start_time": "2023-05-16T21:37:39.998Z"
   },
   {
    "duration": 9,
    "start_time": "2023-05-16T21:37:56.588Z"
   },
   {
    "duration": 10,
    "start_time": "2023-05-16T21:38:22.896Z"
   },
   {
    "duration": 275,
    "start_time": "2023-05-16T21:38:51.484Z"
   },
   {
    "duration": 283,
    "start_time": "2023-05-16T21:40:37.692Z"
   },
   {
    "duration": 37,
    "start_time": "2023-05-16T21:41:08.020Z"
   },
   {
    "duration": 239,
    "start_time": "2023-05-16T21:42:24.490Z"
   },
   {
    "duration": 43,
    "start_time": "2023-05-16T21:42:51.895Z"
   },
   {
    "duration": 303,
    "start_time": "2023-05-16T21:45:57.622Z"
   },
   {
    "duration": 58,
    "start_time": "2023-05-16T21:47:21.115Z"
   },
   {
    "duration": 185,
    "start_time": "2023-05-16T21:47:50.480Z"
   },
   {
    "duration": 61,
    "start_time": "2023-05-16T21:48:39.956Z"
   },
   {
    "duration": 50,
    "start_time": "2023-05-16T21:48:49.384Z"
   },
   {
    "duration": 12,
    "start_time": "2023-05-16T21:50:33.009Z"
   },
   {
    "duration": 237,
    "start_time": "2023-05-16T21:51:13.593Z"
   },
   {
    "duration": 1026,
    "start_time": "2023-05-16T21:56:37.654Z"
   },
   {
    "duration": 1859,
    "start_time": "2023-05-21T03:43:59.771Z"
   },
   {
    "duration": 2960,
    "start_time": "2023-05-21T03:44:01.632Z"
   },
   {
    "duration": 133,
    "start_time": "2023-05-21T03:44:04.594Z"
   },
   {
    "duration": 4,
    "start_time": "2023-05-21T03:44:04.729Z"
   },
   {
    "duration": 284,
    "start_time": "2023-05-21T03:44:07.790Z"
   },
   {
    "duration": 480,
    "start_time": "2023-05-21T03:44:37.967Z"
   },
   {
    "duration": 482,
    "start_time": "2023-05-21T03:44:38.449Z"
   },
   {
    "duration": 95,
    "start_time": "2023-05-21T03:44:41.505Z"
   },
   {
    "duration": 437,
    "start_time": "2023-05-21T03:46:09.044Z"
   },
   {
    "duration": 174,
    "start_time": "2023-05-21T03:46:48.480Z"
   },
   {
    "duration": 246,
    "start_time": "2023-05-21T03:46:50.269Z"
   },
   {
    "duration": 153,
    "start_time": "2023-05-21T03:46:52.725Z"
   },
   {
    "duration": 28,
    "start_time": "2023-05-21T03:46:56.582Z"
   },
   {
    "duration": 57,
    "start_time": "2023-05-21T03:47:02.523Z"
   },
   {
    "duration": 5,
    "start_time": "2023-05-21T03:47:16.390Z"
   },
   {
    "duration": 47,
    "start_time": "2023-05-21T03:47:18.946Z"
   },
   {
    "duration": 35,
    "start_time": "2023-05-21T03:47:35.714Z"
   },
   {
    "duration": 69,
    "start_time": "2023-05-21T03:47:48.923Z"
   },
   {
    "duration": 3,
    "start_time": "2023-05-21T03:48:02.996Z"
   },
   {
    "duration": 244,
    "start_time": "2023-05-21T03:48:03.348Z"
   },
   {
    "duration": 17,
    "start_time": "2023-05-21T03:48:12.546Z"
   },
   {
    "duration": 43,
    "start_time": "2023-05-21T03:48:14.446Z"
   },
   {
    "duration": 190,
    "start_time": "2023-05-21T03:48:17.896Z"
   },
   {
    "duration": 34,
    "start_time": "2023-05-21T03:48:39.849Z"
   },
   {
    "duration": 418,
    "start_time": "2023-05-21T03:48:46.306Z"
   },
   {
    "duration": 154,
    "start_time": "2023-05-21T03:48:59.057Z"
   },
   {
    "duration": 21,
    "start_time": "2023-05-21T03:49:38.710Z"
   },
   {
    "duration": 72,
    "start_time": "2023-05-21T03:49:58.471Z"
   },
   {
    "duration": 412,
    "start_time": "2023-05-21T03:50:00.679Z"
   },
   {
    "duration": 121,
    "start_time": "2023-05-21T03:50:50.348Z"
   },
   {
    "duration": 74,
    "start_time": "2023-05-21T03:51:31.847Z"
   },
   {
    "duration": 2,
    "start_time": "2023-05-21T03:51:53.318Z"
   },
   {
    "duration": 122,
    "start_time": "2023-05-21T03:51:55.597Z"
   },
   {
    "duration": 188,
    "start_time": "2023-05-21T03:53:08.347Z"
   },
   {
    "duration": 1763,
    "start_time": "2023-05-21T11:26:11.973Z"
   },
   {
    "duration": 1258,
    "start_time": "2023-05-21T11:26:14.977Z"
   },
   {
    "duration": 145,
    "start_time": "2023-05-21T11:26:19.911Z"
   },
   {
    "duration": 5,
    "start_time": "2023-05-21T11:26:23.143Z"
   },
   {
    "duration": 318,
    "start_time": "2023-05-21T11:26:25.403Z"
   },
   {
    "duration": 531,
    "start_time": "2023-05-21T11:26:30.447Z"
   },
   {
    "duration": 545,
    "start_time": "2023-05-21T11:26:32.629Z"
   },
   {
    "duration": 104,
    "start_time": "2023-05-21T11:26:36.294Z"
   },
   {
    "duration": 804,
    "start_time": "2023-05-21T11:26:41.729Z"
   },
   {
    "duration": 497,
    "start_time": "2023-05-21T11:26:45.248Z"
   },
   {
    "duration": 1177,
    "start_time": "2023-05-21T11:26:52.133Z"
   },
   {
    "duration": 36,
    "start_time": "2023-05-21T11:26:58.546Z"
   },
   {
    "duration": 204,
    "start_time": "2023-05-21T11:27:02.160Z"
   },
   {
    "duration": 249,
    "start_time": "2023-05-21T11:27:06.629Z"
   },
   {
    "duration": 151,
    "start_time": "2023-05-21T11:27:09.734Z"
   },
   {
    "duration": 32,
    "start_time": "2023-05-21T11:27:12.886Z"
   },
   {
    "duration": 58,
    "start_time": "2023-05-21T11:27:16.429Z"
   },
   {
    "duration": 4,
    "start_time": "2023-05-21T11:27:19.843Z"
   },
   {
    "duration": 59,
    "start_time": "2023-05-21T11:27:21.889Z"
   },
   {
    "duration": 35,
    "start_time": "2023-05-21T11:27:24.609Z"
   },
   {
    "duration": 49,
    "start_time": "2023-05-21T11:27:28.092Z"
   },
   {
    "duration": 177,
    "start_time": "2023-05-21T11:27:30.631Z"
   },
   {
    "duration": 18,
    "start_time": "2023-05-21T11:27:33.551Z"
   },
   {
    "duration": 48,
    "start_time": "2023-05-21T11:27:35.526Z"
   },
   {
    "duration": 202,
    "start_time": "2023-05-21T11:27:38.029Z"
   },
   {
    "duration": 41,
    "start_time": "2023-05-21T11:27:40.552Z"
   },
   {
    "duration": 26,
    "start_time": "2023-05-21T11:27:43.329Z"
   },
   {
    "duration": 472,
    "start_time": "2023-05-21T11:27:46.051Z"
   },
   {
    "duration": 191,
    "start_time": "2023-05-21T11:27:48.853Z"
   },
   {
    "duration": 26,
    "start_time": "2023-05-21T11:27:52.911Z"
   },
   {
    "duration": 83,
    "start_time": "2023-05-21T11:27:55.889Z"
   },
   {
    "duration": 443,
    "start_time": "2023-05-21T11:27:59.010Z"
   },
   {
    "duration": 91,
    "start_time": "2023-05-21T11:28:07.802Z"
   },
   {
    "duration": 3,
    "start_time": "2023-05-21T11:28:09.986Z"
   },
   {
    "duration": 140,
    "start_time": "2023-05-21T11:28:11.845Z"
   },
   {
    "duration": 9549,
    "start_time": "2023-05-21T11:29:04.636Z"
   },
   {
    "duration": 5,
    "start_time": "2023-05-21T11:29:32.630Z"
   },
   {
    "duration": 994,
    "start_time": "2023-05-21T11:29:34.729Z"
   },
   {
    "duration": 162,
    "start_time": "2023-05-21T11:29:38.743Z"
   },
   {
    "duration": 4,
    "start_time": "2023-05-21T11:29:41.504Z"
   },
   {
    "duration": 329,
    "start_time": "2023-05-21T11:29:43.996Z"
   },
   {
    "duration": 464,
    "start_time": "2023-05-21T11:29:48.124Z"
   },
   {
    "duration": 459,
    "start_time": "2023-05-21T11:29:50.889Z"
   },
   {
    "duration": 107,
    "start_time": "2023-05-21T11:29:55.584Z"
   },
   {
    "duration": 1031,
    "start_time": "2023-05-21T11:29:58.862Z"
   },
   {
    "duration": 521,
    "start_time": "2023-05-21T11:30:02.636Z"
   },
   {
    "duration": 1302,
    "start_time": "2023-05-21T11:30:07.129Z"
   },
   {
    "duration": 43,
    "start_time": "2023-05-21T11:30:13.406Z"
   },
   {
    "duration": 200,
    "start_time": "2023-05-21T11:30:17.561Z"
   },
   {
    "duration": 237,
    "start_time": "2023-05-21T11:30:20.269Z"
   },
   {
    "duration": 169,
    "start_time": "2023-05-21T11:30:22.939Z"
   },
   {
    "duration": 28,
    "start_time": "2023-05-21T11:30:25.785Z"
   },
   {
    "duration": 52,
    "start_time": "2023-05-21T11:30:29.441Z"
   },
   {
    "duration": 6,
    "start_time": "2023-05-21T11:30:31.596Z"
   },
   {
    "duration": 45,
    "start_time": "2023-05-21T11:30:33.945Z"
   },
   {
    "duration": 51,
    "start_time": "2023-05-21T11:30:36.095Z"
   },
   {
    "duration": 53,
    "start_time": "2023-05-21T11:30:39.796Z"
   },
   {
    "duration": 4,
    "start_time": "2023-05-21T11:30:42.741Z"
   },
   {
    "duration": 197,
    "start_time": "2023-05-21T11:30:44.500Z"
   },
   {
    "duration": 28,
    "start_time": "2023-05-21T11:30:46.652Z"
   },
   {
    "duration": 51,
    "start_time": "2023-05-21T11:30:48.941Z"
   },
   {
    "duration": 224,
    "start_time": "2023-05-21T11:30:51.151Z"
   },
   {
    "duration": 49,
    "start_time": "2023-05-21T11:30:53.889Z"
   },
   {
    "duration": 46,
    "start_time": "2023-05-21T11:30:56.846Z"
   },
   {
    "duration": 562,
    "start_time": "2023-05-21T11:30:59.750Z"
   },
   {
    "duration": 216,
    "start_time": "2023-05-21T11:31:02.546Z"
   },
   {
    "duration": 32,
    "start_time": "2023-05-21T11:31:06.780Z"
   },
   {
    "duration": 91,
    "start_time": "2023-05-21T11:31:09.989Z"
   },
   {
    "duration": 388,
    "start_time": "2023-05-21T11:31:11.664Z"
   },
   {
    "duration": 78,
    "start_time": "2023-05-21T11:31:17.262Z"
   },
   {
    "duration": 3,
    "start_time": "2023-05-21T11:31:20.158Z"
   },
   {
    "duration": 24,
    "start_time": "2023-05-21T11:31:22.505Z"
   },
   {
    "duration": 21,
    "start_time": "2023-05-21T11:31:31.726Z"
   },
   {
    "duration": 3,
    "start_time": "2023-05-21T11:31:39.071Z"
   },
   {
    "duration": 22,
    "start_time": "2023-05-21T11:31:41.066Z"
   },
   {
    "duration": 1359,
    "start_time": "2023-05-21T11:31:59.204Z"
   },
   {
    "duration": 1052,
    "start_time": "2023-05-21T11:32:00.565Z"
   },
   {
    "duration": 157,
    "start_time": "2023-05-21T11:32:01.619Z"
   },
   {
    "duration": 10,
    "start_time": "2023-05-21T11:32:01.778Z"
   },
   {
    "duration": 362,
    "start_time": "2023-05-21T11:32:01.801Z"
   },
   {
    "duration": 556,
    "start_time": "2023-05-21T11:32:02.165Z"
   },
   {
    "duration": 588,
    "start_time": "2023-05-21T11:32:02.724Z"
   },
   {
    "duration": 126,
    "start_time": "2023-05-21T11:32:03.315Z"
   },
   {
    "duration": 1026,
    "start_time": "2023-05-21T11:32:03.442Z"
   },
   {
    "duration": 578,
    "start_time": "2023-05-21T11:32:04.470Z"
   },
   {
    "duration": 1328,
    "start_time": "2023-05-21T11:32:05.050Z"
   },
   {
    "duration": 50,
    "start_time": "2023-05-21T11:32:06.380Z"
   },
   {
    "duration": 231,
    "start_time": "2023-05-21T11:32:06.431Z"
   },
   {
    "duration": 302,
    "start_time": "2023-05-21T11:32:06.666Z"
   },
   {
    "duration": 192,
    "start_time": "2023-05-21T11:32:06.970Z"
   },
   {
    "duration": 46,
    "start_time": "2023-05-21T11:32:07.164Z"
   },
   {
    "duration": 64,
    "start_time": "2023-05-21T11:32:07.212Z"
   },
   {
    "duration": 5,
    "start_time": "2023-05-21T11:32:07.278Z"
   },
   {
    "duration": 64,
    "start_time": "2023-05-21T11:32:07.298Z"
   },
   {
    "duration": 70,
    "start_time": "2023-05-21T11:32:07.364Z"
   },
   {
    "duration": 62,
    "start_time": "2023-05-21T11:32:07.436Z"
   },
   {
    "duration": 8,
    "start_time": "2023-05-21T11:32:07.501Z"
   },
   {
    "duration": 236,
    "start_time": "2023-05-21T11:32:07.512Z"
   },
   {
    "duration": 20,
    "start_time": "2023-05-21T11:32:07.750Z"
   },
   {
    "duration": 73,
    "start_time": "2023-05-21T11:32:07.772Z"
   },
   {
    "duration": 243,
    "start_time": "2023-05-21T11:32:07.847Z"
   },
   {
    "duration": 61,
    "start_time": "2023-05-21T11:32:08.098Z"
   },
   {
    "duration": 56,
    "start_time": "2023-05-21T11:32:08.161Z"
   },
   {
    "duration": 485,
    "start_time": "2023-05-21T11:32:08.219Z"
   },
   {
    "duration": 219,
    "start_time": "2023-05-21T11:32:08.707Z"
   },
   {
    "duration": 23,
    "start_time": "2023-05-21T11:32:08.928Z"
   },
   {
    "duration": 110,
    "start_time": "2023-05-21T11:32:08.952Z"
   },
   {
    "duration": 413,
    "start_time": "2023-05-21T11:32:09.064Z"
   },
   {
    "duration": 78,
    "start_time": "2023-05-21T11:32:09.479Z"
   },
   {
    "duration": 3,
    "start_time": "2023-05-21T11:32:09.558Z"
   },
   {
    "duration": 78,
    "start_time": "2023-05-21T11:32:09.562Z"
   }
  ],
  "kernelspec": {
   "display_name": "Python 3 (ipykernel)",
   "language": "python",
   "name": "python3"
  },
  "language_info": {
   "codemirror_mode": {
    "name": "ipython",
    "version": 3
   },
   "file_extension": ".py",
   "mimetype": "text/x-python",
   "name": "python",
   "nbconvert_exporter": "python",
   "pygments_lexer": "ipython3",
   "version": "3.9.15"
  },
  "toc": {
   "base_numbering": 1,
   "nav_menu": {},
   "number_sections": true,
   "sideBar": true,
   "skip_h1_title": true,
   "title_cell": "Table of Contents",
   "title_sidebar": "Contents",
   "toc_cell": false,
   "toc_position": {
    "height": "calc(100% - 180px)",
    "left": "10px",
    "top": "150px",
    "width": "316.1875px"
   },
   "toc_section_display": true,
   "toc_window_display": true
  }
 },
 "nbformat": 4,
 "nbformat_minor": 2
}
