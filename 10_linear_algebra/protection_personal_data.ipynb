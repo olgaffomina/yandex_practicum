{
 "cells": [
  {
   "cell_type": "markdown",
   "metadata": {
    "toc": true
   },
   "source": [
    "<h1>Содержание<span class=\"tocSkip\"></span></h1>\n",
    "<div class=\"toc\"><ul class=\"toc-item\"><li><span><a href=\"#Загрузка-данных\" data-toc-modified-id=\"Загрузка-данных-1\"><span class=\"toc-item-num\">1&nbsp;&nbsp;</span>Загрузка данных</a></span></li><li><span><a href=\"#Умножение-матриц\" data-toc-modified-id=\"Умножение-матриц-2\"><span class=\"toc-item-num\">2&nbsp;&nbsp;</span>Умножение матриц</a></span></li><li><span><a href=\"#Алгоритм-преобразования\" data-toc-modified-id=\"Алгоритм-преобразования-3\"><span class=\"toc-item-num\">3&nbsp;&nbsp;</span>Алгоритм преобразования</a></span></li><li><span><a href=\"#Проверка-алгоритма\" data-toc-modified-id=\"Проверка-алгоритма-4\"><span class=\"toc-item-num\">4&nbsp;&nbsp;</span>Проверка алгоритма</a></span></li><li><span><a href=\"#Чек-лист-проверки\" data-toc-modified-id=\"Чек-лист-проверки-5\"><span class=\"toc-item-num\">5&nbsp;&nbsp;</span>Чек-лист проверки</a></span></li></ul></div>"
   ]
  },
  {
   "cell_type": "markdown",
   "metadata": {},
   "source": [
    "# Защита персональных данных клиентов"
   ]
  },
  {
   "cell_type": "markdown",
   "metadata": {},
   "source": [
    "Вам нужно защитить данные клиентов страховой компании «Хоть потоп». Разработайте такой метод преобразования данных, чтобы по ним было сложно восстановить персональную информацию. Обоснуйте корректность его работы.\n",
    "\n",
    "Нужно защитить данные, чтобы при преобразовании качество моделей машинного обучения не ухудшилось. Подбирать наилучшую модель не требуется."
   ]
  },
  {
   "cell_type": "markdown",
   "metadata": {},
   "source": [
    "**Описание данных**\n",
    "\n",
    "**Признаки:** пол, возраст и зарплата застрахованного, количество членов его семьи.\n",
    "\n",
    "**Целевой признак:** количество страховых выплат клиенту за последние 5 лет."
   ]
  },
  {
   "cell_type": "markdown",
   "metadata": {},
   "source": [
    "## Загрузка данных"
   ]
  },
  {
   "cell_type": "code",
   "execution_count": 20,
   "metadata": {},
   "outputs": [],
   "source": [
    "import pandas as pd\n",
    "import numpy as np\n",
    "import matplotlib.pyplot as plt\n",
    "import seaborn as sns\n",
    "from sklearn.linear_model import LinearRegression\n",
    "from sklearn.metrics import r2_score"
   ]
  },
  {
   "cell_type": "code",
   "execution_count": 21,
   "metadata": {},
   "outputs": [
    {
     "data": {
      "text/html": [
       "<div>\n",
       "<style scoped>\n",
       "    .dataframe tbody tr th:only-of-type {\n",
       "        vertical-align: middle;\n",
       "    }\n",
       "\n",
       "    .dataframe tbody tr th {\n",
       "        vertical-align: top;\n",
       "    }\n",
       "\n",
       "    .dataframe thead th {\n",
       "        text-align: right;\n",
       "    }\n",
       "</style>\n",
       "<table border=\"1\" class=\"dataframe\">\n",
       "  <thead>\n",
       "    <tr style=\"text-align: right;\">\n",
       "      <th></th>\n",
       "      <th>Пол</th>\n",
       "      <th>Возраст</th>\n",
       "      <th>Зарплата</th>\n",
       "      <th>Члены семьи</th>\n",
       "      <th>Страховые выплаты</th>\n",
       "    </tr>\n",
       "  </thead>\n",
       "  <tbody>\n",
       "    <tr>\n",
       "      <th>0</th>\n",
       "      <td>1</td>\n",
       "      <td>41.0</td>\n",
       "      <td>49600.0</td>\n",
       "      <td>1</td>\n",
       "      <td>0</td>\n",
       "    </tr>\n",
       "    <tr>\n",
       "      <th>1</th>\n",
       "      <td>0</td>\n",
       "      <td>46.0</td>\n",
       "      <td>38000.0</td>\n",
       "      <td>1</td>\n",
       "      <td>1</td>\n",
       "    </tr>\n",
       "    <tr>\n",
       "      <th>2</th>\n",
       "      <td>0</td>\n",
       "      <td>29.0</td>\n",
       "      <td>21000.0</td>\n",
       "      <td>0</td>\n",
       "      <td>0</td>\n",
       "    </tr>\n",
       "    <tr>\n",
       "      <th>3</th>\n",
       "      <td>0</td>\n",
       "      <td>21.0</td>\n",
       "      <td>41700.0</td>\n",
       "      <td>2</td>\n",
       "      <td>0</td>\n",
       "    </tr>\n",
       "    <tr>\n",
       "      <th>4</th>\n",
       "      <td>1</td>\n",
       "      <td>28.0</td>\n",
       "      <td>26100.0</td>\n",
       "      <td>0</td>\n",
       "      <td>0</td>\n",
       "    </tr>\n",
       "  </tbody>\n",
       "</table>\n",
       "</div>"
      ],
      "text/plain": [
       "   Пол  Возраст  Зарплата  Члены семьи  Страховые выплаты\n",
       "0    1     41.0   49600.0            1                  0\n",
       "1    0     46.0   38000.0            1                  1\n",
       "2    0     29.0   21000.0            0                  0\n",
       "3    0     21.0   41700.0            2                  0\n",
       "4    1     28.0   26100.0            0                  0"
      ]
     },
     "execution_count": 21,
     "metadata": {},
     "output_type": "execute_result"
    }
   ],
   "source": [
    "# чтение файла\n",
    "try:\n",
    "    df = pd.read_csv('/datasets/insurance.csv')\n",
    "except:\n",
    "    df = pd.read_csv('insurance.csv')\n",
    "    \n",
    "df.head(5)"
   ]
  },
  {
   "cell_type": "code",
   "execution_count": 22,
   "metadata": {},
   "outputs": [
    {
     "name": "stdout",
     "output_type": "stream",
     "text": [
      "<class 'pandas.core.frame.DataFrame'>\n",
      "RangeIndex: 5000 entries, 0 to 4999\n",
      "Data columns (total 5 columns):\n",
      " #   Column             Non-Null Count  Dtype  \n",
      "---  ------             --------------  -----  \n",
      " 0   Пол                5000 non-null   int64  \n",
      " 1   Возраст            5000 non-null   float64\n",
      " 2   Зарплата           5000 non-null   float64\n",
      " 3   Члены семьи        5000 non-null   int64  \n",
      " 4   Страховые выплаты  5000 non-null   int64  \n",
      "dtypes: float64(2), int64(3)\n",
      "memory usage: 195.4 KB\n"
     ]
    }
   ],
   "source": [
    "#просмотр общей информации\n",
    "df.info()"
   ]
  },
  {
   "cell_type": "code",
   "execution_count": 23,
   "metadata": {},
   "outputs": [
    {
     "name": "stdout",
     "output_type": "stream",
     "text": [
      "\u001b[1m\n",
      "Проверка пропусков\u001b[0m\n",
      "Количество пропусков: 0\n"
     ]
    }
   ],
   "source": [
    "#проверка пропусков\n",
    "print ('\\033[1m' + '\\nПроверка пропусков'+ '\\033[0m')\n",
    "print ('Количество пропусков: {:.0f}'.format(df.isnull().sum().sum()))\n"
   ]
  },
  {
   "cell_type": "code",
   "execution_count": 24,
   "metadata": {},
   "outputs": [
    {
     "name": "stdout",
     "output_type": "stream",
     "text": [
      "153\n"
     ]
    }
   ],
   "source": [
    "#проверка на дубликаты\n",
    "print(df.duplicated().sum())"
   ]
  },
  {
   "cell_type": "markdown",
   "metadata": {},
   "source": [
    "В отчете 153 строчки с дубликатами, строки оставим, так как остсутствует данные с Id, и возможно это разные люди, но с одинаковыми параметрами"
   ]
  },
  {
   "cell_type": "code",
   "execution_count": 25,
   "metadata": {},
   "outputs": [
    {
     "data": {
      "text/html": [
       "<div>\n",
       "<style scoped>\n",
       "    .dataframe tbody tr th:only-of-type {\n",
       "        vertical-align: middle;\n",
       "    }\n",
       "\n",
       "    .dataframe tbody tr th {\n",
       "        vertical-align: top;\n",
       "    }\n",
       "\n",
       "    .dataframe thead th {\n",
       "        text-align: right;\n",
       "    }\n",
       "</style>\n",
       "<table border=\"1\" class=\"dataframe\">\n",
       "  <thead>\n",
       "    <tr style=\"text-align: right;\">\n",
       "      <th></th>\n",
       "      <th>count</th>\n",
       "      <th>mean</th>\n",
       "      <th>std</th>\n",
       "      <th>min</th>\n",
       "      <th>25%</th>\n",
       "      <th>50%</th>\n",
       "      <th>75%</th>\n",
       "      <th>max</th>\n",
       "    </tr>\n",
       "  </thead>\n",
       "  <tbody>\n",
       "    <tr>\n",
       "      <th>Пол</th>\n",
       "      <td>5000.0</td>\n",
       "      <td>0.50</td>\n",
       "      <td>0.50</td>\n",
       "      <td>0.0</td>\n",
       "      <td>0.0</td>\n",
       "      <td>0.0</td>\n",
       "      <td>1.0</td>\n",
       "      <td>1.0</td>\n",
       "    </tr>\n",
       "    <tr>\n",
       "      <th>Возраст</th>\n",
       "      <td>5000.0</td>\n",
       "      <td>30.95</td>\n",
       "      <td>8.44</td>\n",
       "      <td>18.0</td>\n",
       "      <td>24.0</td>\n",
       "      <td>30.0</td>\n",
       "      <td>37.0</td>\n",
       "      <td>65.0</td>\n",
       "    </tr>\n",
       "    <tr>\n",
       "      <th>Зарплата</th>\n",
       "      <td>5000.0</td>\n",
       "      <td>39916.36</td>\n",
       "      <td>9900.08</td>\n",
       "      <td>5300.0</td>\n",
       "      <td>33300.0</td>\n",
       "      <td>40200.0</td>\n",
       "      <td>46600.0</td>\n",
       "      <td>79000.0</td>\n",
       "    </tr>\n",
       "    <tr>\n",
       "      <th>Члены семьи</th>\n",
       "      <td>5000.0</td>\n",
       "      <td>1.19</td>\n",
       "      <td>1.09</td>\n",
       "      <td>0.0</td>\n",
       "      <td>0.0</td>\n",
       "      <td>1.0</td>\n",
       "      <td>2.0</td>\n",
       "      <td>6.0</td>\n",
       "    </tr>\n",
       "    <tr>\n",
       "      <th>Страховые выплаты</th>\n",
       "      <td>5000.0</td>\n",
       "      <td>0.15</td>\n",
       "      <td>0.46</td>\n",
       "      <td>0.0</td>\n",
       "      <td>0.0</td>\n",
       "      <td>0.0</td>\n",
       "      <td>0.0</td>\n",
       "      <td>5.0</td>\n",
       "    </tr>\n",
       "  </tbody>\n",
       "</table>\n",
       "</div>"
      ],
      "text/plain": [
       "                    count      mean      std     min      25%      50%  \\\n",
       "Пол                5000.0      0.50     0.50     0.0      0.0      0.0   \n",
       "Возраст            5000.0     30.95     8.44    18.0     24.0     30.0   \n",
       "Зарплата           5000.0  39916.36  9900.08  5300.0  33300.0  40200.0   \n",
       "Члены семьи        5000.0      1.19     1.09     0.0      0.0      1.0   \n",
       "Страховые выплаты  5000.0      0.15     0.46     0.0      0.0      0.0   \n",
       "\n",
       "                       75%      max  \n",
       "Пол                    1.0      1.0  \n",
       "Возраст               37.0     65.0  \n",
       "Зарплата           46600.0  79000.0  \n",
       "Члены семьи            2.0      6.0  \n",
       "Страховые выплаты      0.0      5.0  "
      ]
     },
     "metadata": {},
     "output_type": "display_data"
    }
   ],
   "source": [
    "#описание данных\n",
    "display(df.describe().round(2).T)"
   ]
  },
  {
   "cell_type": "markdown",
   "metadata": {},
   "source": [
    " - Возраст клиентов от 18 до 65 лет\n",
    " - Доход от 5300 до 79000\n",
    " - Страховых выплат от 0 до 5"
   ]
  },
  {
   "cell_type": "code",
   "execution_count": 26,
   "metadata": {},
   "outputs": [
    {
     "data": {
      "image/png": "[encoded data removed]",
      "text/plain": [
       "<Figure size 504x360 with 1 Axes>"
      ]
     },
     "metadata": {
      "needs_background": "light"
     },
     "output_type": "display_data"
    }
   ],
   "source": [
    "#гистограмма распределения страховых выплат\n",
    "plt.figure(figsize=[7,5])\n",
    "\n",
    "plt.hist(df['Страховые выплаты'])\n",
    "\n",
    "plt.xlabel('Количество страховых выплат')\n",
    "plt.title('Гистограмма распределения количества страховых выплат')\n",
    "\n",
    "plt.show()"
   ]
  },
  {
   "cell_type": "code",
   "execution_count": 27,
   "metadata": {},
   "outputs": [
    {
     "data": {
      "text/plain": [
       "0    4436\n",
       "1     423\n",
       "2     115\n",
       "3      18\n",
       "4       7\n",
       "5       1\n",
       "Name: Страховые выплаты, dtype: int64"
      ]
     },
     "execution_count": 27,
     "metadata": {},
     "output_type": "execute_result"
    }
   ],
   "source": [
    "# количество страховых выплат\n",
    "df['Страховые выплаты'].value_counts()"
   ]
  },
  {
   "cell_type": "code",
   "execution_count": 28,
   "metadata": {},
   "outputs": [
    {
     "data": {
      "text/plain": [
       "0    0.8872\n",
       "1    0.0846\n",
       "2    0.0230\n",
       "3    0.0036\n",
       "4    0.0014\n",
       "5    0.0002\n",
       "Name: Страховые выплаты, dtype: float64"
      ]
     },
     "execution_count": 28,
     "metadata": {},
     "output_type": "execute_result"
    }
   ],
   "source": [
    "# количество страховых выплат ( в относительных значениях,%)\n",
    "df['Страховые выплаты'].value_counts(normalize=1)"
   ]
  },
  {
   "cell_type": "code",
   "execution_count": 29,
   "metadata": {},
   "outputs": [
    {
     "data": {
      "text/html": [
       "<div>\n",
       "<style scoped>\n",
       "    .dataframe tbody tr th:only-of-type {\n",
       "        vertical-align: middle;\n",
       "    }\n",
       "\n",
       "    .dataframe tbody tr th {\n",
       "        vertical-align: top;\n",
       "    }\n",
       "\n",
       "    .dataframe thead th {\n",
       "        text-align: right;\n",
       "    }\n",
       "</style>\n",
       "<table border=\"1\" class=\"dataframe\">\n",
       "  <thead>\n",
       "    <tr style=\"text-align: right;\">\n",
       "      <th></th>\n",
       "      <th>Пол</th>\n",
       "      <th>Возраст</th>\n",
       "      <th>Зарплата</th>\n",
       "      <th>Члены семьи</th>\n",
       "      <th>Страховые выплаты</th>\n",
       "    </tr>\n",
       "  </thead>\n",
       "  <tbody>\n",
       "    <tr>\n",
       "      <th>Пол</th>\n",
       "      <td>1.0000</td>\n",
       "      <td>0.0021</td>\n",
       "      <td>0.0149</td>\n",
       "      <td>-0.0090</td>\n",
       "      <td>0.0101</td>\n",
       "    </tr>\n",
       "    <tr>\n",
       "      <th>Возраст</th>\n",
       "      <td>0.0021</td>\n",
       "      <td>1.0000</td>\n",
       "      <td>-0.0191</td>\n",
       "      <td>-0.0067</td>\n",
       "      <td>0.6510</td>\n",
       "    </tr>\n",
       "    <tr>\n",
       "      <th>Зарплата</th>\n",
       "      <td>0.0149</td>\n",
       "      <td>-0.0191</td>\n",
       "      <td>1.0000</td>\n",
       "      <td>-0.0303</td>\n",
       "      <td>-0.0150</td>\n",
       "    </tr>\n",
       "    <tr>\n",
       "      <th>Члены семьи</th>\n",
       "      <td>-0.0090</td>\n",
       "      <td>-0.0067</td>\n",
       "      <td>-0.0303</td>\n",
       "      <td>1.0000</td>\n",
       "      <td>-0.0363</td>\n",
       "    </tr>\n",
       "    <tr>\n",
       "      <th>Страховые выплаты</th>\n",
       "      <td>0.0101</td>\n",
       "      <td>0.6510</td>\n",
       "      <td>-0.0150</td>\n",
       "      <td>-0.0363</td>\n",
       "      <td>1.0000</td>\n",
       "    </tr>\n",
       "  </tbody>\n",
       "</table>\n",
       "</div>"
      ],
      "text/plain": [
       "                      Пол  Возраст  Зарплата  Члены семьи  Страховые выплаты\n",
       "Пол                1.0000   0.0021    0.0149      -0.0090             0.0101\n",
       "Возраст            0.0021   1.0000   -0.0191      -0.0067             0.6510\n",
       "Зарплата           0.0149  -0.0191    1.0000      -0.0303            -0.0150\n",
       "Члены семьи       -0.0090  -0.0067   -0.0303       1.0000            -0.0363\n",
       "Страховые выплаты  0.0101   0.6510   -0.0150      -0.0363             1.0000"
      ]
     },
     "execution_count": 29,
     "metadata": {},
     "output_type": "execute_result"
    }
   ],
   "source": [
    "df.corr().round(4)"
   ]
  },
  {
   "cell_type": "code",
   "execution_count": 30,
   "metadata": {},
   "outputs": [
    {
     "data": {
      "image/png": "[encoded data removed]",
      "text/plain": [
       "<Figure size 432x288 with 2 Axes>"
      ]
     },
     "metadata": {
      "needs_background": "light"
     },
     "output_type": "display_data"
    }
   ],
   "source": [
    "#Корреляция числовых признаков\n",
    "sns.heatmap(df[[ 'Пол','Возраст', 'Зарплата', 'Члены семьи', 'Страховые выплаты']].corr(), cmap='RdYlGn', annot=True)\n",
    "plt.title('Корреляция числовых признаков')\n",
    "plt.show()"
   ]
  },
  {
   "cell_type": "markdown",
   "metadata": {},
   "source": [
    "Мультиколлинеарности не налюдается, самое большое влияние оказывает возраст клиента на количество страховых выплат."
   ]
  },
  {
   "cell_type": "code",
   "execution_count": 33,
   "metadata": {},
   "outputs": [
    {
     "data": {
      "image/png": "[encoded data removed]",
      "text/plain": [
       "<Figure size 864x360 with 1 Axes>"
      ]
     },
     "metadata": {
      "needs_background": "light"
     },
     "output_type": "display_data"
    }
   ],
   "source": [
    "# график распределения страховых выплат\n",
    "plt.figure(figsize = (12,5))\n",
    "sns.barplot( x= df['Страховые выплаты'], y= df['Возраст'], data=df)\n",
    "plt.title('Количество выплат в разрезе возраста клиента')\n",
    "plt.xlabel('Количество страховых выплат')\n",
    "plt.ylabel('Возраст')\n",
    "plt.show()"
   ]
  },
  {
   "cell_type": "markdown",
   "metadata": {},
   "source": [
    "**Вывод:**\n",
    "Загружены и исследованы данные:\n",
    "   - данные содержат 5000 строк\n",
    "   - пропуски отсутствуют\n",
    "   - 153 строки с дубликатами\n",
    "   - 88% процентов клиентов не обращались за страховой выплатой\n",
    "   - мультиколлинеарности не налюдается, самое большое влияние оказывает возраст клиента на количество страховых выплат.\n",
    "   -  в возрасте от от 18 до 30 - нет страховых выплат, от 40 до 50 - 1 страховая выплатаБ от 50 лет - от 2 выплат"
   ]
  },
  {
   "cell_type": "markdown",
   "metadata": {},
   "source": [
    "## Умножение матриц"
   ]
  },
  {
   "cell_type": "markdown",
   "metadata": {},
   "source": [
    "В этом задании вы можете записывать формулы в *Jupyter Notebook.*\n",
    "\n",
    "Чтобы записать формулу внутри текста, окружите её символами доллара \\\\$; если снаружи —  двойными символами \\\\$\\\\$. Эти формулы записываются на языке вёрстки *LaTeX.* \n",
    "\n",
    "Для примера мы записали формулы линейной регрессии. Можете их скопировать и отредактировать, чтобы решить задачу.\n",
    "\n",
    "Работать в *LaTeX* необязательно."
   ]
  },
  {
   "cell_type": "markdown",
   "metadata": {},
   "source": [
    "**Вопрос:**  Признаки умножают на обратимую матрицу. Изменится ли качество линейной регрессии? (Её можно обучить заново.)\n",
    " \n",
    " a. Изменится. Приведите примеры матриц.\n",
    " \n",
    " b. Не изменится. Укажите, как связаны параметры линейной регрессии в исходной задаче и в преобразованной."
   ]
  },
  {
   "cell_type": "markdown",
   "metadata": {},
   "source": [
    "Обозначения:\n",
    "\n",
    "- $X$ — матрица признаков (нулевой столбец состоит из единиц)\n",
    "\n",
    "- $y$ — вектор целевого признака\n",
    "\n",
    "- $P$ — матрица, на которую умножаются признаки\n",
    "\n",
    "- $w$ — вектор весов линейной регрессии (нулевой элемент равен сдвигу)"
   ]
  },
  {
   "cell_type": "markdown",
   "metadata": {},
   "source": [
    "Предсказания:\n",
    "\n",
    "$$\n",
    "a = Xw\n",
    "$$\n",
    "\n",
    "Задача обучения:\n",
    "\n",
    "$$\n",
    "w = \\arg\\min_w MSE(Xw, y)\n",
    "$$\n",
    "\n",
    "Формула обучения:\n",
    "\n",
    "$$\n",
    "w = (X^T X)^{-1} X^T y\n",
    "$$"
   ]
  },
  {
   "cell_type": "markdown",
   "metadata": {},
   "source": [
    "**Ответ:** При умножении матрицы признаков на произвольную обратимую матрицу, предсказания *а* не изменятся"
   ]
  },
  {
   "cell_type": "markdown",
   "metadata": {},
   "source": [
    "**Обоснование:** \n",
    "\n",
    "Предсказания расчитываются по формуле $a = Xw$,\n",
    "где *X* - матрица признаков, *w* - вектор весов линейной регрессии \n",
    "\n",
    "Пусть *P* - произвольная обратимая матрица, на которую умножаются признаки. \n",
    "\n",
    "Тогда предсказания рассчитываются по формуле $a_1 = XPw_1$\n",
    "\n",
    "Докажем, что $a_1 = a$"
   ]
  },
  {
   "cell_type": "markdown",
   "metadata": {},
   "source": [
    "Подставим в формулу обучения произведение *XP* вместо *Х*  и обозначим новую переменную $w_1$\n",
    "\n",
    "$$ w = (X^T X)^{-1} X^T \\cdot y$$\n",
    "\n",
    "$$ w_1 = ((XP)^T XP)^{-1} (XP)^T  \\cdot y$$"
   ]
  },
  {
   "cell_type": "markdown",
   "metadata": {},
   "source": [
    "Теперь подставим $w_1$ в формулу предсказаний и вычислим $a_1$:\n",
    "\n",
    "$$a_1 = XPw_1 = XP \\cdot((XP)^T XP)^{-1} (XP)^T \\cdot y $$"
   ]
  },
  {
   "cell_type": "markdown",
   "metadata": {},
   "source": [
    "Перобразуем формулу, используя свойство транспонирования матриц: $(A*B)^T = B^T * A^T$\n",
    "\n",
    "$$a_1  = XP \\cdot(P^T X^T XP)^{-1} (P^T X^T)\\cdot  y$$"
   ]
  },
  {
   "cell_type": "markdown",
   "metadata": {},
   "source": [
    "Преобразуем далее по свойству обратных матриц: $(AB)^-1 = A^{-1} B^{-1}$\n",
    "\n",
    "$$a_1  = XP \\cdot((P^T)^{-1} (X^T X)^{-1} (P)^{-1})\\cdot (P^T X^T)\\cdot  y$$"
   ]
  },
  {
   "cell_type": "markdown",
   "metadata": {},
   "source": [
    " так как по условию задачи матрица признаков умножается на обратимую матрицу, следовательно матрица $P$ квадратная, значит $((P^T)^{-1} (X^T X)^{-1} P^{-1})$ можем заменить на $(P^{-1} (X^T X)^{-1}(P^T)^{-1})$, получаем: \n",
    " \n",
    "$$a_1  = XP \\cdot P^{-1} (X^T X)^{-1} (P^T)^{-1} \\cdot(P^T X^T) \\cdot y$$ "
   ]
  },
  {
   "cell_type": "markdown",
   "metadata": {},
   "source": [
    "Для невырожденной квадратной матрицы $A (\\det A\\ne 0)$ существует обратная матрица $A^{-1}$ , такая что $A\\cdot A^{-1}=A^{-1}\\cdot A=E$ , где $E$ -  единичная матрица. \n",
    "\n",
    "Единичная матрица E коммутативна с любой другой, то есть $E \\cdot A =A \\cdot E = A$ и играет роль единицы при умножении. \n",
    "\n",
    "$$a_1  = X\\cdot E \\cdot (X^T X)^{-1}  E  \\cdot X^T \\cdot y  = X(X^T X)^{-1} X^T \\cdot y = a$$\n"
   ]
  },
  {
   "cell_type": "markdown",
   "metadata": {},
   "source": [
    "Доказали, что при умножении матрицы признаков на произвольную обратимую матрицу предсказания модели не изменятся, $a_1 = a$"
   ]
  },
  {
   "cell_type": "markdown",
   "metadata": {},
   "source": [
    "Подставим в формулу обучения произведение *XP* вместо *Х*  и обозначим новую переменную $w_1$\n",
    "\n",
    "$$ w = (X^T X)^{-1} X^T \\cdot y$$\n",
    "\n",
    "$$ w_1 = ((XP)^T XP)^{-1} (XP)^T  \\cdot y$$\n",
    "Теперь подставим $w_1$ в формулу предсказаний и вычислим $a_1$:\n",
    "\n",
    "$$a_1 = XPw_1 = XP \\cdot((XP)^T XP)^{-1} (XP)^T \\cdot y $$"
   ]
  },
  {
   "cell_type": "markdown",
   "metadata": {},
   "source": [
    "Раскроем скобки $(XP)^T$,  используя свойство транспонирования матриц: $(A*B)^T = B^T * A^T$\n",
    "получится $(XP)^T = P^T X^T$.\n",
    "Общая формула будет иметь следующий вид:\n",
    "$$a_1  = XP \\cdot(P^T X^T X P)^{-1} \\cdot P^T X^T\\cdot  y$$\n"
   ]
  },
  {
   "cell_type": "markdown",
   "metadata": {},
   "source": [
    "Далее раскроем $(P^T X^TX P)^{-1}$ это можно сделать если воспользоваться свойством: $(ABC)^{-1} = C^{-1} B^{-1} A^{-1}$ где $A = P^T$, $B = X^T X$, $C = P$ В итоге получаем: $(P^T X^TX P)^{-1} = P^{-1} (X^TX)^{-1} (P^T)^{-1}$\n",
    "\n",
    "Общая формула принимает следующий вид:\n",
    "$$a_1  = XP \\cdot P^{-1} (X^TX)^{-1} (P^T)^{-1} \\cdot P^T X^T\\cdot  y$$"
   ]
  },
  {
   "cell_type": "markdown",
   "metadata": {},
   "source": [
    "Для невырожденной квадратной матрицы $A (\\det A\\ne 0)$ существует обратная матрица $A^{-1}$ , такая что $A\\cdot A^{-1}=A^{-1}\\cdot A=E$ , где $E$ -  единичная матрица.\n",
    "\n",
    "Т.е заменим $P \\cdot P^{-1} = E$  и $(P^T)^{-1} \\cdot P^T = E$\n",
    "\n",
    "Общая формула принимает следующий вид:\n",
    "$$a_1  = X\\cdot E \\cdot (X^T X)^{-1}  E  \\cdot X^T \\cdot y $$\n",
    "\n",
    "Единичная матрица E коммутативна с любой другой, то есть $E \\cdot A =A \\cdot E = A$ и играет роль единицы при умножении, получим: \n",
    "\n",
    "$$a_1  = X\\cdot E \\cdot (X^T X)^{-1}  E  \\cdot X^T \\cdot y  = X(X^T X)^{-1} X^T \\cdot y = a$$"
   ]
  },
  {
   "cell_type": "markdown",
   "metadata": {},
   "source": [
    "Доказали, что при умножении матрицы признаков на произвольную обратимую матрицу предсказания модели не изменятся, $a_1 = a$"
   ]
  },
  {
   "cell_type": "markdown",
   "metadata": {},
   "source": [
    "## Алгоритм преобразования"
   ]
  },
  {
   "cell_type": "markdown",
   "metadata": {},
   "source": [
    "**Алгоритм**\n",
    "1. Разделение данных на features и target(признаки и целевой признак)\n",
    "2. Создание произвольной обратимой матрицы \n",
    "3. Обучение модели и расчет метрики R2 на данных без преобразований\n",
    "4. Расчет произведения призноков на произвольную обратимую матрицу\n",
    "5. Обучение модели и расчет метрики R2  на новых данных\n",
    "6. Сравнение значений метрик"
   ]
  },
  {
   "cell_type": "markdown",
   "metadata": {},
   "source": [
    "**Обоснование:**\n",
    "\n",
    "Согласно расчету, при умножнии матрицы признаков на произвольную обратимую матрицу, предсказания модели не изменятся. Но при этом мы сможем зашифровать персональные данные клиентов, без потери качество модели."
   ]
  },
  {
   "cell_type": "markdown",
   "metadata": {},
   "source": [
    "## Проверка алгоритма"
   ]
  },
  {
   "cell_type": "code",
   "execution_count": 34,
   "metadata": {},
   "outputs": [
    {
     "name": "stdout",
     "output_type": "stream",
     "text": [
      "(5000, 4)\n",
      "(5000,)\n",
      "   Пол  Возраст  Зарплата  Члены семьи\n",
      "0    1     41.0   49600.0            1\n",
      "1    0     46.0   38000.0            1\n",
      "0    0\n",
      "1    1\n",
      "Name: Страховые выплаты, dtype: int64\n"
     ]
    }
   ],
   "source": [
    "# деление данных на признаки и целевой признак \n",
    "features = df.drop(['Страховые выплаты'], axis=1)\n",
    "target = df['Страховые выплаты']\n",
    "\n",
    "#проверка\n",
    "print(features.shape)\n",
    "print(target.shape)\n",
    "print(features.head(2))\n",
    "print(target.head(2))"
   ]
  },
  {
   "cell_type": "code",
   "execution_count": 35,
   "metadata": {},
   "outputs": [],
   "source": [
    "#функия для создания произвольной матрицы и проверки на обратимость\n",
    "def create_matrix():\n",
    "    matrix = np.random.normal(size=(4, 4))\n",
    "    print('Случайная матрица:', matrix)\n",
    "    try:\n",
    "          inverse_matrix = np.linalg.inv(matrix)\n",
    "          print('обратная матрица:', inverse_matrix)\n",
    "    except: \n",
    "          print ('Создана необратимая матрица, необходимо создать новую')\n",
    "    return matrix"
   ]
  },
  {
   "cell_type": "code",
   "execution_count": 16,
   "metadata": {},
   "outputs": [
    {
     "name": "stdout",
     "output_type": "stream",
     "text": [
      "Случайная матрица: [[-0.64281326  1.59441632  0.33679843 -1.00094205]\n",
      " [ 1.48437727 -1.49560021 -0.8313032  -0.50873383]\n",
      " [-0.04548692 -0.69453549  0.84348635 -0.59248973]\n",
      " [-0.96200173  0.62451503 -1.19780589  0.04695286]]\n",
      "обратная матрица: [[ 2.42407049e-01  3.19819150e-01 -7.37469759e-01 -6.73122456e-01]\n",
      " [ 4.10834907e-01 -5.23140155e-02 -6.74762139e-01 -3.23337273e-01]\n",
      " [-9.67650169e-05 -2.99400735e-01  2.19811380e-01 -4.72306832e-01]\n",
      " [-5.00341830e-01 -3.89465115e-01 -5.27267578e-01 -2.41686701e-01]]\n"
     ]
    }
   ],
   "source": [
    "#создание матрицы\n",
    "matrix = create_matrix()"
   ]
  },
  {
   "cell_type": "code",
   "execution_count": 36,
   "metadata": {},
   "outputs": [
    {
     "name": "stdout",
     "output_type": "stream",
     "text": [
      "R2 модели без преобразований: 0.4249455028666801\n"
     ]
    }
   ],
   "source": [
    "#oбучение модели и расчет метрики R2 на данных без преобразований\n",
    "model = LinearRegression()\n",
    "model.fit(features, target)\n",
    "predictions = model.predict(features)\n",
    "print( 'R2 модели без преобразований:', r2_score(target, predictions))"
   ]
  },
  {
   "cell_type": "code",
   "execution_count": 37,
   "metadata": {},
   "outputs": [
    {
     "name": "stdout",
     "output_type": "stream",
     "text": [
      "[[ -2196.89640626 -34508.0610699   41801.9784037  -29409.302483  ]\n",
      " [ -1661.18347498 -26460.52178252  32013.0434568  -22537.96438923]\n",
      " [  -912.17830604 -14628.6177336   17689.10550741 -12457.03752593]\n",
      " ...\n",
      " [ -1514.24292806 -23573.41614573  28575.1655088  -20095.48248032]\n",
      " [ -1458.29468868 -22740.74582466  27560.4582778  -19386.46626605]\n",
      " [ -1806.81106211 -28237.79884109  34221.40821664 -24070.2814097 ]]\n"
     ]
    }
   ],
   "source": [
    "# умножение признаков на произвольную матрицу\n",
    "features_new =  np.dot(features, matrix)\n",
    "print(features_new)"
   ]
  },
  {
   "cell_type": "code",
   "execution_count": 38,
   "metadata": {},
   "outputs": [
    {
     "name": "stdout",
     "output_type": "stream",
     "text": [
      "R2 преобразованной модели: 0.42494550286667965\n"
     ]
    }
   ],
   "source": [
    "# Обучение модели и расчет метрики R2 на новых данных\n",
    "model = LinearRegression()\n",
    "model.fit(features_new, target)\n",
    "predictions_new = model.predict(features_new)\n",
    "print( 'R2 преобразованной модели:', r2_score(target, predictions_new))"
   ]
  },
  {
   "cell_type": "markdown",
   "metadata": {},
   "source": [
    "**Вывод:**\n",
    "    Проверка пройдена успешно. Показатель метрики R2 модели на исходных и преобразованных данных не отличаются. Защита персональных данных клиентов страховой компании выполнена."
   ]
  }
 ],
 "metadata": {
  "ExecuteTimeLog": [
   {
    "duration": 459,
    "start_time": "2023-04-30T13:02:02.929Z"
   },
   {
    "duration": 174,
    "start_time": "2023-04-30T13:03:00.622Z"
   },
   {
    "duration": 13,
    "start_time": "2023-04-30T13:09:14.029Z"
   },
   {
    "duration": 6,
    "start_time": "2023-04-30T13:12:07.837Z"
   },
   {
    "duration": 7,
    "start_time": "2023-04-30T13:12:35.206Z"
   },
   {
    "duration": 29,
    "start_time": "2023-04-30T13:13:11.753Z"
   },
   {
    "duration": 67,
    "start_time": "2023-04-30T13:15:08.042Z"
   },
   {
    "duration": 9,
    "start_time": "2023-04-30T13:15:30.885Z"
   },
   {
    "duration": 7,
    "start_time": "2023-04-30T13:16:44.556Z"
   },
   {
    "duration": 38,
    "start_time": "2023-04-30T13:17:22.611Z"
   },
   {
    "duration": 21,
    "start_time": "2023-04-30T13:18:39.559Z"
   },
   {
    "duration": 15,
    "start_time": "2023-04-30T13:20:54.214Z"
   },
   {
    "duration": 5,
    "start_time": "2023-04-30T13:21:34.210Z"
   },
   {
    "duration": 23,
    "start_time": "2023-04-30T13:21:44.429Z"
   },
   {
    "duration": 28,
    "start_time": "2023-04-30T13:21:57.160Z"
   },
   {
    "duration": 27,
    "start_time": "2023-04-30T13:22:40.621Z"
   },
   {
    "duration": 1494,
    "start_time": "2023-05-02T21:32:14.775Z"
   },
   {
    "duration": 95,
    "start_time": "2023-05-02T21:32:22.737Z"
   },
   {
    "duration": 10,
    "start_time": "2023-05-02T21:32:33.496Z"
   },
   {
    "duration": 5,
    "start_time": "2023-05-02T21:33:01.844Z"
   },
   {
    "duration": 5,
    "start_time": "2023-05-02T21:33:09.470Z"
   },
   {
    "duration": 24,
    "start_time": "2023-05-02T21:33:35.898Z"
   },
   {
    "duration": 121,
    "start_time": "2023-05-02T21:34:10.981Z"
   },
   {
    "duration": 6,
    "start_time": "2023-05-02T21:34:20.983Z"
   },
   {
    "duration": 11,
    "start_time": "2023-05-02T21:34:30.980Z"
   },
   {
    "duration": 11,
    "start_time": "2023-05-02T21:34:49.654Z"
   },
   {
    "duration": 441,
    "start_time": "2023-05-02T21:34:58.149Z"
   },
   {
    "duration": 76,
    "start_time": "2023-05-02T21:35:13.673Z"
   },
   {
    "duration": 255,
    "start_time": "2023-05-02T21:35:28.668Z"
   },
   {
    "duration": 8,
    "start_time": "2023-05-02T21:39:47.163Z"
   },
   {
    "duration": 3,
    "start_time": "2023-05-02T21:40:04.815Z"
   },
   {
    "duration": 5,
    "start_time": "2023-05-02T21:40:18.084Z"
   },
   {
    "duration": 20,
    "start_time": "2023-05-02T21:40:27.280Z"
   },
   {
    "duration": 4,
    "start_time": "2023-05-02T21:40:36.006Z"
   },
   {
    "duration": 6,
    "start_time": "2023-05-02T21:40:46.064Z"
   },
   {
    "duration": 3,
    "start_time": "2023-05-02T21:42:27.404Z"
   },
   {
    "duration": 31,
    "start_time": "2023-05-02T21:42:29.697Z"
   },
   {
    "duration": 9,
    "start_time": "2023-05-02T21:42:32.825Z"
   },
   {
    "duration": 4,
    "start_time": "2023-05-02T21:42:34.968Z"
   },
   {
    "duration": 5,
    "start_time": "2023-05-02T21:42:38.678Z"
   },
   {
    "duration": 21,
    "start_time": "2023-05-02T21:42:41.388Z"
   },
   {
    "duration": 115,
    "start_time": "2023-05-02T21:42:46.669Z"
   },
   {
    "duration": 4,
    "start_time": "2023-05-02T21:42:49.713Z"
   },
   {
    "duration": 6,
    "start_time": "2023-05-02T21:42:51.965Z"
   },
   {
    "duration": 12,
    "start_time": "2023-05-02T21:42:55.496Z"
   },
   {
    "duration": 395,
    "start_time": "2023-05-02T21:42:57.566Z"
   },
   {
    "duration": 239,
    "start_time": "2023-05-02T21:43:01.446Z"
   },
   {
    "duration": 213,
    "start_time": "2023-05-02T21:43:09.786Z"
   },
   {
    "duration": 244,
    "start_time": "2023-05-02T21:43:15.473Z"
   },
   {
    "duration": 8,
    "start_time": "2023-05-02T21:43:30.801Z"
   },
   {
    "duration": 3,
    "start_time": "2023-05-02T21:43:34.465Z"
   },
   {
    "duration": 9,
    "start_time": "2023-05-02T21:43:37.695Z"
   },
   {
    "duration": 4,
    "start_time": "2023-05-02T21:43:41.173Z"
   },
   {
    "duration": 6,
    "start_time": "2023-05-02T21:43:48.896Z"
   },
   {
    "duration": 54,
    "start_time": "2023-05-05T10:01:48.388Z"
   }
  ],
  "kernelspec": {
   "display_name": "Python 3 (ipykernel)",
   "language": "python",
   "name": "python3"
  },
  "language_info": {
   "codemirror_mode": {
    "name": "ipython",
    "version": 3
   },
   "file_extension": ".py",
   "mimetype": "text/x-python",
   "name": "python",
   "nbconvert_exporter": "python",
   "pygments_lexer": "ipython3",
   "version": "3.9.15"
  },
  "toc": {
   "base_numbering": 1,
   "nav_menu": {},
   "number_sections": true,
   "sideBar": true,
   "skip_h1_title": true,
   "title_cell": "Содержание",
   "title_sidebar": "Contents",
   "toc_cell": true,
   "toc_position": {
    "height": "calc(100% - 180px)",
    "left": "10px",
    "top": "150px",
    "width": "316.1875px"
   },
   "toc_section_display": true,
   "toc_window_display": true
  }
 },
 "nbformat": 4,
 "nbformat_minor": 2
}
