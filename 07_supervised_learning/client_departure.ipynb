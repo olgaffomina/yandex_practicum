{
 "cells": [
  {
   "cell_type": "markdown",
   "metadata": {
    "toc": true
   },
   "source": [
    "<h1>Содержание<span class=\"tocSkip\"></span></h1>\n",
    "<div class=\"toc\"><ul class=\"toc-item\"><li><span><a href=\"#Подготовка-данных\" data-toc-modified-id=\"Подготовка-данных-1\"><span class=\"toc-item-num\">1&nbsp;&nbsp;</span>Подготовка данных</a></span></li><li><span><a href=\"#Исследование-задачи\" data-toc-modified-id=\"Исследование-задачи-2\"><span class=\"toc-item-num\">2&nbsp;&nbsp;</span>Исследование задачи</a></span><ul class=\"toc-item\"><li><span><a href=\"#Вывод:\" data-toc-modified-id=\"Вывод:-2.1\"><span class=\"toc-item-num\">2.1&nbsp;&nbsp;</span><strong>Вывод:</strong></a></span></li></ul></li><li><span><a href=\"#Борьба-с-дисбалансом\" data-toc-modified-id=\"Борьба-с-дисбалансом-3\"><span class=\"toc-item-num\">3&nbsp;&nbsp;</span>Борьба с дисбалансом</a></span></li><li><span><a href=\"#Тестирование-модели\" data-toc-modified-id=\"Тестирование-модели-4\"><span class=\"toc-item-num\">4&nbsp;&nbsp;</span>Тестирование модели</a></span></li><li><span><a href=\"#Общий-вывод:\" data-toc-modified-id=\"Общий-вывод:-5\"><span class=\"toc-item-num\">5&nbsp;&nbsp;</span>Общий вывод:</a></span></li><li><span><a href=\"#Чек-лист-готовности-проекта\" data-toc-modified-id=\"Чек-лист-готовности-проекта-6\"><span class=\"toc-item-num\">6&nbsp;&nbsp;</span>Чек-лист готовности проекта</a></span></li></ul></div>"
   ]
  },
  {
   "cell_type": "markdown",
   "metadata": {},
   "source": [
    "# Отток клиентов"
   ]
  },
  {
   "cell_type": "markdown",
   "metadata": {},
   "source": [
    "Из «Бета-Банка» стали уходить клиенты. Каждый месяц. Немного, но заметно. Банковские маркетологи посчитали: сохранять текущих клиентов дешевле, чем привлекать новых.\n",
    "\n",
    "Нужно спрогнозировать, уйдёт клиент из банка в ближайшее время или нет. Вам предоставлены исторические данные о поведении клиентов и расторжении договоров с банком. \n",
    "\n",
    "Постройте модель с предельно большим значением *F1*-меры. Чтобы сдать проект успешно, нужно довести метрику до 0.59. Проверьте *F1*-меру на тестовой выборке самостоятельно.\n",
    "\n",
    "Дополнительно измеряйте *AUC-ROC*, сравнивайте её значение с *F1*-мерой.\n",
    "\n",
    "Источник данных: [https://www.kaggle.com/barelydedicated/bank-customer-churn-modeling](https://www.kaggle.com/barelydedicated/bank-customer-churn-modeling)"
   ]
  },
  {
   "cell_type": "markdown",
   "metadata": {},
   "source": [
    "**Описание данных**\n",
    "\n",
    "**Признаки**\n",
    " - RowNumber — индекс строки в данных\n",
    " - CustomerId — уникальный идентификатор клиента\n",
    " - Surname — фамилия\n",
    " - CreditScore — кредитный рейтинг\n",
    " - Geography — страна проживания\n",
    " - Gender — пол\n",
    " - Age — возраст\n",
    " - Tenure — сколько лет человек является клиентом банка\n",
    " - Balance — баланс на счёте\n",
    " - NumOfProducts — количество продуктов банка, используемых клиентом\n",
    " - HasCrCard — наличие кредитной карты\n",
    " - IsActiveMember — активность клиента\n",
    " - EstimatedSalary — предполагаемая зарплата\n",
    "    \n",
    "**Целевой признак**\n",
    " - Exited — факт ухода клиента"
   ]
  },
  {
   "cell_type": "markdown",
   "metadata": {},
   "source": [
    "## Подготовка данных"
   ]
  },
  {
   "cell_type": "code",
   "execution_count": 1,
   "metadata": {},
   "outputs": [],
   "source": [
    "#импорт библиотек\n",
    "import pandas as pd\n",
    "import numpy as np\n",
    "import matplotlib.pyplot as plt #графики\n",
    "from sklearn.model_selection import train_test_split #деление выборок\n",
    "from sklearn.preprocessing import StandardScaler #масштабирование\n",
    "from sklearn.linear_model import LogisticRegression # модель логистическая регрессия\n",
    "from sklearn.tree import DecisionTreeClassifier #модель дерево решений\n",
    "from sklearn.ensemble import RandomForestClassifier # модель случайный лес\n",
    "from sklearn.metrics import (accuracy_score,\n",
    "                             f1_score,\n",
    "                             roc_curve,\n",
    "                             roc_auc_score)\n",
    "from sklearn.preprocessing import OneHotEncoder\n",
    "from imblearn.over_sampling import SMOTE #увеличение выборки\n",
    "from imblearn.under_sampling import RandomUnderSampler # уменьшение выборки\n",
    "from sklearn.utils import shuffle #перемешивание данных\n",
    "from sklearn.dummy import DummyClassifier\n",
    "from sklearn.metrics import classification_report"
   ]
  },
  {
   "cell_type": "code",
   "execution_count": 2,
   "metadata": {},
   "outputs": [
    {
     "data": {
      "text/html": [
       "<div>\n",
       "<style scoped>\n",
       "    .dataframe tbody tr th:only-of-type {\n",
       "        vertical-align: middle;\n",
       "    }\n",
       "\n",
       "    .dataframe tbody tr th {\n",
       "        vertical-align: top;\n",
       "    }\n",
       "\n",
       "    .dataframe thead th {\n",
       "        text-align: right;\n",
       "    }\n",
       "</style>\n",
       "<table border=\"1\" class=\"dataframe\">\n",
       "  <thead>\n",
       "    <tr style=\"text-align: right;\">\n",
       "      <th></th>\n",
       "      <th>RowNumber</th>\n",
       "      <th>CustomerId</th>\n",
       "      <th>Surname</th>\n",
       "      <th>CreditScore</th>\n",
       "      <th>Geography</th>\n",
       "      <th>Gender</th>\n",
       "      <th>Age</th>\n",
       "      <th>Tenure</th>\n",
       "      <th>Balance</th>\n",
       "      <th>NumOfProducts</th>\n",
       "      <th>HasCrCard</th>\n",
       "      <th>IsActiveMember</th>\n",
       "      <th>EstimatedSalary</th>\n",
       "      <th>Exited</th>\n",
       "    </tr>\n",
       "  </thead>\n",
       "  <tbody>\n",
       "    <tr>\n",
       "      <th>0</th>\n",
       "      <td>1</td>\n",
       "      <td>15634602</td>\n",
       "      <td>Hargrave</td>\n",
       "      <td>619</td>\n",
       "      <td>France</td>\n",
       "      <td>Female</td>\n",
       "      <td>42</td>\n",
       "      <td>2.0</td>\n",
       "      <td>0.00</td>\n",
       "      <td>1</td>\n",
       "      <td>1</td>\n",
       "      <td>1</td>\n",
       "      <td>101348.88</td>\n",
       "      <td>1</td>\n",
       "    </tr>\n",
       "    <tr>\n",
       "      <th>1</th>\n",
       "      <td>2</td>\n",
       "      <td>15647311</td>\n",
       "      <td>Hill</td>\n",
       "      <td>608</td>\n",
       "      <td>Spain</td>\n",
       "      <td>Female</td>\n",
       "      <td>41</td>\n",
       "      <td>1.0</td>\n",
       "      <td>83807.86</td>\n",
       "      <td>1</td>\n",
       "      <td>0</td>\n",
       "      <td>1</td>\n",
       "      <td>112542.58</td>\n",
       "      <td>0</td>\n",
       "    </tr>\n",
       "    <tr>\n",
       "      <th>2</th>\n",
       "      <td>3</td>\n",
       "      <td>15619304</td>\n",
       "      <td>Onio</td>\n",
       "      <td>502</td>\n",
       "      <td>France</td>\n",
       "      <td>Female</td>\n",
       "      <td>42</td>\n",
       "      <td>8.0</td>\n",
       "      <td>159660.80</td>\n",
       "      <td>3</td>\n",
       "      <td>1</td>\n",
       "      <td>0</td>\n",
       "      <td>113931.57</td>\n",
       "      <td>1</td>\n",
       "    </tr>\n",
       "    <tr>\n",
       "      <th>3</th>\n",
       "      <td>4</td>\n",
       "      <td>15701354</td>\n",
       "      <td>Boni</td>\n",
       "      <td>699</td>\n",
       "      <td>France</td>\n",
       "      <td>Female</td>\n",
       "      <td>39</td>\n",
       "      <td>1.0</td>\n",
       "      <td>0.00</td>\n",
       "      <td>2</td>\n",
       "      <td>0</td>\n",
       "      <td>0</td>\n",
       "      <td>93826.63</td>\n",
       "      <td>0</td>\n",
       "    </tr>\n",
       "    <tr>\n",
       "      <th>4</th>\n",
       "      <td>5</td>\n",
       "      <td>15737888</td>\n",
       "      <td>Mitchell</td>\n",
       "      <td>850</td>\n",
       "      <td>Spain</td>\n",
       "      <td>Female</td>\n",
       "      <td>43</td>\n",
       "      <td>2.0</td>\n",
       "      <td>125510.82</td>\n",
       "      <td>1</td>\n",
       "      <td>1</td>\n",
       "      <td>1</td>\n",
       "      <td>79084.10</td>\n",
       "      <td>0</td>\n",
       "    </tr>\n",
       "  </tbody>\n",
       "</table>\n",
       "</div>"
      ],
      "text/plain": [
       "   RowNumber  CustomerId   Surname  CreditScore Geography  Gender  Age  \\\n",
       "0          1    15634602  Hargrave          619    France  Female   42   \n",
       "1          2    15647311      Hill          608     Spain  Female   41   \n",
       "2          3    15619304      Onio          502    France  Female   42   \n",
       "3          4    15701354      Boni          699    France  Female   39   \n",
       "4          5    15737888  Mitchell          850     Spain  Female   43   \n",
       "\n",
       "   Tenure    Balance  NumOfProducts  HasCrCard  IsActiveMember  \\\n",
       "0     2.0       0.00              1          1               1   \n",
       "1     1.0   83807.86              1          0               1   \n",
       "2     8.0  159660.80              3          1               0   \n",
       "3     1.0       0.00              2          0               0   \n",
       "4     2.0  125510.82              1          1               1   \n",
       "\n",
       "   EstimatedSalary  Exited  \n",
       "0        101348.88       1  \n",
       "1        112542.58       0  \n",
       "2        113931.57       1  \n",
       "3         93826.63       0  \n",
       "4         79084.10       0  "
      ]
     },
     "execution_count": 2,
     "metadata": {},
     "output_type": "execute_result"
    }
   ],
   "source": [
    "# чтение файла\n",
    "try:\n",
    "    df = pd.read_csv('/datasets/Churn.csv')\n",
    "except:\n",
    "    df = pd.read_csv('churn.csv')\n",
    "    \n",
    "df.head(5)"
   ]
  },
  {
   "cell_type": "markdown",
   "metadata": {},
   "source": [
    "Признаки:\n",
    " - RowNumber — индекс строки в данных\n",
    " - CustomerId — уникальный идентификатор клиента\n",
    " - Surname — фамилия\n",
    " - CreditScore — кредитный рейтинг\n",
    " - Geography — страна проживания\n",
    " - Gender — пол\n",
    " - Age — возраст\n",
    " - Tenure — сколько лет человек является клиентом банка\n",
    " - Balance — баланс на счёте\n",
    " - NumOfProducts — количество продуктов банка, используемых клиентом\n",
    " - HasCrCard — наличие кредитной карты\n",
    " - IsActiveMember — активность клиента\n",
    " - EstimatedSalary — предполагаемая зарплата\n",
    " \n",
    "Целевой признак:\n",
    " - Exited — факт ухода клиента"
   ]
  },
  {
   "cell_type": "code",
   "execution_count": 3,
   "metadata": {},
   "outputs": [
    {
     "name": "stdout",
     "output_type": "stream",
     "text": [
      "<class 'pandas.core.frame.DataFrame'>\n",
      "RangeIndex: 10000 entries, 0 to 9999\n",
      "Data columns (total 14 columns):\n",
      " #   Column           Non-Null Count  Dtype  \n",
      "---  ------           --------------  -----  \n",
      " 0   RowNumber        10000 non-null  int64  \n",
      " 1   CustomerId       10000 non-null  int64  \n",
      " 2   Surname          10000 non-null  object \n",
      " 3   CreditScore      10000 non-null  int64  \n",
      " 4   Geography        10000 non-null  object \n",
      " 5   Gender           10000 non-null  object \n",
      " 6   Age              10000 non-null  int64  \n",
      " 7   Tenure           9091 non-null   float64\n",
      " 8   Balance          10000 non-null  float64\n",
      " 9   NumOfProducts    10000 non-null  int64  \n",
      " 10  HasCrCard        10000 non-null  int64  \n",
      " 11  IsActiveMember   10000 non-null  int64  \n",
      " 12  EstimatedSalary  10000 non-null  float64\n",
      " 13  Exited           10000 non-null  int64  \n",
      "dtypes: float64(3), int64(8), object(3)\n",
      "memory usage: 1.1+ MB\n"
     ]
    }
   ],
   "source": [
    "#общая информация\n",
    "df.info()"
   ]
  },
  {
   "cell_type": "code",
   "execution_count": 4,
   "metadata": {},
   "outputs": [
    {
     "name": "stdout",
     "output_type": "stream",
     "text": [
      "Index(['rownumber', 'customerid', 'surname', 'creditscore', 'geography',\n",
      "       'gender', 'age', 'tenure', 'balance', 'numofproducts', 'hascrcard',\n",
      "       'isactivemember', 'estimatedsalary', 'exited'],\n",
      "      dtype='object')\n"
     ]
    }
   ],
   "source": [
    "#замена названий, приведение к нижнему регистру\n",
    "df.columns = df.columns.str.lower()\n",
    "print(df.columns)"
   ]
  },
  {
   "cell_type": "code",
   "execution_count": 5,
   "metadata": {},
   "outputs": [
    {
     "name": "stdout",
     "output_type": "stream",
     "text": [
      "\u001b[1m\n",
      "Проверка пропусков\u001b[0m\n",
      "Количество пропусков: 909\n",
      "Доля пропусков в столбцах:\n"
     ]
    },
    {
     "data": {
      "text/html": [
       "<style  type=\"text/css\" >\n",
       "#T_2d5db_row0_col0{\n",
       "            background-color:  #b40426;\n",
       "            color:  #f1f1f1;\n",
       "        }#T_2d5db_row1_col0,#T_2d5db_row2_col0,#T_2d5db_row3_col0,#T_2d5db_row4_col0,#T_2d5db_row5_col0,#T_2d5db_row6_col0,#T_2d5db_row7_col0,#T_2d5db_row8_col0,#T_2d5db_row9_col0,#T_2d5db_row10_col0,#T_2d5db_row11_col0,#T_2d5db_row12_col0,#T_2d5db_row13_col0{\n",
       "            background-color:  #3b4cc0;\n",
       "            color:  #f1f1f1;\n",
       "        }</style><table id=\"T_2d5db_\" ><thead>    <tr>        <th class=\"blank level0\" ></th>        <th class=\"col_heading level0 col0\" >0</th>    </tr></thead><tbody>\n",
       "                <tr>\n",
       "                        <th id=\"T_2d5db_level0_row0\" class=\"row_heading level0 row0\" >tenure</th>\n",
       "                        <td id=\"T_2d5db_row0_col0\" class=\"data row0 col0\" >9.000000</td>\n",
       "            </tr>\n",
       "            <tr>\n",
       "                        <th id=\"T_2d5db_level0_row1\" class=\"row_heading level0 row1\" >rownumber</th>\n",
       "                        <td id=\"T_2d5db_row1_col0\" class=\"data row1 col0\" >0.000000</td>\n",
       "            </tr>\n",
       "            <tr>\n",
       "                        <th id=\"T_2d5db_level0_row2\" class=\"row_heading level0 row2\" >customerid</th>\n",
       "                        <td id=\"T_2d5db_row2_col0\" class=\"data row2 col0\" >0.000000</td>\n",
       "            </tr>\n",
       "            <tr>\n",
       "                        <th id=\"T_2d5db_level0_row3\" class=\"row_heading level0 row3\" >surname</th>\n",
       "                        <td id=\"T_2d5db_row3_col0\" class=\"data row3 col0\" >0.000000</td>\n",
       "            </tr>\n",
       "            <tr>\n",
       "                        <th id=\"T_2d5db_level0_row4\" class=\"row_heading level0 row4\" >creditscore</th>\n",
       "                        <td id=\"T_2d5db_row4_col0\" class=\"data row4 col0\" >0.000000</td>\n",
       "            </tr>\n",
       "            <tr>\n",
       "                        <th id=\"T_2d5db_level0_row5\" class=\"row_heading level0 row5\" >geography</th>\n",
       "                        <td id=\"T_2d5db_row5_col0\" class=\"data row5 col0\" >0.000000</td>\n",
       "            </tr>\n",
       "            <tr>\n",
       "                        <th id=\"T_2d5db_level0_row6\" class=\"row_heading level0 row6\" >gender</th>\n",
       "                        <td id=\"T_2d5db_row6_col0\" class=\"data row6 col0\" >0.000000</td>\n",
       "            </tr>\n",
       "            <tr>\n",
       "                        <th id=\"T_2d5db_level0_row7\" class=\"row_heading level0 row7\" >age</th>\n",
       "                        <td id=\"T_2d5db_row7_col0\" class=\"data row7 col0\" >0.000000</td>\n",
       "            </tr>\n",
       "            <tr>\n",
       "                        <th id=\"T_2d5db_level0_row8\" class=\"row_heading level0 row8\" >balance</th>\n",
       "                        <td id=\"T_2d5db_row8_col0\" class=\"data row8 col0\" >0.000000</td>\n",
       "            </tr>\n",
       "            <tr>\n",
       "                        <th id=\"T_2d5db_level0_row9\" class=\"row_heading level0 row9\" >numofproducts</th>\n",
       "                        <td id=\"T_2d5db_row9_col0\" class=\"data row9 col0\" >0.000000</td>\n",
       "            </tr>\n",
       "            <tr>\n",
       "                        <th id=\"T_2d5db_level0_row10\" class=\"row_heading level0 row10\" >hascrcard</th>\n",
       "                        <td id=\"T_2d5db_row10_col0\" class=\"data row10 col0\" >0.000000</td>\n",
       "            </tr>\n",
       "            <tr>\n",
       "                        <th id=\"T_2d5db_level0_row11\" class=\"row_heading level0 row11\" >isactivemember</th>\n",
       "                        <td id=\"T_2d5db_row11_col0\" class=\"data row11 col0\" >0.000000</td>\n",
       "            </tr>\n",
       "            <tr>\n",
       "                        <th id=\"T_2d5db_level0_row12\" class=\"row_heading level0 row12\" >estimatedsalary</th>\n",
       "                        <td id=\"T_2d5db_row12_col0\" class=\"data row12 col0\" >0.000000</td>\n",
       "            </tr>\n",
       "            <tr>\n",
       "                        <th id=\"T_2d5db_level0_row13\" class=\"row_heading level0 row13\" >exited</th>\n",
       "                        <td id=\"T_2d5db_row13_col0\" class=\"data row13 col0\" >0.000000</td>\n",
       "            </tr>\n",
       "    </tbody></table>"
      ],
      "text/plain": [
       "<pandas.io.formats.style.Styler at 0x110832040>"
      ]
     },
     "execution_count": 5,
     "metadata": {},
     "output_type": "execute_result"
    }
   ],
   "source": [
    "#проверка пропусков\n",
    "print ('\\033[1m' + '\\nПроверка пропусков'+ '\\033[0m')\n",
    "print ('Количество пропусков: {:.0f}'.format(df.isnull().sum().sum()))\n",
    "#доля пропусков в столбцах\n",
    "print('Доля пропусков в столбцах:')\n",
    "pd.DataFrame(round(df.isna().mean()*100)).sort_values(by = 0, ascending=False).style.background_gradient('coolwarm')"
   ]
  },
  {
   "cell_type": "code",
   "execution_count": 6,
   "metadata": {},
   "outputs": [
    {
     "name": "stdout",
     "output_type": "stream",
     "text": [
      "0\n"
     ]
    }
   ],
   "source": [
    "#проверка на дубликаты\n",
    "print(df.duplicated().sum())"
   ]
  },
  {
   "cell_type": "code",
   "execution_count": 7,
   "metadata": {},
   "outputs": [
    {
     "data": {
      "text/html": [
       "<div>\n",
       "<style scoped>\n",
       "    .dataframe tbody tr th:only-of-type {\n",
       "        vertical-align: middle;\n",
       "    }\n",
       "\n",
       "    .dataframe tbody tr th {\n",
       "        vertical-align: top;\n",
       "    }\n",
       "\n",
       "    .dataframe thead th {\n",
       "        text-align: right;\n",
       "    }\n",
       "</style>\n",
       "<table border=\"1\" class=\"dataframe\">\n",
       "  <thead>\n",
       "    <tr style=\"text-align: right;\">\n",
       "      <th></th>\n",
       "      <th>count</th>\n",
       "      <th>mean</th>\n",
       "      <th>std</th>\n",
       "      <th>min</th>\n",
       "      <th>25%</th>\n",
       "      <th>50%</th>\n",
       "      <th>75%</th>\n",
       "      <th>max</th>\n",
       "    </tr>\n",
       "  </thead>\n",
       "  <tbody>\n",
       "    <tr>\n",
       "      <th>rownumber</th>\n",
       "      <td>10000.0</td>\n",
       "      <td>5000.50</td>\n",
       "      <td>2886.90</td>\n",
       "      <td>1.00</td>\n",
       "      <td>2500.75</td>\n",
       "      <td>5000.50</td>\n",
       "      <td>7500.25</td>\n",
       "      <td>10000.00</td>\n",
       "    </tr>\n",
       "    <tr>\n",
       "      <th>customerid</th>\n",
       "      <td>10000.0</td>\n",
       "      <td>15690940.57</td>\n",
       "      <td>71936.19</td>\n",
       "      <td>15565701.00</td>\n",
       "      <td>15628528.25</td>\n",
       "      <td>15690738.00</td>\n",
       "      <td>15753233.75</td>\n",
       "      <td>15815690.00</td>\n",
       "    </tr>\n",
       "    <tr>\n",
       "      <th>creditscore</th>\n",
       "      <td>10000.0</td>\n",
       "      <td>650.53</td>\n",
       "      <td>96.65</td>\n",
       "      <td>350.00</td>\n",
       "      <td>584.00</td>\n",
       "      <td>652.00</td>\n",
       "      <td>718.00</td>\n",
       "      <td>850.00</td>\n",
       "    </tr>\n",
       "    <tr>\n",
       "      <th>age</th>\n",
       "      <td>10000.0</td>\n",
       "      <td>38.92</td>\n",
       "      <td>10.49</td>\n",
       "      <td>18.00</td>\n",
       "      <td>32.00</td>\n",
       "      <td>37.00</td>\n",
       "      <td>44.00</td>\n",
       "      <td>92.00</td>\n",
       "    </tr>\n",
       "    <tr>\n",
       "      <th>tenure</th>\n",
       "      <td>9091.0</td>\n",
       "      <td>5.00</td>\n",
       "      <td>2.89</td>\n",
       "      <td>0.00</td>\n",
       "      <td>2.00</td>\n",
       "      <td>5.00</td>\n",
       "      <td>7.00</td>\n",
       "      <td>10.00</td>\n",
       "    </tr>\n",
       "    <tr>\n",
       "      <th>balance</th>\n",
       "      <td>10000.0</td>\n",
       "      <td>76485.89</td>\n",
       "      <td>62397.41</td>\n",
       "      <td>0.00</td>\n",
       "      <td>0.00</td>\n",
       "      <td>97198.54</td>\n",
       "      <td>127644.24</td>\n",
       "      <td>250898.09</td>\n",
       "    </tr>\n",
       "    <tr>\n",
       "      <th>numofproducts</th>\n",
       "      <td>10000.0</td>\n",
       "      <td>1.53</td>\n",
       "      <td>0.58</td>\n",
       "      <td>1.00</td>\n",
       "      <td>1.00</td>\n",
       "      <td>1.00</td>\n",
       "      <td>2.00</td>\n",
       "      <td>4.00</td>\n",
       "    </tr>\n",
       "    <tr>\n",
       "      <th>hascrcard</th>\n",
       "      <td>10000.0</td>\n",
       "      <td>0.71</td>\n",
       "      <td>0.46</td>\n",
       "      <td>0.00</td>\n",
       "      <td>0.00</td>\n",
       "      <td>1.00</td>\n",
       "      <td>1.00</td>\n",
       "      <td>1.00</td>\n",
       "    </tr>\n",
       "    <tr>\n",
       "      <th>isactivemember</th>\n",
       "      <td>10000.0</td>\n",
       "      <td>0.52</td>\n",
       "      <td>0.50</td>\n",
       "      <td>0.00</td>\n",
       "      <td>0.00</td>\n",
       "      <td>1.00</td>\n",
       "      <td>1.00</td>\n",
       "      <td>1.00</td>\n",
       "    </tr>\n",
       "    <tr>\n",
       "      <th>estimatedsalary</th>\n",
       "      <td>10000.0</td>\n",
       "      <td>100090.24</td>\n",
       "      <td>57510.49</td>\n",
       "      <td>11.58</td>\n",
       "      <td>51002.11</td>\n",
       "      <td>100193.92</td>\n",
       "      <td>149388.25</td>\n",
       "      <td>199992.48</td>\n",
       "    </tr>\n",
       "    <tr>\n",
       "      <th>exited</th>\n",
       "      <td>10000.0</td>\n",
       "      <td>0.20</td>\n",
       "      <td>0.40</td>\n",
       "      <td>0.00</td>\n",
       "      <td>0.00</td>\n",
       "      <td>0.00</td>\n",
       "      <td>0.00</td>\n",
       "      <td>1.00</td>\n",
       "    </tr>\n",
       "  </tbody>\n",
       "</table>\n",
       "</div>"
      ],
      "text/plain": [
       "                   count         mean       std          min          25%  \\\n",
       "rownumber        10000.0      5000.50   2886.90         1.00      2500.75   \n",
       "customerid       10000.0  15690940.57  71936.19  15565701.00  15628528.25   \n",
       "creditscore      10000.0       650.53     96.65       350.00       584.00   \n",
       "age              10000.0        38.92     10.49        18.00        32.00   \n",
       "tenure            9091.0         5.00      2.89         0.00         2.00   \n",
       "balance          10000.0     76485.89  62397.41         0.00         0.00   \n",
       "numofproducts    10000.0         1.53      0.58         1.00         1.00   \n",
       "hascrcard        10000.0         0.71      0.46         0.00         0.00   \n",
       "isactivemember   10000.0         0.52      0.50         0.00         0.00   \n",
       "estimatedsalary  10000.0    100090.24  57510.49        11.58     51002.11   \n",
       "exited           10000.0         0.20      0.40         0.00         0.00   \n",
       "\n",
       "                         50%          75%          max  \n",
       "rownumber            5000.50      7500.25     10000.00  \n",
       "customerid       15690738.00  15753233.75  15815690.00  \n",
       "creditscore           652.00       718.00       850.00  \n",
       "age                    37.00        44.00        92.00  \n",
       "tenure                  5.00         7.00        10.00  \n",
       "balance             97198.54    127644.24    250898.09  \n",
       "numofproducts           1.00         2.00         4.00  \n",
       "hascrcard               1.00         1.00         1.00  \n",
       "isactivemember          1.00         1.00         1.00  \n",
       "estimatedsalary    100193.92    149388.25    199992.48  \n",
       "exited                  0.00         0.00         1.00  "
      ]
     },
     "metadata": {},
     "output_type": "display_data"
    }
   ],
   "source": [
    "#описание количественных данных\n",
    "display(df.describe().round(2).T)"
   ]
  },
  {
   "cell_type": "code",
   "execution_count": 8,
   "metadata": {},
   "outputs": [
    {
     "data": {
      "text/html": [
       "<div>\n",
       "<style scoped>\n",
       "    .dataframe tbody tr th:only-of-type {\n",
       "        vertical-align: middle;\n",
       "    }\n",
       "\n",
       "    .dataframe tbody tr th {\n",
       "        vertical-align: top;\n",
       "    }\n",
       "\n",
       "    .dataframe thead th {\n",
       "        text-align: right;\n",
       "    }\n",
       "</style>\n",
       "<table border=\"1\" class=\"dataframe\">\n",
       "  <thead>\n",
       "    <tr style=\"text-align: right;\">\n",
       "      <th></th>\n",
       "      <th>count</th>\n",
       "      <th>unique</th>\n",
       "      <th>top</th>\n",
       "      <th>freq</th>\n",
       "    </tr>\n",
       "  </thead>\n",
       "  <tbody>\n",
       "    <tr>\n",
       "      <th>surname</th>\n",
       "      <td>10000</td>\n",
       "      <td>2932</td>\n",
       "      <td>Smith</td>\n",
       "      <td>32</td>\n",
       "    </tr>\n",
       "    <tr>\n",
       "      <th>geography</th>\n",
       "      <td>10000</td>\n",
       "      <td>3</td>\n",
       "      <td>France</td>\n",
       "      <td>5014</td>\n",
       "    </tr>\n",
       "    <tr>\n",
       "      <th>gender</th>\n",
       "      <td>10000</td>\n",
       "      <td>2</td>\n",
       "      <td>Male</td>\n",
       "      <td>5457</td>\n",
       "    </tr>\n",
       "  </tbody>\n",
       "</table>\n",
       "</div>"
      ],
      "text/plain": [
       "           count unique     top  freq\n",
       "surname    10000   2932   Smith    32\n",
       "geography  10000      3  France  5014\n",
       "gender     10000      2    Male  5457"
      ]
     },
     "metadata": {},
     "output_type": "display_data"
    }
   ],
   "source": [
    "#описание категориальных данных\n",
    "display(df.describe(include='object').T)"
   ]
  },
  {
   "cell_type": "code",
   "execution_count": 9,
   "metadata": {},
   "outputs": [
    {
     "name": "stdout",
     "output_type": "stream",
     "text": [
      "\u001b[1m\n",
      "Вывод уникальных значений по каждому категориальному признаку:\u001b[0m\n",
      "\u001b[1m_surname\u001b[0m\n"
     ]
    },
    {
     "data": {
      "text/plain": [
       "Smith          32\n",
       "Scott          29\n",
       "Martin         29\n",
       "Walker         28\n",
       "Brown          26\n",
       "               ..\n",
       "Wieck           1\n",
       "O'Callaghan     1\n",
       "Muravyov        1\n",
       "Loginov         1\n",
       "Morales         1\n",
       "Name: surname, Length: 2932, dtype: int64"
      ]
     },
     "metadata": {},
     "output_type": "display_data"
    },
    {
     "name": "stdout",
     "output_type": "stream",
     "text": [
      "\u001b[1m_geography\u001b[0m\n"
     ]
    },
    {
     "data": {
      "text/plain": [
       "France     5014\n",
       "Germany    2509\n",
       "Spain      2477\n",
       "Name: geography, dtype: int64"
      ]
     },
     "metadata": {},
     "output_type": "display_data"
    },
    {
     "name": "stdout",
     "output_type": "stream",
     "text": [
      "\u001b[1m_gender\u001b[0m\n"
     ]
    },
    {
     "data": {
      "text/plain": [
       "Male      5457\n",
       "Female    4543\n",
       "Name: gender, dtype: int64"
      ]
     },
     "metadata": {},
     "output_type": "display_data"
    }
   ],
   "source": [
    "#просмотр категориальных данных\n",
    "print('\\033[1m' + '\\nВывод уникальных значений по каждому категориальному признаку:'+ '\\033[0m')    \n",
    "df_object = df.select_dtypes(include='object').columns\n",
    "    \n",
    "for i in df_object:\n",
    "    print('\\033[1m' + '_'+ str(i) + '\\033[0m')\n",
    "    display(df[i].value_counts())"
   ]
  },
  {
   "cell_type": "code",
   "execution_count": 10,
   "metadata": {},
   "outputs": [
    {
     "name": "stdout",
     "output_type": "stream",
     "text": [
      "['creditscore', 'geography', 'gender', 'age', 'tenure', 'balance', 'numofproducts', 'hascrcard', 'isactivemember', 'estimatedsalary', 'exited']\n"
     ]
    }
   ],
   "source": [
    "# удаление Surname, RowNumber, CustomerId (индекс строки, индификатор и фамилия)\n",
    "#эти параметры не влияют на уход клиентов \n",
    "df.drop([ 'customerid', 'rownumber','surname',], axis=1, inplace=True)\n",
    "#проверка\n",
    "print(df.columns.to_list())"
   ]
  },
  {
   "cell_type": "code",
   "execution_count": 11,
   "metadata": {},
   "outputs": [
    {
     "data": {
      "image/png": "[encoded data removed]",
      "text/plain": [
       "<Figure size 1500x1500 with 9 Axes>"
      ]
     },
     "metadata": {},
     "output_type": "display_data"
    }
   ],
   "source": [
    "# графическое представление данных из таблиц\n",
    "df.hist(figsize=(15, 15))\n",
    "plt.show()"
   ]
  },
  {
   "cell_type": "code",
   "execution_count": 12,
   "metadata": {},
   "outputs": [
    {
     "data": {
      "text/html": [
       "<div>\n",
       "<style scoped>\n",
       "    .dataframe tbody tr th:only-of-type {\n",
       "        vertical-align: middle;\n",
       "    }\n",
       "\n",
       "    .dataframe tbody tr th {\n",
       "        vertical-align: top;\n",
       "    }\n",
       "\n",
       "    .dataframe thead th {\n",
       "        text-align: right;\n",
       "    }\n",
       "</style>\n",
       "<table border=\"1\" class=\"dataframe\">\n",
       "  <thead>\n",
       "    <tr style=\"text-align: right;\">\n",
       "      <th></th>\n",
       "      <th>creditscore</th>\n",
       "      <th>geography</th>\n",
       "      <th>gender</th>\n",
       "      <th>age</th>\n",
       "      <th>tenure</th>\n",
       "      <th>balance</th>\n",
       "      <th>numofproducts</th>\n",
       "      <th>hascrcard</th>\n",
       "      <th>isactivemember</th>\n",
       "      <th>estimatedsalary</th>\n",
       "      <th>exited</th>\n",
       "    </tr>\n",
       "  </thead>\n",
       "  <tbody>\n",
       "    <tr>\n",
       "      <th>0</th>\n",
       "      <td>619</td>\n",
       "      <td>France</td>\n",
       "      <td>Female</td>\n",
       "      <td>42</td>\n",
       "      <td>2.0</td>\n",
       "      <td>0.0</td>\n",
       "      <td>1</td>\n",
       "      <td>1</td>\n",
       "      <td>1</td>\n",
       "      <td>101348.88</td>\n",
       "      <td>1</td>\n",
       "    </tr>\n",
       "    <tr>\n",
       "      <th>3</th>\n",
       "      <td>699</td>\n",
       "      <td>France</td>\n",
       "      <td>Female</td>\n",
       "      <td>39</td>\n",
       "      <td>1.0</td>\n",
       "      <td>0.0</td>\n",
       "      <td>2</td>\n",
       "      <td>0</td>\n",
       "      <td>0</td>\n",
       "      <td>93826.63</td>\n",
       "      <td>0</td>\n",
       "    </tr>\n",
       "    <tr>\n",
       "      <th>6</th>\n",
       "      <td>822</td>\n",
       "      <td>France</td>\n",
       "      <td>Male</td>\n",
       "      <td>50</td>\n",
       "      <td>7.0</td>\n",
       "      <td>0.0</td>\n",
       "      <td>2</td>\n",
       "      <td>1</td>\n",
       "      <td>1</td>\n",
       "      <td>10062.80</td>\n",
       "      <td>0</td>\n",
       "    </tr>\n",
       "    <tr>\n",
       "      <th>11</th>\n",
       "      <td>497</td>\n",
       "      <td>Spain</td>\n",
       "      <td>Male</td>\n",
       "      <td>24</td>\n",
       "      <td>3.0</td>\n",
       "      <td>0.0</td>\n",
       "      <td>2</td>\n",
       "      <td>1</td>\n",
       "      <td>0</td>\n",
       "      <td>76390.01</td>\n",
       "      <td>0</td>\n",
       "    </tr>\n",
       "    <tr>\n",
       "      <th>12</th>\n",
       "      <td>476</td>\n",
       "      <td>France</td>\n",
       "      <td>Female</td>\n",
       "      <td>34</td>\n",
       "      <td>10.0</td>\n",
       "      <td>0.0</td>\n",
       "      <td>2</td>\n",
       "      <td>1</td>\n",
       "      <td>0</td>\n",
       "      <td>26260.98</td>\n",
       "      <td>0</td>\n",
       "    </tr>\n",
       "    <tr>\n",
       "      <th>13</th>\n",
       "      <td>549</td>\n",
       "      <td>France</td>\n",
       "      <td>Female</td>\n",
       "      <td>25</td>\n",
       "      <td>5.0</td>\n",
       "      <td>0.0</td>\n",
       "      <td>2</td>\n",
       "      <td>0</td>\n",
       "      <td>0</td>\n",
       "      <td>190857.79</td>\n",
       "      <td>0</td>\n",
       "    </tr>\n",
       "    <tr>\n",
       "      <th>14</th>\n",
       "      <td>635</td>\n",
       "      <td>Spain</td>\n",
       "      <td>Female</td>\n",
       "      <td>35</td>\n",
       "      <td>7.0</td>\n",
       "      <td>0.0</td>\n",
       "      <td>2</td>\n",
       "      <td>1</td>\n",
       "      <td>1</td>\n",
       "      <td>65951.65</td>\n",
       "      <td>0</td>\n",
       "    </tr>\n",
       "    <tr>\n",
       "      <th>17</th>\n",
       "      <td>549</td>\n",
       "      <td>Spain</td>\n",
       "      <td>Female</td>\n",
       "      <td>24</td>\n",
       "      <td>9.0</td>\n",
       "      <td>0.0</td>\n",
       "      <td>2</td>\n",
       "      <td>1</td>\n",
       "      <td>1</td>\n",
       "      <td>14406.41</td>\n",
       "      <td>0</td>\n",
       "    </tr>\n",
       "    <tr>\n",
       "      <th>18</th>\n",
       "      <td>587</td>\n",
       "      <td>Spain</td>\n",
       "      <td>Male</td>\n",
       "      <td>45</td>\n",
       "      <td>6.0</td>\n",
       "      <td>0.0</td>\n",
       "      <td>1</td>\n",
       "      <td>0</td>\n",
       "      <td>0</td>\n",
       "      <td>158684.81</td>\n",
       "      <td>0</td>\n",
       "    </tr>\n",
       "    <tr>\n",
       "      <th>19</th>\n",
       "      <td>726</td>\n",
       "      <td>France</td>\n",
       "      <td>Female</td>\n",
       "      <td>24</td>\n",
       "      <td>6.0</td>\n",
       "      <td>0.0</td>\n",
       "      <td>2</td>\n",
       "      <td>1</td>\n",
       "      <td>1</td>\n",
       "      <td>54724.03</td>\n",
       "      <td>0</td>\n",
       "    </tr>\n",
       "    <tr>\n",
       "      <th>20</th>\n",
       "      <td>732</td>\n",
       "      <td>France</td>\n",
       "      <td>Male</td>\n",
       "      <td>41</td>\n",
       "      <td>8.0</td>\n",
       "      <td>0.0</td>\n",
       "      <td>2</td>\n",
       "      <td>1</td>\n",
       "      <td>1</td>\n",
       "      <td>170886.17</td>\n",
       "      <td>0</td>\n",
       "    </tr>\n",
       "    <tr>\n",
       "      <th>21</th>\n",
       "      <td>636</td>\n",
       "      <td>Spain</td>\n",
       "      <td>Female</td>\n",
       "      <td>32</td>\n",
       "      <td>8.0</td>\n",
       "      <td>0.0</td>\n",
       "      <td>2</td>\n",
       "      <td>1</td>\n",
       "      <td>0</td>\n",
       "      <td>138555.46</td>\n",
       "      <td>0</td>\n",
       "    </tr>\n",
       "    <tr>\n",
       "      <th>22</th>\n",
       "      <td>510</td>\n",
       "      <td>Spain</td>\n",
       "      <td>Female</td>\n",
       "      <td>38</td>\n",
       "      <td>4.0</td>\n",
       "      <td>0.0</td>\n",
       "      <td>1</td>\n",
       "      <td>1</td>\n",
       "      <td>0</td>\n",
       "      <td>118913.53</td>\n",
       "      <td>1</td>\n",
       "    </tr>\n",
       "    <tr>\n",
       "      <th>23</th>\n",
       "      <td>669</td>\n",
       "      <td>France</td>\n",
       "      <td>Male</td>\n",
       "      <td>46</td>\n",
       "      <td>3.0</td>\n",
       "      <td>0.0</td>\n",
       "      <td>2</td>\n",
       "      <td>0</td>\n",
       "      <td>1</td>\n",
       "      <td>8487.75</td>\n",
       "      <td>0</td>\n",
       "    </tr>\n",
       "    <tr>\n",
       "      <th>24</th>\n",
       "      <td>846</td>\n",
       "      <td>France</td>\n",
       "      <td>Female</td>\n",
       "      <td>38</td>\n",
       "      <td>5.0</td>\n",
       "      <td>0.0</td>\n",
       "      <td>1</td>\n",
       "      <td>1</td>\n",
       "      <td>1</td>\n",
       "      <td>187616.16</td>\n",
       "      <td>0</td>\n",
       "    </tr>\n",
       "  </tbody>\n",
       "</table>\n",
       "</div>"
      ],
      "text/plain": [
       "    creditscore geography  gender  age  tenure  balance  numofproducts  \\\n",
       "0           619    France  Female   42     2.0      0.0              1   \n",
       "3           699    France  Female   39     1.0      0.0              2   \n",
       "6           822    France    Male   50     7.0      0.0              2   \n",
       "11          497     Spain    Male   24     3.0      0.0              2   \n",
       "12          476    France  Female   34    10.0      0.0              2   \n",
       "13          549    France  Female   25     5.0      0.0              2   \n",
       "14          635     Spain  Female   35     7.0      0.0              2   \n",
       "17          549     Spain  Female   24     9.0      0.0              2   \n",
       "18          587     Spain    Male   45     6.0      0.0              1   \n",
       "19          726    France  Female   24     6.0      0.0              2   \n",
       "20          732    France    Male   41     8.0      0.0              2   \n",
       "21          636     Spain  Female   32     8.0      0.0              2   \n",
       "22          510     Spain  Female   38     4.0      0.0              1   \n",
       "23          669    France    Male   46     3.0      0.0              2   \n",
       "24          846    France  Female   38     5.0      0.0              1   \n",
       "\n",
       "    hascrcard  isactivemember  estimatedsalary  exited  \n",
       "0           1               1        101348.88       1  \n",
       "3           0               0         93826.63       0  \n",
       "6           1               1         10062.80       0  \n",
       "11          1               0         76390.01       0  \n",
       "12          1               0         26260.98       0  \n",
       "13          0               0        190857.79       0  \n",
       "14          1               1         65951.65       0  \n",
       "17          1               1         14406.41       0  \n",
       "18          0               0        158684.81       0  \n",
       "19          1               1         54724.03       0  \n",
       "20          1               1        170886.17       0  \n",
       "21          1               0        138555.46       0  \n",
       "22          1               0        118913.53       1  \n",
       "23          0               1          8487.75       0  \n",
       "24          1               1        187616.16       0  "
      ]
     },
     "metadata": {},
     "output_type": "display_data"
    }
   ],
   "source": [
    "#просмотр даннных, где значение в столбце balance равно 0\n",
    "display(df.query('balance == 0').head(15))"
   ]
  },
  {
   "cell_type": "markdown",
   "metadata": {},
   "source": [
    "**Вывод**\n",
    "Если просматривать данные, все остальные строки заполнены в полном объеме. Данные оставим без изменений, учем в дальнейшем при анализе "
   ]
  },
  {
   "cell_type": "code",
   "execution_count": 13,
   "metadata": {},
   "outputs": [
    {
     "data": {
      "text/plain": [
       "1.0     952\n",
       "2.0     950\n",
       "8.0     933\n",
       "3.0     928\n",
       "5.0     927\n",
       "7.0     925\n",
       "4.0     885\n",
       "9.0     882\n",
       "6.0     881\n",
       "10.0    446\n",
       "0.0     382\n",
       "Name: tenure, dtype: int64"
      ]
     },
     "execution_count": 13,
     "metadata": {},
     "output_type": "execute_result"
    }
   ],
   "source": [
    "#просмотр данных по столбцу Tenure\n",
    "df['tenure'].value_counts()"
   ]
  },
  {
   "cell_type": "markdown",
   "metadata": {},
   "source": [
    "**Вывод**\n",
    "Распределение значений хаотичное, варьируется в диапазоне 800-950(на графике также это отображено), в связи с чем можно осуществить замену пустых значений на рандомные"
   ]
  },
  {
   "cell_type": "code",
   "execution_count": 14,
   "metadata": {},
   "outputs": [
    {
     "data": {
      "text/plain": [
       "0"
      ]
     },
     "execution_count": 14,
     "metadata": {},
     "output_type": "execute_result"
    }
   ],
   "source": [
    "#замена на рандомные значения\n",
    "df.fillna(np.random.randint(min(df.tenure),max(df.tenure)), inplace=True)\n",
    "#проверка\n",
    "df['tenure'].isna().sum()"
   ]
  },
  {
   "cell_type": "code",
   "execution_count": 15,
   "metadata": {},
   "outputs": [
    {
     "data": {
      "text/plain": [
       "0    0.7963\n",
       "1    0.2037\n",
       "Name: exited, dtype: float64"
      ]
     },
     "metadata": {},
     "output_type": "display_data"
    },
    {
     "data": {
      "text/plain": [
       "<AxesSubplot:title={'center':'Доля классов в целевом признаке'}, xlabel='Значение признака', ylabel='Доля,%'>"
      ]
     },
     "execution_count": 15,
     "metadata": {},
     "output_type": "execute_result"
    },
    {
     "data": {
      "image/png": "[encoded data removed]",
      "text/plain": [
       "<Figure size 400x400 with 1 Axes>"
      ]
     },
     "metadata": {},
     "output_type": "display_data"
    }
   ],
   "source": [
    "#доля отрицательных и положительных классов в целевом признаке (exited)\n",
    "display(df['exited'].value_counts(normalize=1))\n",
    "df['exited'].value_counts(normalize=1).plot(kind='bar', figsize = (4,4),\n",
    "                                            title = 'Доля классов в целевом признаке',\n",
    "                                            xlabel = 'Значение признака',\n",
    "                                           ylabel = 'Доля,%')"
   ]
  },
  {
   "cell_type": "markdown",
   "metadata": {},
   "source": [
    "**Вывод:**\n",
    "-  все названия переведены в нижний регистр\n",
    "- удалены  Surname, RowNumber, CustomerId (индекс строки, индификатор и фамилия)-эти параметры не влияют на уход клиентов \n",
    "- пустые значения в столбце Ternure(сколько лет человек является клиентом банка) заменены на рандомные (от 0 до 10)\n",
    "- два столбца с категориальными признаками: geography(страна проживания),gender(пол)\n",
    "- дубликатов нет\n",
    "- объектов отрицательного класса больше в столце exited(факт ухода клиента),соотношение 4 к 1( 80% со значением \"0\", 20% -\"1\")\n"
   ]
  },
  {
   "cell_type": "markdown",
   "metadata": {},
   "source": [
    "## Исследование задачи"
   ]
  },
  {
   "cell_type": "markdown",
   "metadata": {},
   "source": [
    "План действий:\n",
    "\n",
    "1. Разделить данные на признаки и целевой признак(features, target)\n",
    "2. Разделить на выборки: обучающую (60%), валидационную(20%) ,тестовую(20%)\n",
    "3. Провести прямое кодирование( изменение категориальных признаков в числовые)\n",
    "4. Масштабировать признаки\n",
    "5. Исследование моделей:\n",
    "    - дерево решений\n",
    "    - случайный лес\n",
    "    - логистиеская регрессия"
   ]
  },
  {
   "cell_type": "code",
   "execution_count": 17,
   "metadata": {},
   "outputs": [
    {
     "name": "stdout",
     "output_type": "stream",
     "text": [
      "(10000, 10)\n",
      "(10000,)\n"
     ]
    }
   ],
   "source": [
    "#выделение признаков и целевого признака у отдельные таблицы\n",
    "features = df.drop(['exited'],axis=1)\n",
    "target = df['exited']\n",
    "print(features.shape)\n",
    "print(target.shape)"
   ]
  },
  {
   "cell_type": "code",
   "execution_count": 18,
   "metadata": {},
   "outputs": [
    {
     "name": "stdout",
     "output_type": "stream",
     "text": [
      "(6000, 10)\n",
      "(2000, 10)\n",
      "(6000,)\n",
      "(2000,)\n",
      "(2000, 10)\n",
      "(2000,)\n"
     ]
    }
   ],
   "source": [
    "#деление на две выборки: обучающую (60%) и валидационную(предварительную 40%)\n",
    "features_train, features_val, target_train, target_val = train_test_split(features, target,\n",
    "                                                                              test_size=0.4, \n",
    "                                                                              random_state=12345)\n",
    "#разбивка предварительной на : валидационую(20%) и тестовую(20%)\n",
    "features_valid, features_test, target_valid, target_test = train_test_split(features_val, target_val,\n",
    "                                                                              test_size=0.5, \n",
    "                                                                              random_state=12345)\n",
    "\n",
    "#проверка\n",
    "print(features_train.shape)\n",
    "print(features_valid.shape)\n",
    "print(target_train.shape)\n",
    "print(target_valid.shape)\n",
    "print(features_test.shape)\n",
    "print(target_test.shape)"
   ]
  },
  {
   "cell_type": "code",
   "execution_count": 19,
   "metadata": {},
   "outputs": [
    {
     "data": {
      "text/html": [
       "<div>\n",
       "<style scoped>\n",
       "    .dataframe tbody tr th:only-of-type {\n",
       "        vertical-align: middle;\n",
       "    }\n",
       "\n",
       "    .dataframe tbody tr th {\n",
       "        vertical-align: top;\n",
       "    }\n",
       "\n",
       "    .dataframe thead th {\n",
       "        text-align: right;\n",
       "    }\n",
       "</style>\n",
       "<table border=\"1\" class=\"dataframe\">\n",
       "  <thead>\n",
       "    <tr style=\"text-align: right;\">\n",
       "      <th></th>\n",
       "      <th>creditscore</th>\n",
       "      <th>geography</th>\n",
       "      <th>gender</th>\n",
       "      <th>age</th>\n",
       "      <th>tenure</th>\n",
       "      <th>balance</th>\n",
       "      <th>numofproducts</th>\n",
       "      <th>hascrcard</th>\n",
       "      <th>isactivemember</th>\n",
       "      <th>estimatedsalary</th>\n",
       "    </tr>\n",
       "  </thead>\n",
       "  <tbody>\n",
       "    <tr>\n",
       "      <th>7479</th>\n",
       "      <td>567</td>\n",
       "      <td>Spain</td>\n",
       "      <td>Male</td>\n",
       "      <td>35</td>\n",
       "      <td>8.0</td>\n",
       "      <td>153137.74</td>\n",
       "      <td>1</td>\n",
       "      <td>1</td>\n",
       "      <td>0</td>\n",
       "      <td>88659.07</td>\n",
       "    </tr>\n",
       "    <tr>\n",
       "      <th>3411</th>\n",
       "      <td>711</td>\n",
       "      <td>France</td>\n",
       "      <td>Female</td>\n",
       "      <td>37</td>\n",
       "      <td>8.0</td>\n",
       "      <td>113899.92</td>\n",
       "      <td>1</td>\n",
       "      <td>0</td>\n",
       "      <td>0</td>\n",
       "      <td>80215.20</td>\n",
       "    </tr>\n",
       "    <tr>\n",
       "      <th>6027</th>\n",
       "      <td>850</td>\n",
       "      <td>Germany</td>\n",
       "      <td>Male</td>\n",
       "      <td>44</td>\n",
       "      <td>3.0</td>\n",
       "      <td>140393.65</td>\n",
       "      <td>2</td>\n",
       "      <td>0</td>\n",
       "      <td>1</td>\n",
       "      <td>186285.52</td>\n",
       "    </tr>\n",
       "    <tr>\n",
       "      <th>1247</th>\n",
       "      <td>512</td>\n",
       "      <td>France</td>\n",
       "      <td>Male</td>\n",
       "      <td>24</td>\n",
       "      <td>6.0</td>\n",
       "      <td>0.00</td>\n",
       "      <td>2</td>\n",
       "      <td>1</td>\n",
       "      <td>0</td>\n",
       "      <td>37654.31</td>\n",
       "    </tr>\n",
       "    <tr>\n",
       "      <th>3716</th>\n",
       "      <td>665</td>\n",
       "      <td>Germany</td>\n",
       "      <td>Female</td>\n",
       "      <td>27</td>\n",
       "      <td>2.0</td>\n",
       "      <td>147435.96</td>\n",
       "      <td>1</td>\n",
       "      <td>0</td>\n",
       "      <td>0</td>\n",
       "      <td>187508.06</td>\n",
       "    </tr>\n",
       "  </tbody>\n",
       "</table>\n",
       "</div>"
      ],
      "text/plain": [
       "      creditscore geography  gender  age  tenure    balance  numofproducts  \\\n",
       "7479          567     Spain    Male   35     8.0  153137.74              1   \n",
       "3411          711    France  Female   37     8.0  113899.92              1   \n",
       "6027          850   Germany    Male   44     3.0  140393.65              2   \n",
       "1247          512    France    Male   24     6.0       0.00              2   \n",
       "3716          665   Germany  Female   27     2.0  147435.96              1   \n",
       "\n",
       "      hascrcard  isactivemember  estimatedsalary  \n",
       "7479          1               0         88659.07  \n",
       "3411          0               0         80215.20  \n",
       "6027          0               1        186285.52  \n",
       "1247          1               0         37654.31  \n",
       "3716          0               0        187508.06  "
      ]
     },
     "metadata": {},
     "output_type": "display_data"
    }
   ],
   "source": [
    "display(features_train.head(5))"
   ]
  },
  {
   "cell_type": "code",
   "execution_count": 20,
   "metadata": {},
   "outputs": [],
   "source": [
    "#категориальные признаки для OHE \n",
    "ohe_features = ['geography', 'gender']"
   ]
  },
  {
   "cell_type": "code",
   "execution_count": 21,
   "metadata": {},
   "outputs": [
    {
     "data": {
      "text/html": [
       "<style>#sk-container-id-1 {color: black;background-color: white;}#sk-container-id-1 pre{padding: 0;}#sk-container-id-1 div.sk-toggleable {background-color: white;}#sk-container-id-1 label.sk-toggleable__label {cursor: pointer;display: block;width: 100%;margin-bottom: 0;padding: 0.3em;box-sizing: border-box;text-align: center;}#sk-container-id-1 label.sk-toggleable__label-arrow:before {content: \"▸\";float: left;margin-right: 0.25em;color: #696969;}#sk-container-id-1 label.sk-toggleable__label-arrow:hover:before {color: black;}#sk-container-id-1 div.sk-estimator:hover label.sk-toggleable__label-arrow:before {color: black;}#sk-container-id-1 div.sk-toggleable__content {max-height: 0;max-width: 0;overflow: hidden;text-align: left;background-color: #f0f8ff;}#sk-container-id-1 div.sk-toggleable__content pre {margin: 0.2em;color: black;border-radius: 0.25em;background-color: #f0f8ff;}#sk-container-id-1 input.sk-toggleable__control:checked~div.sk-toggleable__content {max-height: 200px;max-width: 100%;overflow: auto;}#sk-container-id-1 input.sk-toggleable__control:checked~label.sk-toggleable__label-arrow:before {content: \"▾\";}#sk-container-id-1 div.sk-estimator input.sk-toggleable__control:checked~label.sk-toggleable__label {background-color: #d4ebff;}#sk-container-id-1 div.sk-label input.sk-toggleable__control:checked~label.sk-toggleable__label {background-color: #d4ebff;}#sk-container-id-1 input.sk-hidden--visually {border: 0;clip: rect(1px 1px 1px 1px);clip: rect(1px, 1px, 1px, 1px);height: 1px;margin: -1px;overflow: hidden;padding: 0;position: absolute;width: 1px;}#sk-container-id-1 div.sk-estimator {font-family: monospace;background-color: #f0f8ff;border: 1px dotted black;border-radius: 0.25em;box-sizing: border-box;margin-bottom: 0.5em;}#sk-container-id-1 div.sk-estimator:hover {background-color: #d4ebff;}#sk-container-id-1 div.sk-parallel-item::after {content: \"\";width: 100%;border-bottom: 1px solid gray;flex-grow: 1;}#sk-container-id-1 div.sk-label:hover label.sk-toggleable__label {background-color: #d4ebff;}#sk-container-id-1 div.sk-serial::before {content: \"\";position: absolute;border-left: 1px solid gray;box-sizing: border-box;top: 0;bottom: 0;left: 50%;z-index: 0;}#sk-container-id-1 div.sk-serial {display: flex;flex-direction: column;align-items: center;background-color: white;padding-right: 0.2em;padding-left: 0.2em;position: relative;}#sk-container-id-1 div.sk-item {position: relative;z-index: 1;}#sk-container-id-1 div.sk-parallel {display: flex;align-items: stretch;justify-content: center;background-color: white;position: relative;}#sk-container-id-1 div.sk-item::before, #sk-container-id-1 div.sk-parallel-item::before {content: \"\";position: absolute;border-left: 1px solid gray;box-sizing: border-box;top: 0;bottom: 0;left: 50%;z-index: -1;}#sk-container-id-1 div.sk-parallel-item {display: flex;flex-direction: column;z-index: 1;position: relative;background-color: white;}#sk-container-id-1 div.sk-parallel-item:first-child::after {align-self: flex-end;width: 50%;}#sk-container-id-1 div.sk-parallel-item:last-child::after {align-self: flex-start;width: 50%;}#sk-container-id-1 div.sk-parallel-item:only-child::after {width: 0;}#sk-container-id-1 div.sk-dashed-wrapped {border: 1px dashed gray;margin: 0 0.4em 0.5em 0.4em;box-sizing: border-box;padding-bottom: 0.4em;background-color: white;}#sk-container-id-1 div.sk-label label {font-family: monospace;font-weight: bold;display: inline-block;line-height: 1.2em;}#sk-container-id-1 div.sk-label-container {text-align: center;}#sk-container-id-1 div.sk-container {/* jupyter's `normalize.less` sets `[hidden] { display: none; }` but bootstrap.min.css set `[hidden] { display: none !important; }` so we also need the `!important` here to be able to override the default hidden behavior on the sphinx rendered scikit-learn.org. See: https://github.com/scikit-learn/scikit-learn/issues/21755 */display: inline-block !important;position: relative;}#sk-container-id-1 div.sk-text-repr-fallback {display: none;}</style><div id=\"sk-container-id-1\" class=\"sk-top-container\"><div class=\"sk-text-repr-fallback\"><pre>OneHotEncoder(drop=&#x27;first&#x27;, handle_unknown=&#x27;ignore&#x27;, sparse=False)</pre><b>In a Jupyter environment, please rerun this cell to show the HTML representation or trust the notebook. <br />On GitHub, the HTML representation is unable to render, please try loading this page with nbviewer.org.</b></div><div class=\"sk-container\" hidden><div class=\"sk-item\"><div class=\"sk-estimator sk-toggleable\"><input class=\"sk-toggleable__control sk-hidden--visually\" id=\"sk-estimator-id-1\" type=\"checkbox\" checked><label for=\"sk-estimator-id-1\" class=\"sk-toggleable__label sk-toggleable__label-arrow\">OneHotEncoder</label><div class=\"sk-toggleable__content\"><pre>OneHotEncoder(drop=&#x27;first&#x27;, handle_unknown=&#x27;ignore&#x27;, sparse=False)</pre></div></div></div></div></div>"
      ],
      "text/plain": [
       "OneHotEncoder(drop='first', handle_unknown='ignore', sparse=False)"
      ]
     },
     "execution_count": 21,
     "metadata": {},
     "output_type": "execute_result"
    }
   ],
   "source": [
    "# изменение категориальных признаков в числовые, с исползованием техники OHE\n",
    "encoder_ohe = OneHotEncoder(drop='first', handle_unknown='ignore',sparse=False)\n",
    "#обучение на тестовой выборке на заданных категориальных признаках тренировочной выборки\n",
    "encoder_ohe.fit(features_train[ohe_features]) "
   ]
  },
  {
   "cell_type": "code",
   "execution_count": 22,
   "metadata": {},
   "outputs": [
    {
     "data": {
      "text/html": [
       "<div>\n",
       "<style scoped>\n",
       "    .dataframe tbody tr th:only-of-type {\n",
       "        vertical-align: middle;\n",
       "    }\n",
       "\n",
       "    .dataframe tbody tr th {\n",
       "        vertical-align: top;\n",
       "    }\n",
       "\n",
       "    .dataframe thead th {\n",
       "        text-align: right;\n",
       "    }\n",
       "</style>\n",
       "<table border=\"1\" class=\"dataframe\">\n",
       "  <thead>\n",
       "    <tr style=\"text-align: right;\">\n",
       "      <th></th>\n",
       "      <th>creditscore</th>\n",
       "      <th>age</th>\n",
       "      <th>tenure</th>\n",
       "      <th>balance</th>\n",
       "      <th>numofproducts</th>\n",
       "      <th>hascrcard</th>\n",
       "      <th>isactivemember</th>\n",
       "      <th>estimatedsalary</th>\n",
       "      <th>geography_Germany</th>\n",
       "      <th>geography_Spain</th>\n",
       "      <th>gender_Male</th>\n",
       "    </tr>\n",
       "  </thead>\n",
       "  <tbody>\n",
       "    <tr>\n",
       "      <th>7479</th>\n",
       "      <td>567</td>\n",
       "      <td>35</td>\n",
       "      <td>8.0</td>\n",
       "      <td>153137.74</td>\n",
       "      <td>1</td>\n",
       "      <td>1</td>\n",
       "      <td>0</td>\n",
       "      <td>88659.07</td>\n",
       "      <td>0.0</td>\n",
       "      <td>1.0</td>\n",
       "      <td>1.0</td>\n",
       "    </tr>\n",
       "    <tr>\n",
       "      <th>3411</th>\n",
       "      <td>711</td>\n",
       "      <td>37</td>\n",
       "      <td>8.0</td>\n",
       "      <td>113899.92</td>\n",
       "      <td>1</td>\n",
       "      <td>0</td>\n",
       "      <td>0</td>\n",
       "      <td>80215.20</td>\n",
       "      <td>0.0</td>\n",
       "      <td>0.0</td>\n",
       "      <td>0.0</td>\n",
       "    </tr>\n",
       "    <tr>\n",
       "      <th>6027</th>\n",
       "      <td>850</td>\n",
       "      <td>44</td>\n",
       "      <td>3.0</td>\n",
       "      <td>140393.65</td>\n",
       "      <td>2</td>\n",
       "      <td>0</td>\n",
       "      <td>1</td>\n",
       "      <td>186285.52</td>\n",
       "      <td>1.0</td>\n",
       "      <td>0.0</td>\n",
       "      <td>1.0</td>\n",
       "    </tr>\n",
       "    <tr>\n",
       "      <th>1247</th>\n",
       "      <td>512</td>\n",
       "      <td>24</td>\n",
       "      <td>6.0</td>\n",
       "      <td>0.00</td>\n",
       "      <td>2</td>\n",
       "      <td>1</td>\n",
       "      <td>0</td>\n",
       "      <td>37654.31</td>\n",
       "      <td>0.0</td>\n",
       "      <td>0.0</td>\n",
       "      <td>1.0</td>\n",
       "    </tr>\n",
       "    <tr>\n",
       "      <th>3716</th>\n",
       "      <td>665</td>\n",
       "      <td>27</td>\n",
       "      <td>2.0</td>\n",
       "      <td>147435.96</td>\n",
       "      <td>1</td>\n",
       "      <td>0</td>\n",
       "      <td>0</td>\n",
       "      <td>187508.06</td>\n",
       "      <td>1.0</td>\n",
       "      <td>0.0</td>\n",
       "      <td>0.0</td>\n",
       "    </tr>\n",
       "  </tbody>\n",
       "</table>\n",
       "</div>"
      ],
      "text/plain": [
       "      creditscore  age  tenure    balance  numofproducts  hascrcard  \\\n",
       "7479          567   35     8.0  153137.74              1          1   \n",
       "3411          711   37     8.0  113899.92              1          0   \n",
       "6027          850   44     3.0  140393.65              2          0   \n",
       "1247          512   24     6.0       0.00              2          1   \n",
       "3716          665   27     2.0  147435.96              1          0   \n",
       "\n",
       "      isactivemember  estimatedsalary  geography_Germany  geography_Spain  \\\n",
       "7479               0         88659.07                0.0              1.0   \n",
       "3411               0         80215.20                0.0              0.0   \n",
       "6027               1        186285.52                1.0              0.0   \n",
       "1247               0         37654.31                0.0              0.0   \n",
       "3716               0        187508.06                1.0              0.0   \n",
       "\n",
       "      gender_Male  \n",
       "7479          1.0  \n",
       "3411          0.0  \n",
       "6027          1.0  \n",
       "1247          1.0  \n",
       "3716          0.0  "
      ]
     },
     "execution_count": 22,
     "metadata": {},
     "output_type": "execute_result"
    }
   ],
   "source": [
    "# добавляем закодированные признаки в features_train\n",
    "# encoder_ohe.get_feature_names_out() позволяет получить названия колонок\n",
    "features_train[encoder_ohe.get_feature_names_out()] = encoder_ohe.transform(features_train[ohe_features])\n",
    "\n",
    "# удаляем незакодированные категориальные признаки (изначальные колонки)\n",
    "features_train = features_train.drop(ohe_features, axis=1)\n",
    "#проверка результата\n",
    "features_train.head()\n"
   ]
  },
  {
   "cell_type": "code",
   "execution_count": 23,
   "metadata": {},
   "outputs": [
    {
     "data": {
      "text/html": [
       "<div>\n",
       "<style scoped>\n",
       "    .dataframe tbody tr th:only-of-type {\n",
       "        vertical-align: middle;\n",
       "    }\n",
       "\n",
       "    .dataframe tbody tr th {\n",
       "        vertical-align: top;\n",
       "    }\n",
       "\n",
       "    .dataframe thead th {\n",
       "        text-align: right;\n",
       "    }\n",
       "</style>\n",
       "<table border=\"1\" class=\"dataframe\">\n",
       "  <thead>\n",
       "    <tr style=\"text-align: right;\">\n",
       "      <th></th>\n",
       "      <th>creditscore</th>\n",
       "      <th>age</th>\n",
       "      <th>tenure</th>\n",
       "      <th>balance</th>\n",
       "      <th>numofproducts</th>\n",
       "      <th>hascrcard</th>\n",
       "      <th>isactivemember</th>\n",
       "      <th>estimatedsalary</th>\n",
       "      <th>geography_Germany</th>\n",
       "      <th>geography_Spain</th>\n",
       "      <th>gender_Male</th>\n",
       "    </tr>\n",
       "  </thead>\n",
       "  <tbody>\n",
       "    <tr>\n",
       "      <th>8532</th>\n",
       "      <td>585</td>\n",
       "      <td>35</td>\n",
       "      <td>2.0</td>\n",
       "      <td>0.00</td>\n",
       "      <td>2</td>\n",
       "      <td>1</td>\n",
       "      <td>0</td>\n",
       "      <td>98621.04</td>\n",
       "      <td>0.0</td>\n",
       "      <td>0.0</td>\n",
       "      <td>0.0</td>\n",
       "    </tr>\n",
       "    <tr>\n",
       "      <th>5799</th>\n",
       "      <td>625</td>\n",
       "      <td>45</td>\n",
       "      <td>3.0</td>\n",
       "      <td>0.00</td>\n",
       "      <td>1</td>\n",
       "      <td>1</td>\n",
       "      <td>1</td>\n",
       "      <td>184474.15</td>\n",
       "      <td>0.0</td>\n",
       "      <td>0.0</td>\n",
       "      <td>0.0</td>\n",
       "    </tr>\n",
       "    <tr>\n",
       "      <th>5511</th>\n",
       "      <td>667</td>\n",
       "      <td>32</td>\n",
       "      <td>0.0</td>\n",
       "      <td>103846.65</td>\n",
       "      <td>1</td>\n",
       "      <td>1</td>\n",
       "      <td>0</td>\n",
       "      <td>20560.69</td>\n",
       "      <td>1.0</td>\n",
       "      <td>0.0</td>\n",
       "      <td>1.0</td>\n",
       "    </tr>\n",
       "    <tr>\n",
       "      <th>7365</th>\n",
       "      <td>568</td>\n",
       "      <td>36</td>\n",
       "      <td>10.0</td>\n",
       "      <td>153610.61</td>\n",
       "      <td>1</td>\n",
       "      <td>1</td>\n",
       "      <td>1</td>\n",
       "      <td>54083.80</td>\n",
       "      <td>0.0</td>\n",
       "      <td>1.0</td>\n",
       "      <td>0.0</td>\n",
       "    </tr>\n",
       "    <tr>\n",
       "      <th>7367</th>\n",
       "      <td>606</td>\n",
       "      <td>42</td>\n",
       "      <td>10.0</td>\n",
       "      <td>0.00</td>\n",
       "      <td>2</td>\n",
       "      <td>1</td>\n",
       "      <td>0</td>\n",
       "      <td>177938.52</td>\n",
       "      <td>0.0</td>\n",
       "      <td>1.0</td>\n",
       "      <td>1.0</td>\n",
       "    </tr>\n",
       "  </tbody>\n",
       "</table>\n",
       "</div>"
      ],
      "text/plain": [
       "      creditscore  age  tenure    balance  numofproducts  hascrcard  \\\n",
       "8532          585   35     2.0       0.00              2          1   \n",
       "5799          625   45     3.0       0.00              1          1   \n",
       "5511          667   32     0.0  103846.65              1          1   \n",
       "7365          568   36    10.0  153610.61              1          1   \n",
       "7367          606   42    10.0       0.00              2          1   \n",
       "\n",
       "      isactivemember  estimatedsalary  geography_Germany  geography_Spain  \\\n",
       "8532               0         98621.04                0.0              0.0   \n",
       "5799               1        184474.15                0.0              0.0   \n",
       "5511               0         20560.69                1.0              0.0   \n",
       "7365               1         54083.80                0.0              1.0   \n",
       "7367               0        177938.52                0.0              1.0   \n",
       "\n",
       "      gender_Male  \n",
       "8532          0.0  \n",
       "5799          0.0  \n",
       "5511          1.0  \n",
       "7365          0.0  \n",
       "7367          1.0  "
      ]
     },
     "metadata": {},
     "output_type": "display_data"
    },
    {
     "data": {
      "text/html": [
       "<div>\n",
       "<style scoped>\n",
       "    .dataframe tbody tr th:only-of-type {\n",
       "        vertical-align: middle;\n",
       "    }\n",
       "\n",
       "    .dataframe tbody tr th {\n",
       "        vertical-align: top;\n",
       "    }\n",
       "\n",
       "    .dataframe thead th {\n",
       "        text-align: right;\n",
       "    }\n",
       "</style>\n",
       "<table border=\"1\" class=\"dataframe\">\n",
       "  <thead>\n",
       "    <tr style=\"text-align: right;\">\n",
       "      <th></th>\n",
       "      <th>creditscore</th>\n",
       "      <th>age</th>\n",
       "      <th>tenure</th>\n",
       "      <th>balance</th>\n",
       "      <th>numofproducts</th>\n",
       "      <th>hascrcard</th>\n",
       "      <th>isactivemember</th>\n",
       "      <th>estimatedsalary</th>\n",
       "      <th>geography_Germany</th>\n",
       "      <th>geography_Spain</th>\n",
       "      <th>gender_Male</th>\n",
       "    </tr>\n",
       "  </thead>\n",
       "  <tbody>\n",
       "    <tr>\n",
       "      <th>7041</th>\n",
       "      <td>438</td>\n",
       "      <td>38</td>\n",
       "      <td>2.0</td>\n",
       "      <td>0.00</td>\n",
       "      <td>2</td>\n",
       "      <td>1</td>\n",
       "      <td>0</td>\n",
       "      <td>136859.55</td>\n",
       "      <td>0.0</td>\n",
       "      <td>0.0</td>\n",
       "      <td>1.0</td>\n",
       "    </tr>\n",
       "    <tr>\n",
       "      <th>5709</th>\n",
       "      <td>644</td>\n",
       "      <td>39</td>\n",
       "      <td>9.0</td>\n",
       "      <td>0.00</td>\n",
       "      <td>1</td>\n",
       "      <td>1</td>\n",
       "      <td>0</td>\n",
       "      <td>3740.93</td>\n",
       "      <td>0.0</td>\n",
       "      <td>0.0</td>\n",
       "      <td>0.0</td>\n",
       "    </tr>\n",
       "    <tr>\n",
       "      <th>7117</th>\n",
       "      <td>564</td>\n",
       "      <td>31</td>\n",
       "      <td>5.0</td>\n",
       "      <td>121461.87</td>\n",
       "      <td>1</td>\n",
       "      <td>1</td>\n",
       "      <td>1</td>\n",
       "      <td>20432.09</td>\n",
       "      <td>0.0</td>\n",
       "      <td>1.0</td>\n",
       "      <td>1.0</td>\n",
       "    </tr>\n",
       "    <tr>\n",
       "      <th>7775</th>\n",
       "      <td>628</td>\n",
       "      <td>40</td>\n",
       "      <td>10.0</td>\n",
       "      <td>0.00</td>\n",
       "      <td>2</td>\n",
       "      <td>1</td>\n",
       "      <td>0</td>\n",
       "      <td>103832.58</td>\n",
       "      <td>0.0</td>\n",
       "      <td>1.0</td>\n",
       "      <td>1.0</td>\n",
       "    </tr>\n",
       "    <tr>\n",
       "      <th>8735</th>\n",
       "      <td>728</td>\n",
       "      <td>30</td>\n",
       "      <td>10.0</td>\n",
       "      <td>114835.43</td>\n",
       "      <td>1</td>\n",
       "      <td>0</td>\n",
       "      <td>1</td>\n",
       "      <td>37662.49</td>\n",
       "      <td>0.0</td>\n",
       "      <td>0.0</td>\n",
       "      <td>1.0</td>\n",
       "    </tr>\n",
       "  </tbody>\n",
       "</table>\n",
       "</div>"
      ],
      "text/plain": [
       "      creditscore  age  tenure    balance  numofproducts  hascrcard  \\\n",
       "7041          438   38     2.0       0.00              2          1   \n",
       "5709          644   39     9.0       0.00              1          1   \n",
       "7117          564   31     5.0  121461.87              1          1   \n",
       "7775          628   40    10.0       0.00              2          1   \n",
       "8735          728   30    10.0  114835.43              1          0   \n",
       "\n",
       "      isactivemember  estimatedsalary  geography_Germany  geography_Spain  \\\n",
       "7041               0        136859.55                0.0              0.0   \n",
       "5709               0          3740.93                0.0              0.0   \n",
       "7117               1         20432.09                0.0              1.0   \n",
       "7775               0        103832.58                0.0              1.0   \n",
       "8735               1         37662.49                0.0              0.0   \n",
       "\n",
       "      gender_Male  \n",
       "7041          1.0  \n",
       "5709          0.0  \n",
       "7117          1.0  \n",
       "7775          1.0  \n",
       "8735          1.0  "
      ]
     },
     "metadata": {},
     "output_type": "display_data"
    }
   ],
   "source": [
    "#применение на валидацонной и тестовой выборках\n",
    "features_valid[encoder_ohe.get_feature_names_out()] = encoder_ohe.transform(features_valid[ohe_features])\n",
    "features_valid = features_valid.drop(ohe_features, axis=1)\n",
    "features_test[encoder_ohe.get_feature_names_out()] = encoder_ohe.transform(features_test[ohe_features])\n",
    "features_test = features_test.drop(ohe_features, axis=1)\n",
    "\n",
    "#проверка результата\n",
    "display(features_valid.head())\n",
    "display(features_test.head())"
   ]
  },
  {
   "cell_type": "code",
   "execution_count": 24,
   "metadata": {},
   "outputs": [
    {
     "data": {
      "text/html": [
       "<div>\n",
       "<style scoped>\n",
       "    .dataframe tbody tr th:only-of-type {\n",
       "        vertical-align: middle;\n",
       "    }\n",
       "\n",
       "    .dataframe tbody tr th {\n",
       "        vertical-align: top;\n",
       "    }\n",
       "\n",
       "    .dataframe thead th {\n",
       "        text-align: right;\n",
       "    }\n",
       "</style>\n",
       "<table border=\"1\" class=\"dataframe\">\n",
       "  <thead>\n",
       "    <tr style=\"text-align: right;\">\n",
       "      <th></th>\n",
       "      <th>creditscore</th>\n",
       "      <th>age</th>\n",
       "      <th>tenure</th>\n",
       "      <th>balance</th>\n",
       "      <th>numofproducts</th>\n",
       "      <th>hascrcard</th>\n",
       "      <th>isactivemember</th>\n",
       "      <th>estimatedsalary</th>\n",
       "      <th>geography_Germany</th>\n",
       "      <th>geography_Spain</th>\n",
       "      <th>gender_Male</th>\n",
       "    </tr>\n",
       "  </thead>\n",
       "  <tbody>\n",
       "    <tr>\n",
       "      <th>7479</th>\n",
       "      <td>-0.886751</td>\n",
       "      <td>-0.373192</td>\n",
       "      <td>0.874724</td>\n",
       "      <td>1.232271</td>\n",
       "      <td>-0.891560</td>\n",
       "      <td>1</td>\n",
       "      <td>0</td>\n",
       "      <td>-0.187705</td>\n",
       "      <td>0.0</td>\n",
       "      <td>1.0</td>\n",
       "      <td>1.0</td>\n",
       "    </tr>\n",
       "    <tr>\n",
       "      <th>3411</th>\n",
       "      <td>0.608663</td>\n",
       "      <td>-0.183385</td>\n",
       "      <td>0.874724</td>\n",
       "      <td>0.600563</td>\n",
       "      <td>-0.891560</td>\n",
       "      <td>0</td>\n",
       "      <td>0</td>\n",
       "      <td>-0.333945</td>\n",
       "      <td>0.0</td>\n",
       "      <td>0.0</td>\n",
       "      <td>0.0</td>\n",
       "    </tr>\n",
       "    <tr>\n",
       "      <th>6027</th>\n",
       "      <td>2.052152</td>\n",
       "      <td>0.480939</td>\n",
       "      <td>-0.804423</td>\n",
       "      <td>1.027098</td>\n",
       "      <td>0.830152</td>\n",
       "      <td>0</td>\n",
       "      <td>1</td>\n",
       "      <td>1.503095</td>\n",
       "      <td>1.0</td>\n",
       "      <td>0.0</td>\n",
       "      <td>1.0</td>\n",
       "    </tr>\n",
       "  </tbody>\n",
       "</table>\n",
       "</div>"
      ],
      "text/plain": [
       "      creditscore       age    tenure   balance  numofproducts  hascrcard  \\\n",
       "7479    -0.886751 -0.373192  0.874724  1.232271      -0.891560          1   \n",
       "3411     0.608663 -0.183385  0.874724  0.600563      -0.891560          0   \n",
       "6027     2.052152  0.480939 -0.804423  1.027098       0.830152          0   \n",
       "\n",
       "      isactivemember  estimatedsalary  geography_Germany  geography_Spain  \\\n",
       "7479               0        -0.187705                0.0              1.0   \n",
       "3411               0        -0.333945                0.0              0.0   \n",
       "6027               1         1.503095                1.0              0.0   \n",
       "\n",
       "      gender_Male  \n",
       "7479          1.0  \n",
       "3411          0.0  \n",
       "6027          1.0  "
      ]
     },
     "metadata": {},
     "output_type": "display_data"
    },
    {
     "name": "stdout",
     "output_type": "stream",
     "text": [
      "(6000, 11)\n",
      "(2000, 11)\n",
      "(2000, 11)\n"
     ]
    }
   ],
   "source": [
    "#масштабирование данных\n",
    "#числовые признаки numeric(за вычетом столбцов hascrcard, isactivemember, которые содержат только значения 0; 1)\n",
    "numeric = ['creditscore', 'age', 'tenure', 'balance', 'numofproducts', 'estimatedsalary']\n",
    "\n",
    "scaler = StandardScaler()\n",
    "scaler.fit(features_train[numeric])\n",
    "features_train[numeric] = scaler.transform(features_train[numeric])\n",
    "features_valid[numeric] = scaler.transform(features_valid[numeric])\n",
    "features_test[numeric] = scaler.transform(features_test[numeric])\n",
    "pd.options.mode.chained_assignment=None\n",
    "#проверка\n",
    "display(features_train.head(3))\n",
    "print(features_train.shape)\n",
    "print(features_valid.shape)\n",
    "print(features_test.shape)"
   ]
  },
  {
   "cell_type": "markdown",
   "metadata": {},
   "source": [
    "**Дерево решений**"
   ]
  },
  {
   "cell_type": "code",
   "execution_count": 25,
   "metadata": {},
   "outputs": [
    {
     "name": "stdout",
     "output_type": "stream",
     "text": [
      "F1 лучшей модели: 0.5904486251808971\n",
      "Accuracy лучшей модели: 0.8585\n",
      "Глубина дерева лучшей модели: 6\n",
      "Лучшая модель: DecisionTreeClassifier(max_depth=6, max_features=5, random_state=12345)\n"
     ]
    }
   ],
   "source": [
    "#исследование модели \"решающего дерева\" \n",
    "best_model = None\n",
    "best_result = 0\n",
    "best_result_f1 = 0\n",
    "best_max_depth = 0\n",
    "best_min_sample_leaf = 0\n",
    "for depth in range(1,15):\n",
    "    for i in range(1, 10):\n",
    "        model = DecisionTreeClassifier(random_state=12345, max_depth = depth, max_features = i)\n",
    "        model.fit(features_train, target_train)\n",
    "        predictions_valid = model.predict(features_valid)\n",
    "        result = accuracy_score(target_valid, predictions_valid)\n",
    "        result_f1 = f1_score(target_valid, predictions_valid)\n",
    "        if result_f1 > best_result_f1:\n",
    "            best_model = model\n",
    "            best_result = result\n",
    "            best_result_f1 = result_f1\n",
    "            best_max_depth = depth\n",
    "            best_min_sample_leaf = i\n",
    "print('F1 лучшей модели:',best_result_f1)\n",
    "print('Accuracy лучшей модели:',best_result)\n",
    "print(\"Глубина дерева лучшей модели:\", best_max_depth)\n",
    "print(\"Лучшая модель:\",best_model)"
   ]
  },
  {
   "cell_type": "markdown",
   "metadata": {},
   "source": [
    "**Случайный лес**"
   ]
  },
  {
   "cell_type": "code",
   "execution_count": 26,
   "metadata": {},
   "outputs": [
    {
     "name": "stdout",
     "output_type": "stream",
     "text": [
      "F1 лучшей модели: 0.5885885885885885\n",
      "Accuracy лучшей модели: 0.863\n",
      "Количество деревьев лучшей модели: 31\n",
      "Глубина дерева лучшей модели: 12\n",
      "Лучшая модель: RandomForestClassifier(max_depth=12, n_estimators=31, random_state=12345)\n"
     ]
    }
   ],
   "source": [
    "#исследование модели \"случайный лес\"\n",
    "\n",
    "best_model = None\n",
    "best_result = 0\n",
    "best_result_f1 = 0\n",
    "best_est = 0\n",
    "best_depth = 0\n",
    "for est in range(1,101,10):\n",
    "    for depth in range (1,15):\n",
    "        model = RandomForestClassifier(random_state=12345, n_estimators = est, max_depth = depth)\n",
    "        model.fit(features_train, target_train)\n",
    "        predictions_valid = model.predict(features_valid)\n",
    "        result_f1 = f1_score(target_valid, predictions_valid)\n",
    "        result = accuracy_score(target_valid, predictions_valid)\n",
    "        if result_f1 > best_result_f1:\n",
    "            best_model = model\n",
    "            best_result = result\n",
    "            best_result_f1 = result_f1\n",
    "            best_est = est\n",
    "            best_depth = depth\n",
    "\n",
    "print('F1 лучшей модели:',best_result_f1)\n",
    "print('Accuracy лучшей модели:',best_result)\n",
    "print('Количество деревьев лучшей модели:', best_est )\n",
    "print ('Глубина дерева лучшей модели:', best_depth )\n",
    "print('Лучшая модель:', best_model)"
   ]
  },
  {
   "cell_type": "markdown",
   "metadata": {},
   "source": [
    "**Логистическая регрессия**"
   ]
  },
  {
   "cell_type": "code",
   "execution_count": 27,
   "metadata": {},
   "outputs": [
    {
     "name": "stdout",
     "output_type": "stream",
     "text": [
      "F1 модели логической регресии: 0.33389544688026984\n",
      "Accuracy лучшей модели: 0.8035\n",
      "max_C: 1\n",
      "Лучшая модель: LogisticRegression(C=1, max_iter=30, random_state=12345)\n"
     ]
    }
   ],
   "source": [
    "#изучение модели логистической регрессии\n",
    "best_model = None\n",
    "best_result_f1 = 0\n",
    "best_result = 0\n",
    "best_C = 0\n",
    "\n",
    "for i in range(1,5,1):\n",
    "    model = LogisticRegression(random_state =12345, solver ='lbfgs', max_iter=30, C=i)\n",
    "    model.fit(features_train, target_train)\n",
    "    predictions_valid = model.predict(features_valid)\n",
    "    result = accuracy_score(target_valid, predictions_valid)\n",
    "    result_f1 = f1_score(target_valid, predictions_valid)\n",
    "    if result_f1 > best_result_f1:\n",
    "            best_model = model\n",
    "            best_result = result\n",
    "            best_result_f1 = result_f1\n",
    "            best_C = i\n",
    "            \n",
    "print('F1 модели логической регресии:', result_f1)\n",
    "print('Accuracy лучшей модели:',best_result)\n",
    "print('max_C:', best_C)\n",
    "print('Лучшая модель:', best_model)"
   ]
  },
  {
   "cell_type": "markdown",
   "metadata": {},
   "source": [
    "### **Вывод:**\n",
    "\n",
    "На данном этапе лучшие результаты на валидационной выборке показала модель \"Случайный лес\" со значением accuracy = 0.86, F1 = 0.579\n",
    "\n",
    "Результаты моделей следующие:\n",
    " - Дерево решений: аccuracy = 0.859, F1 = 0.593 (гиперпараметры: max_depth=6, max_features=5)\n",
    " - Случайный лес: аccuracy = 0.865, F1 = 0.589 (гиперпараметры: max_depth=11, n_estimators=81)\n",
    " - Логистическая регрессия: аccuracy = 0.802, F1 = 0.3338 (гиперпараметры: max_iter=30,C=3)"
   ]
  },
  {
   "cell_type": "markdown",
   "metadata": {},
   "source": [
    "## Борьба с дисбалансом"
   ]
  },
  {
   "cell_type": "markdown",
   "metadata": {},
   "source": [
    "План действий:\n",
    "\n",
    "Изучение моделей\n",
    "1. Upsampling (увеличение выборки) \n",
    "2. Downsampling (уменьшение выборки)\n",
    "2. Взвешивание классов (class_weight='balanced')"
   ]
  },
  {
   "cell_type": "markdown",
   "metadata": {},
   "source": [
    "**Upsampling**"
   ]
  },
  {
   "cell_type": "code",
   "execution_count": 30,
   "metadata": {},
   "outputs": [
    {
     "name": "stdout",
     "output_type": "stream",
     "text": [
      "(9608, 11)\n",
      "(9608,)\n"
     ]
    }
   ],
   "source": [
    "#увеличение обучающей выборки (метод SMOTE)\n",
    "oversample = SMOTE(random_state=12345)\n",
    "features_train_up, target_train_up = oversample.fit_resample(features_train, target_train)\n",
    "#проверка\n",
    "print(features_train_up.shape)\n",
    "print(target_train_up.shape)"
   ]
  },
  {
   "cell_type": "code",
   "execution_count": 31,
   "metadata": {},
   "outputs": [
    {
     "name": "stdout",
     "output_type": "stream",
     "text": [
      "F1 лучшей модели: 0.5931558935361216\n",
      "Accuracy лучшей модели: 0.8395\n",
      "Глубина дерева лучшей модели: 5\n",
      "Лучшая модель: DecisionTreeClassifier(max_depth=5, max_features=9, random_state=12345)\n"
     ]
    }
   ],
   "source": [
    "#исследование модели \"решающего дерева\" на увелич выборке\n",
    "best_model_dt_up = None\n",
    "best_result = 0\n",
    "best_result_f1 = 0\n",
    "best_max_depth = 0\n",
    "best_min_sample_leaf = 0\n",
    "for depth in range(1,15):\n",
    "    for i in range(1, 10):\n",
    "        model = DecisionTreeClassifier(random_state=12345, max_depth = depth, max_features = i)\n",
    "        model.fit(features_train_up, target_train_up)\n",
    "        predictions_valid = model.predict(features_valid)\n",
    "        result = accuracy_score(target_valid, predictions_valid)\n",
    "        result_f1 = f1_score(target_valid, predictions_valid)\n",
    "        if result_f1 > best_result_f1:\n",
    "            best_model_rf_up = model\n",
    "            best_result = result\n",
    "            best_result_f1 = result_f1\n",
    "            best_max_depth = depth\n",
    "            best_min_sample_leaf = i\n",
    "print('F1 лучшей модели:',best_result_f1)\n",
    "print('Accuracy лучшей модели:',best_result)\n",
    "print(\"Глубина дерева лучшей модели:\", best_max_depth)\n",
    "print(\"Лучшая модель:\",best_model_rf_up)"
   ]
  },
  {
   "cell_type": "code",
   "execution_count": 32,
   "metadata": {},
   "outputs": [
    {
     "name": "stdout",
     "output_type": "stream",
     "text": [
      "F1 лучшей модели: 0.6130884041331801\n",
      "Accuracy лучшей модели: 0.8315\n",
      "Количество деревьев лучшей модели: 21\n",
      "Глубина дерева лучшей модели: 10\n",
      "Лучшая модель: RandomForestClassifier(max_depth=10, n_estimators=21, random_state=12345)\n"
     ]
    }
   ],
   "source": [
    "#исследование модели \"случайный лес\" на новой (увеличенной выборке)\n",
    "\n",
    "best_model_rf_up = None\n",
    "best_result = 0\n",
    "best_result_f1 = 0\n",
    "best_est = 0\n",
    "best_depth = 0\n",
    "for est in range(1,101,10):\n",
    "    for depth in range (1,11):\n",
    "        model = RandomForestClassifier(random_state=12345, n_estimators = est, max_depth = depth)\n",
    "        model.fit(features_train_up, target_train_up)\n",
    "        predictions_valid = model.predict(features_valid)\n",
    "        result_f1 = f1_score(target_valid, predictions_valid)\n",
    "        result = accuracy_score(target_valid, predictions_valid)\n",
    "        if result_f1 > best_result_f1:\n",
    "            best_model_rf_up = model\n",
    "            best_result = result\n",
    "            best_result_f1 = result_f1\n",
    "            best_est = est\n",
    "            best_depth = depth\n",
    "\n",
    "print('F1 лучшей модели:',best_result_f1)\n",
    "print('Accuracy лучшей модели:',best_result)\n",
    "print('Количество деревьев лучшей модели:', best_est )\n",
    "print ('Глубина дерева лучшей модели:', best_depth )\n",
    "print('Лучшая модель:', best_model_rf_up)"
   ]
  },
  {
   "cell_type": "markdown",
   "metadata": {},
   "source": [
    "**Вывод:**\n",
    "\n",
    "Upsampling улучшил результаты модели \"случайный лес\".\n",
    " - Дерево решений: аccuracy = 0.795, F1 = 0.5872 при max_depth=6, max_features=9 (было:аcc = 0.858, F1 = 0.593 , max_depth=6, max_features=5)\n",
    " - Случайный лес: аccuracy = 0.823, F1 = 0.6232 при max_depth=7, n_estimators=11 (было: асс = 0.861, F1 = 0.587, max_depth=11, n_estimators=9)"
   ]
  },
  {
   "cell_type": "markdown",
   "metadata": {},
   "source": [
    "**Downsampling**"
   ]
  },
  {
   "cell_type": "code",
   "execution_count": 34,
   "metadata": {},
   "outputs": [
    {
     "name": "stdout",
     "output_type": "stream",
     "text": [
      "(2392, 11)\n",
      "(2392,)\n"
     ]
    }
   ],
   "source": [
    "#уменьшение обучающей выборки (метод RandomUnderSampler)\n",
    "undersample = RandomUnderSampler(random_state=12345)\n",
    "features_train_down, target_train_down = undersample.fit_resample(features_train, target_train)\n",
    "#проверка\n",
    "print(features_train_down.shape)\n",
    "print(target_train_down.shape)"
   ]
  },
  {
   "cell_type": "code",
   "execution_count": 35,
   "metadata": {},
   "outputs": [
    {
     "name": "stdout",
     "output_type": "stream",
     "text": [
      "F1 лучшей модели: 0.5747800586510263\n",
      "Accuracy лучшей модели: 0.7825\n",
      "Глубина дерева лучшей модели: 6\n",
      "Лучшая модель: DecisionTreeClassifier(max_depth=6, max_features=8, random_state=12345)\n",
      "              precision    recall  f1-score   support\n",
      "\n",
      "           0       0.90      0.69      0.78      1582\n",
      "           1       0.38      0.71      0.50       418\n",
      "\n",
      "    accuracy                           0.70      2000\n",
      "   macro avg       0.64      0.70      0.64      2000\n",
      "weighted avg       0.79      0.70      0.72      2000\n",
      "\n"
     ]
    }
   ],
   "source": [
    "#исследование модели \"решающего дерева\" на уменьшенной выборке\n",
    "best_model_dt_down = None\n",
    "best_result = 0\n",
    "best_result_f1 = 0\n",
    "best_max_depth = 0\n",
    "best_min_sample_leaf = 0\n",
    "for depth in range(1,15):\n",
    "    for i in range(1, 10):\n",
    "        model = DecisionTreeClassifier(random_state=12345, max_depth = depth, max_features = i)\n",
    "        model.fit(features_train_down, target_train_down)\n",
    "        predictions_valid = model.predict(features_valid)\n",
    "        result = accuracy_score(target_valid, predictions_valid)\n",
    "        result_f1 = f1_score(target_valid, predictions_valid)\n",
    "        if result_f1 > best_result_f1:\n",
    "            best_model_dt_down = model\n",
    "            best_result = result\n",
    "            best_result_f1 = result_f1\n",
    "            best_max_depth = depth\n",
    "            best_min_sample_leaf = i\n",
    "print('F1 лучшей модели:',best_result_f1)\n",
    "print('Accuracy лучшей модели:',best_result)\n",
    "print(\"Глубина дерева лучшей модели:\", best_max_depth)\n",
    "print(\"Лучшая модель:\",best_model_dt_down)\n",
    "print(classification_report(target_valid, predictions_valid))"
   ]
  },
  {
   "cell_type": "code",
   "execution_count": 36,
   "metadata": {},
   "outputs": [
    {
     "name": "stdout",
     "output_type": "stream",
     "text": [
      "F1 лучшей модели: 0.5998107852412488\n",
      "Accuracy лучшей модели: 0.7885\n",
      "Количество деревьев лучшей модели: 91\n",
      "Глубина дерева лучшей модели: 7\n",
      "Лучшая модель: RandomForestClassifier(max_depth=7, n_estimators=91, random_state=12345)\n"
     ]
    }
   ],
   "source": [
    "#исследование модели \"случайный лес\" на новой (уменьшенной выборке)\n",
    "\n",
    "best_model_rf_down = None\n",
    "best_result = 0\n",
    "best_result_f1 = 0\n",
    "best_est = 0\n",
    "best_depth = 0\n",
    "for est in range(1,101,10):\n",
    "    for depth in range (1,11):\n",
    "        model = RandomForestClassifier(random_state=12345, n_estimators = est, max_depth = depth)\n",
    "        model.fit(features_train_down, target_train_down)\n",
    "        predictions_valid = model.predict(features_valid)\n",
    "        result_f1 = f1_score(target_valid, predictions_valid)\n",
    "        result = accuracy_score(target_valid, predictions_valid)\n",
    "        if result_f1 > best_result_f1:\n",
    "            best_model_rf_down = model\n",
    "            best_result = result\n",
    "            best_result_f1 = result_f1\n",
    "            best_est = est\n",
    "            best_depth = depth\n",
    "\n",
    "print('F1 лучшей модели:',best_result_f1)\n",
    "print('Accuracy лучшей модели:',best_result)\n",
    "print('Количество деревьев лучшей модели:', best_est )\n",
    "print ('Глубина дерева лучшей модели:', best_depth )\n",
    "print('Лучшая модель:', best_model_rf_down)"
   ]
  },
  {
   "cell_type": "markdown",
   "metadata": {},
   "source": [
    "**Вывод:**\n",
    "\n",
    "Самый лучший результат показала модель \"случайный лес\" с учетом дисбаланса(upsampling)(гиперпараметры max_depth=7, n_estimators=11)\n",
    "\n",
    "Для сравнения следующие результаты F1(соотношение полноты и точности) показывают модели:\n",
    "\n",
    " - Дерево решений: train F1=0.590, upsampling F1=0.5872, downsampling F1=0.5747\n",
    " - Случайный лес: train F1=0.587, upsampling F1=0.6232, downsampling F1=0.5969"
   ]
  },
  {
   "cell_type": "markdown",
   "metadata": {},
   "source": [
    "**Взвешивание классов**"
   ]
  },
  {
   "cell_type": "code",
   "execution_count": 37,
   "metadata": {},
   "outputs": [
    {
     "name": "stdout",
     "output_type": "stream",
     "text": [
      "F1 модели логической регресии: 0.4888888888888888\n",
      "Accuracy лучшей модели: 0.701\n",
      "max_iter: 100\n",
      "Лучшая модель: LogisticRegression(class_weight='balanced', random_state=12345)\n"
     ]
    }
   ],
   "source": [
    "#изучение модели логистической регрессии (с учетом дисбаланса )\n",
    "best_model = None\n",
    "best_result_f1 = 0\n",
    "best_result = 0\n",
    "best_iter = 0\n",
    "\n",
    "for iter in range(100,1100,100):\n",
    "    model = LogisticRegression(random_state =12345, solver ='lbfgs', max_iter=iter, class_weight='balanced')\n",
    "    model.fit(features_train, target_train)\n",
    "    predictions_valid = model.predict(features_valid)\n",
    "    result = accuracy_score(target_valid, predictions_valid)\n",
    "    result_f1 = f1_score(target_valid, predictions_valid)\n",
    "    if result_f1 > best_result_f1:\n",
    "            best_model = model\n",
    "            best_result = result\n",
    "            best_result_f1 = result_f1\n",
    "            best_iter = iter\n",
    "            \n",
    "print('F1 модели логической регресии:', result_f1)\n",
    "print('Accuracy лучшей модели:',best_result)\n",
    "print('max_iter:', best_iter)\n",
    "print('Лучшая модель:', best_model)"
   ]
  },
  {
   "cell_type": "code",
   "execution_count": 38,
   "metadata": {},
   "outputs": [
    {
     "name": "stdout",
     "output_type": "stream",
     "text": [
      "Порог = 0.00 | F1 = 0.346,\n",
      "Порог = 0.05 | F1 = 0.378,\n",
      "Порог = 0.10 | F1 = 0.423,\n",
      "Порог = 0.15 | F1 = 0.463,\n",
      "Порог = 0.20 | F1 = 0.479,\n",
      "Порог = 0.25 | F1 = 0.498,\n"
     ]
    }
   ],
   "source": [
    "#измерение порога\n",
    "model = LogisticRegression(random_state =12345, solver ='lbfgs')\n",
    "model.fit(features_train, target_train)\n",
    "probabilities_valid = model.predict_proba(features_valid)\n",
    "probabilities_one_valid = probabilities_valid[:,1]\n",
    "\n",
    "for threshold in np.arange(0,0.3,0.05):\n",
    "    predicted_valid = model.predict(features_valid)\n",
    "    predicted_valid = probabilities_one_valid > threshold\n",
    "    f1 = f1_score(target_valid, predicted_valid)\n",
    "    print(\"Порог = {:.2f} | F1 = {:.3f},\".format(threshold, f1))"
   ]
  },
  {
   "cell_type": "markdown",
   "metadata": {},
   "source": [
    "**Вывод:**\n",
    "С добавлением параметра class_weight='balanced' ситуация улучшилась. Значение F1 = 0.488 (без учета дисбаланса F1 = 0.334)."
   ]
  },
  {
   "cell_type": "code",
   "execution_count": 39,
   "metadata": {},
   "outputs": [],
   "source": [
    "#построение ROC кривой и расчет AOC-ROC\n",
    "def roc(model): \n",
    "    probabilities_valid = model.predict_proba(features_valid) #значение вероятностей\n",
    "    probabilities_one_valid = probabilities_valid[:, 1] #вероятности со значением 1\n",
    "    \n",
    "    fpr, tpr, thresholds = roc_curve(target_valid, probabilities_one_valid)\n",
    "    plt.figure(figsize=(4,4))\n",
    "    plt.plot(fpr, tpr) #построение графика \n",
    "    plt.plot([0,1],[0,1],linestyle = '--') #ROC-кривая случайной модели\n",
    "    plt.xlim([0.0, 1.0]) #установка грани осей от 0 до 1\n",
    "    plt.ylim([0.0, 1.0])\n",
    "    plt.xlabel('False Positive Rate')\n",
    "    plt.ylabel('True Positive Rate')\n",
    "    plt.title('ROC-кривая')\n",
    "    plt.show() \n",
    "    auc_roc = roc_auc_score(target_valid, probabilities_one_valid)\n",
    "    print(\"AUC_ROC:\", auc_roc)\n",
    "    return auc_roc"
   ]
  },
  {
   "cell_type": "markdown",
   "metadata": {},
   "source": [
    "Так как наилучшие показатели показали модель случайный лес, построим графики ROC кривой для upsampling  и downsampling"
   ]
  },
  {
   "cell_type": "code",
   "execution_count": 40,
   "metadata": {},
   "outputs": [
    {
     "data": {
      "image/png": "[encoded data removed]",
      "text/plain": [
       "<Figure size 400x400 with 1 Axes>"
      ]
     },
     "metadata": {},
     "output_type": "display_data"
    },
    {
     "name": "stdout",
     "output_type": "stream",
     "text": [
      "AUC_ROC: 0.8339702333065164\n"
     ]
    },
    {
     "data": {
      "text/plain": [
       "0.8339702333065164"
      ]
     },
     "execution_count": 40,
     "metadata": {},
     "output_type": "execute_result"
    }
   ],
   "source": [
    "#ROC кривая для модели случайный лес сформированной по увеличенной выборке (с использованием техники upnsampling)\n",
    "roc(best_model_rf_up)"
   ]
  },
  {
   "cell_type": "code",
   "execution_count": 41,
   "metadata": {},
   "outputs": [
    {
     "data": {
      "image/png": "[encoded data removed]",
      "text/plain": [
       "<Figure size 400x400 with 1 Axes>"
      ]
     },
     "metadata": {},
     "output_type": "display_data"
    },
    {
     "name": "stdout",
     "output_type": "stream",
     "text": [
      "AUC_ROC: 0.8495484487566464\n"
     ]
    },
    {
     "data": {
      "text/plain": [
       "0.8495484487566464"
      ]
     },
     "execution_count": 41,
     "metadata": {},
     "output_type": "execute_result"
    }
   ],
   "source": [
    "#ROC кривая для модели случайный лес сформированной по уменьшенной выборке (с испльзованием техники downsampling)\n",
    "roc(best_model_rf_down)"
   ]
  },
  {
   "cell_type": "code",
   "execution_count": 42,
   "metadata": {},
   "outputs": [
    {
     "name": "stdout",
     "output_type": "stream",
     "text": [
      "F1: 0.3491539413949649\n"
     ]
    }
   ],
   "source": [
    "# проверка на декватность( на констатной модели, все значения 1)\n",
    "dummy_model = DummyClassifier(strategy='constant', constant=1)\n",
    "dummy_model.fit(features_train, target_train)\n",
    "print('F1:', f1_score(dummy_model.predict(features_test), target_test))\n"
   ]
  },
  {
   "cell_type": "markdown",
   "metadata": {},
   "source": [
    "**Вывод:**\n",
    "Значения AUC-ROC  близки к друг другу\n",
    "AUC-ROC модели случайного леса(upsamling) = 0,845\n",
    "AUC-ROC модели случайного леса(downsamling) = 0,848\n",
    "\n",
    "Для борьбы с дисбалансом использовали upsampling и downsampling.\n",
    "Модель \"случайный лес\" с учетом дисбаланса(upsampling) показала результат F1=0.6232(гиперпараметры max_depth=7, n_estimators=11),\n",
    " при downsampling F1=0.587(гиперпараметры max_depth=7, n_estimators=91)\n",
    "\n",
    "В данном случае, лучше остановиться на модели Случайный лес и использованием upsampling, так как результат F1 выше, и при downsampling  используется урезанная выборка, что  также сказывается на результатах модели\n",
    "F1 на констатной модели составляет F1=0.349 , те среднегармоническое приближается к 0"
   ]
  },
  {
   "cell_type": "markdown",
   "metadata": {},
   "source": [
    "## Тестирование модели"
   ]
  },
  {
   "cell_type": "code",
   "execution_count": 43,
   "metadata": {},
   "outputs": [
    {
     "name": "stdout",
     "output_type": "stream",
     "text": [
      "RandomForestClassifier(max_depth=10, n_estimators=21, random_state=12345)\n",
      "Accuracy: 0.8165\n",
      "F1: 0.5881032547699214\n"
     ]
    }
   ],
   "source": [
    "#Расчет accuracy и F1 на тестовой выборке по лучшей модели (техника upsampling)\n",
    "predictions = best_model_rf_up.predict(features_test)\n",
    "print(best_model_rf_up)\n",
    "print(\"Accuracy:\", accuracy_score(target_test, predictions))\n",
    "print(\"F1:\", f1_score(predictions, target_test))"
   ]
  },
  {
   "cell_type": "code",
   "execution_count": 44,
   "metadata": {},
   "outputs": [
    {
     "name": "stdout",
     "output_type": "stream",
     "text": [
      "RandomForestClassifier(max_depth=7, n_estimators=91, random_state=12345)\n",
      "Accuracy: 0.7745\n",
      "F1: 0.5843317972350232\n"
     ]
    }
   ],
   "source": [
    "#Расчет accuracy и F1 на тестовой выборке по лучшей модели (техника downsampling)\n",
    "predictions = best_model_rf_down.predict(features_test)\n",
    "print(best_model_rf_down)\n",
    "print(\"Accuracy:\", accuracy_score(target_test, predictions))\n",
    "print(\"F1:\", f1_score(predictions, target_test))"
   ]
  },
  {
   "cell_type": "markdown",
   "metadata": {},
   "source": [
    "## Общий вывод:"
   ]
  },
  {
   "cell_type": "markdown",
   "metadata": {},
   "source": [
    "\n",
    "1. Был произведен первичныый анализ данных, в ходе которго:\n",
    " - все названия переведены в нижний регистр\n",
    " - удалены Surname, RowNumber, CustomerId (индекс строки, индификатор и фамилия)-эти параметры не влияют на уход клиентов\n",
    " - пустые значения в столбце Ternure(сколько лет человек является клиентом банка) заменены на рандомные (от 0 до 10)\n",
    "- выявлен дисбаланс классов: объектов отрицательного класса больше в столце exited (факт ухода клиента),соотношение 4 к 1( 80% со значением \"0\", 20% -\"1\")\n",
    "\n",
    "2. Произведена преобработка данных:\n",
    "- изменение категориальных признаков на числовые(One_hot_encoding)\n",
    "- деление выборок на обучающую (60%), валидационную(20%) ,тестовую(20%)\n",
    "- маштабирование признаков(StandardScaler)\n",
    "\n",
    "3. Исследованы модели: дерево решений, случайный лес, логистическая регрессия.\n",
    "\n",
    "Модель случайного леса до борьбы с дисбалансом показывала результат метрики f1 - 0.585(гиперпараметры: max_depth=11, n_estimators=9), дерево решений - 0.593 (max_depth=6, max_features=5), логистическая регрессия - 0.334(max_iter=100)\n",
    "\n",
    "4. Произведен upsampling положительного класса(уменьшение выборки), благодаря чему удалось повысить f1 меру до 0.624. Dowmsampling(уменьшение выборки) до 0.67.\n",
    "AUC-ROC upsampling составила 0.853, AUC-ROC downsampling составила 0.845,чем выше показатель, тем качественее классификатор\n",
    "\n",
    "5. Проверка на тестовой выборке подтвердила, что upsampling помог справиться с дисбалансом классов и удалось увеличить метрику f1 до 60,22%\n",
    "\n",
    "\n",
    "\n",
    "\n"
   ]
  }
 ],
 "metadata": {
  "ExecuteTimeLog": [
   {
    "duration": 427,
    "start_time": "2023-03-20T19:06:46.918Z"
   },
   {
    "duration": 68,
    "start_time": "2023-03-20T19:06:48.869Z"
   },
   {
    "duration": 180,
    "start_time": "2023-03-20T19:07:01.750Z"
   },
   {
    "duration": 1629,
    "start_time": "2023-03-22T20:03:00.624Z"
   },
   {
    "duration": 406,
    "start_time": "2023-03-22T20:03:09.502Z"
   },
   {
    "duration": 14,
    "start_time": "2023-03-22T20:03:41.829Z"
   },
   {
    "duration": 5,
    "start_time": "2023-03-22T20:03:51.735Z"
   },
   {
    "duration": 61,
    "start_time": "2023-03-22T20:04:02.136Z"
   },
   {
    "duration": 13,
    "start_time": "2023-03-22T20:04:18.385Z"
   },
   {
    "duration": 47,
    "start_time": "2023-03-22T20:04:29.230Z"
   },
   {
    "duration": 20,
    "start_time": "2023-03-22T20:04:40.604Z"
   },
   {
    "duration": 21,
    "start_time": "2023-03-22T20:04:50.645Z"
   },
   {
    "duration": 5,
    "start_time": "2023-03-22T20:05:02.154Z"
   },
   {
    "duration": 1261,
    "start_time": "2023-03-22T20:05:15.103Z"
   },
   {
    "duration": 17,
    "start_time": "2023-03-22T20:05:27.604Z"
   },
   {
    "duration": 8,
    "start_time": "2023-03-22T20:05:51.478Z"
   },
   {
    "duration": 8,
    "start_time": "2023-03-22T20:06:30.443Z"
   },
   {
    "duration": 111,
    "start_time": "2023-03-22T20:06:38.864Z"
   },
   {
    "duration": 43,
    "start_time": "2023-03-22T20:06:53.807Z"
   },
   {
    "duration": 18,
    "start_time": "2023-03-22T20:07:38.673Z"
   },
   {
    "duration": 7,
    "start_time": "2023-03-22T20:07:48.455Z"
   },
   {
    "duration": 11,
    "start_time": "2023-03-22T20:07:59.597Z"
   },
   {
    "duration": 11,
    "start_time": "2023-03-22T20:09:10.662Z"
   },
   {
    "duration": 41,
    "start_time": "2023-03-22T20:09:23.956Z"
   },
   {
    "duration": 44,
    "start_time": "2023-03-22T20:09:42.622Z"
   },
   {
    "duration": 1650,
    "start_time": "2023-03-22T20:10:11.166Z"
   },
   {
    "duration": 19380,
    "start_time": "2023-03-22T20:10:51.694Z"
   },
   {
    "duration": 3366,
    "start_time": "2023-03-22T20:11:11.076Z"
   },
   {
    "duration": 8,
    "start_time": "2023-03-22T20:12:53.792Z"
   },
   {
    "duration": 14,
    "start_time": "2023-03-22T20:13:01.059Z"
   },
   {
    "duration": 1968,
    "start_time": "2023-03-22T20:13:10.961Z"
   },
   {
    "duration": 25679,
    "start_time": "2023-03-22T20:13:20.516Z"
   },
   {
    "duration": 14,
    "start_time": "2023-03-22T20:13:53.376Z"
   },
   {
    "duration": 993,
    "start_time": "2023-03-22T20:14:04.128Z"
   },
   {
    "duration": 12541,
    "start_time": "2023-03-22T20:14:22.794Z"
   },
   {
    "duration": 2464,
    "start_time": "2023-03-22T20:15:10.677Z"
   },
   {
    "duration": 372,
    "start_time": "2023-03-22T20:15:38.577Z"
   },
   {
    "duration": 5,
    "start_time": "2023-03-22T20:16:02.334Z"
   },
   {
    "duration": 121,
    "start_time": "2023-03-22T20:16:23.160Z"
   },
   {
    "duration": 133,
    "start_time": "2023-03-22T20:16:32.761Z"
   },
   {
    "duration": 19,
    "start_time": "2023-03-22T20:17:22.151Z"
   },
   {
    "duration": 28,
    "start_time": "2023-03-22T20:17:37.631Z"
   },
   {
    "duration": 54,
    "start_time": "2023-03-22T20:17:49.194Z"
   },
   {
    "duration": 19454,
    "start_time": "2023-03-22T20:19:50.213Z"
   },
   {
    "duration": 1066,
    "start_time": "2023-03-22T20:23:35.965Z"
   },
   {
    "duration": 1495,
    "start_time": "2023-03-24T11:14:08.910Z"
   },
   {
    "duration": 109,
    "start_time": "2023-03-24T11:18:10.875Z"
   },
   {
    "duration": 184,
    "start_time": "2023-03-24T11:18:28.478Z"
   },
   {
    "duration": 13,
    "start_time": "2023-03-24T11:18:32.497Z"
   },
   {
    "duration": 4,
    "start_time": "2023-03-24T11:18:36.490Z"
   },
   {
    "duration": 51,
    "start_time": "2023-03-24T11:18:44.662Z"
   },
   {
    "duration": 56,
    "start_time": "2023-03-24T11:18:52.325Z"
   },
   {
    "duration": 134,
    "start_time": "2023-03-24T11:25:43.406Z"
   },
   {
    "duration": 116,
    "start_time": "2023-03-24T11:26:28.432Z"
   },
   {
    "duration": 128,
    "start_time": "2023-03-24T11:27:19.578Z"
   },
   {
    "duration": 121,
    "start_time": "2023-03-24T11:28:10.480Z"
   },
   {
    "duration": 21,
    "start_time": "2023-03-24T11:42:29.029Z"
   },
   {
    "duration": 11,
    "start_time": "2023-03-24T11:42:41.899Z"
   },
   {
    "duration": 52,
    "start_time": "2023-03-24T11:42:58.883Z"
   },
   {
    "duration": 13,
    "start_time": "2023-03-24T11:43:02.638Z"
   },
   {
    "duration": 4,
    "start_time": "2023-03-24T11:43:05.404Z"
   },
   {
    "duration": 59,
    "start_time": "2023-03-24T11:43:09.633Z"
   },
   {
    "duration": 12,
    "start_time": "2023-03-24T11:43:12.702Z"
   },
   {
    "duration": 49,
    "start_time": "2023-03-24T11:43:14.795Z"
   },
   {
    "duration": 28,
    "start_time": "2023-03-24T11:43:19.746Z"
   },
   {
    "duration": 16,
    "start_time": "2023-03-24T11:43:23.383Z"
   },
   {
    "duration": 12,
    "start_time": "2023-03-24T11:43:28.158Z"
   },
   {
    "duration": 1392,
    "start_time": "2023-03-24T11:43:30.984Z"
   },
   {
    "duration": 26,
    "start_time": "2023-03-24T11:43:36.901Z"
   },
   {
    "duration": 6,
    "start_time": "2023-03-24T11:43:40.542Z"
   },
   {
    "duration": 20,
    "start_time": "2023-03-24T11:43:43.853Z"
   },
   {
    "duration": 133,
    "start_time": "2023-03-24T11:43:48.151Z"
   },
   {
    "duration": 20,
    "start_time": "2023-03-24T11:43:55.919Z"
   },
   {
    "duration": 8,
    "start_time": "2023-03-24T11:43:59.984Z"
   },
   {
    "duration": 16,
    "start_time": "2023-03-24T11:44:03.462Z"
   },
   {
    "duration": 44,
    "start_time": "2023-03-24T11:44:09.031Z"
   },
   {
    "duration": 35,
    "start_time": "2023-03-24T11:44:17.380Z"
   },
   {
    "duration": 1545,
    "start_time": "2023-03-24T11:44:26.434Z"
   },
   {
    "duration": 23133,
    "start_time": "2023-03-24T11:44:32.227Z"
   },
   {
    "duration": 32540,
    "start_time": "2023-03-24T11:45:17.779Z"
   },
   {
    "duration": 7529,
    "start_time": "2023-03-24T12:59:22.987Z"
   },
   {
    "duration": 2521,
    "start_time": "2023-03-24T12:59:51.913Z"
   },
   {
    "duration": 1489,
    "start_time": "2023-03-24T12:59:54.439Z"
   },
   {
    "duration": 5,
    "start_time": "2023-03-24T12:59:55.930Z"
   },
   {
    "duration": 86,
    "start_time": "2023-03-24T12:59:55.938Z"
   },
   {
    "duration": 22,
    "start_time": "2023-03-24T12:59:56.026Z"
   },
   {
    "duration": 6,
    "start_time": "2023-03-24T12:59:56.051Z"
   },
   {
    "duration": 104,
    "start_time": "2023-03-24T12:59:56.059Z"
   },
   {
    "duration": 22,
    "start_time": "2023-03-24T12:59:56.168Z"
   },
   {
    "duration": 89,
    "start_time": "2023-03-24T12:59:56.193Z"
   },
   {
    "duration": 33,
    "start_time": "2023-03-24T12:59:56.285Z"
   },
   {
    "duration": 59,
    "start_time": "2023-03-24T12:59:56.321Z"
   },
   {
    "duration": 8,
    "start_time": "2023-03-24T12:59:56.383Z"
   },
   {
    "duration": 1762,
    "start_time": "2023-03-24T12:59:56.394Z"
   },
   {
    "duration": 32,
    "start_time": "2023-03-24T12:59:58.159Z"
   },
   {
    "duration": 11,
    "start_time": "2023-03-24T12:59:58.195Z"
   },
   {
    "duration": 158,
    "start_time": "2023-03-24T12:59:58.209Z"
   },
   {
    "duration": 234,
    "start_time": "2023-03-24T12:59:58.369Z"
   },
   {
    "duration": 34,
    "start_time": "2023-03-24T12:59:58.606Z"
   },
   {
    "duration": 20,
    "start_time": "2023-03-24T12:59:58.642Z"
   },
   {
    "duration": 15,
    "start_time": "2023-03-24T12:59:58.666Z"
   },
   {
    "duration": 94,
    "start_time": "2023-03-24T12:59:58.684Z"
   },
   {
    "duration": 1835,
    "start_time": "2023-03-24T12:59:58.781Z"
   },
   {
    "duration": 38034,
    "start_time": "2023-03-24T13:00:00.618Z"
   },
   {
    "duration": 8106,
    "start_time": "2023-03-24T13:00:38.661Z"
   },
   {
    "duration": 93,
    "start_time": "2023-03-24T13:00:46.773Z"
   },
   {
    "duration": 18,
    "start_time": "2023-03-24T13:00:46.868Z"
   },
   {
    "duration": 2071,
    "start_time": "2023-03-24T13:00:46.888Z"
   },
   {
    "duration": 27936,
    "start_time": "2023-03-24T13:00:48.963Z"
   },
   {
    "duration": 15,
    "start_time": "2023-03-24T13:01:16.902Z"
   },
   {
    "duration": 1185,
    "start_time": "2023-03-24T13:01:16.919Z"
   },
   {
    "duration": 4,
    "start_time": "2023-03-24T13:01:40.212Z"
   },
   {
    "duration": 48,
    "start_time": "2023-03-24T13:01:45.946Z"
   },
   {
    "duration": 17,
    "start_time": "2023-03-24T13:01:50.217Z"
   },
   {
    "duration": 6,
    "start_time": "2023-03-24T13:01:53.600Z"
   },
   {
    "duration": 27,
    "start_time": "2023-03-24T13:01:57.734Z"
   },
   {
    "duration": 12,
    "start_time": "2023-03-24T13:02:04.863Z"
   },
   {
    "duration": 45,
    "start_time": "2023-03-24T13:02:06.890Z"
   },
   {
    "duration": 23,
    "start_time": "2023-03-24T13:02:10.511Z"
   },
   {
    "duration": 31,
    "start_time": "2023-03-24T13:02:15.909Z"
   },
   {
    "duration": 6,
    "start_time": "2023-03-24T13:02:24.287Z"
   },
   {
    "duration": 1213,
    "start_time": "2023-03-24T13:02:29.554Z"
   },
   {
    "duration": 31,
    "start_time": "2023-03-24T13:02:34.761Z"
   },
   {
    "duration": 8,
    "start_time": "2023-03-24T13:02:38.708Z"
   },
   {
    "duration": 9,
    "start_time": "2023-03-24T13:02:43.681Z"
   },
   {
    "duration": 226,
    "start_time": "2023-03-24T13:02:48.589Z"
   },
   {
    "duration": 7,
    "start_time": "2023-03-24T13:03:52.933Z"
   },
   {
    "duration": 12,
    "start_time": "2023-03-24T13:04:02.314Z"
   },
   {
    "duration": 5,
    "start_time": "2023-03-24T13:04:55.589Z"
   },
   {
    "duration": 10,
    "start_time": "2023-03-24T13:10:27.837Z"
   },
   {
    "duration": 9,
    "start_time": "2023-03-24T13:13:59.444Z"
   },
   {
    "duration": 224,
    "start_time": "2023-03-24T13:16:07.797Z"
   },
   {
    "duration": 13,
    "start_time": "2023-03-24T13:16:39.111Z"
   },
   {
    "duration": 12,
    "start_time": "2023-03-24T13:17:20.184Z"
   },
   {
    "duration": 19,
    "start_time": "2023-03-24T13:17:27.944Z"
   },
   {
    "duration": 15,
    "start_time": "2023-03-24T13:17:54.183Z"
   },
   {
    "duration": 2360,
    "start_time": "2023-03-24T13:22:21.383Z"
   },
   {
    "duration": 14,
    "start_time": "2023-03-24T13:22:36.688Z"
   },
   {
    "duration": 15,
    "start_time": "2023-03-24T13:22:53.247Z"
   },
   {
    "duration": 15,
    "start_time": "2023-03-24T13:23:07.610Z"
   },
   {
    "duration": 15,
    "start_time": "2023-03-24T13:23:46.789Z"
   },
   {
    "duration": 18,
    "start_time": "2023-03-24T13:24:32.101Z"
   },
   {
    "duration": 15,
    "start_time": "2023-03-24T13:24:49.708Z"
   },
   {
    "duration": 4,
    "start_time": "2023-03-24T13:24:59.341Z"
   },
   {
    "duration": 56,
    "start_time": "2023-03-24T13:25:02.968Z"
   },
   {
    "duration": 12,
    "start_time": "2023-03-24T13:25:06.245Z"
   },
   {
    "duration": 4,
    "start_time": "2023-03-24T13:25:09.664Z"
   },
   {
    "duration": 20,
    "start_time": "2023-03-24T13:25:13.250Z"
   },
   {
    "duration": 15,
    "start_time": "2023-03-24T13:25:16.453Z"
   },
   {
    "duration": 42,
    "start_time": "2023-03-24T13:25:18.684Z"
   },
   {
    "duration": 20,
    "start_time": "2023-03-24T13:25:22.048Z"
   },
   {
    "duration": 19,
    "start_time": "2023-03-24T13:25:25.285Z"
   },
   {
    "duration": 5,
    "start_time": "2023-03-24T13:25:28.608Z"
   },
   {
    "duration": 1316,
    "start_time": "2023-03-24T13:25:31.661Z"
   },
   {
    "duration": 22,
    "start_time": "2023-03-24T13:25:36.098Z"
   },
   {
    "duration": 6,
    "start_time": "2023-03-24T13:25:40.097Z"
   },
   {
    "duration": 10,
    "start_time": "2023-03-24T13:25:44.243Z"
   },
   {
    "duration": 150,
    "start_time": "2023-03-24T13:25:49.449Z"
   },
   {
    "duration": 7,
    "start_time": "2023-03-24T13:25:58.252Z"
   },
   {
    "duration": 9,
    "start_time": "2023-03-24T13:26:01.862Z"
   },
   {
    "duration": 10,
    "start_time": "2023-03-24T13:26:06.545Z"
   },
   {
    "duration": 130,
    "start_time": "2023-03-24T13:26:10.958Z"
   },
   {
    "duration": 10,
    "start_time": "2023-03-24T13:26:30.476Z"
   },
   {
    "duration": 4,
    "start_time": "2023-03-24T13:26:56.545Z"
   },
   {
    "duration": 4,
    "start_time": "2023-03-24T13:27:23.292Z"
   },
   {
    "duration": 50,
    "start_time": "2023-03-24T13:27:27.255Z"
   },
   {
    "duration": 12,
    "start_time": "2023-03-24T13:27:30.749Z"
   },
   {
    "duration": 5,
    "start_time": "2023-03-24T13:27:36.344Z"
   },
   {
    "duration": 20,
    "start_time": "2023-03-24T13:27:39.764Z"
   },
   {
    "duration": 11,
    "start_time": "2023-03-24T13:27:43.620Z"
   },
   {
    "duration": 43,
    "start_time": "2023-03-24T13:27:46.596Z"
   },
   {
    "duration": 19,
    "start_time": "2023-03-24T13:27:49.466Z"
   },
   {
    "duration": 17,
    "start_time": "2023-03-24T13:27:52.856Z"
   },
   {
    "duration": 5,
    "start_time": "2023-03-24T13:27:57.293Z"
   },
   {
    "duration": 1344,
    "start_time": "2023-03-24T13:28:00.492Z"
   },
   {
    "duration": 19,
    "start_time": "2023-03-24T13:28:04.344Z"
   },
   {
    "duration": 6,
    "start_time": "2023-03-24T13:28:07.759Z"
   },
   {
    "duration": 9,
    "start_time": "2023-03-24T13:28:11.343Z"
   },
   {
    "duration": 137,
    "start_time": "2023-03-24T13:28:15.190Z"
   },
   {
    "duration": 6,
    "start_time": "2023-03-24T13:28:21.661Z"
   },
   {
    "duration": 21,
    "start_time": "2023-03-24T13:28:24.165Z"
   },
   {
    "duration": 13,
    "start_time": "2023-03-24T13:28:28.161Z"
   },
   {
    "duration": 16,
    "start_time": "2023-03-24T13:28:32.641Z"
   },
   {
    "duration": 4,
    "start_time": "2023-03-24T13:28:35.584Z"
   },
   {
    "duration": 12,
    "start_time": "2023-03-24T13:50:21.055Z"
   },
   {
    "duration": 14,
    "start_time": "2023-03-24T13:50:30.043Z"
   },
   {
    "duration": 5,
    "start_time": "2023-03-24T13:51:03.427Z"
   },
   {
    "duration": 49,
    "start_time": "2023-03-24T13:51:07.092Z"
   },
   {
    "duration": 13,
    "start_time": "2023-03-24T13:51:10.695Z"
   },
   {
    "duration": 5,
    "start_time": "2023-03-24T13:51:13.724Z"
   },
   {
    "duration": 27,
    "start_time": "2023-03-24T13:51:21.857Z"
   },
   {
    "duration": 13,
    "start_time": "2023-03-24T13:51:25.442Z"
   },
   {
    "duration": 60,
    "start_time": "2023-03-24T13:51:28.304Z"
   },
   {
    "duration": 28,
    "start_time": "2023-03-24T13:51:31.496Z"
   },
   {
    "duration": 31,
    "start_time": "2023-03-24T13:51:34.874Z"
   },
   {
    "duration": 5,
    "start_time": "2023-03-24T13:51:38.990Z"
   },
   {
    "duration": 1180,
    "start_time": "2023-03-24T13:51:42.416Z"
   },
   {
    "duration": 8,
    "start_time": "2023-03-24T13:51:46.241Z"
   },
   {
    "duration": 10,
    "start_time": "2023-03-24T13:51:50.723Z"
   },
   {
    "duration": 214,
    "start_time": "2023-03-24T13:51:56.175Z"
   },
   {
    "duration": 7,
    "start_time": "2023-03-24T13:52:07.528Z"
   },
   {
    "duration": 14,
    "start_time": "2023-03-24T13:52:10.538Z"
   },
   {
    "duration": 14,
    "start_time": "2023-03-24T13:52:43.208Z"
   },
   {
    "duration": 13,
    "start_time": "2023-03-24T13:53:07.597Z"
   },
   {
    "duration": 10,
    "start_time": "2023-03-24T13:53:24.740Z"
   },
   {
    "duration": 2,
    "start_time": "2023-03-24T13:53:37.858Z"
   },
   {
    "duration": 8,
    "start_time": "2023-03-24T13:54:08.737Z"
   },
   {
    "duration": 12,
    "start_time": "2023-03-24T14:06:52.256Z"
   },
   {
    "duration": 33,
    "start_time": "2023-03-24T14:07:13.750Z"
   },
   {
    "duration": 10,
    "start_time": "2023-03-24T14:09:46.832Z"
   },
   {
    "duration": 19,
    "start_time": "2023-03-24T14:10:18.436Z"
   },
   {
    "duration": 23,
    "start_time": "2023-03-24T14:20:45.682Z"
   },
   {
    "duration": 20,
    "start_time": "2023-03-24T14:21:18.864Z"
   },
   {
    "duration": 10,
    "start_time": "2023-03-24T14:22:36.209Z"
   },
   {
    "duration": 5,
    "start_time": "2023-03-24T14:22:50.476Z"
   },
   {
    "duration": 23,
    "start_time": "2023-03-24T14:22:57.893Z"
   },
   {
    "duration": 8,
    "start_time": "2023-03-24T14:23:01.129Z"
   },
   {
    "duration": 24,
    "start_time": "2023-03-24T14:23:05.326Z"
   },
   {
    "duration": 15,
    "start_time": "2023-03-24T14:24:09.150Z"
   },
   {
    "duration": 16,
    "start_time": "2023-03-24T14:26:57.829Z"
   },
   {
    "duration": 22,
    "start_time": "2023-03-24T14:27:46.545Z"
   },
   {
    "duration": 8,
    "start_time": "2023-03-24T14:28:00.814Z"
   },
   {
    "duration": 15,
    "start_time": "2023-03-24T14:28:03.453Z"
   },
   {
    "duration": 21,
    "start_time": "2023-03-24T14:31:44.615Z"
   },
   {
    "duration": 8,
    "start_time": "2023-03-24T14:32:23.015Z"
   },
   {
    "duration": 21,
    "start_time": "2023-03-24T14:32:41.561Z"
   },
   {
    "duration": 18,
    "start_time": "2023-03-24T14:33:09.865Z"
   },
   {
    "duration": 13,
    "start_time": "2023-03-24T14:34:17.451Z"
   },
   {
    "duration": 14,
    "start_time": "2023-03-24T14:35:33.017Z"
   },
   {
    "duration": 17,
    "start_time": "2023-03-24T14:36:51.871Z"
   },
   {
    "duration": 6,
    "start_time": "2023-03-24T14:37:23.270Z"
   },
   {
    "duration": 13,
    "start_time": "2023-03-24T14:37:31.747Z"
   },
   {
    "duration": 5,
    "start_time": "2023-03-24T14:37:53.945Z"
   },
   {
    "duration": 49,
    "start_time": "2023-03-24T14:37:58.252Z"
   },
   {
    "duration": 14,
    "start_time": "2023-03-24T14:38:01.888Z"
   },
   {
    "duration": 4,
    "start_time": "2023-03-24T14:38:05.167Z"
   },
   {
    "duration": 18,
    "start_time": "2023-03-24T14:38:08.639Z"
   },
   {
    "duration": 11,
    "start_time": "2023-03-24T14:38:12.569Z"
   },
   {
    "duration": 49,
    "start_time": "2023-03-24T14:38:15.035Z"
   },
   {
    "duration": 17,
    "start_time": "2023-03-24T14:38:18.018Z"
   },
   {
    "duration": 16,
    "start_time": "2023-03-24T14:38:21.408Z"
   },
   {
    "duration": 5,
    "start_time": "2023-03-24T14:38:25.385Z"
   },
   {
    "duration": 1261,
    "start_time": "2023-03-24T14:38:28.543Z"
   },
   {
    "duration": 9,
    "start_time": "2023-03-24T14:43:28.387Z"
   },
   {
    "duration": 12,
    "start_time": "2023-03-24T14:43:31.219Z"
   },
   {
    "duration": 11,
    "start_time": "2023-03-24T14:43:38.606Z"
   },
   {
    "duration": 3,
    "start_time": "2023-03-24T14:43:42.804Z"
   },
   {
    "duration": 8,
    "start_time": "2023-03-24T14:44:00.208Z"
   },
   {
    "duration": 8,
    "start_time": "2023-03-24T14:46:14.890Z"
   },
   {
    "duration": 30,
    "start_time": "2023-03-24T14:46:23.943Z"
   },
   {
    "duration": 5,
    "start_time": "2023-03-24T14:50:39.275Z"
   },
   {
    "duration": 31,
    "start_time": "2023-03-24T14:55:15.541Z"
   },
   {
    "duration": 15,
    "start_time": "2023-03-24T14:55:40.169Z"
   },
   {
    "duration": 14,
    "start_time": "2023-03-24T14:56:27.032Z"
   },
   {
    "duration": 5,
    "start_time": "2023-03-24T14:56:38.371Z"
   },
   {
    "duration": 48,
    "start_time": "2023-03-24T14:56:42.078Z"
   },
   {
    "duration": 13,
    "start_time": "2023-03-24T14:56:45.578Z"
   },
   {
    "duration": 5,
    "start_time": "2023-03-24T14:56:49.428Z"
   },
   {
    "duration": 24,
    "start_time": "2023-03-24T14:56:53.381Z"
   },
   {
    "duration": 13,
    "start_time": "2023-03-24T14:56:56.496Z"
   },
   {
    "duration": 49,
    "start_time": "2023-03-24T14:56:58.597Z"
   },
   {
    "duration": 21,
    "start_time": "2023-03-24T14:57:01.885Z"
   },
   {
    "duration": 20,
    "start_time": "2023-03-24T14:57:04.978Z"
   },
   {
    "duration": 6,
    "start_time": "2023-03-24T14:57:08.711Z"
   },
   {
    "duration": 1246,
    "start_time": "2023-03-24T14:57:11.763Z"
   },
   {
    "duration": 22,
    "start_time": "2023-03-24T14:57:16.761Z"
   },
   {
    "duration": 7,
    "start_time": "2023-03-24T14:57:19.853Z"
   },
   {
    "duration": 13,
    "start_time": "2023-03-24T14:57:22.732Z"
   },
   {
    "duration": 136,
    "start_time": "2023-03-24T14:57:25.177Z"
   },
   {
    "duration": 8,
    "start_time": "2023-03-24T14:57:51.180Z"
   },
   {
    "duration": 13,
    "start_time": "2023-03-24T14:57:54.268Z"
   },
   {
    "duration": 14,
    "start_time": "2023-03-24T14:57:58.846Z"
   },
   {
    "duration": 2,
    "start_time": "2023-03-24T14:58:01.935Z"
   },
   {
    "duration": 7,
    "start_time": "2023-03-24T14:58:04.763Z"
   },
   {
    "duration": 24,
    "start_time": "2023-03-24T14:58:08.099Z"
   },
   {
    "duration": 36,
    "start_time": "2023-03-24T14:58:12.534Z"
   },
   {
    "duration": 39,
    "start_time": "2023-03-24T14:58:25.313Z"
   },
   {
    "duration": 1701,
    "start_time": "2023-03-24T14:58:29.831Z"
   },
   {
    "duration": 32479,
    "start_time": "2023-03-24T14:58:35.013Z"
   },
   {
    "duration": 6966,
    "start_time": "2023-03-24T15:00:59.516Z"
   },
   {
    "duration": 3778,
    "start_time": "2023-03-24T15:01:40.898Z"
   },
   {
    "duration": 522,
    "start_time": "2023-03-24T15:02:29.749Z"
   },
   {
    "duration": 541,
    "start_time": "2023-03-24T15:03:11.136Z"
   },
   {
    "duration": 1833,
    "start_time": "2023-03-24T15:03:54.849Z"
   },
   {
    "duration": 2320,
    "start_time": "2023-03-24T15:04:34.650Z"
   },
   {
    "duration": 9,
    "start_time": "2023-03-24T15:08:21.185Z"
   },
   {
    "duration": 13,
    "start_time": "2023-03-24T15:08:25.102Z"
   },
   {
    "duration": 3634,
    "start_time": "2023-03-24T15:14:26.739Z"
   },
   {
    "duration": 2098,
    "start_time": "2023-03-24T15:14:38.026Z"
   },
   {
    "duration": 2131,
    "start_time": "2023-03-24T15:14:40.126Z"
   },
   {
    "duration": 1289,
    "start_time": "2023-03-24T15:14:42.259Z"
   },
   {
    "duration": 58,
    "start_time": "2023-03-24T15:14:43.551Z"
   },
   {
    "duration": 15,
    "start_time": "2023-03-24T15:14:43.610Z"
   },
   {
    "duration": 5,
    "start_time": "2023-03-24T15:14:43.628Z"
   },
   {
    "duration": 74,
    "start_time": "2023-03-24T15:14:43.635Z"
   },
   {
    "duration": 12,
    "start_time": "2023-03-24T15:14:43.711Z"
   },
   {
    "duration": 67,
    "start_time": "2023-03-24T15:14:43.725Z"
   },
   {
    "duration": 21,
    "start_time": "2023-03-24T15:14:43.795Z"
   },
   {
    "duration": 44,
    "start_time": "2023-03-24T15:14:43.818Z"
   },
   {
    "duration": 7,
    "start_time": "2023-03-24T15:14:43.864Z"
   },
   {
    "duration": 1327,
    "start_time": "2023-03-24T15:14:43.873Z"
   },
   {
    "duration": 20,
    "start_time": "2023-03-24T15:14:45.202Z"
   },
   {
    "duration": 7,
    "start_time": "2023-03-24T15:14:45.224Z"
   },
   {
    "duration": 119,
    "start_time": "2023-03-24T15:14:45.233Z"
   },
   {
    "duration": 147,
    "start_time": "2023-03-24T15:14:45.362Z"
   },
   {
    "duration": 3,
    "start_time": "2023-03-24T15:14:45.510Z"
   },
   {
    "duration": 9,
    "start_time": "2023-03-24T15:14:45.515Z"
   },
   {
    "duration": 12,
    "start_time": "2023-03-24T15:14:45.526Z"
   },
   {
    "duration": 32,
    "start_time": "2023-03-24T15:14:45.540Z"
   },
   {
    "duration": 9,
    "start_time": "2023-03-24T15:14:45.574Z"
   },
   {
    "duration": 13,
    "start_time": "2023-03-24T15:14:45.585Z"
   },
   {
    "duration": 37,
    "start_time": "2023-03-24T15:14:45.600Z"
   },
   {
    "duration": 54,
    "start_time": "2023-03-24T15:14:45.661Z"
   },
   {
    "duration": 57,
    "start_time": "2023-03-24T15:14:45.717Z"
   },
   {
    "duration": 1640,
    "start_time": "2023-03-24T15:14:45.777Z"
   },
   {
    "duration": 32785,
    "start_time": "2023-03-24T15:14:47.422Z"
   },
   {
    "duration": 969,
    "start_time": "2023-03-24T15:15:20.209Z"
   },
   {
    "duration": 86,
    "start_time": "2023-03-24T15:15:21.182Z"
   },
   {
    "duration": 101,
    "start_time": "2023-03-24T15:15:21.270Z"
   },
   {
    "duration": 1985,
    "start_time": "2023-03-24T15:15:21.373Z"
   },
   {
    "duration": 26426,
    "start_time": "2023-03-24T15:15:23.361Z"
   },
   {
    "duration": 25,
    "start_time": "2023-03-24T15:15:49.789Z"
   },
   {
    "duration": 1078,
    "start_time": "2023-03-24T15:15:49.816Z"
   },
   {
    "duration": 13279,
    "start_time": "2023-03-24T15:15:50.896Z"
   },
   {
    "duration": 3501,
    "start_time": "2023-03-24T15:16:04.177Z"
   },
   {
    "duration": 505,
    "start_time": "2023-03-24T15:16:07.680Z"
   },
   {
    "duration": 97,
    "start_time": "2023-03-24T15:16:08.269Z"
   },
   {
    "duration": 128,
    "start_time": "2023-03-24T15:16:08.372Z"
   },
   {
    "duration": 149,
    "start_time": "2023-03-24T15:16:08.501Z"
   },
   {
    "duration": 26,
    "start_time": "2023-03-24T15:16:08.652Z"
   },
   {
    "duration": 29,
    "start_time": "2023-03-24T15:16:08.680Z"
   },
   {
    "duration": 37,
    "start_time": "2023-03-24T15:17:48.623Z"
   },
   {
    "duration": 49,
    "start_time": "2023-03-24T15:17:54.697Z"
   },
   {
    "duration": 14,
    "start_time": "2023-03-24T15:17:57.957Z"
   },
   {
    "duration": 5,
    "start_time": "2023-03-24T15:18:01.596Z"
   },
   {
    "duration": 25,
    "start_time": "2023-03-24T15:18:03.991Z"
   },
   {
    "duration": 11,
    "start_time": "2023-03-24T15:18:08.190Z"
   },
   {
    "duration": 48,
    "start_time": "2023-03-24T15:18:10.276Z"
   },
   {
    "duration": 20,
    "start_time": "2023-03-24T15:18:13.546Z"
   },
   {
    "duration": 17,
    "start_time": "2023-03-24T15:18:17.157Z"
   },
   {
    "duration": 5,
    "start_time": "2023-03-24T15:18:20.296Z"
   },
   {
    "duration": 1332,
    "start_time": "2023-03-24T15:18:23.249Z"
   },
   {
    "duration": 17,
    "start_time": "2023-03-24T15:18:27.375Z"
   },
   {
    "duration": 7,
    "start_time": "2023-03-24T15:18:30.627Z"
   },
   {
    "duration": 12,
    "start_time": "2023-03-24T15:18:34.323Z"
   },
   {
    "duration": 119,
    "start_time": "2023-03-24T15:18:37.440Z"
   },
   {
    "duration": 7,
    "start_time": "2023-03-24T15:19:19.292Z"
   },
   {
    "duration": 10,
    "start_time": "2023-03-24T15:19:22.314Z"
   },
   {
    "duration": 5,
    "start_time": "2023-03-24T15:20:09.592Z"
   },
   {
    "duration": 10,
    "start_time": "2023-03-24T15:20:12.391Z"
   },
   {
    "duration": 14,
    "start_time": "2023-03-24T15:20:15.691Z"
   },
   {
    "duration": 2,
    "start_time": "2023-03-24T15:20:19.692Z"
   },
   {
    "duration": 7,
    "start_time": "2023-03-24T15:20:22.575Z"
   },
   {
    "duration": 25,
    "start_time": "2023-03-24T15:20:26.108Z"
   },
   {
    "duration": 33,
    "start_time": "2023-03-24T15:20:30.682Z"
   },
   {
    "duration": 37,
    "start_time": "2023-03-24T15:20:36.109Z"
   },
   {
    "duration": 1534,
    "start_time": "2023-03-24T15:20:41.342Z"
   },
   {
    "duration": 31997,
    "start_time": "2023-03-24T15:20:44.558Z"
   },
   {
    "duration": 705,
    "start_time": "2023-03-24T15:21:16.557Z"
   },
   {
    "duration": 127,
    "start_time": "2023-03-24T15:23:17.712Z"
   },
   {
    "duration": 11,
    "start_time": "2023-03-24T15:27:51.713Z"
   },
   {
    "duration": 11,
    "start_time": "2023-03-24T15:30:23.617Z"
   },
   {
    "duration": 10,
    "start_time": "2023-03-24T15:40:06.618Z"
   },
   {
    "duration": 34,
    "start_time": "2023-03-24T15:40:35.306Z"
   },
   {
    "duration": 32,
    "start_time": "2023-03-24T15:40:47.476Z"
   },
   {
    "duration": 35,
    "start_time": "2023-03-24T15:40:53.644Z"
   },
   {
    "duration": 35,
    "start_time": "2023-03-24T15:41:05.839Z"
   },
   {
    "duration": 37,
    "start_time": "2023-03-24T15:48:58.092Z"
   },
   {
    "duration": 2407,
    "start_time": "2023-03-24T15:51:25.992Z"
   },
   {
    "duration": 29936,
    "start_time": "2023-03-24T15:52:15.360Z"
   },
   {
    "duration": 4,
    "start_time": "2023-03-24T15:55:15.169Z"
   },
   {
    "duration": 4,
    "start_time": "2023-03-24T15:55:37.261Z"
   },
   {
    "duration": 47,
    "start_time": "2023-03-24T15:55:40.802Z"
   },
   {
    "duration": 13,
    "start_time": "2023-03-24T15:55:44.414Z"
   },
   {
    "duration": 4,
    "start_time": "2023-03-24T15:55:47.361Z"
   },
   {
    "duration": 20,
    "start_time": "2023-03-24T15:55:50.800Z"
   },
   {
    "duration": 14,
    "start_time": "2023-03-24T15:55:54.095Z"
   },
   {
    "duration": 46,
    "start_time": "2023-03-24T15:55:56.812Z"
   },
   {
    "duration": 21,
    "start_time": "2023-03-24T15:56:00.195Z"
   },
   {
    "duration": 21,
    "start_time": "2023-03-24T15:56:03.395Z"
   },
   {
    "duration": 6,
    "start_time": "2023-03-24T15:56:06.761Z"
   },
   {
    "duration": 1207,
    "start_time": "2023-03-24T15:56:10.011Z"
   },
   {
    "duration": 18,
    "start_time": "2023-03-24T15:56:14.612Z"
   },
   {
    "duration": 6,
    "start_time": "2023-03-24T15:56:17.737Z"
   },
   {
    "duration": 9,
    "start_time": "2023-03-24T15:56:21.279Z"
   },
   {
    "duration": 131,
    "start_time": "2023-03-24T15:56:27.563Z"
   },
   {
    "duration": 6,
    "start_time": "2023-03-24T15:56:34.945Z"
   },
   {
    "duration": 11,
    "start_time": "2023-03-24T15:56:37.879Z"
   },
   {
    "duration": 13,
    "start_time": "2023-03-24T15:56:40.998Z"
   },
   {
    "duration": 3,
    "start_time": "2023-03-24T15:56:43.932Z"
   },
   {
    "duration": 7,
    "start_time": "2023-03-24T15:56:46.362Z"
   },
   {
    "duration": 23,
    "start_time": "2023-03-24T15:56:49.563Z"
   },
   {
    "duration": 35,
    "start_time": "2023-03-24T15:56:52.779Z"
   },
   {
    "duration": 42,
    "start_time": "2023-03-24T15:56:56.203Z"
   },
   {
    "duration": 1647,
    "start_time": "2023-03-24T15:57:00.110Z"
   },
   {
    "duration": 31274,
    "start_time": "2023-03-24T15:57:20.490Z"
   },
   {
    "duration": 31838,
    "start_time": "2023-03-24T15:58:20.032Z"
   },
   {
    "duration": 581,
    "start_time": "2023-03-24T15:59:03.082Z"
   },
   {
    "duration": 572,
    "start_time": "2023-03-24T15:59:20.501Z"
   },
   {
    "duration": 30,
    "start_time": "2023-03-24T16:00:08.546Z"
   },
   {
    "duration": 2658,
    "start_time": "2023-03-24T16:00:13.815Z"
   },
   {
    "duration": 31387,
    "start_time": "2023-03-24T16:00:48.981Z"
   },
   {
    "duration": 12,
    "start_time": "2023-03-24T16:05:47.132Z"
   },
   {
    "duration": 13,
    "start_time": "2023-03-24T16:07:20.590Z"
   },
   {
    "duration": 15,
    "start_time": "2023-03-24T16:07:24.476Z"
   },
   {
    "duration": 5,
    "start_time": "2023-03-24T16:07:46.701Z"
   },
   {
    "duration": 11,
    "start_time": "2023-03-24T16:10:40.003Z"
   },
   {
    "duration": 986,
    "start_time": "2023-03-24T16:11:01.153Z"
   },
   {
    "duration": 12447,
    "start_time": "2023-03-24T16:11:52.455Z"
   },
   {
    "duration": 12,
    "start_time": "2023-03-24T16:12:28.127Z"
   },
   {
    "duration": 956,
    "start_time": "2023-03-24T16:12:32.852Z"
   },
   {
    "duration": 1107,
    "start_time": "2023-03-24T16:13:13.624Z"
   },
   {
    "duration": 12632,
    "start_time": "2023-03-24T16:13:53.430Z"
   },
   {
    "duration": 1753,
    "start_time": "2023-03-24T16:17:04.913Z"
   },
   {
    "duration": 261,
    "start_time": "2023-03-24T16:17:10.008Z"
   },
   {
    "duration": 5,
    "start_time": "2023-03-24T16:17:48.534Z"
   },
   {
    "duration": 128,
    "start_time": "2023-03-24T16:18:00.073Z"
   },
   {
    "duration": 129,
    "start_time": "2023-03-24T16:18:22.907Z"
   },
   {
    "duration": 145,
    "start_time": "2023-03-24T16:18:26.447Z"
   },
   {
    "duration": 15,
    "start_time": "2023-03-24T16:27:50.029Z"
   },
   {
    "duration": 58,
    "start_time": "2023-03-24T16:27:56.997Z"
   },
   {
    "duration": 10,
    "start_time": "2023-03-24T16:30:26.730Z"
   },
   {
    "duration": 4,
    "start_time": "2023-03-24T16:31:42.964Z"
   },
   {
    "duration": 6,
    "start_time": "2023-03-24T16:32:34.073Z"
   },
   {
    "duration": 8,
    "start_time": "2023-03-24T16:32:54.606Z"
   },
   {
    "duration": 13,
    "start_time": "2023-03-24T16:34:22.467Z"
   },
   {
    "duration": 993,
    "start_time": "2023-03-24T16:35:36.617Z"
   },
   {
    "duration": 7,
    "start_time": "2023-03-24T16:37:12.386Z"
   },
   {
    "duration": 50,
    "start_time": "2023-03-24T16:38:42.775Z"
   },
   {
    "duration": 7,
    "start_time": "2023-03-24T16:38:50.120Z"
   }
  ],
  "kernelspec": {
   "display_name": "Python 3 (ipykernel)",
   "language": "python",
   "name": "python3"
  },
  "language_info": {
   "codemirror_mode": {
    "name": "ipython",
    "version": 3
   },
   "file_extension": ".py",
   "mimetype": "text/x-python",
   "name": "python",
   "nbconvert_exporter": "python",
   "pygments_lexer": "ipython3",
   "version": "3.9.15"
  },
  "toc": {
   "base_numbering": 1,
   "nav_menu": {},
   "number_sections": true,
   "sideBar": true,
   "skip_h1_title": true,
   "title_cell": "Содержание",
   "title_sidebar": "Contents",
   "toc_cell": true,
   "toc_position": {},
   "toc_section_display": true,
   "toc_window_display": false
  }
 },
 "nbformat": 4,
 "nbformat_minor": 2
}
